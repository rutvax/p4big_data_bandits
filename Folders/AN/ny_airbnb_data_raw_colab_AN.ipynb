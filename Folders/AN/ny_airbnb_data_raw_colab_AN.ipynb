{
  "cells": [
    {
      "cell_type": "code",
      "execution_count": 1,
      "metadata": {
        "colab": {
          "base_uri": "https://localhost:8080/"
        },
        "id": "eGA5-htN6oEN",
        "outputId": "028beb02-1fbf-4ee0-f32a-774164b08413"
      },
      "outputs": [
        {
          "name": "stderr",
          "output_type": "stream",
          "text": [
            "'apt-get' is not recognized as an internal or external command,\n",
            "operable program or batch file.\n"
          ]
        },
        {
          "name": "stderr",
          "output_type": "stream",
          "text": [
            "The system cannot find the path specified.\n",
            "'wget' is not recognized as an internal or external command,\n",
            "operable program or batch file.\n",
            "tar: Error opening archive: Failed to open '$SPARK_VERSION-bin-hadoop3.tgz'\n"
          ]
        },
        {
          "ename": "Exception",
          "evalue": "Unable to find py4j in /content/spark-3.4.0-bin-hadoop3\\python, your SPARK_HOME may not be configured correctly",
          "output_type": "error",
          "traceback": [
            "\u001b[1;31m---------------------------------------------------------------------------\u001b[0m",
            "\u001b[1;31mIndexError\u001b[0m                                Traceback (most recent call last)",
            "File \u001b[1;32mc:\\Users\\Adam\\anaconda3\\lib\\site-packages\\findspark.py:159\u001b[0m, in \u001b[0;36minit\u001b[1;34m(spark_home, python_path, edit_rc, edit_profile)\u001b[0m\n\u001b[0;32m    158\u001b[0m \u001b[39mtry\u001b[39;00m:\n\u001b[1;32m--> 159\u001b[0m     py4j \u001b[39m=\u001b[39m glob(os\u001b[39m.\u001b[39;49mpath\u001b[39m.\u001b[39;49mjoin(spark_python, \u001b[39m\"\u001b[39;49m\u001b[39mlib\u001b[39;49m\u001b[39m\"\u001b[39;49m, \u001b[39m\"\u001b[39;49m\u001b[39mpy4j-*.zip\u001b[39;49m\u001b[39m\"\u001b[39;49m))[\u001b[39m0\u001b[39;49m]\n\u001b[0;32m    160\u001b[0m \u001b[39mexcept\u001b[39;00m \u001b[39mIndexError\u001b[39;00m:\n",
            "\u001b[1;31mIndexError\u001b[0m: list index out of range",
            "\nDuring handling of the above exception, another exception occurred:\n",
            "\u001b[1;31mException\u001b[0m                                 Traceback (most recent call last)",
            "\u001b[1;32mc:\\Users\\Adam\\Desktop\\Classwork\\UCI-VIRT-DATA-PT-03-2023-U-LOLC\\23-Project-4-Week-1\\p4big_data_bandits\\Folders\\AN\\ny_airbnb_data_raw_colab_AN.ipynb Cell 1\u001b[0m line \u001b[0;36m2\n\u001b[0;32m     <a href='vscode-notebook-cell:/c%3A/Users/Adam/Desktop/Classwork/UCI-VIRT-DATA-PT-03-2023-U-LOLC/23-Project-4-Week-1/p4big_data_bandits/Folders/AN/ny_airbnb_data_raw_colab_AN.ipynb#W0sZmlsZQ%3D%3D?line=18'>19</a>\u001b[0m \u001b[39m# Start a SparkSession\u001b[39;00m\n\u001b[0;32m     <a href='vscode-notebook-cell:/c%3A/Users/Adam/Desktop/Classwork/UCI-VIRT-DATA-PT-03-2023-U-LOLC/23-Project-4-Week-1/p4big_data_bandits/Folders/AN/ny_airbnb_data_raw_colab_AN.ipynb#W0sZmlsZQ%3D%3D?line=19'>20</a>\u001b[0m \u001b[39mimport\u001b[39;00m \u001b[39mfindspark\u001b[39;00m\n\u001b[1;32m---> <a href='vscode-notebook-cell:/c%3A/Users/Adam/Desktop/Classwork/UCI-VIRT-DATA-PT-03-2023-U-LOLC/23-Project-4-Week-1/p4big_data_bandits/Folders/AN/ny_airbnb_data_raw_colab_AN.ipynb#W0sZmlsZQ%3D%3D?line=20'>21</a>\u001b[0m findspark\u001b[39m.\u001b[39;49minit()\n",
            "File \u001b[1;32mc:\\Users\\Adam\\anaconda3\\lib\\site-packages\\findspark.py:161\u001b[0m, in \u001b[0;36minit\u001b[1;34m(spark_home, python_path, edit_rc, edit_profile)\u001b[0m\n\u001b[0;32m    159\u001b[0m         py4j \u001b[39m=\u001b[39m glob(os\u001b[39m.\u001b[39mpath\u001b[39m.\u001b[39mjoin(spark_python, \u001b[39m\"\u001b[39m\u001b[39mlib\u001b[39m\u001b[39m\"\u001b[39m, \u001b[39m\"\u001b[39m\u001b[39mpy4j-*.zip\u001b[39m\u001b[39m\"\u001b[39m))[\u001b[39m0\u001b[39m]\n\u001b[0;32m    160\u001b[0m     \u001b[39mexcept\u001b[39;00m \u001b[39mIndexError\u001b[39;00m:\n\u001b[1;32m--> 161\u001b[0m         \u001b[39mraise\u001b[39;00m \u001b[39mException\u001b[39;00m(\n\u001b[0;32m    162\u001b[0m             \u001b[39m\"\u001b[39m\u001b[39mUnable to find py4j in \u001b[39m\u001b[39m{}\u001b[39;00m\u001b[39m, your SPARK_HOME may not be configured correctly\u001b[39m\u001b[39m\"\u001b[39m\u001b[39m.\u001b[39mformat(\n\u001b[0;32m    163\u001b[0m                 spark_python\n\u001b[0;32m    164\u001b[0m             )\n\u001b[0;32m    165\u001b[0m         )\n\u001b[0;32m    166\u001b[0m     sys\u001b[39m.\u001b[39mpath[:\u001b[39m0\u001b[39m] \u001b[39m=\u001b[39m sys_path \u001b[39m=\u001b[39m [spark_python, py4j]\n\u001b[0;32m    167\u001b[0m \u001b[39melse\u001b[39;00m:\n\u001b[0;32m    168\u001b[0m     \u001b[39m# already imported, no need to patch sys.path\u001b[39;00m\n",
            "\u001b[1;31mException\u001b[0m: Unable to find py4j in /content/spark-3.4.0-bin-hadoop3\\python, your SPARK_HOME may not be configured correctly"
          ]
        }
      ],
      "source": [
        "import os\n",
        "# Find the latest version of spark 3.x  from http://www.apache.org/dist/spark/ and enter as the spark version\n",
        "# For example:\n",
        "# spark_version = 'spark-3.4.0'\n",
        "spark_version = 'spark-3.4.0'\n",
        "os.environ['SPARK_VERSION']=spark_version\n",
        "\n",
        "# Install Spark and Java\n",
        "!apt-get update\n",
        "!apt-get install openjdk-11-jdk-headless -qq > /dev/null\n",
        "!wget -q http://www.apache.org/dist/spark/$SPARK_VERSION/$SPARK_VERSION-bin-hadoop3.tgz\n",
        "!tar xf $SPARK_VERSION-bin-hadoop3.tgz\n",
        "!pip install -q findspark\n",
        "\n",
        "# Set Environment Variables\n",
        "os.environ[\"JAVA_HOME\"] = \"/usr/lib/jvm/java-11-openjdk-amd64\"\n",
        "os.environ[\"SPARK_HOME\"] = f\"/content/{spark_version}-bin-hadoop3\"\n",
        "\n",
        "# Start a SparkSession\n",
        "import findspark\n",
        "findspark.init()"
      ]
    },
    {
      "cell_type": "code",
      "execution_count": 149,
      "metadata": {
        "id": "pIUo9MYO6vlj"
      },
      "outputs": [],
      "source": [
        "# Import packages\n",
        "from pyspark.sql import SparkSession\n",
        "import time\n",
        "\n",
        "# Create a SparkSession\n",
        "spark = SparkSession.builder\\\n",
        "    .appName(\"SparkSQL\")\\\n",
        "    .config(\"spark.sql.debug.maxToStringFields\", 2000)\\\n",
        "    .config(\"spark.driver.memory\", \"2g\")\\\n",
        "    .getOrCreate()\n",
        "\n",
        "# Set the partitions to 4 or 8.\n",
        "spark.conf.set(\"spark.sql.shuffle.partitions\", 8)"
      ]
    },
    {
      "cell_type": "code",
      "execution_count": 150,
      "metadata": {
        "id": "Ej6Sabcd-1At"
      },
      "outputs": [],
      "source": [
        "# Read in data from S3 Bucket\n",
        "from pyspark import SparkFiles\n",
        "url_listings = \"http://data.insideairbnb.com/united-states/ny/new-york-city/2023-09-05/data/listings.csv.gz\"\n",
        "spark.sparkContext.addFile(url_listings)\n",
        "listings_df = spark.read.csv(SparkFiles.get(\"listings.csv.gz\"), sep=\",\", header=True, quote ='\"', multiLine=True, escape = '\"')\n",
        "\n",
        "# Create a lookup table for calendar.\n",
        "url_calendar=\"http://data.insideairbnb.com/united-states/ny/new-york-city/2023-09-05/data/calendar.csv.gz\"\n",
        "spark.sparkContext.addFile(url_calendar)\n",
        "calendar_df = spark.read.csv(SparkFiles.get(\"calendar.csv.gz\"), sep=\",\", header=True, quote ='\"', multiLine=True, escape = '\"')\n",
        "\n",
        "# Create a lookup table for the airport codes.\n",
        "url_reviews =\"http://data.insideairbnb.com/united-states/ny/new-york-city/2023-09-05/data/reviews.csv.gz\"\n",
        "spark.sparkContext.addFile(url_reviews)\n",
        "reviews_df = spark.read.csv(SparkFiles.get(\"reviews.csv.gz\"), sep=\",\", header=True, quote ='\"', multiLine=True, escape = '\"')\n"
      ]
    },
    {
      "cell_type": "code",
      "execution_count": 151,
      "metadata": {
        "colab": {
          "base_uri": "https://localhost:8080/"
        },
        "id": "7XUB6IMQxLAB",
        "outputId": "b4fa6c68-8bf7-49b1-c504-26a3a3c6345d"
      },
      "outputs": [
        {
          "name": "stdout",
          "output_type": "stream",
          "text": [
            "+------------------+--------------------+--------------+------------+-----------+--------------------+--------------------+---------------------+--------------------+---------+--------------------+---------+----------+--------------------+--------------------+------------------+------------------+--------------------+-----------------+--------------------+--------------------+------------------+-------------------+-------------------------+------------------+--------------------+----------------------+--------------------+----------------------+----------------------------+------------------+------------------+--------------------+---------------+------------+---------+--------------+--------+----+--------------------+-------+--------------+--------------+----------------------+----------------------+----------------------+----------------------+----------------------+----------------------+----------------+----------------+---------------+---------------+---------------+----------------+---------------------+-----------------+---------------------+----------------------+------------+-----------+--------------------+----------------------+-------------------------+---------------------+---------------------------+----------------------+-------------------+-------+----------------+------------------------------+-------------------------------------------+--------------------------------------------+-------------------------------------------+-----------------+\n",
            "|                id|         listing_url|     scrape_id|last_scraped|     source|                name|         description|neighborhood_overview|         picture_url|  host_id|            host_url|host_name|host_since|       host_location|          host_about|host_response_time|host_response_rate|host_acceptance_rate|host_is_superhost|  host_thumbnail_url|    host_picture_url|host_neighbourhood|host_listings_count|host_total_listings_count|host_verifications|host_has_profile_pic|host_identity_verified|       neighbourhood|neighbourhood_cleansed|neighbourhood_group_cleansed|          latitude|         longitude|       property_type|      room_type|accommodates|bathrooms|bathrooms_text|bedrooms|beds|           amenities|  price|minimum_nights|maximum_nights|minimum_minimum_nights|maximum_minimum_nights|minimum_maximum_nights|maximum_maximum_nights|minimum_nights_avg_ntm|maximum_nights_avg_ntm|calendar_updated|has_availability|availability_30|availability_60|availability_90|availability_365|calendar_last_scraped|number_of_reviews|number_of_reviews_ltm|number_of_reviews_l30d|first_review|last_review|review_scores_rating|review_scores_accuracy|review_scores_cleanliness|review_scores_checkin|review_scores_communication|review_scores_location|review_scores_value|license|instant_bookable|calculated_host_listings_count|calculated_host_listings_count_entire_homes|calculated_host_listings_count_private_rooms|calculated_host_listings_count_shared_rooms|reviews_per_month|\n",
            "+------------------+--------------------+--------------+------------+-----------+--------------------+--------------------+---------------------+--------------------+---------+--------------------+---------+----------+--------------------+--------------------+------------------+------------------+--------------------+-----------------+--------------------+--------------------+------------------+-------------------+-------------------------+------------------+--------------------+----------------------+--------------------+----------------------+----------------------------+------------------+------------------+--------------------+---------------+------------+---------+--------------+--------+----+--------------------+-------+--------------+--------------+----------------------+----------------------+----------------------+----------------------+----------------------+----------------------+----------------+----------------+---------------+---------------+---------------+----------------+---------------------+-----------------+---------------------+----------------------+------------+-----------+--------------------+----------------------+-------------------------+---------------------+---------------------------+----------------------+-------------------+-------+----------------+------------------------------+-------------------------------------------+--------------------------------------------+-------------------------------------------+-----------------+\n",
            "|          52702018|https://www.airbn...|20230905131342|  2023-09-05|city scrape|Rental unit in Qu...|Unique entire uni...|                 null|https://a0.muscac...| 93231383|https://www.airbn...|   Daniel|2016-09-03|        New York, NY|                null|    within an hour|               96%|                100%|                t|https://a0.muscac...|https://a0.muscac...|          Flushing|                  3|                        3|['email', 'phone']|                   t|                     t|                null|         East Elmhurst|                      Queens|          40.76911|         -73.87053|  Entire rental unit|Entire home/apt|           4|     null|        1 bath|       1|   2|[\"Private entranc...|$171.00|             1|          1125|                    30|                    30|                  1125|                  1125|                  30.0|                1125.0|            null|               t|             14|             43|             73|              73|           2023-09-05|              188|                   88|                     6|  2021-11-14| 2023-08-21|                 4.9|                  4.95|                      4.9|                 4.95|                       4.94|                  4.85|               4.87|   null|               t|                             3|                                          3|                                           0|                                          0|             8.53|\n",
            "|903776106853996545|https://www.airbn...|20230905131342|  2023-09-05|city scrape|Rental unit in Qu...|Unique entire dup...|                 null|https://a0.muscac...| 93231383|https://www.airbn...|   Daniel|2016-09-03|        New York, NY|                null|    within an hour|               96%|                100%|                t|https://a0.muscac...|https://a0.muscac...|          Flushing|                  3|                        3|['email', 'phone']|                   t|                     t|                null|         East Elmhurst|                      Queens|          40.76951|         -73.86976|  Entire rental unit|Entire home/apt|           6|     null|        1 bath|       3|   4|[\"Air conditionin...|$137.00|            30|           365|                    30|                    30|                   365|                   365|                  30.0|                 365.0|            null|               t|             29|             59|             89|              89|           2023-09-05|                0|                    0|                     0|        null|       null|                null|                  null|                     null|                 null|                       null|                  null|               null|   null|               f|                             3|                                          3|                                           0|                                          0|             null|\n",
            "|784969376930125242|https://www.airbn...|20230905131342|  2023-09-05|city scrape|Home in Queens · ...|Unique entire uni...|                 null|https://a0.muscac...| 93231383|https://www.airbn...|   Daniel|2016-09-03|        New York, NY|                null|    within an hour|               96%|                100%|                t|https://a0.muscac...|https://a0.muscac...|          Flushing|                  3|                        3|['email', 'phone']|                   t|                     t|                null|         East Elmhurst|                      Queens|40.768175708747755|-73.87126330286264|         Entire home|Entire home/apt|           7|     null|        1 bath|       3|   4|[\"Private entranc...|$311.00|            30|           365|                    30|                    30|                  1125|                  1125|                  30.0|                1125.0|            null|               t|             18|             43|             73|             163|           2023-09-05|               38|                   38|                     1|  2022-12-25| 2023-08-15|                4.97|                  4.97|                     4.97|                 4.95|                       4.95|                  4.84|               4.87|   null|               t|                             3|                                          3|                                           0|                                          0|             4.47|\n",
            "|          54089885|https://www.airbn...|20230905131342|  2023-09-05|city scrape|Rental unit in Br...|\"Welcome to our c...| Scenic views: The...|https://a0.muscac...|398622781|https://www.airbn...|  Katelyn|2021-04-25|        New York, NY|\"Hi I'm Katelyn, ...|    within an hour|              100%|                 92%|                f|https://a0.muscac...|https://a0.muscac...|        Pelham Bay|                  9|                        9|['email', 'phone']|                   t|                     t|Bronx, New York, ...|         Schuylerville|                       Bronx|          40.83995|         -73.83317|  Entire rental unit|Entire home/apt|           5|     null|        1 bath|       2|   3|[\"Private entranc...|$116.00|            30|          1125|                    30|                    30|                  1125|                  1125|                  30.0|                1125.0|            null|               t|             15|             45|             75|             350|           2023-09-05|               28|                   17|                     2|  2022-01-25| 2023-08-13|                4.75|                  4.79|                      5.0|                 4.68|                       4.75|                  4.89|               4.71|   null|               f|                             7|                                          7|                                           0|                                          0|             1.43|\n",
            "|836843217858604295|https://www.airbn...|20230905131342|  2023-09-05|city scrape|Rental unit in Th...|Experience luxury...| Scenic views: The...|https://a0.muscac...|398622781|https://www.airbn...|  Katelyn|2021-04-25|        New York, NY|\"Hi I'm Katelyn, ...|    within an hour|              100%|                 92%|                f|https://a0.muscac...|https://a0.muscac...|        Pelham Bay|                  9|                        9|['email', 'phone']|                   t|                     t|The Bronx, New Yo...|         Schuylerville|                       Bronx|  40.8392396326725|-73.83119430683094|  Entire rental unit|Entire home/apt|          10|     null|       2 baths|       4|   6|[\"Private entranc...|$255.00|             1|           365|                    30|                    30|                  1125|                  1125|                  30.0|                1125.0|            null|               t|             15|             45|             75|             350|           2023-09-05|                9|                    9|                     1|  2023-05-21| 2023-08-20|                4.56|                  4.89|                     4.89|                 4.44|                       4.89|                  4.89|               4.78|   null|               f|                             7|                                          7|                                           0|                                          0|             2.50|\n",
            "|841128954402711018|https://www.airbn...|20230905131342|  2023-09-05|city scrape|Rental unit in Th...|Discover our char...| Scenic views: The...|https://a0.muscac...|398622781|https://www.airbn...|  Katelyn|2021-04-25|        New York, NY|\"Hi I'm Katelyn, ...|    within an hour|              100%|                 92%|                f|https://a0.muscac...|https://a0.muscac...|        Pelham Bay|                  9|                        9|['email', 'phone']|                   t|                     t|The Bronx, New Yo...|         Schuylerville|                       Bronx| 40.84087113494387|-73.83319272363603|  Entire rental unit|Entire home/apt|           5|     null|        1 bath|       2|   3|[\"Private entranc...|$141.00|             1|           365|                    30|                    30|                   365|                   365|                  30.0|                 365.0|            null|               t|             14|             44|             72|             347|           2023-09-05|               10|                   10|                     2|  2023-04-17| 2023-08-14|                 4.8|                   4.9|                      5.0|                  5.0|                        4.9|                   4.9|                4.7|   null|               f|                             7|                                          7|                                           0|                                          0|             2.11|\n",
            "|549465289587099130|https://www.airbn...|20230905131342|  2023-09-05|city scrape|Home in Bronx · ★...|Welcome! Make you...| Scenic views: The...|https://a0.muscac...|398622781|https://www.airbn...|  Katelyn|2021-04-25|        New York, NY|\"Hi I'm Katelyn, ...|    within an hour|              100%|                 92%|                f|https://a0.muscac...|https://a0.muscac...|        Pelham Bay|                  9|                        9|['email', 'phone']|                   t|                     t|Bronx, New York, ...|         Schuylerville|                       Bronx|           40.8407|         -73.83328|         Entire home|Entire home/apt|           2|     null|        1 bath|       8|   1|[\"Private entranc...| $99.00|             1|           356|                    30|                    30|                  1125|                  1125|                  30.0|                1125.0|            null|               t|              5|             35|             65|             340|           2023-09-05|               13|                    6|                     0|  2022-01-30| 2023-03-27|                4.77|                  4.69|                      5.0|                 4.85|                        5.0|                  4.46|               4.23|   null|               f|                             7|                                          7|                                           0|                                          0|             0.67|\n",
            "|953648370950219232|https://www.airbn...|20230905131342|  2023-09-05|city scrape|Rental unit in Th...|\"The Private Suit...|                 null|https://a0.muscac...|398622781|https://www.airbn...|  Katelyn|2021-04-25|        New York, NY|\"Hi I'm Katelyn, ...|    within an hour|              100%|                 92%|                f|https://a0.muscac...|https://a0.muscac...|        Pelham Bay|                  9|                        9|['email', 'phone']|                   t|                     t|                null|         Schuylerville|                       Bronx| 40.83957054653607|-73.83236073391457|  Entire rental unit|Entire home/apt|           4|     null|        1 bath|       1|   3|[\"Private entranc...|$108.00|            30|           365|                    30|                    30|                   365|                   365|                  30.0|                 365.0|            null|               t|              0|             18|             48|             323|           2023-09-05|                0|                    0|                     0|        null|       null|                null|                  null|                     null|                 null|                       null|                  null|               null|   null|               f|                             7|                                          7|                                           0|                                          0|             null|\n",
            "|          49422007|https://www.airbn...|20230905131342|  2023-09-05|city scrape|Rental unit in Th...|\"Welcome to our c...| Scenic views: The...|https://a0.muscac...|398622781|https://www.airbn...|  Katelyn|2021-04-25|        New York, NY|\"Hi I'm Katelyn, ...|    within an hour|              100%|                 92%|                f|https://a0.muscac...|https://a0.muscac...|        Pelham Bay|                  9|                        9|['email', 'phone']|                   t|                     t|The Bronx, New Yo...|         Schuylerville|                       Bronx|           40.8395|         -73.83315|  Entire rental unit|Entire home/apt|           5|     null|        1 bath|       2|   3|[\"Private entranc...|$118.00|             1|           365|                    30|                    30|                  1125|                  1125|                  30.0|                1125.0|            null|               t|             15|             45|             75|             350|           2023-09-05|               52|                   10|                     1|  2021-05-09| 2023-08-08|                4.73|                  4.85|                     4.92|                 4.71|                       4.69|                  4.81|                4.6|   null|               f|                             7|                                          7|                                           0|                                          0|             1.84|\n",
            "|841075134306050279|https://www.airbn...|20230905131342|  2023-09-05|city scrape|Rental unit in Th...|\"Welcome to our c...| Scenic views: The...|https://a0.muscac...|398622781|https://www.airbn...|  Katelyn|2021-04-25|        New York, NY|\"Hi I'm Katelyn, ...|    within an hour|              100%|                 92%|                f|https://a0.muscac...|https://a0.muscac...|        Pelham Bay|                  9|                        9|['email', 'phone']|                   t|                     t|The Bronx, New Yo...|         Schuylerville|                       Bronx| 40.84140547461933|-73.83300267390709|  Entire rental unit|Entire home/apt|           5|     null|        1 bath|       2|   3|[\"Private entranc...|$160.00|             1|           365|                    30|                    30|                   365|                   365|                  30.0|                 365.0|            null|               t|             22|             52|             82|             357|           2023-09-05|                2|                    2|                     0|  2023-03-30| 2023-04-16|                 5.0|                   5.0|                      5.0|                  5.0|                        5.0|                   5.0|                5.0|   null|               f|                             7|                                          7|                                           0|                                          0|             0.38|\n",
            "|863733005126162178|https://www.airbn...|20230905131342|  2023-09-05|city scrape|Home in Queens · ...|Bring the whole f...|                 null|https://a0.muscac...| 50997424|https://www.airbn...|     Mark|2015-12-10|New York, United ...|Native of NYC.  B...|    within an hour|              100%|                 33%|                f|https://a0.muscac...|https://a0.muscac...|    Middle Village|                 10|                       10|['email', 'phone']|                   t|                     t|                null|             Ridgewood|                      Queens|  40.7029477891808|-73.89821661565234|         Entire home|Entire home/apt|          16|     null|       3 baths|       7|  13|[\"Air conditionin...|$600.00|            30|           365|                    30|                    30|                   365|                   365|                  30.0|                 365.0|            null|               t|             29|             59|             89|             269|           2023-09-05|                0|                    0|                     0|        null|       null|                null|                  null|                     null|                 null|                       null|                  null|               null|   null|               f|                             7|                                          7|                                           0|                                          0|             null|\n",
            "|           9919728|https://www.airbn...|20230905131342|  2023-09-05|city scrape|Townhouse in Quee...|Comfortable 3BR/1...| Beautiful Juniper...|https://a0.muscac...| 50997424|https://www.airbn...|     Mark|2015-12-10|New York, United ...|Native of NYC.  B...|    within an hour|              100%|                 33%|                f|https://a0.muscac...|https://a0.muscac...|    Middle Village|                 10|                       10|['email', 'phone']|                   t|                     t|Queens, New York,...|        Middle Village|                      Queens|          40.71734|         -73.87805|    Entire townhouse|Entire home/apt|          12|     null|        1 bath|       3|   7|[\"Kitchen\", \"Drye...|$328.00|            30|          1125|                    30|                    30|                  1125|                  1125|                  30.0|                1125.0|            null|               t|              5|             35|             65|             340|           2023-09-05|                8|                    0|                     0|  2016-04-01| 2020-02-18|                4.33|                  4.17|                     4.33|                 4.83|                       4.67|                  4.83|               4.33|   null|               f|                             7|                                          7|                                           0|                                          0|             0.09|\n",
            "|          53696990|https://www.airbn...|20230905131342|  2023-09-05|city scrape|Vacation home in ...|Private studio ap...|                 null|https://a0.muscac...| 50997424|https://www.airbn...|     Mark|2015-12-10|New York, United ...|Native of NYC.  B...|    within an hour|              100%|                 33%|                f|https://a0.muscac...|https://a0.muscac...|    Middle Village|                 10|                       10|['email', 'phone']|                   t|                     t|                null|        Middle Village|                      Queens|          40.71726|         -73.87628|Entire vacation home|Entire home/apt|           4|     null|        1 bath|    null|   2|[\"Kitchen\", \"Refr...|$139.00|            30|           365|                    30|                    30|                   365|                   365|                  30.0|                 365.0|            null|               t|             30|             60|             90|             365|           2023-09-05|                1|                    1|                     0|  2022-09-16| 2022-09-16|                 4.0|                   4.0|                      3.0|                  5.0|                        4.0|                   5.0|                3.0|   null|               f|                             7|                                          7|                                           0|                                          0|             0.08|\n",
            "|714936072143571657|https://www.airbn...|20230905131342|  2023-09-05|city scrape|Townhouse in Quee...|Bring your large ...|                 null|https://a0.muscac...| 50997424|https://www.airbn...|     Mark|2015-12-10|New York, United ...|Native of NYC.  B...|    within an hour|              100%|                 33%|                f|https://a0.muscac...|https://a0.muscac...|    Middle Village|                 10|                       10|['email', 'phone']|                   t|                     t|                null|             Ridgewood|                      Queens|          40.70405|         -73.89761|    Entire townhouse|Entire home/apt|          14|     null|       2 baths|       5|   9|[\"Air conditionin...|$518.00|             7|           365|                    30|                    30|                   365|                   365|                  30.0|                 365.0|            null|               t|             30|             60|             90|             365|           2023-09-05|                0|                    0|                     0|        null|       null|                null|                  null|                     null|                 null|                       null|                  null|               null|   null|               f|                             7|                                          7|                                           0|                                          0|             null|\n",
            "|           9920363|https://www.airbn...|20230905131342|  2023-09-05|city scrape|Townhouse in Quee...|Lots of space for...| Ridgewood is trad...|https://a0.muscac...| 50997424|https://www.airbn...|     Mark|2015-12-10|New York, United ...|Native of NYC.  B...|    within an hour|              100%|                 33%|                f|https://a0.muscac...|https://a0.muscac...|    Middle Village|                 10|                       10|['email', 'phone']|                   t|                     t|Queens, New York,...|             Ridgewood|                      Queens|          40.70465|         -73.89909|    Entire townhouse|Entire home/apt|          16|     null|     2.5 baths|       5|  11|[\"Hot water\", \"Ai...|$485.00|            30|          1125|                    30|                    30|                  1125|                  1125|                  30.0|                1125.0|            null|               t|             30|             60|             90|             365|           2023-09-05|                8|                    0|                     0|  2016-05-08| 2020-01-01|                4.25|                  4.25|                     3.75|                 4.75|                        4.0|                  4.75|                4.5|   null|               f|                             7|                                          7|                                           0|                                          0|             0.09|\n",
            "|556960737995069310|https://www.airbn...|20230905131342|  2023-09-05|city scrape|Rental unit in Qu...|Newly renovated b...|                 null|https://a0.muscac...| 50997424|https://www.airbn...|     Mark|2015-12-10|New York, United ...|Native of NYC.  B...|    within an hour|              100%|                 33%|                f|https://a0.muscac...|https://a0.muscac...|    Middle Village|                 10|                       10|['email', 'phone']|                   t|                     t|                null|             Ridgewood|                      Queens|          40.70317|         -73.89949|  Entire rental unit|Entire home/apt|           6|     null|        1 bath|       2|   4|[\"Air conditionin...|$242.00|            30|           365|                    30|                    30|                   365|                   365|                  30.0|                 365.0|            null|               t|             30|             60|             90|             365|           2023-09-05|                3|                    3|                     0|  2022-10-06| 2023-04-24|                 5.0|                   5.0|                     4.33|                  5.0|                        5.0|                  4.67|               4.67|   null|               f|                             7|                                          7|                                           0|                                          0|             0.27|\n",
            "|          54395062|https://www.airbn...|20230905131342|  2023-09-05|city scrape|Vacation home in ...|Your family will ...|                 null|https://a0.muscac...| 50997424|https://www.airbn...|     Mark|2015-12-10|New York, United ...|Native of NYC.  B...|    within an hour|              100%|                 33%|                f|https://a0.muscac...|https://a0.muscac...|    Middle Village|                 10|                       10|['email', 'phone']|                   t|                     t|                null|             Ridgewood|                      Queens|          40.70453|         -73.89898|Entire vacation home|Entire home/apt|           6|     null|        1 bath|       2|   4|[\"Air conditionin...|$245.00|            30|           365|                    30|                    30|                   365|                   365|                  30.0|                 365.0|            null|               t|             30|             60|             90|             365|           2023-09-05|                3|                    2|                     1|  2022-08-14| 2023-08-20|                4.67|                  4.67|                     4.67|                  5.0|                        5.0|                   5.0|               4.33|   null|               f|                             7|                                          7|                                           0|                                          0|             0.23|\n",
            "|          40322951|https://www.airbn...|20230905131342|  2023-09-05|city scrape|Home in Brooklyn ...|One full/queen be...| Beautiful and bus...|https://a0.muscac...|297311545|https://www.airbn...|  Uchenna|2019-09-23|New York, United ...|                null|    within an hour|              100%|                 N/A|                f|https://a0.muscac...|https://a0.muscac...|     East Flatbush|                  3|                        4|['email', 'phone']|                   t|                     t|Brooklyn, New Yor...|         East Flatbush|                    Brooklyn|          40.65409|         -73.94569|Private room in home|   Private room|           1|     null| 1 shared bath|    null|   1|[\"Private entranc...| $43.00|            30|           120|                    30|                    30|                  1125|                  1125|                  30.0|                1125.0|            null|               t|             19|             38|             57|             234|           2023-09-05|                6|                    0|                     0|  2020-01-03| 2022-05-06|                4.67|                  4.67|                     4.33|                 4.67|                       4.67|                   4.5|               4.33|   null|               f|                             3|                                          0|                                           3|                                          0|             0.13|\n",
            "|          40195034|https://www.airbn...|20230905131342|  2023-09-05|city scrape|Home in Brooklyn ...|One full/queen be...| The Space is a bl...|https://a0.muscac...|297311545|https://www.airbn...|  Uchenna|2019-09-23|New York, United ...|                null|    within an hour|              100%|                 N/A|                f|https://a0.muscac...|https://a0.muscac...|     East Flatbush|                  3|                        4|['email', 'phone']|                   t|                     t|Brooklyn, New Yor...|         East Flatbush|                    Brooklyn|          40.65229|         -73.94556|Private room in home|   Private room|           1|     null|1 private bath|    null|   1|[\"Private entranc...| $49.00|            30|           120|                    30|                    30|                  1125|                  1125|                  30.0|                1125.0|            null|               t|             24|             48|             73|             252|           2023-09-05|                4|                    0|                     0|  2020-01-02| 2022-03-03|                3.75|                   4.0|                      3.5|                  4.0|                        4.0|                   4.0|               3.75|   null|               f|                             3|                                          0|                                           3|                                          0|             0.09|\n",
            "|          39898950|https://www.airbn...|20230905131342|  2023-09-05|city scrape|Home in Brooklyn ...|One full/queen be...| A block away from...|https://a0.muscac...|297311545|https://www.airbn...|  Uchenna|2019-09-23|New York, United ...|                null|    within an hour|              100%|                 N/A|                f|https://a0.muscac...|https://a0.muscac...|     East Flatbush|                  3|                        4|['email', 'phone']|                   t|                     t|Brooklyn, New Yor...|         East Flatbush|                    Brooklyn|          40.65248|         -73.94584|Private room in home|   Private room|           1|     null|     1.5 baths|    null|   1|[\"Private entranc...| $45.00|            30|           120|                    30|                    30|                  1125|                  1125|                  30.0|                1125.0|            null|               t|             24|             47|             66|             258|           2023-09-05|                8|                    0|                     0|  2020-01-13| 2021-10-26|                3.63|                   4.0|                     3.25|                 4.38|                       4.25|                  4.13|               3.63|   null|               f|                             3|                                          0|                                           3|                                          0|             0.18|\n",
            "+------------------+--------------------+--------------+------------+-----------+--------------------+--------------------+---------------------+--------------------+---------+--------------------+---------+----------+--------------------+--------------------+------------------+------------------+--------------------+-----------------+--------------------+--------------------+------------------+-------------------+-------------------------+------------------+--------------------+----------------------+--------------------+----------------------+----------------------------+------------------+------------------+--------------------+---------------+------------+---------+--------------+--------+----+--------------------+-------+--------------+--------------+----------------------+----------------------+----------------------+----------------------+----------------------+----------------------+----------------+----------------+---------------+---------------+---------------+----------------+---------------------+-----------------+---------------------+----------------------+------------+-----------+--------------------+----------------------+-------------------------+---------------------+---------------------------+----------------------+-------------------+-------+----------------+------------------------------+-------------------------------------------+--------------------------------------------+-------------------------------------------+-----------------+\n",
            "only showing top 20 rows\n",
            "\n"
          ]
        }
      ],
      "source": [
        "# Look over the listings data.\n",
        "listings_df.show()"
      ]
    },
    {
      "cell_type": "code",
      "execution_count": 152,
      "metadata": {
        "colab": {
          "base_uri": "https://localhost:8080/"
        },
        "id": "L_hKqNbW_EnA",
        "outputId": "869cb0be-b884-4643-f637-ae6e19bc8f4e"
      },
      "outputs": [
        {
          "name": "stdout",
          "output_type": "stream",
          "text": [
            "+----------+----------+---------+-------+--------------+--------------+--------------+\n",
            "|listing_id|      date|available|  price|adjusted_price|minimum_nights|maximum_nights|\n",
            "+----------+----------+---------+-------+--------------+--------------+--------------+\n",
            "|      2595|2023-09-05|        t|$240.00|       $240.00|            30|          1125|\n",
            "|      2595|2023-09-06|        t|$240.00|       $240.00|            30|          1125|\n",
            "|      2595|2023-09-07|        t|$240.00|       $240.00|            30|          1125|\n",
            "|      2595|2023-09-08|        t|$240.00|       $240.00|            30|          1125|\n",
            "|      2595|2023-09-09|        t|$240.00|       $240.00|            30|          1125|\n",
            "|      2595|2023-09-10|        t|$240.00|       $240.00|            30|          1125|\n",
            "|      2595|2023-09-11|        t|$240.00|       $240.00|            30|          1125|\n",
            "|      2595|2023-09-12|        t|$240.00|       $240.00|            30|          1125|\n",
            "|      2595|2023-09-13|        t|$240.00|       $240.00|            30|          1125|\n",
            "|      2595|2023-09-14|        t|$240.00|       $240.00|            30|          1125|\n",
            "|      2595|2023-09-15|        t|$240.00|       $240.00|            30|          1125|\n",
            "|      2595|2023-09-16|        t|$240.00|       $240.00|            30|          1125|\n",
            "|      2595|2023-09-17|        t|$240.00|       $240.00|            30|          1125|\n",
            "|      2595|2023-09-18|        t|$240.00|       $240.00|            30|          1125|\n",
            "|      2595|2023-09-19|        t|$240.00|       $240.00|            30|          1125|\n",
            "|      2595|2023-09-20|        t|$240.00|       $240.00|            30|          1125|\n",
            "|      2595|2023-09-21|        t|$240.00|       $240.00|            30|          1125|\n",
            "|      2595|2023-09-22|        t|$240.00|       $240.00|            30|          1125|\n",
            "|      2595|2023-09-23|        t|$240.00|       $240.00|            30|          1125|\n",
            "|      2595|2023-09-24|        t|$240.00|       $240.00|            30|          1125|\n",
            "+----------+----------+---------+-------+--------------+--------------+--------------+\n",
            "only showing top 20 rows\n",
            "\n"
          ]
        }
      ],
      "source": [
        "# Look over the data for calendar.\n",
        "calendar_df.show()"
      ]
    },
    {
      "cell_type": "code",
      "execution_count": 153,
      "metadata": {
        "colab": {
          "base_uri": "https://localhost:8080/"
        },
        "id": "uRm2AMPRHM_u",
        "outputId": "6c481f89-23c0-4eb3-df3d-9461ff8cfd29"
      },
      "outputs": [
        {
          "name": "stdout",
          "output_type": "stream",
          "text": [
            "+----------+--------+----------+-----------+-------------+--------------------+\n",
            "|listing_id|      id|      date|reviewer_id|reviewer_name|            comments|\n",
            "+----------+--------+----------+-----------+-------------+--------------------+\n",
            "|      2595|   17857|2009-11-21|      50679|         Jean|Notre séjour de t...|\n",
            "|      2595|   19176|2009-12-05|      53267|         Cate|   Great experience.|\n",
            "|      2595|   19760|2009-12-10|      38960|        Anita|I've stayed with ...|\n",
            "|      2595|   34320|2010-04-09|      71130|      Kai-Uwe|We've been stayin...|\n",
            "|      2595|   46312|2010-05-25|     117113|       Alicia|We had a wonderfu...|\n",
            "|      2595| 1238204|2012-05-07|    1783688|       Sergey|Hi to everyone!\\r...|\n",
            "|      2595| 1293632|2012-05-17|    1870771|         Loïc|Jennifer was very...|\n",
            "|      2595| 2022498|2012-08-18|    2124102|      Melanie|This apartment is...|\n",
            "|      2595| 4682989|2013-05-20|     496053|         Eric|Jennifer's place ...|\n",
            "|      2595|13193832|2014-05-21|   13685934|       Gerald|Jennifer is a ver...|\n",
            "|      2595|15515108|2014-07-10|   10781357|      Richard|This is a cute st...|\n",
            "|      2595|20372242|2014-09-28|    4212558|       Carson|A great location,...|\n",
            "|      2595|20937971|2014-10-07|   13460520|      Michael|Jennifer's place ...|\n",
            "|      2595|21464102|2014-10-18|   16584002|        Kitty|We hebben genoten...|\n",
            "|      2595|28794060|2015-03-30|   27436102|       Kellie|Jennifer was very...|\n",
            "|      2595|30430122|2015-04-21|    6429364|        Sonya|I love this space...|\n",
            "|      2595|32532759|2015-05-19|   12146524|      Michiel|This was our firs...|\n",
            "|      2595|47785650|2015-09-21|   12885233|          Lin|Great location, i...|\n",
            "|      2595|48764464|2015-09-28|   18636130|         Alex|Jennifer was with...|\n",
            "|      2595|69547296|2016-04-11|   16512817|         Gary|Jennifer was an u...|\n",
            "+----------+--------+----------+-----------+-------------+--------------------+\n",
            "only showing top 20 rows\n",
            "\n"
          ]
        }
      ],
      "source": [
        "# Look over the review data.\n",
        "reviews_df.show()"
      ]
    },
    {
      "cell_type": "code",
      "execution_count": 154,
      "metadata": {
        "id": "I9J5v8RT-aOK"
      },
      "outputs": [],
      "source": [
        "import pandas as pd"
      ]
    },
    {
      "cell_type": "code",
      "execution_count": 155,
      "metadata": {
        "colab": {
          "base_uri": "https://localhost:8080/"
        },
        "id": "cQ1u7-j7-ied",
        "outputId": "38673e58-e5bb-4adf-a9b1-f03aa9ede555"
      },
      "outputs": [
        {
          "data": {
            "text/plain": [
              "39453"
            ]
          },
          "execution_count": 155,
          "metadata": {},
          "output_type": "execute_result"
        }
      ],
      "source": [
        "listings_df.count()"
      ]
    },
    {
      "cell_type": "code",
      "execution_count": 156,
      "metadata": {
        "colab": {
          "base_uri": "https://localhost:8080/"
        },
        "id": "OXNOvjAd-rol",
        "outputId": "c7bf18f4-4249-4374-e9e6-34f1fbffd32d"
      },
      "outputs": [
        {
          "data": {
            "text/plain": [
              "14399996"
            ]
          },
          "execution_count": 156,
          "metadata": {},
          "output_type": "execute_result"
        }
      ],
      "source": [
        "calendar_df.count()"
      ]
    },
    {
      "cell_type": "code",
      "execution_count": 157,
      "metadata": {
        "colab": {
          "base_uri": "https://localhost:8080/"
        },
        "id": "eaB9vW0PAR-u",
        "outputId": "1ef37e71-7d65-400b-900c-76bea27444d7"
      },
      "outputs": [
        {
          "data": {
            "text/plain": [
              "1019573"
            ]
          },
          "execution_count": 157,
          "metadata": {},
          "output_type": "execute_result"
        }
      ],
      "source": [
        "reviews_df.count()"
      ]
    },
    {
      "cell_type": "code",
      "execution_count": 158,
      "metadata": {
        "colab": {
          "base_uri": "https://localhost:8080/"
        },
        "id": "cq0eWpKdWAlp",
        "outputId": "be57e8e2-0143-48ba-8c2a-3bd833b0b462"
      },
      "outputs": [
        {
          "name": "stdout",
          "output_type": "stream",
          "text": [
            "Count of unique neighbourhoods: 223\n"
          ]
        }
      ],
      "source": [
        "unique_neighbourhoods = listings_df.select('neighbourhood_cleansed').distinct()\n",
        "unique_neighbourhoods_count = unique_neighbourhoods.count()\n",
        "print(\"Count of unique neighbourhoods:\", unique_neighbourhoods_count)"
      ]
    },
    {
      "cell_type": "code",
      "execution_count": 159,
      "metadata": {
        "id": "04J03uceWAi_"
      },
      "outputs": [],
      "source": [
        "accepted_neighborhoods = [\"Manhattan\", \"Queens\", \"Brooklyn\"]"
      ]
    },
    {
      "cell_type": "code",
      "execution_count": 160,
      "metadata": {
        "id": "a2ZwEZVUWAge"
      },
      "outputs": [],
      "source": [
        "filtered_listings_df = listings_df[listings_df['neighbourhood_group_cleansed'].isin(accepted_neighborhoods)]\n"
      ]
    },
    {
      "cell_type": "code",
      "execution_count": 161,
      "metadata": {
        "colab": {
          "base_uri": "https://localhost:8080/"
        },
        "id": "lIwvH6jdWAdy",
        "outputId": "6027e5ef-1c21-4654-ba35-a4db79ecbd31"
      },
      "outputs": [
        {
          "name": "stdout",
          "output_type": "stream",
          "text": [
            "+------------------+--------------------+--------------+------------+-----------+--------------------+--------------------+---------------------+--------------------+---------+--------------------+---------------+----------+--------------------+--------------------+------------------+------------------+--------------------+-----------------+--------------------+--------------------+------------------+-------------------+-------------------------+--------------------+--------------------+----------------------+--------------------+----------------------+----------------------------+------------------+------------------+--------------------+---------------+------------+---------+--------------+--------+----+--------------------+-------+--------------+--------------+----------------------+----------------------+----------------------+----------------------+----------------------+----------------------+----------------+----------------+---------------+---------------+---------------+----------------+---------------------+-----------------+---------------------+----------------------+------------+-----------+--------------------+----------------------+-------------------------+---------------------+---------------------------+----------------------+-------------------+-------+----------------+------------------------------+-------------------------------------------+--------------------------------------------+-------------------------------------------+-----------------+\n",
            "|                id|         listing_url|     scrape_id|last_scraped|     source|                name|         description|neighborhood_overview|         picture_url|  host_id|            host_url|      host_name|host_since|       host_location|          host_about|host_response_time|host_response_rate|host_acceptance_rate|host_is_superhost|  host_thumbnail_url|    host_picture_url|host_neighbourhood|host_listings_count|host_total_listings_count|  host_verifications|host_has_profile_pic|host_identity_verified|       neighbourhood|neighbourhood_cleansed|neighbourhood_group_cleansed|          latitude|         longitude|       property_type|      room_type|accommodates|bathrooms|bathrooms_text|bedrooms|beds|           amenities|  price|minimum_nights|maximum_nights|minimum_minimum_nights|maximum_minimum_nights|minimum_maximum_nights|maximum_maximum_nights|minimum_nights_avg_ntm|maximum_nights_avg_ntm|calendar_updated|has_availability|availability_30|availability_60|availability_90|availability_365|calendar_last_scraped|number_of_reviews|number_of_reviews_ltm|number_of_reviews_l30d|first_review|last_review|review_scores_rating|review_scores_accuracy|review_scores_cleanliness|review_scores_checkin|review_scores_communication|review_scores_location|review_scores_value|license|instant_bookable|calculated_host_listings_count|calculated_host_listings_count_entire_homes|calculated_host_listings_count_private_rooms|calculated_host_listings_count_shared_rooms|reviews_per_month|\n",
            "+------------------+--------------------+--------------+------------+-----------+--------------------+--------------------+---------------------+--------------------+---------+--------------------+---------------+----------+--------------------+--------------------+------------------+------------------+--------------------+-----------------+--------------------+--------------------+------------------+-------------------+-------------------------+--------------------+--------------------+----------------------+--------------------+----------------------+----------------------------+------------------+------------------+--------------------+---------------+------------+---------+--------------+--------+----+--------------------+-------+--------------+--------------+----------------------+----------------------+----------------------+----------------------+----------------------+----------------------+----------------+----------------+---------------+---------------+---------------+----------------+---------------------+-----------------+---------------------+----------------------+------------+-----------+--------------------+----------------------+-------------------------+---------------------+---------------------------+----------------------+-------------------+-------+----------------+------------------------------+-------------------------------------------+--------------------------------------------+-------------------------------------------+-----------------+\n",
            "|          52702018|https://www.airbn...|20230905131342|  2023-09-05|city scrape|Rental unit in Qu...|Unique entire uni...|                 null|https://a0.muscac...| 93231383|https://www.airbn...|         Daniel|2016-09-03|        New York, NY|                null|    within an hour|               96%|                100%|                t|https://a0.muscac...|https://a0.muscac...|          Flushing|                  3|                        3|  ['email', 'phone']|                   t|                     t|                null|         East Elmhurst|                      Queens|          40.76911|         -73.87053|  Entire rental unit|Entire home/apt|           4|     null|        1 bath|       1|   2|[\"Private entranc...|$171.00|             1|          1125|                    30|                    30|                  1125|                  1125|                  30.0|                1125.0|            null|               t|             14|             43|             73|              73|           2023-09-05|              188|                   88|                     6|  2021-11-14| 2023-08-21|                 4.9|                  4.95|                      4.9|                 4.95|                       4.94|                  4.85|               4.87|   null|               t|                             3|                                          3|                                           0|                                          0|             8.53|\n",
            "|903776106853996545|https://www.airbn...|20230905131342|  2023-09-05|city scrape|Rental unit in Qu...|Unique entire dup...|                 null|https://a0.muscac...| 93231383|https://www.airbn...|         Daniel|2016-09-03|        New York, NY|                null|    within an hour|               96%|                100%|                t|https://a0.muscac...|https://a0.muscac...|          Flushing|                  3|                        3|  ['email', 'phone']|                   t|                     t|                null|         East Elmhurst|                      Queens|          40.76951|         -73.86976|  Entire rental unit|Entire home/apt|           6|     null|        1 bath|       3|   4|[\"Air conditionin...|$137.00|            30|           365|                    30|                    30|                   365|                   365|                  30.0|                 365.0|            null|               t|             29|             59|             89|              89|           2023-09-05|                0|                    0|                     0|        null|       null|                null|                  null|                     null|                 null|                       null|                  null|               null|   null|               f|                             3|                                          3|                                           0|                                          0|             null|\n",
            "|784969376930125242|https://www.airbn...|20230905131342|  2023-09-05|city scrape|Home in Queens · ...|Unique entire uni...|                 null|https://a0.muscac...| 93231383|https://www.airbn...|         Daniel|2016-09-03|        New York, NY|                null|    within an hour|               96%|                100%|                t|https://a0.muscac...|https://a0.muscac...|          Flushing|                  3|                        3|  ['email', 'phone']|                   t|                     t|                null|         East Elmhurst|                      Queens|40.768175708747755|-73.87126330286264|         Entire home|Entire home/apt|           7|     null|        1 bath|       3|   4|[\"Private entranc...|$311.00|            30|           365|                    30|                    30|                  1125|                  1125|                  30.0|                1125.0|            null|               t|             18|             43|             73|             163|           2023-09-05|               38|                   38|                     1|  2022-12-25| 2023-08-15|                4.97|                  4.97|                     4.97|                 4.95|                       4.95|                  4.84|               4.87|   null|               t|                             3|                                          3|                                           0|                                          0|             4.47|\n",
            "|863733005126162178|https://www.airbn...|20230905131342|  2023-09-05|city scrape|Home in Queens · ...|Bring the whole f...|                 null|https://a0.muscac...| 50997424|https://www.airbn...|           Mark|2015-12-10|New York, United ...|Native of NYC.  B...|    within an hour|              100%|                 33%|                f|https://a0.muscac...|https://a0.muscac...|    Middle Village|                 10|                       10|  ['email', 'phone']|                   t|                     t|                null|             Ridgewood|                      Queens|  40.7029477891808|-73.89821661565234|         Entire home|Entire home/apt|          16|     null|       3 baths|       7|  13|[\"Air conditionin...|$600.00|            30|           365|                    30|                    30|                   365|                   365|                  30.0|                 365.0|            null|               t|             29|             59|             89|             269|           2023-09-05|                0|                    0|                     0|        null|       null|                null|                  null|                     null|                 null|                       null|                  null|               null|   null|               f|                             7|                                          7|                                           0|                                          0|             null|\n",
            "|           9919728|https://www.airbn...|20230905131342|  2023-09-05|city scrape|Townhouse in Quee...|Comfortable 3BR/1...| Beautiful Juniper...|https://a0.muscac...| 50997424|https://www.airbn...|           Mark|2015-12-10|New York, United ...|Native of NYC.  B...|    within an hour|              100%|                 33%|                f|https://a0.muscac...|https://a0.muscac...|    Middle Village|                 10|                       10|  ['email', 'phone']|                   t|                     t|Queens, New York,...|        Middle Village|                      Queens|          40.71734|         -73.87805|    Entire townhouse|Entire home/apt|          12|     null|        1 bath|       3|   7|[\"Kitchen\", \"Drye...|$328.00|            30|          1125|                    30|                    30|                  1125|                  1125|                  30.0|                1125.0|            null|               t|              5|             35|             65|             340|           2023-09-05|                8|                    0|                     0|  2016-04-01| 2020-02-18|                4.33|                  4.17|                     4.33|                 4.83|                       4.67|                  4.83|               4.33|   null|               f|                             7|                                          7|                                           0|                                          0|             0.09|\n",
            "|          53696990|https://www.airbn...|20230905131342|  2023-09-05|city scrape|Vacation home in ...|Private studio ap...|                 null|https://a0.muscac...| 50997424|https://www.airbn...|           Mark|2015-12-10|New York, United ...|Native of NYC.  B...|    within an hour|              100%|                 33%|                f|https://a0.muscac...|https://a0.muscac...|    Middle Village|                 10|                       10|  ['email', 'phone']|                   t|                     t|                null|        Middle Village|                      Queens|          40.71726|         -73.87628|Entire vacation home|Entire home/apt|           4|     null|        1 bath|    null|   2|[\"Kitchen\", \"Refr...|$139.00|            30|           365|                    30|                    30|                   365|                   365|                  30.0|                 365.0|            null|               t|             30|             60|             90|             365|           2023-09-05|                1|                    1|                     0|  2022-09-16| 2022-09-16|                 4.0|                   4.0|                      3.0|                  5.0|                        4.0|                   5.0|                3.0|   null|               f|                             7|                                          7|                                           0|                                          0|             0.08|\n",
            "|714936072143571657|https://www.airbn...|20230905131342|  2023-09-05|city scrape|Townhouse in Quee...|Bring your large ...|                 null|https://a0.muscac...| 50997424|https://www.airbn...|           Mark|2015-12-10|New York, United ...|Native of NYC.  B...|    within an hour|              100%|                 33%|                f|https://a0.muscac...|https://a0.muscac...|    Middle Village|                 10|                       10|  ['email', 'phone']|                   t|                     t|                null|             Ridgewood|                      Queens|          40.70405|         -73.89761|    Entire townhouse|Entire home/apt|          14|     null|       2 baths|       5|   9|[\"Air conditionin...|$518.00|             7|           365|                    30|                    30|                   365|                   365|                  30.0|                 365.0|            null|               t|             30|             60|             90|             365|           2023-09-05|                0|                    0|                     0|        null|       null|                null|                  null|                     null|                 null|                       null|                  null|               null|   null|               f|                             7|                                          7|                                           0|                                          0|             null|\n",
            "|           9920363|https://www.airbn...|20230905131342|  2023-09-05|city scrape|Townhouse in Quee...|Lots of space for...| Ridgewood is trad...|https://a0.muscac...| 50997424|https://www.airbn...|           Mark|2015-12-10|New York, United ...|Native of NYC.  B...|    within an hour|              100%|                 33%|                f|https://a0.muscac...|https://a0.muscac...|    Middle Village|                 10|                       10|  ['email', 'phone']|                   t|                     t|Queens, New York,...|             Ridgewood|                      Queens|          40.70465|         -73.89909|    Entire townhouse|Entire home/apt|          16|     null|     2.5 baths|       5|  11|[\"Hot water\", \"Ai...|$485.00|            30|          1125|                    30|                    30|                  1125|                  1125|                  30.0|                1125.0|            null|               t|             30|             60|             90|             365|           2023-09-05|                8|                    0|                     0|  2016-05-08| 2020-01-01|                4.25|                  4.25|                     3.75|                 4.75|                        4.0|                  4.75|                4.5|   null|               f|                             7|                                          7|                                           0|                                          0|             0.09|\n",
            "|556960737995069310|https://www.airbn...|20230905131342|  2023-09-05|city scrape|Rental unit in Qu...|Newly renovated b...|                 null|https://a0.muscac...| 50997424|https://www.airbn...|           Mark|2015-12-10|New York, United ...|Native of NYC.  B...|    within an hour|              100%|                 33%|                f|https://a0.muscac...|https://a0.muscac...|    Middle Village|                 10|                       10|  ['email', 'phone']|                   t|                     t|                null|             Ridgewood|                      Queens|          40.70317|         -73.89949|  Entire rental unit|Entire home/apt|           6|     null|        1 bath|       2|   4|[\"Air conditionin...|$242.00|            30|           365|                    30|                    30|                   365|                   365|                  30.0|                 365.0|            null|               t|             30|             60|             90|             365|           2023-09-05|                3|                    3|                     0|  2022-10-06| 2023-04-24|                 5.0|                   5.0|                     4.33|                  5.0|                        5.0|                  4.67|               4.67|   null|               f|                             7|                                          7|                                           0|                                          0|             0.27|\n",
            "|          54395062|https://www.airbn...|20230905131342|  2023-09-05|city scrape|Vacation home in ...|Your family will ...|                 null|https://a0.muscac...| 50997424|https://www.airbn...|           Mark|2015-12-10|New York, United ...|Native of NYC.  B...|    within an hour|              100%|                 33%|                f|https://a0.muscac...|https://a0.muscac...|    Middle Village|                 10|                       10|  ['email', 'phone']|                   t|                     t|                null|             Ridgewood|                      Queens|          40.70453|         -73.89898|Entire vacation home|Entire home/apt|           6|     null|        1 bath|       2|   4|[\"Air conditionin...|$245.00|            30|           365|                    30|                    30|                   365|                   365|                  30.0|                 365.0|            null|               t|             30|             60|             90|             365|           2023-09-05|                3|                    2|                     1|  2022-08-14| 2023-08-20|                4.67|                  4.67|                     4.67|                  5.0|                        5.0|                   5.0|               4.33|   null|               f|                             7|                                          7|                                           0|                                          0|             0.23|\n",
            "|          40322951|https://www.airbn...|20230905131342|  2023-09-05|city scrape|Home in Brooklyn ...|One full/queen be...| Beautiful and bus...|https://a0.muscac...|297311545|https://www.airbn...|        Uchenna|2019-09-23|New York, United ...|                null|    within an hour|              100%|                 N/A|                f|https://a0.muscac...|https://a0.muscac...|     East Flatbush|                  3|                        4|  ['email', 'phone']|                   t|                     t|Brooklyn, New Yor...|         East Flatbush|                    Brooklyn|          40.65409|         -73.94569|Private room in home|   Private room|           1|     null| 1 shared bath|    null|   1|[\"Private entranc...| $43.00|            30|           120|                    30|                    30|                  1125|                  1125|                  30.0|                1125.0|            null|               t|             19|             38|             57|             234|           2023-09-05|                6|                    0|                     0|  2020-01-03| 2022-05-06|                4.67|                  4.67|                     4.33|                 4.67|                       4.67|                   4.5|               4.33|   null|               f|                             3|                                          0|                                           3|                                          0|             0.13|\n",
            "|          40195034|https://www.airbn...|20230905131342|  2023-09-05|city scrape|Home in Brooklyn ...|One full/queen be...| The Space is a bl...|https://a0.muscac...|297311545|https://www.airbn...|        Uchenna|2019-09-23|New York, United ...|                null|    within an hour|              100%|                 N/A|                f|https://a0.muscac...|https://a0.muscac...|     East Flatbush|                  3|                        4|  ['email', 'phone']|                   t|                     t|Brooklyn, New Yor...|         East Flatbush|                    Brooklyn|          40.65229|         -73.94556|Private room in home|   Private room|           1|     null|1 private bath|    null|   1|[\"Private entranc...| $49.00|            30|           120|                    30|                    30|                  1125|                  1125|                  30.0|                1125.0|            null|               t|             24|             48|             73|             252|           2023-09-05|                4|                    0|                     0|  2020-01-02| 2022-03-03|                3.75|                   4.0|                      3.5|                  4.0|                        4.0|                   4.0|               3.75|   null|               f|                             3|                                          0|                                           3|                                          0|             0.09|\n",
            "|          39898950|https://www.airbn...|20230905131342|  2023-09-05|city scrape|Home in Brooklyn ...|One full/queen be...| A block away from...|https://a0.muscac...|297311545|https://www.airbn...|        Uchenna|2019-09-23|New York, United ...|                null|    within an hour|              100%|                 N/A|                f|https://a0.muscac...|https://a0.muscac...|     East Flatbush|                  3|                        4|  ['email', 'phone']|                   t|                     t|Brooklyn, New Yor...|         East Flatbush|                    Brooklyn|          40.65248|         -73.94584|Private room in home|   Private room|           1|     null|     1.5 baths|    null|   1|[\"Private entranc...| $45.00|            30|           120|                    30|                    30|                  1125|                  1125|                  30.0|                1125.0|            null|               t|             24|             47|             66|             258|           2023-09-05|                8|                    0|                     0|  2020-01-13| 2021-10-26|                3.63|                   4.0|                     3.25|                 4.38|                       4.25|                  4.13|               3.63|   null|               f|                             3|                                          0|                                           3|                                          0|             0.18|\n",
            "|          31717837|https://www.airbn...|20230905131342|  2023-09-05|city scrape|Home in Brooklyn ...|Beautiful  2 bedr...|                 null|https://a0.muscac...|234174616|https://www.airbn...|          Onika|2019-01-03|                null|                null|      within a day|              100%|                 N/A|                f|https://a0.muscac...|https://a0.muscac...|     East New York|                  1|                        1|  ['email', 'phone']|                   t|                     t|                null|         East New York|                    Brooklyn|           40.6716|         -73.88797|         Entire home|Entire home/apt|           2|     null|        1 bath|       2|   3|[\"Private entranc...|$110.00|            30|            60|                    30|                    30|                  1125|                  1125|                  30.0|                1125.0|            null|               t|              0|              3|             33|              33|           2023-09-05|                7|                    0|                     0|  2019-10-31| 2022-09-01|                 5.0|                   5.0|                      5.0|                  5.0|                        5.0|                  4.86|                5.0|   null|               f|                             1|                                          1|                                           0|                                          0|             0.15|\n",
            "|823518066022552352|https://www.airbn...|20230905131342|  2023-09-05|city scrape|Rental unit in Qu...|Newly renovated, ...| Well connected to...|https://a0.muscac...|500407084|https://www.airbn...|       Giuseppe|2023-02-10|                null|                null|    within an hour|              100%|                 98%|                t|https://a0.muscac...|https://a0.muscac...|           Jamaica|                  1|                        1|  ['email', 'phone']|                   t|                     f|Queens, New York,...|            Ozone Park|                      Queens| 40.67227235266577|-73.84795230422972|  Entire rental unit|Entire home/apt|           3|     null|        1 bath|       1|   1|[\"Paid dryer \\u20...|$129.00|             1|           365|                    30|                    30|                   365|                   365|                  30.0|                 365.0|            null|               t|             20|             20|             20|              83|           2023-09-05|               54|                   54|                     3|  2023-02-15| 2023-08-31|                4.94|                  4.93|                     4.87|                 4.91|                       4.96|                  4.69|               4.87|   null|               t|                             1|                                          1|                                           0|                                          0|             7.98|\n",
            "|722463449063098611|https://www.airbn...|20230905131342|  2023-09-05|city scrape|Home in Queens · ...|Kick back and rel...|                 null|https://a0.muscac...|141645843|https://www.airbn...|G'S Vacay Spots|2017-07-21|        New York, NY|I enjoy meeting n...|    within an hour|              100%|                 80%|                f|https://a0.muscac...|https://a0.muscac...|           Jamaica|                  2|                        9|['email', 'phone'...|                   t|                     t|                null|               Jamaica|                      Queens|        40.6820373|       -73.7968162|Private room in home|   Private room|           4|     null| 1 shared bath|    null|   1|[\"Hot water\", \"Sh...|$110.00|             1|           365|                    30|                    30|                   365|                   365|                  30.0|                 365.0|            null|               t|             30|             60|             90|             365|           2023-09-05|               25|                   25|                     0|  2022-10-02| 2023-07-12|                4.88|                   4.8|                     4.72|                 4.96|                       4.96|                  4.88|                4.8|   null|               f|                             2|                                          0|                                           2|                                          0|             2.21|\n",
            "|          33102485|https://www.airbn...|20230905131342|  2023-09-05|city scrape|Home in Jamaica ·...|Essentials with a...| Sutphin Station ?...|https://a0.muscac...|141645843|https://www.airbn...|G'S Vacay Spots|2017-07-21|        New York, NY|I enjoy meeting n...|    within an hour|              100%|                 80%|                f|https://a0.muscac...|https://a0.muscac...|           Jamaica|                  2|                        9|['email', 'phone'...|                   t|                     t|Jamaica, New York...|               Jamaica|                      Queens|         40.682037|        -73.796814|Private room in home|   Private room|           3|     null| 1 shared bath|       1|   1|[\"Hot water\", \"Sh...| $84.00|             1|          1125|                    30|                    30|                  1125|                  1125|                  30.0|                1125.0|            null|               t|             30|             60|             90|             180|           2023-09-05|              114|                   42|                     0|  2019-03-31| 2023-07-23|                4.64|                  4.66|                     4.51|                 4.82|                       4.78|                  4.64|               4.54|   null|               t|                             2|                                          0|                                           2|                                          0|             2.11|\n",
            "|          34907354|https://www.airbn...|20230905131342|  2023-09-05|city scrape|Rental unit in Br...|Hello, within the...| You can get break...|https://a0.muscac...|246351353|https://www.airbn...|          Erica|2019-03-02|New York, United ...|I am a very lovin...|    within an hour|              100%|                 98%|                t|https://a0.muscac...|https://a0.muscac...|   Lefferts Garden|                  1|                        8|  ['email', 'phone']|                   t|                     t|Brooklyn, New Yor...|  Prospect-Lefferts...|                    Brooklyn|          40.66289|         -73.95756|Private room in r...|   Private room|           2|     null| 1 shared bath|    null|   1|[\"Hot water\", \"Ha...| $68.00|             1|          1125|                    30|                    30|                  1125|                  1125|                  30.0|                1125.0|            null|               t|              4|             19|             22|             103|           2023-09-05|               77|                   18|                     1|  2019-06-02| 2023-09-04|                4.73|                  4.82|                     4.73|                 4.79|                       4.87|                  4.75|               4.74|   null|               f|                             1|                                          0|                                           1|                                          0|             1.48|\n",
            "|          18908638|https://www.airbn...|20230905131342|  2023-09-05|city scrape|Townhouse in Broo...|In the safe neigh...| The neighborhood ...|https://a0.muscac...| 20438455|https://www.airbn...|          Jason|2014-08-23|        New York, NY|Hi my name is Jas...|    within an hour|              100%|                 97%|                t|https://a0.muscac...|https://a0.muscac...|      Borough Park|                  2|                        2|  ['email', 'phone']|                   t|                     t|Brooklyn, New Yor...|          Borough Park|                    Brooklyn|          40.63904|         -73.98103|Private room in t...|   Private room|           1|     null| 1 shared bath|    null|   1|[\"Hot water\", \"Ai...| $48.00|             2|            28|                     2|                     2|                  1125|                  1125|                   2.0|                1125.0|            null|               t|              2|              6|             23|              23|           2023-09-05|              191|                   30|                     6|  2017-06-11| 2023-09-01|                4.87|                  4.87|                     4.91|                 4.94|                       4.93|                  4.63|               4.88|   null|               f|                             2|                                          0|                                           2|                                          0|             2.52|\n",
            "|          18473439|https://www.airbn...|20230905131342|  2023-09-05|city scrape|Townhouse in Broo...|In the safe neigh...| It is a jewish, R...|https://a0.muscac...| 20438455|https://www.airbn...|          Jason|2014-08-23|        New York, NY|Hi my name is Jas...|    within an hour|              100%|                 97%|                t|https://a0.muscac...|https://a0.muscac...|      Borough Park|                  2|                        2|  ['email', 'phone']|                   t|                     t|Brooklyn, New Yor...|          Borough Park|                    Brooklyn|          40.63955|         -73.98251|Private room in t...|   Private room|           1|     null| 1 shared bath|    null|   1|[\"Hot water\", \"Ha...| $48.00|             2|            28|                     2|                     2|                    28|                    28|                   2.0|                  28.0|            null|               t|              1|              4|             21|              21|           2023-09-05|              208|                   25|                     7|  2017-05-16| 2023-09-02|                4.86|                  4.88|                     4.88|                  4.9|                       4.92|                   4.6|               4.83|   null|               f|                             2|                                          0|                                           2|                                          0|             2.71|\n",
            "+------------------+--------------------+--------------+------------+-----------+--------------------+--------------------+---------------------+--------------------+---------+--------------------+---------------+----------+--------------------+--------------------+------------------+------------------+--------------------+-----------------+--------------------+--------------------+------------------+-------------------+-------------------------+--------------------+--------------------+----------------------+--------------------+----------------------+----------------------------+------------------+------------------+--------------------+---------------+------------+---------+--------------+--------+----+--------------------+-------+--------------+--------------+----------------------+----------------------+----------------------+----------------------+----------------------+----------------------+----------------+----------------+---------------+---------------+---------------+----------------+---------------------+-----------------+---------------------+----------------------+------------+-----------+--------------------+----------------------+-------------------------+---------------------+---------------------------+----------------------+-------------------+-------+----------------+------------------------------+-------------------------------------------+--------------------------------------------+-------------------------------------------+-----------------+\n",
            "only showing top 20 rows\n",
            "\n"
          ]
        }
      ],
      "source": [
        "filtered_listings_df.show()"
      ]
    },
    {
      "cell_type": "code",
      "execution_count": 162,
      "metadata": {
        "colab": {
          "base_uri": "https://localhost:8080/"
        },
        "id": "vh0Re6FgWAbL",
        "outputId": "67988189-bfde-4b84-8c43-bd3be57bc1c5"
      },
      "outputs": [
        {
          "data": {
            "text/plain": [
              "37609"
            ]
          },
          "execution_count": 162,
          "metadata": {},
          "output_type": "execute_result"
        }
      ],
      "source": [
        "filtered_listings_df.count()"
      ]
    },
    {
      "cell_type": "code",
      "execution_count": 163,
      "metadata": {
        "id": "Mrj1z1JIBGoK"
      },
      "outputs": [],
      "source": [
        "listing_columns = ['id','listing_url','name','host_id','host_url','host_name','host_since','host_is_superhost','host_listings_count','host_total_listings_count','neighbourhood_cleansed','neighbourhood_group_cleansed','latitude','longitude','room_type','accommodates','bathrooms_text','bedrooms','beds','amenities','price','minimum_nights','maximum_nights','has_availability','number_of_reviews','number_of_reviews_ltm','number_of_reviews_l30d','first_review','last_review','review_scores_rating','review_scores_accuracy','review_scores_cleanliness','review_scores_checkin','review_scores_communication','review_scores_location','review_scores_value','calculated_host_listings_count','reviews_per_month']\n",
        "calendars_columns = ['listing_id','date','available','price','adjusted_price']\n",
        "reviews_columns = ['listing_id','id','date','reviewer_id','reviewer_name','comments']"
      ]
    },
    {
      "cell_type": "code",
      "execution_count": 164,
      "metadata": {
        "id": "U7M_kV0dHu0X"
      },
      "outputs": [],
      "source": [
        "column_listings_df = filtered_listings_df[listing_columns]\n",
        "column_calendars_df = calendar_df[calendars_columns]\n",
        "column_reviews_df = reviews_df[reviews_columns]"
      ]
    },
    {
      "cell_type": "code",
      "execution_count": 165,
      "metadata": {
        "id": "y376vpggIJpj"
      },
      "outputs": [],
      "source": [
        "column_listings_df = column_listings_df.withColumnRenamed('id', 'listing_id')"
      ]
    },
    {
      "cell_type": "code",
      "execution_count": 166,
      "metadata": {
        "colab": {
          "base_uri": "https://localhost:8080/"
        },
        "id": "TSwlpG70Iw0L",
        "outputId": "bacb7284-a111-49b4-b399-a92190084678"
      },
      "outputs": [
        {
          "name": "stdout",
          "output_type": "stream",
          "text": [
            "+------------------+--------------------+--------------------+---------+--------------------+---------------+----------+-----------------+-------------------+-------------------------+----------------------+----------------------------+------------------+------------------+---------------+------------+--------------+--------+----+--------------------+-------+--------------+--------------+----------------+-----------------+---------------------+----------------------+------------+-----------+--------------------+----------------------+-------------------------+---------------------+---------------------------+----------------------+-------------------+------------------------------+-----------------+\n",
            "|        listing_id|         listing_url|                name|  host_id|            host_url|      host_name|host_since|host_is_superhost|host_listings_count|host_total_listings_count|neighbourhood_cleansed|neighbourhood_group_cleansed|          latitude|         longitude|      room_type|accommodates|bathrooms_text|bedrooms|beds|           amenities|  price|minimum_nights|maximum_nights|has_availability|number_of_reviews|number_of_reviews_ltm|number_of_reviews_l30d|first_review|last_review|review_scores_rating|review_scores_accuracy|review_scores_cleanliness|review_scores_checkin|review_scores_communication|review_scores_location|review_scores_value|calculated_host_listings_count|reviews_per_month|\n",
            "+------------------+--------------------+--------------------+---------+--------------------+---------------+----------+-----------------+-------------------+-------------------------+----------------------+----------------------------+------------------+------------------+---------------+------------+--------------+--------+----+--------------------+-------+--------------+--------------+----------------+-----------------+---------------------+----------------------+------------+-----------+--------------------+----------------------+-------------------------+---------------------+---------------------------+----------------------+-------------------+------------------------------+-----------------+\n",
            "|          52702018|https://www.airbn...|Rental unit in Qu...| 93231383|https://www.airbn...|         Daniel|2016-09-03|                t|                  3|                        3|         East Elmhurst|                      Queens|          40.76911|         -73.87053|Entire home/apt|           4|        1 bath|       1|   2|[\"Private entranc...|$171.00|             1|          1125|               t|              188|                   88|                     6|  2021-11-14| 2023-08-21|                 4.9|                  4.95|                      4.9|                 4.95|                       4.94|                  4.85|               4.87|                             3|             8.53|\n",
            "|903776106853996545|https://www.airbn...|Rental unit in Qu...| 93231383|https://www.airbn...|         Daniel|2016-09-03|                t|                  3|                        3|         East Elmhurst|                      Queens|          40.76951|         -73.86976|Entire home/apt|           6|        1 bath|       3|   4|[\"Air conditionin...|$137.00|            30|           365|               t|                0|                    0|                     0|        null|       null|                null|                  null|                     null|                 null|                       null|                  null|               null|                             3|             null|\n",
            "|784969376930125242|https://www.airbn...|Home in Queens · ...| 93231383|https://www.airbn...|         Daniel|2016-09-03|                t|                  3|                        3|         East Elmhurst|                      Queens|40.768175708747755|-73.87126330286264|Entire home/apt|           7|        1 bath|       3|   4|[\"Private entranc...|$311.00|            30|           365|               t|               38|                   38|                     1|  2022-12-25| 2023-08-15|                4.97|                  4.97|                     4.97|                 4.95|                       4.95|                  4.84|               4.87|                             3|             4.47|\n",
            "|863733005126162178|https://www.airbn...|Home in Queens · ...| 50997424|https://www.airbn...|           Mark|2015-12-10|                f|                 10|                       10|             Ridgewood|                      Queens|  40.7029477891808|-73.89821661565234|Entire home/apt|          16|       3 baths|       7|  13|[\"Air conditionin...|$600.00|            30|           365|               t|                0|                    0|                     0|        null|       null|                null|                  null|                     null|                 null|                       null|                  null|               null|                             7|             null|\n",
            "|           9919728|https://www.airbn...|Townhouse in Quee...| 50997424|https://www.airbn...|           Mark|2015-12-10|                f|                 10|                       10|        Middle Village|                      Queens|          40.71734|         -73.87805|Entire home/apt|          12|        1 bath|       3|   7|[\"Kitchen\", \"Drye...|$328.00|            30|          1125|               t|                8|                    0|                     0|  2016-04-01| 2020-02-18|                4.33|                  4.17|                     4.33|                 4.83|                       4.67|                  4.83|               4.33|                             7|             0.09|\n",
            "|          53696990|https://www.airbn...|Vacation home in ...| 50997424|https://www.airbn...|           Mark|2015-12-10|                f|                 10|                       10|        Middle Village|                      Queens|          40.71726|         -73.87628|Entire home/apt|           4|        1 bath|    null|   2|[\"Kitchen\", \"Refr...|$139.00|            30|           365|               t|                1|                    1|                     0|  2022-09-16| 2022-09-16|                 4.0|                   4.0|                      3.0|                  5.0|                        4.0|                   5.0|                3.0|                             7|             0.08|\n",
            "|714936072143571657|https://www.airbn...|Townhouse in Quee...| 50997424|https://www.airbn...|           Mark|2015-12-10|                f|                 10|                       10|             Ridgewood|                      Queens|          40.70405|         -73.89761|Entire home/apt|          14|       2 baths|       5|   9|[\"Air conditionin...|$518.00|             7|           365|               t|                0|                    0|                     0|        null|       null|                null|                  null|                     null|                 null|                       null|                  null|               null|                             7|             null|\n",
            "|           9920363|https://www.airbn...|Townhouse in Quee...| 50997424|https://www.airbn...|           Mark|2015-12-10|                f|                 10|                       10|             Ridgewood|                      Queens|          40.70465|         -73.89909|Entire home/apt|          16|     2.5 baths|       5|  11|[\"Hot water\", \"Ai...|$485.00|            30|          1125|               t|                8|                    0|                     0|  2016-05-08| 2020-01-01|                4.25|                  4.25|                     3.75|                 4.75|                        4.0|                  4.75|                4.5|                             7|             0.09|\n",
            "|556960737995069310|https://www.airbn...|Rental unit in Qu...| 50997424|https://www.airbn...|           Mark|2015-12-10|                f|                 10|                       10|             Ridgewood|                      Queens|          40.70317|         -73.89949|Entire home/apt|           6|        1 bath|       2|   4|[\"Air conditionin...|$242.00|            30|           365|               t|                3|                    3|                     0|  2022-10-06| 2023-04-24|                 5.0|                   5.0|                     4.33|                  5.0|                        5.0|                  4.67|               4.67|                             7|             0.27|\n",
            "|          54395062|https://www.airbn...|Vacation home in ...| 50997424|https://www.airbn...|           Mark|2015-12-10|                f|                 10|                       10|             Ridgewood|                      Queens|          40.70453|         -73.89898|Entire home/apt|           6|        1 bath|       2|   4|[\"Air conditionin...|$245.00|            30|           365|               t|                3|                    2|                     1|  2022-08-14| 2023-08-20|                4.67|                  4.67|                     4.67|                  5.0|                        5.0|                   5.0|               4.33|                             7|             0.23|\n",
            "|          40322951|https://www.airbn...|Home in Brooklyn ...|297311545|https://www.airbn...|        Uchenna|2019-09-23|                f|                  3|                        4|         East Flatbush|                    Brooklyn|          40.65409|         -73.94569|   Private room|           1| 1 shared bath|    null|   1|[\"Private entranc...| $43.00|            30|           120|               t|                6|                    0|                     0|  2020-01-03| 2022-05-06|                4.67|                  4.67|                     4.33|                 4.67|                       4.67|                   4.5|               4.33|                             3|             0.13|\n",
            "|          40195034|https://www.airbn...|Home in Brooklyn ...|297311545|https://www.airbn...|        Uchenna|2019-09-23|                f|                  3|                        4|         East Flatbush|                    Brooklyn|          40.65229|         -73.94556|   Private room|           1|1 private bath|    null|   1|[\"Private entranc...| $49.00|            30|           120|               t|                4|                    0|                     0|  2020-01-02| 2022-03-03|                3.75|                   4.0|                      3.5|                  4.0|                        4.0|                   4.0|               3.75|                             3|             0.09|\n",
            "|          39898950|https://www.airbn...|Home in Brooklyn ...|297311545|https://www.airbn...|        Uchenna|2019-09-23|                f|                  3|                        4|         East Flatbush|                    Brooklyn|          40.65248|         -73.94584|   Private room|           1|     1.5 baths|    null|   1|[\"Private entranc...| $45.00|            30|           120|               t|                8|                    0|                     0|  2020-01-13| 2021-10-26|                3.63|                   4.0|                     3.25|                 4.38|                       4.25|                  4.13|               3.63|                             3|             0.18|\n",
            "|          31717837|https://www.airbn...|Home in Brooklyn ...|234174616|https://www.airbn...|          Onika|2019-01-03|                f|                  1|                        1|         East New York|                    Brooklyn|           40.6716|         -73.88797|Entire home/apt|           2|        1 bath|       2|   3|[\"Private entranc...|$110.00|            30|            60|               t|                7|                    0|                     0|  2019-10-31| 2022-09-01|                 5.0|                   5.0|                      5.0|                  5.0|                        5.0|                  4.86|                5.0|                             1|             0.15|\n",
            "|823518066022552352|https://www.airbn...|Rental unit in Qu...|500407084|https://www.airbn...|       Giuseppe|2023-02-10|                t|                  1|                        1|            Ozone Park|                      Queens| 40.67227235266577|-73.84795230422972|Entire home/apt|           3|        1 bath|       1|   1|[\"Paid dryer \\u20...|$129.00|             1|           365|               t|               54|                   54|                     3|  2023-02-15| 2023-08-31|                4.94|                  4.93|                     4.87|                 4.91|                       4.96|                  4.69|               4.87|                             1|             7.98|\n",
            "|722463449063098611|https://www.airbn...|Home in Queens · ...|141645843|https://www.airbn...|G'S Vacay Spots|2017-07-21|                f|                  2|                        9|               Jamaica|                      Queens|        40.6820373|       -73.7968162|   Private room|           4| 1 shared bath|    null|   1|[\"Hot water\", \"Sh...|$110.00|             1|           365|               t|               25|                   25|                     0|  2022-10-02| 2023-07-12|                4.88|                   4.8|                     4.72|                 4.96|                       4.96|                  4.88|                4.8|                             2|             2.21|\n",
            "|          33102485|https://www.airbn...|Home in Jamaica ·...|141645843|https://www.airbn...|G'S Vacay Spots|2017-07-21|                f|                  2|                        9|               Jamaica|                      Queens|         40.682037|        -73.796814|   Private room|           3| 1 shared bath|       1|   1|[\"Hot water\", \"Sh...| $84.00|             1|          1125|               t|              114|                   42|                     0|  2019-03-31| 2023-07-23|                4.64|                  4.66|                     4.51|                 4.82|                       4.78|                  4.64|               4.54|                             2|             2.11|\n",
            "|          34907354|https://www.airbn...|Rental unit in Br...|246351353|https://www.airbn...|          Erica|2019-03-02|                t|                  1|                        8|  Prospect-Lefferts...|                    Brooklyn|          40.66289|         -73.95756|   Private room|           2| 1 shared bath|    null|   1|[\"Hot water\", \"Ha...| $68.00|             1|          1125|               t|               77|                   18|                     1|  2019-06-02| 2023-09-04|                4.73|                  4.82|                     4.73|                 4.79|                       4.87|                  4.75|               4.74|                             1|             1.48|\n",
            "|          18908638|https://www.airbn...|Townhouse in Broo...| 20438455|https://www.airbn...|          Jason|2014-08-23|                t|                  2|                        2|          Borough Park|                    Brooklyn|          40.63904|         -73.98103|   Private room|           1| 1 shared bath|    null|   1|[\"Hot water\", \"Ai...| $48.00|             2|            28|               t|              191|                   30|                     6|  2017-06-11| 2023-09-01|                4.87|                  4.87|                     4.91|                 4.94|                       4.93|                  4.63|               4.88|                             2|             2.52|\n",
            "|          18473439|https://www.airbn...|Townhouse in Broo...| 20438455|https://www.airbn...|          Jason|2014-08-23|                t|                  2|                        2|          Borough Park|                    Brooklyn|          40.63955|         -73.98251|   Private room|           1| 1 shared bath|    null|   1|[\"Hot water\", \"Ha...| $48.00|             2|            28|               t|              208|                   25|                     7|  2017-05-16| 2023-09-02|                4.86|                  4.88|                     4.88|                  4.9|                       4.92|                   4.6|               4.83|                             2|             2.71|\n",
            "+------------------+--------------------+--------------------+---------+--------------------+---------------+----------+-----------------+-------------------+-------------------------+----------------------+----------------------------+------------------+------------------+---------------+------------+--------------+--------+----+--------------------+-------+--------------+--------------+----------------+-----------------+---------------------+----------------------+------------+-----------+--------------------+----------------------+-------------------------+---------------------+---------------------------+----------------------+-------------------+------------------------------+-----------------+\n",
            "only showing top 20 rows\n",
            "\n"
          ]
        }
      ],
      "source": [
        "column_listings_df.show()"
      ]
    },
    {
      "cell_type": "code",
      "execution_count": 167,
      "metadata": {
        "id": "AOVxFH90I2FK"
      },
      "outputs": [],
      "source": [
        "from pyspark.sql import SparkSession\n"
      ]
    },
    {
      "cell_type": "code",
      "execution_count": 168,
      "metadata": {
        "colab": {
          "base_uri": "https://localhost:8080/"
        },
        "id": "1PguHgeNNu3p",
        "outputId": "419eb177-4980-4ff2-83ee-93b83e267611"
      },
      "outputs": [
        {
          "name": "stdout",
          "output_type": "stream",
          "text": [
            "+------------------+--------------------+--------------------+---------+--------------------+---------------+----------+-----------------+-------------------+-------------------------+----------------------+----------------------------+------------------+------------------+---------------+------------+--------------+--------+----+--------------------+-------+--------------+--------------+----------------+-----------------+---------------------+----------------------+------------+-----------+--------------------+----------------------+-------------------------+---------------------+---------------------------+----------------------+-------------------+------------------------------+-----------------+\n",
            "|        listing_id|         listing_url|                name|  host_id|            host_url|      host_name|host_since|host_is_superhost|host_listings_count|host_total_listings_count|neighbourhood_cleansed|neighbourhood_group_cleansed|          latitude|         longitude|      room_type|accommodates|bathrooms_text|bedrooms|beds|           amenities|  price|minimum_nights|maximum_nights|has_availability|number_of_reviews|number_of_reviews_ltm|number_of_reviews_l30d|first_review|last_review|review_scores_rating|review_scores_accuracy|review_scores_cleanliness|review_scores_checkin|review_scores_communication|review_scores_location|review_scores_value|calculated_host_listings_count|reviews_per_month|\n",
            "+------------------+--------------------+--------------------+---------+--------------------+---------------+----------+-----------------+-------------------+-------------------------+----------------------+----------------------------+------------------+------------------+---------------+------------+--------------+--------+----+--------------------+-------+--------------+--------------+----------------+-----------------+---------------------+----------------------+------------+-----------+--------------------+----------------------+-------------------------+---------------------+---------------------------+----------------------+-------------------+------------------------------+-----------------+\n",
            "|          52702018|https://www.airbn...|Rental unit in Qu...| 93231383|https://www.airbn...|         Daniel|2016-09-03|                t|                  3|                        3|         East Elmhurst|                      Queens|          40.76911|         -73.87053|Entire home/apt|           4|        1 bath|       1|   2|[\"Private entranc...|$171.00|             1|          1125|               t|              188|                   88|                     6|  2021-11-14| 2023-08-21|                 4.9|                  4.95|                      4.9|                 4.95|                       4.94|                  4.85|               4.87|                             3|             8.53|\n",
            "|784969376930125242|https://www.airbn...|Home in Queens · ...| 93231383|https://www.airbn...|         Daniel|2016-09-03|                t|                  3|                        3|         East Elmhurst|                      Queens|40.768175708747755|-73.87126330286264|Entire home/apt|           7|        1 bath|       3|   4|[\"Private entranc...|$311.00|            30|           365|               t|               38|                   38|                     1|  2022-12-25| 2023-08-15|                4.97|                  4.97|                     4.97|                 4.95|                       4.95|                  4.84|               4.87|                             3|             4.47|\n",
            "|           9919728|https://www.airbn...|Townhouse in Quee...| 50997424|https://www.airbn...|           Mark|2015-12-10|                f|                 10|                       10|        Middle Village|                      Queens|          40.71734|         -73.87805|Entire home/apt|          12|        1 bath|       3|   7|[\"Kitchen\", \"Drye...|$328.00|            30|          1125|               t|                8|                    0|                     0|  2016-04-01| 2020-02-18|                4.33|                  4.17|                     4.33|                 4.83|                       4.67|                  4.83|               4.33|                             7|             0.09|\n",
            "|          53696990|https://www.airbn...|Vacation home in ...| 50997424|https://www.airbn...|           Mark|2015-12-10|                f|                 10|                       10|        Middle Village|                      Queens|          40.71726|         -73.87628|Entire home/apt|           4|        1 bath|    null|   2|[\"Kitchen\", \"Refr...|$139.00|            30|           365|               t|                1|                    1|                     0|  2022-09-16| 2022-09-16|                 4.0|                   4.0|                      3.0|                  5.0|                        4.0|                   5.0|                3.0|                             7|             0.08|\n",
            "|           9920363|https://www.airbn...|Townhouse in Quee...| 50997424|https://www.airbn...|           Mark|2015-12-10|                f|                 10|                       10|             Ridgewood|                      Queens|          40.70465|         -73.89909|Entire home/apt|          16|     2.5 baths|       5|  11|[\"Hot water\", \"Ai...|$485.00|            30|          1125|               t|                8|                    0|                     0|  2016-05-08| 2020-01-01|                4.25|                  4.25|                     3.75|                 4.75|                        4.0|                  4.75|                4.5|                             7|             0.09|\n",
            "|556960737995069310|https://www.airbn...|Rental unit in Qu...| 50997424|https://www.airbn...|           Mark|2015-12-10|                f|                 10|                       10|             Ridgewood|                      Queens|          40.70317|         -73.89949|Entire home/apt|           6|        1 bath|       2|   4|[\"Air conditionin...|$242.00|            30|           365|               t|                3|                    3|                     0|  2022-10-06| 2023-04-24|                 5.0|                   5.0|                     4.33|                  5.0|                        5.0|                  4.67|               4.67|                             7|             0.27|\n",
            "|          54395062|https://www.airbn...|Vacation home in ...| 50997424|https://www.airbn...|           Mark|2015-12-10|                f|                 10|                       10|             Ridgewood|                      Queens|          40.70453|         -73.89898|Entire home/apt|           6|        1 bath|       2|   4|[\"Air conditionin...|$245.00|            30|           365|               t|                3|                    2|                     1|  2022-08-14| 2023-08-20|                4.67|                  4.67|                     4.67|                  5.0|                        5.0|                   5.0|               4.33|                             7|             0.23|\n",
            "|          40322951|https://www.airbn...|Home in Brooklyn ...|297311545|https://www.airbn...|        Uchenna|2019-09-23|                f|                  3|                        4|         East Flatbush|                    Brooklyn|          40.65409|         -73.94569|   Private room|           1| 1 shared bath|    null|   1|[\"Private entranc...| $43.00|            30|           120|               t|                6|                    0|                     0|  2020-01-03| 2022-05-06|                4.67|                  4.67|                     4.33|                 4.67|                       4.67|                   4.5|               4.33|                             3|             0.13|\n",
            "|          40195034|https://www.airbn...|Home in Brooklyn ...|297311545|https://www.airbn...|        Uchenna|2019-09-23|                f|                  3|                        4|         East Flatbush|                    Brooklyn|          40.65229|         -73.94556|   Private room|           1|1 private bath|    null|   1|[\"Private entranc...| $49.00|            30|           120|               t|                4|                    0|                     0|  2020-01-02| 2022-03-03|                3.75|                   4.0|                      3.5|                  4.0|                        4.0|                   4.0|               3.75|                             3|             0.09|\n",
            "|          39898950|https://www.airbn...|Home in Brooklyn ...|297311545|https://www.airbn...|        Uchenna|2019-09-23|                f|                  3|                        4|         East Flatbush|                    Brooklyn|          40.65248|         -73.94584|   Private room|           1|     1.5 baths|    null|   1|[\"Private entranc...| $45.00|            30|           120|               t|                8|                    0|                     0|  2020-01-13| 2021-10-26|                3.63|                   4.0|                     3.25|                 4.38|                       4.25|                  4.13|               3.63|                             3|             0.18|\n",
            "|          31717837|https://www.airbn...|Home in Brooklyn ...|234174616|https://www.airbn...|          Onika|2019-01-03|                f|                  1|                        1|         East New York|                    Brooklyn|           40.6716|         -73.88797|Entire home/apt|           2|        1 bath|       2|   3|[\"Private entranc...|$110.00|            30|            60|               t|                7|                    0|                     0|  2019-10-31| 2022-09-01|                 5.0|                   5.0|                      5.0|                  5.0|                        5.0|                  4.86|                5.0|                             1|             0.15|\n",
            "|823518066022552352|https://www.airbn...|Rental unit in Qu...|500407084|https://www.airbn...|       Giuseppe|2023-02-10|                t|                  1|                        1|            Ozone Park|                      Queens| 40.67227235266577|-73.84795230422972|Entire home/apt|           3|        1 bath|       1|   1|[\"Paid dryer \\u20...|$129.00|             1|           365|               t|               54|                   54|                     3|  2023-02-15| 2023-08-31|                4.94|                  4.93|                     4.87|                 4.91|                       4.96|                  4.69|               4.87|                             1|             7.98|\n",
            "|722463449063098611|https://www.airbn...|Home in Queens · ...|141645843|https://www.airbn...|G'S Vacay Spots|2017-07-21|                f|                  2|                        9|               Jamaica|                      Queens|        40.6820373|       -73.7968162|   Private room|           4| 1 shared bath|    null|   1|[\"Hot water\", \"Sh...|$110.00|             1|           365|               t|               25|                   25|                     0|  2022-10-02| 2023-07-12|                4.88|                   4.8|                     4.72|                 4.96|                       4.96|                  4.88|                4.8|                             2|             2.21|\n",
            "|          33102485|https://www.airbn...|Home in Jamaica ·...|141645843|https://www.airbn...|G'S Vacay Spots|2017-07-21|                f|                  2|                        9|               Jamaica|                      Queens|         40.682037|        -73.796814|   Private room|           3| 1 shared bath|       1|   1|[\"Hot water\", \"Sh...| $84.00|             1|          1125|               t|              114|                   42|                     0|  2019-03-31| 2023-07-23|                4.64|                  4.66|                     4.51|                 4.82|                       4.78|                  4.64|               4.54|                             2|             2.11|\n",
            "|          34907354|https://www.airbn...|Rental unit in Br...|246351353|https://www.airbn...|          Erica|2019-03-02|                t|                  1|                        8|  Prospect-Lefferts...|                    Brooklyn|          40.66289|         -73.95756|   Private room|           2| 1 shared bath|    null|   1|[\"Hot water\", \"Ha...| $68.00|             1|          1125|               t|               77|                   18|                     1|  2019-06-02| 2023-09-04|                4.73|                  4.82|                     4.73|                 4.79|                       4.87|                  4.75|               4.74|                             1|             1.48|\n",
            "|          18908638|https://www.airbn...|Townhouse in Broo...| 20438455|https://www.airbn...|          Jason|2014-08-23|                t|                  2|                        2|          Borough Park|                    Brooklyn|          40.63904|         -73.98103|   Private room|           1| 1 shared bath|    null|   1|[\"Hot water\", \"Ai...| $48.00|             2|            28|               t|              191|                   30|                     6|  2017-06-11| 2023-09-01|                4.87|                  4.87|                     4.91|                 4.94|                       4.93|                  4.63|               4.88|                             2|             2.52|\n",
            "|          18473439|https://www.airbn...|Townhouse in Broo...| 20438455|https://www.airbn...|          Jason|2014-08-23|                t|                  2|                        2|          Borough Park|                    Brooklyn|          40.63955|         -73.98251|   Private room|           1| 1 shared bath|    null|   1|[\"Hot water\", \"Ha...| $48.00|             2|            28|               t|              208|                   25|                     7|  2017-05-16| 2023-09-02|                4.86|                  4.88|                     4.88|                  4.9|                       4.92|                   4.6|               4.83|                             2|             2.71|\n",
            "|539865017663194156|https://www.airbn...|casa particular i...|413243090|https://www.airbn...|         Amalia|2021-07-16|                t|                  4|                        4|         Cypress Hills|                    Brooklyn|          40.68713|         -73.87454|   Private room|           2|        1 bath|    null|   2|[\"Private entranc...|$163.00|             5|          1125|               t|               23|                   15|                     0|  2022-03-21| 2023-08-05|                4.91|                  4.91|                     4.96|                 4.91|                       4.96|                   4.7|               4.83|                             4|             1.29|\n",
            "|          51939606|https://www.airbn...|casa particular i...|413243090|https://www.airbn...|         Amalia|2021-07-16|                t|                  4|                        4|         Cypress Hills|                    Brooklyn|          40.68711|         -73.87407|   Private room|           2|1 private bath|    null|   2|[\"Private entranc...|$166.00|             5|           365|               t|               33|                   16|                     0|  2021-09-06| 2023-06-09|                4.88|                  4.91|                     4.88|                 4.88|                       4.91|                  4.18|               4.82|                             4|             1.36|\n",
            "|539084025529334382|https://www.airbn...|casa particular i...|413243090|https://www.airbn...|         Amalia|2021-07-16|                t|                  4|                        4|         Cypress Hills|                    Brooklyn|          40.68585|          -73.8725|   Private room|           2|        1 bath|    null|   2|[\"Private entranc...|$163.00|             5|          1125|               t|               11|                    8|                     1|  2022-01-25| 2023-08-11|                4.73|                   5.0|                     4.64|                 4.73|                       4.73|                  4.27|               4.45|                             4|             0.56|\n",
            "+------------------+--------------------+--------------------+---------+--------------------+---------------+----------+-----------------+-------------------+-------------------------+----------------------+----------------------------+------------------+------------------+---------------+------------+--------------+--------+----+--------------------+-------+--------------+--------------+----------------+-----------------+---------------------+----------------------+------------+-----------+--------------------+----------------------+-------------------------+---------------------+---------------------------+----------------------+-------------------+------------------------------+-----------------+\n",
            "only showing top 20 rows\n",
            "\n"
          ]
        }
      ],
      "source": [
        "# Initialize Spark session\n",
        "spark = SparkSession.builder.appName(\"example\").getOrCreate()\n",
        "\n",
        "# Assuming you have a PySpark DataFrame named 'column_listings_df'\n",
        "# Drop rows with null values in the 'listing_id' column\n",
        "column_listings_df = column_listings_df.dropna(subset=['first_review'])\n",
        "\n",
        "# Show the DataFrame after dropping null values\n",
        "column_listings_df.show()"
      ]
    },
    {
      "cell_type": "code",
      "execution_count": 169,
      "metadata": {
        "colab": {
          "base_uri": "https://localhost:8080/"
        },
        "id": "JeV3RhSbkU_V",
        "outputId": "846503d7-efc4-4880-92a4-8934d6b7f932"
      },
      "outputs": [
        {
          "data": {
            "text/plain": [
              "27708"
            ]
          },
          "execution_count": 169,
          "metadata": {},
          "output_type": "execute_result"
        }
      ],
      "source": [
        "column_listings_df.count()"
      ]
    },
    {
      "cell_type": "code",
      "execution_count": 170,
      "metadata": {
        "colab": {
          "base_uri": "https://localhost:8080/"
        },
        "id": "6syDta0XSTg9",
        "outputId": "9350a8fd-939d-4bfc-c68f-a034bc6ed65a"
      },
      "outputs": [
        {
          "name": "stdout",
          "output_type": "stream",
          "text": [
            "+----------+--------+----------+-----------+-------------+--------------------+\n",
            "|listing_id|      id|      date|reviewer_id|reviewer_name|            comments|\n",
            "+----------+--------+----------+-----------+-------------+--------------------+\n",
            "|      2595|   17857|2009-11-21|      50679|         Jean|Notre séjour de t...|\n",
            "|      2595|   19176|2009-12-05|      53267|         Cate|   Great experience.|\n",
            "|      2595|   19760|2009-12-10|      38960|        Anita|I've stayed with ...|\n",
            "|      2595|   34320|2010-04-09|      71130|      Kai-Uwe|We've been stayin...|\n",
            "|      2595|   46312|2010-05-25|     117113|       Alicia|We had a wonderfu...|\n",
            "|      2595| 1238204|2012-05-07|    1783688|       Sergey|Hi to everyone!\\r...|\n",
            "|      2595| 1293632|2012-05-17|    1870771|         Loïc|Jennifer was very...|\n",
            "|      2595| 2022498|2012-08-18|    2124102|      Melanie|This apartment is...|\n",
            "|      2595| 4682989|2013-05-20|     496053|         Eric|Jennifer's place ...|\n",
            "|      2595|13193832|2014-05-21|   13685934|       Gerald|Jennifer is a ver...|\n",
            "|      2595|15515108|2014-07-10|   10781357|      Richard|This is a cute st...|\n",
            "|      2595|20372242|2014-09-28|    4212558|       Carson|A great location,...|\n",
            "|      2595|20937971|2014-10-07|   13460520|      Michael|Jennifer's place ...|\n",
            "|      2595|21464102|2014-10-18|   16584002|        Kitty|We hebben genoten...|\n",
            "|      2595|28794060|2015-03-30|   27436102|       Kellie|Jennifer was very...|\n",
            "|      2595|30430122|2015-04-21|    6429364|        Sonya|I love this space...|\n",
            "|      2595|32532759|2015-05-19|   12146524|      Michiel|This was our firs...|\n",
            "|      2595|47785650|2015-09-21|   12885233|          Lin|Great location, i...|\n",
            "|      2595|48764464|2015-09-28|   18636130|         Alex|Jennifer was with...|\n",
            "|      2595|69547296|2016-04-11|   16512817|         Gary|Jennifer was an u...|\n",
            "+----------+--------+----------+-----------+-------------+--------------------+\n",
            "only showing top 20 rows\n",
            "\n"
          ]
        }
      ],
      "source": [
        "column_reviews_df = column_reviews_df.dropna(subset=['comments'])\n",
        "column_reviews_df.show()"
      ]
    },
    {
      "cell_type": "code",
      "execution_count": 171,
      "metadata": {
        "colab": {
          "base_uri": "https://localhost:8080/"
        },
        "id": "two7FwS9cvXD",
        "outputId": "307e35fc-3d0c-4ff0-bd96-ed8b6649f3ed"
      },
      "outputs": [
        {
          "data": {
            "text/plain": [
              "1019573"
            ]
          },
          "execution_count": 171,
          "metadata": {},
          "output_type": "execute_result"
        }
      ],
      "source": [
        "column_reviews_df.count()"
      ]
    },
    {
      "cell_type": "markdown",
      "metadata": {
        "id": "JxIbdSBodYL_"
      },
      "source": [
        "# Clean lists of amenities"
      ]
    },
    {
      "cell_type": "code",
      "execution_count": 172,
      "metadata": {
        "id": "Fs1Re9CBb_h8"
      },
      "outputs": [],
      "source": [
        "from pyspark.sql import SparkSession\n",
        "from pyspark.sql.functions import udf\n",
        "from pyspark.sql.types import StringType\n",
        "import json\n",
        "\n",
        "# Initialize a Spark session\n",
        "spark = SparkSession.builder.appName(\"DataFrameCleanAmenities\").getOrCreate()\n",
        "\n",
        "# Assuming you have a PySpark DataFrame named 'cleaned_joined_df'\n",
        "amenities_replaced_df = column_listings_df.select('*')\n",
        "\n",
        "# List of amenity names to search for and replace\n",
        "amenities_to_replace = [\"Wifi\", \"TV\", \"Oven\", \"Stove\", \"Soap\", \"Shampoo\", \"Conditioner\", \"Sound system\", \"Refrigerator\", \"Backyard\", \"Patio\", \"BBQ grill\",\n",
        "                        \"Free parking\", \"Paid parking\", \"Free street parking\", \"Paid street parking\"]"
      ]
    },
    {
      "cell_type": "code",
      "execution_count": 173,
      "metadata": {
        "colab": {
          "base_uri": "https://localhost:8080/"
        },
        "id": "xqUW6GEKcpMt",
        "outputId": "3eed773f-f13b-4eef-b24a-9efdc5fb187d"
      },
      "outputs": [
        {
          "name": "stdout",
          "output_type": "stream",
          "text": [
            "+------------------+--------------------+--------------------+---------+--------------------+---------------+----------+-----------------+-------------------+-------------------------+----------------------+----------------------------+------------------+------------------+---------------+------------+--------------+--------+----+--------------------+-------+--------------+--------------+----------------+-----------------+---------------------+----------------------+------------+-----------+--------------------+----------------------+-------------------------+---------------------+---------------------------+----------------------+-------------------+------------------------------+-----------------+\n",
            "|        listing_id|         listing_url|                name|  host_id|            host_url|      host_name|host_since|host_is_superhost|host_listings_count|host_total_listings_count|neighbourhood_cleansed|neighbourhood_group_cleansed|          latitude|         longitude|      room_type|accommodates|bathrooms_text|bedrooms|beds|           amenities|  price|minimum_nights|maximum_nights|has_availability|number_of_reviews|number_of_reviews_ltm|number_of_reviews_l30d|first_review|last_review|review_scores_rating|review_scores_accuracy|review_scores_cleanliness|review_scores_checkin|review_scores_communication|review_scores_location|review_scores_value|calculated_host_listings_count|reviews_per_month|\n",
            "+------------------+--------------------+--------------------+---------+--------------------+---------------+----------+-----------------+-------------------+-------------------------+----------------------+----------------------------+------------------+------------------+---------------+------------+--------------+--------+----+--------------------+-------+--------------+--------------+----------------+-----------------+---------------------+----------------------+------------+-----------+--------------------+----------------------+-------------------------+---------------------+---------------------------+----------------------+-------------------+------------------------------+-----------------+\n",
            "|          52702018|https://www.airbn...|Rental unit in Qu...| 93231383|https://www.airbn...|         Daniel|2016-09-03|                t|                  3|                        3|         East Elmhurst|                      Queens|          40.76911|         -73.87053|Entire home/apt|           4|        1 bath|       1|   2|[\"Private entranc...|$171.00|             1|          1125|               t|              188|                   88|                     6|  2021-11-14| 2023-08-21|                 4.9|                  4.95|                      4.9|                 4.95|                       4.94|                  4.85|               4.87|                             3|             8.53|\n",
            "|784969376930125242|https://www.airbn...|Home in Queens · ...| 93231383|https://www.airbn...|         Daniel|2016-09-03|                t|                  3|                        3|         East Elmhurst|                      Queens|40.768175708747755|-73.87126330286264|Entire home/apt|           7|        1 bath|       3|   4|[\"Private entranc...|$311.00|            30|           365|               t|               38|                   38|                     1|  2022-12-25| 2023-08-15|                4.97|                  4.97|                     4.97|                 4.95|                       4.95|                  4.84|               4.87|                             3|             4.47|\n",
            "|           9919728|https://www.airbn...|Townhouse in Quee...| 50997424|https://www.airbn...|           Mark|2015-12-10|                f|                 10|                       10|        Middle Village|                      Queens|          40.71734|         -73.87805|Entire home/apt|          12|        1 bath|       3|   7|[\"Kitchen\", \"Drye...|$328.00|            30|          1125|               t|                8|                    0|                     0|  2016-04-01| 2020-02-18|                4.33|                  4.17|                     4.33|                 4.83|                       4.67|                  4.83|               4.33|                             7|             0.09|\n",
            "|          53696990|https://www.airbn...|Vacation home in ...| 50997424|https://www.airbn...|           Mark|2015-12-10|                f|                 10|                       10|        Middle Village|                      Queens|          40.71726|         -73.87628|Entire home/apt|           4|        1 bath|    null|   2|[\"Kitchen\", \"Refr...|$139.00|            30|           365|               t|                1|                    1|                     0|  2022-09-16| 2022-09-16|                 4.0|                   4.0|                      3.0|                  5.0|                        4.0|                   5.0|                3.0|                             7|             0.08|\n",
            "|           9920363|https://www.airbn...|Townhouse in Quee...| 50997424|https://www.airbn...|           Mark|2015-12-10|                f|                 10|                       10|             Ridgewood|                      Queens|          40.70465|         -73.89909|Entire home/apt|          16|     2.5 baths|       5|  11|[\"Hot water\", \"Ai...|$485.00|            30|          1125|               t|                8|                    0|                     0|  2016-05-08| 2020-01-01|                4.25|                  4.25|                     3.75|                 4.75|                        4.0|                  4.75|                4.5|                             7|             0.09|\n",
            "|556960737995069310|https://www.airbn...|Rental unit in Qu...| 50997424|https://www.airbn...|           Mark|2015-12-10|                f|                 10|                       10|             Ridgewood|                      Queens|          40.70317|         -73.89949|Entire home/apt|           6|        1 bath|       2|   4|[\"Air conditionin...|$242.00|            30|           365|               t|                3|                    3|                     0|  2022-10-06| 2023-04-24|                 5.0|                   5.0|                     4.33|                  5.0|                        5.0|                  4.67|               4.67|                             7|             0.27|\n",
            "|          54395062|https://www.airbn...|Vacation home in ...| 50997424|https://www.airbn...|           Mark|2015-12-10|                f|                 10|                       10|             Ridgewood|                      Queens|          40.70453|         -73.89898|Entire home/apt|           6|        1 bath|       2|   4|[\"Air conditionin...|$245.00|            30|           365|               t|                3|                    2|                     1|  2022-08-14| 2023-08-20|                4.67|                  4.67|                     4.67|                  5.0|                        5.0|                   5.0|               4.33|                             7|             0.23|\n",
            "|          40322951|https://www.airbn...|Home in Brooklyn ...|297311545|https://www.airbn...|        Uchenna|2019-09-23|                f|                  3|                        4|         East Flatbush|                    Brooklyn|          40.65409|         -73.94569|   Private room|           1| 1 shared bath|    null|   1|[\"Private entranc...| $43.00|            30|           120|               t|                6|                    0|                     0|  2020-01-03| 2022-05-06|                4.67|                  4.67|                     4.33|                 4.67|                       4.67|                   4.5|               4.33|                             3|             0.13|\n",
            "|          40195034|https://www.airbn...|Home in Brooklyn ...|297311545|https://www.airbn...|        Uchenna|2019-09-23|                f|                  3|                        4|         East Flatbush|                    Brooklyn|          40.65229|         -73.94556|   Private room|           1|1 private bath|    null|   1|[\"Private entranc...| $49.00|            30|           120|               t|                4|                    0|                     0|  2020-01-02| 2022-03-03|                3.75|                   4.0|                      3.5|                  4.0|                        4.0|                   4.0|               3.75|                             3|             0.09|\n",
            "|          39898950|https://www.airbn...|Home in Brooklyn ...|297311545|https://www.airbn...|        Uchenna|2019-09-23|                f|                  3|                        4|         East Flatbush|                    Brooklyn|          40.65248|         -73.94584|   Private room|           1|     1.5 baths|    null|   1|[\"Private entranc...| $45.00|            30|           120|               t|                8|                    0|                     0|  2020-01-13| 2021-10-26|                3.63|                   4.0|                     3.25|                 4.38|                       4.25|                  4.13|               3.63|                             3|             0.18|\n",
            "|          31717837|https://www.airbn...|Home in Brooklyn ...|234174616|https://www.airbn...|          Onika|2019-01-03|                f|                  1|                        1|         East New York|                    Brooklyn|           40.6716|         -73.88797|Entire home/apt|           2|        1 bath|       2|   3|[\"Private entranc...|$110.00|            30|            60|               t|                7|                    0|                     0|  2019-10-31| 2022-09-01|                 5.0|                   5.0|                      5.0|                  5.0|                        5.0|                  4.86|                5.0|                             1|             0.15|\n",
            "|823518066022552352|https://www.airbn...|Rental unit in Qu...|500407084|https://www.airbn...|       Giuseppe|2023-02-10|                t|                  1|                        1|            Ozone Park|                      Queens| 40.67227235266577|-73.84795230422972|Entire home/apt|           3|        1 bath|       1|   1|[\"Paid dryer \\u20...|$129.00|             1|           365|               t|               54|                   54|                     3|  2023-02-15| 2023-08-31|                4.94|                  4.93|                     4.87|                 4.91|                       4.96|                  4.69|               4.87|                             1|             7.98|\n",
            "|722463449063098611|https://www.airbn...|Home in Queens · ...|141645843|https://www.airbn...|G'S Vacay Spots|2017-07-21|                f|                  2|                        9|               Jamaica|                      Queens|        40.6820373|       -73.7968162|   Private room|           4| 1 shared bath|    null|   1|[\"Hot water\", \"Sh...|$110.00|             1|           365|               t|               25|                   25|                     0|  2022-10-02| 2023-07-12|                4.88|                   4.8|                     4.72|                 4.96|                       4.96|                  4.88|                4.8|                             2|             2.21|\n",
            "|          33102485|https://www.airbn...|Home in Jamaica ·...|141645843|https://www.airbn...|G'S Vacay Spots|2017-07-21|                f|                  2|                        9|               Jamaica|                      Queens|         40.682037|        -73.796814|   Private room|           3| 1 shared bath|       1|   1|[\"Hot water\", \"Sh...| $84.00|             1|          1125|               t|              114|                   42|                     0|  2019-03-31| 2023-07-23|                4.64|                  4.66|                     4.51|                 4.82|                       4.78|                  4.64|               4.54|                             2|             2.11|\n",
            "|          34907354|https://www.airbn...|Rental unit in Br...|246351353|https://www.airbn...|          Erica|2019-03-02|                t|                  1|                        8|  Prospect-Lefferts...|                    Brooklyn|          40.66289|         -73.95756|   Private room|           2| 1 shared bath|    null|   1|[\"Hot water\", \"Ha...| $68.00|             1|          1125|               t|               77|                   18|                     1|  2019-06-02| 2023-09-04|                4.73|                  4.82|                     4.73|                 4.79|                       4.87|                  4.75|               4.74|                             1|             1.48|\n",
            "|          18908638|https://www.airbn...|Townhouse in Broo...| 20438455|https://www.airbn...|          Jason|2014-08-23|                t|                  2|                        2|          Borough Park|                    Brooklyn|          40.63904|         -73.98103|   Private room|           1| 1 shared bath|    null|   1|[\"Hot water\", \"Ai...| $48.00|             2|            28|               t|              191|                   30|                     6|  2017-06-11| 2023-09-01|                4.87|                  4.87|                     4.91|                 4.94|                       4.93|                  4.63|               4.88|                             2|             2.52|\n",
            "|          18473439|https://www.airbn...|Townhouse in Broo...| 20438455|https://www.airbn...|          Jason|2014-08-23|                t|                  2|                        2|          Borough Park|                    Brooklyn|          40.63955|         -73.98251|   Private room|           1| 1 shared bath|    null|   1|[\"Hot water\", \"Ha...| $48.00|             2|            28|               t|              208|                   25|                     7|  2017-05-16| 2023-09-02|                4.86|                  4.88|                     4.88|                  4.9|                       4.92|                   4.6|               4.83|                             2|             2.71|\n",
            "|539865017663194156|https://www.airbn...|casa particular i...|413243090|https://www.airbn...|         Amalia|2021-07-16|                t|                  4|                        4|         Cypress Hills|                    Brooklyn|          40.68713|         -73.87454|   Private room|           2|        1 bath|    null|   2|[\"Private entranc...|$163.00|             5|          1125|               t|               23|                   15|                     0|  2022-03-21| 2023-08-05|                4.91|                  4.91|                     4.96|                 4.91|                       4.96|                   4.7|               4.83|                             4|             1.29|\n",
            "|          51939606|https://www.airbn...|casa particular i...|413243090|https://www.airbn...|         Amalia|2021-07-16|                t|                  4|                        4|         Cypress Hills|                    Brooklyn|          40.68711|         -73.87407|   Private room|           2|1 private bath|    null|   2|[\"Private entranc...|$166.00|             5|           365|               t|               33|                   16|                     0|  2021-09-06| 2023-06-09|                4.88|                  4.91|                     4.88|                 4.88|                       4.91|                  4.18|               4.82|                             4|             1.36|\n",
            "|539084025529334382|https://www.airbn...|casa particular i...|413243090|https://www.airbn...|         Amalia|2021-07-16|                t|                  4|                        4|         Cypress Hills|                    Brooklyn|          40.68585|          -73.8725|   Private room|           2|        1 bath|    null|   2|[\"Private entranc...|$163.00|             5|          1125|               t|               11|                    8|                     1|  2022-01-25| 2023-08-11|                4.73|                   5.0|                     4.64|                 4.73|                       4.73|                  4.27|               4.45|                             4|             0.56|\n",
            "+------------------+--------------------+--------------------+---------+--------------------+---------------+----------+-----------------+-------------------+-------------------------+----------------------+----------------------------+------------------+------------------+---------------+------------+--------------+--------+----+--------------------+-------+--------------+--------------+----------------+-----------------+---------------------+----------------------+------------+-----------+--------------------+----------------------+-------------------------+---------------------+---------------------------+----------------------+-------------------+------------------------------+-----------------+\n",
            "only showing top 20 rows\n",
            "\n"
          ]
        }
      ],
      "source": [
        "# Define a UDF to perform the amenities replacement\n",
        "def replace_amenities(amenities):\n",
        "    amenities_list = json.loads(amenities)\n",
        "    for i, amenity in enumerate(amenities_list):\n",
        "        for amenity_to_replace in amenities_to_replace:\n",
        "            if amenity_to_replace.lower() in amenity.lower():\n",
        "                amenities_list[i] = amenity_to_replace\n",
        "    return json.dumps(amenities_list)\n",
        "\n",
        "# Register the UDF\n",
        "replace_amenities_udf = udf(replace_amenities, StringType())\n",
        "\n",
        "# Apply the UDF to replace amenities\n",
        "amenities_replaced_df = amenities_replaced_df.withColumn('amenities', replace_amenities_udf('amenities'))\n",
        "\n",
        "# Print or display the modified DataFrame\n",
        "amenities_replaced_df.show()"
      ]
    },
    {
      "cell_type": "code",
      "execution_count": 174,
      "metadata": {
        "colab": {
          "base_uri": "https://localhost:8080/"
        },
        "id": "5MjBTuDdcs83",
        "outputId": "ba85acb8-bd50-412c-be33-7337e1b31d8a"
      },
      "outputs": [
        {
          "name": "stdout",
          "output_type": "stream",
          "text": [
            "+------------------+--------------------+--------------------+---------+--------------------+---------------+----------+-----------------+-------------------+-------------------------+----------------------+----------------------------+------------------+------------------+---------------+------------+--------------+--------+----+--------------------+-------+--------------+--------------+----------------+-----------------+---------------------+----------------------+------------+-----------+--------------------+----------------------+-------------------------+---------------------+---------------------------+----------------------+-------------------+------------------------------+-----------------+\n",
            "|        listing_id|         listing_url|                name|  host_id|            host_url|      host_name|host_since|host_is_superhost|host_listings_count|host_total_listings_count|neighbourhood_cleansed|neighbourhood_group_cleansed|          latitude|         longitude|      room_type|accommodates|bathrooms_text|bedrooms|beds|           amenities|  price|minimum_nights|maximum_nights|has_availability|number_of_reviews|number_of_reviews_ltm|number_of_reviews_l30d|first_review|last_review|review_scores_rating|review_scores_accuracy|review_scores_cleanliness|review_scores_checkin|review_scores_communication|review_scores_location|review_scores_value|calculated_host_listings_count|reviews_per_month|\n",
            "+------------------+--------------------+--------------------+---------+--------------------+---------------+----------+-----------------+-------------------+-------------------------+----------------------+----------------------------+------------------+------------------+---------------+------------+--------------+--------+----+--------------------+-------+--------------+--------------+----------------+-----------------+---------------------+----------------------+------------+-----------+--------------------+----------------------+-------------------------+---------------------+---------------------------+----------------------+-------------------+------------------------------+-----------------+\n",
            "|          52702018|https://www.airbn...|Rental unit in Qu...| 93231383|https://www.airbn...|         Daniel|2016-09-03|                t|                  3|                        3|         East Elmhurst|                      Queens|          40.76911|         -73.87053|Entire home/apt|           4|        1 bath|       1|   2|[\"Private entranc...|$171.00|             1|          1125|               t|              188|                   88|                     6|  2021-11-14| 2023-08-21|                 4.9|                  4.95|                      4.9|                 4.95|                       4.94|                  4.85|               4.87|                             3|             8.53|\n",
            "|784969376930125242|https://www.airbn...|Home in Queens · ...| 93231383|https://www.airbn...|         Daniel|2016-09-03|                t|                  3|                        3|         East Elmhurst|                      Queens|40.768175708747755|-73.87126330286264|Entire home/apt|           7|        1 bath|       3|   4|[\"Private entranc...|$311.00|            30|           365|               t|               38|                   38|                     1|  2022-12-25| 2023-08-15|                4.97|                  4.97|                     4.97|                 4.95|                       4.95|                  4.84|               4.87|                             3|             4.47|\n",
            "|           9919728|https://www.airbn...|Townhouse in Quee...| 50997424|https://www.airbn...|           Mark|2015-12-10|                f|                 10|                       10|        Middle Village|                      Queens|          40.71734|         -73.87805|Entire home/apt|          12|        1 bath|       3|   7|[\"Kitchen\", \"Drye...|$328.00|            30|          1125|               t|                8|                    0|                     0|  2016-04-01| 2020-02-18|                4.33|                  4.17|                     4.33|                 4.83|                       4.67|                  4.83|               4.33|                             7|             0.09|\n",
            "|          53696990|https://www.airbn...|Vacation home in ...| 50997424|https://www.airbn...|           Mark|2015-12-10|                f|                 10|                       10|        Middle Village|                      Queens|          40.71726|         -73.87628|Entire home/apt|           4|        1 bath|    null|   2|[\"Kitchen\", \"Refr...|$139.00|            30|           365|               t|                1|                    1|                     0|  2022-09-16| 2022-09-16|                 4.0|                   4.0|                      3.0|                  5.0|                        4.0|                   5.0|                3.0|                             7|             0.08|\n",
            "|           9920363|https://www.airbn...|Townhouse in Quee...| 50997424|https://www.airbn...|           Mark|2015-12-10|                f|                 10|                       10|             Ridgewood|                      Queens|          40.70465|         -73.89909|Entire home/apt|          16|     2.5 baths|       5|  11|[\"Hot water\", \"Ai...|$485.00|            30|          1125|               t|                8|                    0|                     0|  2016-05-08| 2020-01-01|                4.25|                  4.25|                     3.75|                 4.75|                        4.0|                  4.75|                4.5|                             7|             0.09|\n",
            "|556960737995069310|https://www.airbn...|Rental unit in Qu...| 50997424|https://www.airbn...|           Mark|2015-12-10|                f|                 10|                       10|             Ridgewood|                      Queens|          40.70317|         -73.89949|Entire home/apt|           6|        1 bath|       2|   4|[\"Air conditionin...|$242.00|            30|           365|               t|                3|                    3|                     0|  2022-10-06| 2023-04-24|                 5.0|                   5.0|                     4.33|                  5.0|                        5.0|                  4.67|               4.67|                             7|             0.27|\n",
            "|          54395062|https://www.airbn...|Vacation home in ...| 50997424|https://www.airbn...|           Mark|2015-12-10|                f|                 10|                       10|             Ridgewood|                      Queens|          40.70453|         -73.89898|Entire home/apt|           6|        1 bath|       2|   4|[\"Air conditionin...|$245.00|            30|           365|               t|                3|                    2|                     1|  2022-08-14| 2023-08-20|                4.67|                  4.67|                     4.67|                  5.0|                        5.0|                   5.0|               4.33|                             7|             0.23|\n",
            "|          40322951|https://www.airbn...|Home in Brooklyn ...|297311545|https://www.airbn...|        Uchenna|2019-09-23|                f|                  3|                        4|         East Flatbush|                    Brooklyn|          40.65409|         -73.94569|   Private room|           1| 1 shared bath|    null|   1|[\"Private entranc...| $43.00|            30|           120|               t|                6|                    0|                     0|  2020-01-03| 2022-05-06|                4.67|                  4.67|                     4.33|                 4.67|                       4.67|                   4.5|               4.33|                             3|             0.13|\n",
            "|          40195034|https://www.airbn...|Home in Brooklyn ...|297311545|https://www.airbn...|        Uchenna|2019-09-23|                f|                  3|                        4|         East Flatbush|                    Brooklyn|          40.65229|         -73.94556|   Private room|           1|1 private bath|    null|   1|[\"Private entranc...| $49.00|            30|           120|               t|                4|                    0|                     0|  2020-01-02| 2022-03-03|                3.75|                   4.0|                      3.5|                  4.0|                        4.0|                   4.0|               3.75|                             3|             0.09|\n",
            "|          39898950|https://www.airbn...|Home in Brooklyn ...|297311545|https://www.airbn...|        Uchenna|2019-09-23|                f|                  3|                        4|         East Flatbush|                    Brooklyn|          40.65248|         -73.94584|   Private room|           1|     1.5 baths|    null|   1|[\"Private entranc...| $45.00|            30|           120|               t|                8|                    0|                     0|  2020-01-13| 2021-10-26|                3.63|                   4.0|                     3.25|                 4.38|                       4.25|                  4.13|               3.63|                             3|             0.18|\n",
            "|          31717837|https://www.airbn...|Home in Brooklyn ...|234174616|https://www.airbn...|          Onika|2019-01-03|                f|                  1|                        1|         East New York|                    Brooklyn|           40.6716|         -73.88797|Entire home/apt|           2|        1 bath|       2|   3|[\"Private entranc...|$110.00|            30|            60|               t|                7|                    0|                     0|  2019-10-31| 2022-09-01|                 5.0|                   5.0|                      5.0|                  5.0|                        5.0|                  4.86|                5.0|                             1|             0.15|\n",
            "|823518066022552352|https://www.airbn...|Rental unit in Qu...|500407084|https://www.airbn...|       Giuseppe|2023-02-10|                t|                  1|                        1|            Ozone Park|                      Queens| 40.67227235266577|-73.84795230422972|Entire home/apt|           3|        1 bath|       1|   1|[\"Paid dryer \\u20...|$129.00|             1|           365|               t|               54|                   54|                     3|  2023-02-15| 2023-08-31|                4.94|                  4.93|                     4.87|                 4.91|                       4.96|                  4.69|               4.87|                             1|             7.98|\n",
            "|722463449063098611|https://www.airbn...|Home in Queens · ...|141645843|https://www.airbn...|G'S Vacay Spots|2017-07-21|                f|                  2|                        9|               Jamaica|                      Queens|        40.6820373|       -73.7968162|   Private room|           4| 1 shared bath|    null|   1|[\"Hot water\", \"Sh...|$110.00|             1|           365|               t|               25|                   25|                     0|  2022-10-02| 2023-07-12|                4.88|                   4.8|                     4.72|                 4.96|                       4.96|                  4.88|                4.8|                             2|             2.21|\n",
            "|          33102485|https://www.airbn...|Home in Jamaica ·...|141645843|https://www.airbn...|G'S Vacay Spots|2017-07-21|                f|                  2|                        9|               Jamaica|                      Queens|         40.682037|        -73.796814|   Private room|           3| 1 shared bath|       1|   1|[\"Hot water\", \"Sh...| $84.00|             1|          1125|               t|              114|                   42|                     0|  2019-03-31| 2023-07-23|                4.64|                  4.66|                     4.51|                 4.82|                       4.78|                  4.64|               4.54|                             2|             2.11|\n",
            "|          34907354|https://www.airbn...|Rental unit in Br...|246351353|https://www.airbn...|          Erica|2019-03-02|                t|                  1|                        8|  Prospect-Lefferts...|                    Brooklyn|          40.66289|         -73.95756|   Private room|           2| 1 shared bath|    null|   1|[\"Hot water\", \"Ha...| $68.00|             1|          1125|               t|               77|                   18|                     1|  2019-06-02| 2023-09-04|                4.73|                  4.82|                     4.73|                 4.79|                       4.87|                  4.75|               4.74|                             1|             1.48|\n",
            "|          18908638|https://www.airbn...|Townhouse in Broo...| 20438455|https://www.airbn...|          Jason|2014-08-23|                t|                  2|                        2|          Borough Park|                    Brooklyn|          40.63904|         -73.98103|   Private room|           1| 1 shared bath|    null|   1|[\"Hot water\", \"Ai...| $48.00|             2|            28|               t|              191|                   30|                     6|  2017-06-11| 2023-09-01|                4.87|                  4.87|                     4.91|                 4.94|                       4.93|                  4.63|               4.88|                             2|             2.52|\n",
            "|          18473439|https://www.airbn...|Townhouse in Broo...| 20438455|https://www.airbn...|          Jason|2014-08-23|                t|                  2|                        2|          Borough Park|                    Brooklyn|          40.63955|         -73.98251|   Private room|           1| 1 shared bath|    null|   1|[\"Hot water\", \"Ha...| $48.00|             2|            28|               t|              208|                   25|                     7|  2017-05-16| 2023-09-02|                4.86|                  4.88|                     4.88|                  4.9|                       4.92|                   4.6|               4.83|                             2|             2.71|\n",
            "|539865017663194156|https://www.airbn...|casa particular i...|413243090|https://www.airbn...|         Amalia|2021-07-16|                t|                  4|                        4|         Cypress Hills|                    Brooklyn|          40.68713|         -73.87454|   Private room|           2|        1 bath|    null|   2|[\"Private entranc...|$163.00|             5|          1125|               t|               23|                   15|                     0|  2022-03-21| 2023-08-05|                4.91|                  4.91|                     4.96|                 4.91|                       4.96|                   4.7|               4.83|                             4|             1.29|\n",
            "|          51939606|https://www.airbn...|casa particular i...|413243090|https://www.airbn...|         Amalia|2021-07-16|                t|                  4|                        4|         Cypress Hills|                    Brooklyn|          40.68711|         -73.87407|   Private room|           2|1 private bath|    null|   2|[\"Private entranc...|$166.00|             5|           365|               t|               33|                   16|                     0|  2021-09-06| 2023-06-09|                4.88|                  4.91|                     4.88|                 4.88|                       4.91|                  4.18|               4.82|                             4|             1.36|\n",
            "|539084025529334382|https://www.airbn...|casa particular i...|413243090|https://www.airbn...|         Amalia|2021-07-16|                t|                  4|                        4|         Cypress Hills|                    Brooklyn|          40.68585|          -73.8725|   Private room|           2|        1 bath|    null|   2|[\"Private entranc...|$163.00|             5|          1125|               t|               11|                    8|                     1|  2022-01-25| 2023-08-11|                4.73|                   5.0|                     4.64|                 4.73|                       4.73|                  4.27|               4.45|                             4|             0.56|\n",
            "+------------------+--------------------+--------------------+---------+--------------------+---------------+----------+-----------------+-------------------+-------------------------+----------------------+----------------------------+------------------+------------------+---------------+------------+--------------+--------+----+--------------------+-------+--------------+--------------+----------------+-----------------+---------------------+----------------------+------------+-----------+--------------------+----------------------+-------------------------+---------------------+---------------------------+----------------------+-------------------+------------------------------+-----------------+\n",
            "only showing top 20 rows\n",
            "\n"
          ]
        }
      ],
      "source": [
        "# Define the string to find and the string to replace it with\n",
        "string_to_find = \"AC \"\n",
        "replacement_string = \"Air conditioning\"\n",
        "\n",
        "# Define a UDF to perform the string replacement\n",
        "def replace_string(amenities):\n",
        "    amenities_list = json.loads(amenities)\n",
        "    for i, amenity in enumerate(amenities_list):\n",
        "        if string_to_find.lower() in amenity.lower():\n",
        "            amenities_list[i] = replacement_string\n",
        "    return json.dumps(amenities_list)\n",
        "\n",
        "# Register the UDF\n",
        "replace_string_udf = udf(replace_string, StringType())\n",
        "\n",
        "# Apply the UDF to replace strings\n",
        "amenities_replaced_df = amenities_replaced_df.withColumn('amenities', replace_string_udf('amenities'))\n",
        "\n",
        "# Print or display the modified DataFrame\n",
        "amenities_replaced_df.show()"
      ]
    },
    {
      "cell_type": "code",
      "execution_count": 175,
      "metadata": {
        "colab": {
          "base_uri": "https://localhost:8080/"
        },
        "id": "bzSRw6XKcypJ",
        "outputId": "67c6f5a7-bbcc-4050-d07e-b52a0c063ec0"
      },
      "outputs": [
        {
          "name": "stdout",
          "output_type": "stream",
          "text": [
            "+------------------+--------------------+--------------------+---------+--------------------+---------------+----------+-----------------+-------------------+-------------------------+----------------------+----------------------------+------------------+------------------+---------------+------------+--------------+--------+----+--------------------+-------+--------------+--------------+----------------+-----------------+---------------------+----------------------+------------+-----------+--------------------+----------------------+-------------------------+---------------------+---------------------------+----------------------+-------------------+------------------------------+-----------------+\n",
            "|        listing_id|         listing_url|                name|  host_id|            host_url|      host_name|host_since|host_is_superhost|host_listings_count|host_total_listings_count|neighbourhood_cleansed|neighbourhood_group_cleansed|          latitude|         longitude|      room_type|accommodates|bathrooms_text|bedrooms|beds|           amenities|  price|minimum_nights|maximum_nights|has_availability|number_of_reviews|number_of_reviews_ltm|number_of_reviews_l30d|first_review|last_review|review_scores_rating|review_scores_accuracy|review_scores_cleanliness|review_scores_checkin|review_scores_communication|review_scores_location|review_scores_value|calculated_host_listings_count|reviews_per_month|\n",
            "+------------------+--------------------+--------------------+---------+--------------------+---------------+----------+-----------------+-------------------+-------------------------+----------------------+----------------------------+------------------+------------------+---------------+------------+--------------+--------+----+--------------------+-------+--------------+--------------+----------------+-----------------+---------------------+----------------------+------------+-----------+--------------------+----------------------+-------------------------+---------------------+---------------------------+----------------------+-------------------+------------------------------+-----------------+\n",
            "|          52702018|https://www.airbn...|Rental unit in Qu...| 93231383|https://www.airbn...|         Daniel|2016-09-03|                t|                  3|                        3|         East Elmhurst|                      Queens|          40.76911|         -73.87053|Entire home/apt|           4|        1 bath|       1|   2|[\"Private entranc...|$171.00|             1|          1125|               t|              188|                   88|                     6|  2021-11-14| 2023-08-21|                 4.9|                  4.95|                      4.9|                 4.95|                       4.94|                  4.85|               4.87|                             3|             8.53|\n",
            "|784969376930125242|https://www.airbn...|Home in Queens · ...| 93231383|https://www.airbn...|         Daniel|2016-09-03|                t|                  3|                        3|         East Elmhurst|                      Queens|40.768175708747755|-73.87126330286264|Entire home/apt|           7|        1 bath|       3|   4|[\"Private entranc...|$311.00|            30|           365|               t|               38|                   38|                     1|  2022-12-25| 2023-08-15|                4.97|                  4.97|                     4.97|                 4.95|                       4.95|                  4.84|               4.87|                             3|             4.47|\n",
            "|           9919728|https://www.airbn...|Townhouse in Quee...| 50997424|https://www.airbn...|           Mark|2015-12-10|                f|                 10|                       10|        Middle Village|                      Queens|          40.71734|         -73.87805|Entire home/apt|          12|        1 bath|       3|   7|[\"Kitchen\", \"Drye...|$328.00|            30|          1125|               t|                8|                    0|                     0|  2016-04-01| 2020-02-18|                4.33|                  4.17|                     4.33|                 4.83|                       4.67|                  4.83|               4.33|                             7|             0.09|\n",
            "|          53696990|https://www.airbn...|Vacation home in ...| 50997424|https://www.airbn...|           Mark|2015-12-10|                f|                 10|                       10|        Middle Village|                      Queens|          40.71726|         -73.87628|Entire home/apt|           4|        1 bath|    null|   2|[\"Kitchen\", \"Refr...|$139.00|            30|           365|               t|                1|                    1|                     0|  2022-09-16| 2022-09-16|                 4.0|                   4.0|                      3.0|                  5.0|                        4.0|                   5.0|                3.0|                             7|             0.08|\n",
            "|           9920363|https://www.airbn...|Townhouse in Quee...| 50997424|https://www.airbn...|           Mark|2015-12-10|                f|                 10|                       10|             Ridgewood|                      Queens|          40.70465|         -73.89909|Entire home/apt|          16|     2.5 baths|       5|  11|[\"Hot water\", \"Ai...|$485.00|            30|          1125|               t|                8|                    0|                     0|  2016-05-08| 2020-01-01|                4.25|                  4.25|                     3.75|                 4.75|                        4.0|                  4.75|                4.5|                             7|             0.09|\n",
            "|556960737995069310|https://www.airbn...|Rental unit in Qu...| 50997424|https://www.airbn...|           Mark|2015-12-10|                f|                 10|                       10|             Ridgewood|                      Queens|          40.70317|         -73.89949|Entire home/apt|           6|        1 bath|       2|   4|[\"Air conditionin...|$242.00|            30|           365|               t|                3|                    3|                     0|  2022-10-06| 2023-04-24|                 5.0|                   5.0|                     4.33|                  5.0|                        5.0|                  4.67|               4.67|                             7|             0.27|\n",
            "|          54395062|https://www.airbn...|Vacation home in ...| 50997424|https://www.airbn...|           Mark|2015-12-10|                f|                 10|                       10|             Ridgewood|                      Queens|          40.70453|         -73.89898|Entire home/apt|           6|        1 bath|       2|   4|[\"Air conditionin...|$245.00|            30|           365|               t|                3|                    2|                     1|  2022-08-14| 2023-08-20|                4.67|                  4.67|                     4.67|                  5.0|                        5.0|                   5.0|               4.33|                             7|             0.23|\n",
            "|          40322951|https://www.airbn...|Home in Brooklyn ...|297311545|https://www.airbn...|        Uchenna|2019-09-23|                f|                  3|                        4|         East Flatbush|                    Brooklyn|          40.65409|         -73.94569|   Private room|           1| 1 shared bath|    null|   1|[\"Private entranc...| $43.00|            30|           120|               t|                6|                    0|                     0|  2020-01-03| 2022-05-06|                4.67|                  4.67|                     4.33|                 4.67|                       4.67|                   4.5|               4.33|                             3|             0.13|\n",
            "|          40195034|https://www.airbn...|Home in Brooklyn ...|297311545|https://www.airbn...|        Uchenna|2019-09-23|                f|                  3|                        4|         East Flatbush|                    Brooklyn|          40.65229|         -73.94556|   Private room|           1|1 private bath|    null|   1|[\"Private entranc...| $49.00|            30|           120|               t|                4|                    0|                     0|  2020-01-02| 2022-03-03|                3.75|                   4.0|                      3.5|                  4.0|                        4.0|                   4.0|               3.75|                             3|             0.09|\n",
            "|          39898950|https://www.airbn...|Home in Brooklyn ...|297311545|https://www.airbn...|        Uchenna|2019-09-23|                f|                  3|                        4|         East Flatbush|                    Brooklyn|          40.65248|         -73.94584|   Private room|           1|     1.5 baths|    null|   1|[\"Private entranc...| $45.00|            30|           120|               t|                8|                    0|                     0|  2020-01-13| 2021-10-26|                3.63|                   4.0|                     3.25|                 4.38|                       4.25|                  4.13|               3.63|                             3|             0.18|\n",
            "|          31717837|https://www.airbn...|Home in Brooklyn ...|234174616|https://www.airbn...|          Onika|2019-01-03|                f|                  1|                        1|         East New York|                    Brooklyn|           40.6716|         -73.88797|Entire home/apt|           2|        1 bath|       2|   3|[\"Private entranc...|$110.00|            30|            60|               t|                7|                    0|                     0|  2019-10-31| 2022-09-01|                 5.0|                   5.0|                      5.0|                  5.0|                        5.0|                  4.86|                5.0|                             1|             0.15|\n",
            "|823518066022552352|https://www.airbn...|Rental unit in Qu...|500407084|https://www.airbn...|       Giuseppe|2023-02-10|                t|                  1|                        1|            Ozone Park|                      Queens| 40.67227235266577|-73.84795230422972|Entire home/apt|           3|        1 bath|       1|   1|[\"Paid dryer \\u20...|$129.00|             1|           365|               t|               54|                   54|                     3|  2023-02-15| 2023-08-31|                4.94|                  4.93|                     4.87|                 4.91|                       4.96|                  4.69|               4.87|                             1|             7.98|\n",
            "|722463449063098611|https://www.airbn...|Home in Queens · ...|141645843|https://www.airbn...|G'S Vacay Spots|2017-07-21|                f|                  2|                        9|               Jamaica|                      Queens|        40.6820373|       -73.7968162|   Private room|           4| 1 shared bath|    null|   1|[\"Hot water\", \"Sh...|$110.00|             1|           365|               t|               25|                   25|                     0|  2022-10-02| 2023-07-12|                4.88|                   4.8|                     4.72|                 4.96|                       4.96|                  4.88|                4.8|                             2|             2.21|\n",
            "|          33102485|https://www.airbn...|Home in Jamaica ·...|141645843|https://www.airbn...|G'S Vacay Spots|2017-07-21|                f|                  2|                        9|               Jamaica|                      Queens|         40.682037|        -73.796814|   Private room|           3| 1 shared bath|       1|   1|[\"Hot water\", \"Sh...| $84.00|             1|          1125|               t|              114|                   42|                     0|  2019-03-31| 2023-07-23|                4.64|                  4.66|                     4.51|                 4.82|                       4.78|                  4.64|               4.54|                             2|             2.11|\n",
            "|          34907354|https://www.airbn...|Rental unit in Br...|246351353|https://www.airbn...|          Erica|2019-03-02|                t|                  1|                        8|  Prospect-Lefferts...|                    Brooklyn|          40.66289|         -73.95756|   Private room|           2| 1 shared bath|    null|   1|[\"Hot water\", \"Ha...| $68.00|             1|          1125|               t|               77|                   18|                     1|  2019-06-02| 2023-09-04|                4.73|                  4.82|                     4.73|                 4.79|                       4.87|                  4.75|               4.74|                             1|             1.48|\n",
            "|          18908638|https://www.airbn...|Townhouse in Broo...| 20438455|https://www.airbn...|          Jason|2014-08-23|                t|                  2|                        2|          Borough Park|                    Brooklyn|          40.63904|         -73.98103|   Private room|           1| 1 shared bath|    null|   1|[\"Hot water\", \"Ai...| $48.00|             2|            28|               t|              191|                   30|                     6|  2017-06-11| 2023-09-01|                4.87|                  4.87|                     4.91|                 4.94|                       4.93|                  4.63|               4.88|                             2|             2.52|\n",
            "|          18473439|https://www.airbn...|Townhouse in Broo...| 20438455|https://www.airbn...|          Jason|2014-08-23|                t|                  2|                        2|          Borough Park|                    Brooklyn|          40.63955|         -73.98251|   Private room|           1| 1 shared bath|    null|   1|[\"Hot water\", \"Ha...| $48.00|             2|            28|               t|              208|                   25|                     7|  2017-05-16| 2023-09-02|                4.86|                  4.88|                     4.88|                  4.9|                       4.92|                   4.6|               4.83|                             2|             2.71|\n",
            "|539865017663194156|https://www.airbn...|casa particular i...|413243090|https://www.airbn...|         Amalia|2021-07-16|                t|                  4|                        4|         Cypress Hills|                    Brooklyn|          40.68713|         -73.87454|   Private room|           2|        1 bath|    null|   2|[\"Private entranc...|$163.00|             5|          1125|               t|               23|                   15|                     0|  2022-03-21| 2023-08-05|                4.91|                  4.91|                     4.96|                 4.91|                       4.96|                   4.7|               4.83|                             4|             1.29|\n",
            "|          51939606|https://www.airbn...|casa particular i...|413243090|https://www.airbn...|         Amalia|2021-07-16|                t|                  4|                        4|         Cypress Hills|                    Brooklyn|          40.68711|         -73.87407|   Private room|           2|1 private bath|    null|   2|[\"Private entranc...|$166.00|             5|           365|               t|               33|                   16|                     0|  2021-09-06| 2023-06-09|                4.88|                  4.91|                     4.88|                 4.88|                       4.91|                  4.18|               4.82|                             4|             1.36|\n",
            "|539084025529334382|https://www.airbn...|casa particular i...|413243090|https://www.airbn...|         Amalia|2021-07-16|                t|                  4|                        4|         Cypress Hills|                    Brooklyn|          40.68585|          -73.8725|   Private room|           2|        1 bath|    null|   2|[\"Private entranc...|$163.00|             5|          1125|               t|               11|                    8|                     1|  2022-01-25| 2023-08-11|                4.73|                   5.0|                     4.64|                 4.73|                       4.73|                  4.27|               4.45|                             4|             0.56|\n",
            "+------------------+--------------------+--------------------+---------+--------------------+---------------+----------+-----------------+-------------------+-------------------------+----------------------+----------------------------+------------------+------------------+---------------+------------+--------------+--------+----+--------------------+-------+--------------+--------------+----------------+-----------------+---------------------+----------------------+------------+-----------+--------------------+----------------------+-------------------------+---------------------+---------------------------+----------------------+-------------------+------------------------------+-----------------+\n",
            "only showing top 20 rows\n",
            "\n"
          ]
        }
      ],
      "source": [
        "# Create a copy of the DataFrame\n",
        "amenities_cleaned_df = amenities_replaced_df.select('*')\n",
        "\n",
        "# Define a UDF to perform the amenities cleaning\n",
        "def clean_amenities(amenities):\n",
        "    amenities_list = json.loads(amenities)\n",
        "    for i, amenity in enumerate(amenities_list):\n",
        "        # Split amenity at colon, if present\n",
        "        amenity_parts = amenity.split(':')\n",
        "\n",
        "        # Take the first part as the cleaned amenity (remove characters after colon)\n",
        "        cleaned_amenity = amenity_parts[0].strip()\n",
        "\n",
        "        # Update the amenities list\n",
        "        amenities_list[i] = cleaned_amenity\n",
        "\n",
        "    return json.dumps(amenities_list)\n",
        "\n",
        "# Register the UDF\n",
        "clean_amenities_udf = udf(clean_amenities, StringType())\n",
        "\n",
        "# Apply the UDF to clean amenities\n",
        "amenities_cleaned_df = amenities_cleaned_df.withColumn('amenities', clean_amenities_udf('amenities'))\n",
        "\n",
        "# Print or display the modified DataFrame\n",
        "amenities_cleaned_df.show()"
      ]
    },
    {
      "cell_type": "code",
      "execution_count": 176,
      "metadata": {
        "colab": {
          "base_uri": "https://localhost:8080/"
        },
        "id": "O5cQ04hCc84G",
        "outputId": "7edff7f7-55a2-463c-af99-085a2295ec6a"
      },
      "outputs": [
        {
          "name": "stdout",
          "output_type": "stream",
          "text": [
            "+------------------+--------------------+--------------------+---------+--------------------+---------------+----------+-----------------+-------------------+-------------------------+----------------------+----------------------------+------------------+------------------+---------------+------------+--------------+--------+----+--------------------+-------+--------------+--------------+----------------+-----------------+---------------------+----------------------+------------+-----------+--------------------+----------------------+-------------------------+---------------------+---------------------------+----------------------+-------------------+------------------------------+-----------------+\n",
            "|        listing_id|         listing_url|                name|  host_id|            host_url|      host_name|host_since|host_is_superhost|host_listings_count|host_total_listings_count|neighbourhood_cleansed|neighbourhood_group_cleansed|          latitude|         longitude|      room_type|accommodates|bathrooms_text|bedrooms|beds|           amenities|  price|minimum_nights|maximum_nights|has_availability|number_of_reviews|number_of_reviews_ltm|number_of_reviews_l30d|first_review|last_review|review_scores_rating|review_scores_accuracy|review_scores_cleanliness|review_scores_checkin|review_scores_communication|review_scores_location|review_scores_value|calculated_host_listings_count|reviews_per_month|\n",
            "+------------------+--------------------+--------------------+---------+--------------------+---------------+----------+-----------------+-------------------+-------------------------+----------------------+----------------------------+------------------+------------------+---------------+------------+--------------+--------+----+--------------------+-------+--------------+--------------+----------------+-----------------+---------------------+----------------------+------------+-----------+--------------------+----------------------+-------------------------+---------------------+---------------------------+----------------------+-------------------+------------------------------+-----------------+\n",
            "|          52702018|https://www.airbn...|Rental unit in Qu...| 93231383|https://www.airbn...|         Daniel|2016-09-03|                t|                  3|                        3|         East Elmhurst|                      Queens|          40.76911|         -73.87053|Entire home/apt|           4|        1 bath|       1|   2|[\"Private entranc...|$171.00|             1|          1125|               t|              188|                   88|                     6|  2021-11-14| 2023-08-21|                 4.9|                  4.95|                      4.9|                 4.95|                       4.94|                  4.85|               4.87|                             3|             8.53|\n",
            "|784969376930125242|https://www.airbn...|Home in Queens · ...| 93231383|https://www.airbn...|         Daniel|2016-09-03|                t|                  3|                        3|         East Elmhurst|                      Queens|40.768175708747755|-73.87126330286264|Entire home/apt|           7|        1 bath|       3|   4|[\"Private entranc...|$311.00|            30|           365|               t|               38|                   38|                     1|  2022-12-25| 2023-08-15|                4.97|                  4.97|                     4.97|                 4.95|                       4.95|                  4.84|               4.87|                             3|             4.47|\n",
            "|           9919728|https://www.airbn...|Townhouse in Quee...| 50997424|https://www.airbn...|           Mark|2015-12-10|                f|                 10|                       10|        Middle Village|                      Queens|          40.71734|         -73.87805|Entire home/apt|          12|        1 bath|       3|   7|[\"Kitchen\", \"Drye...|$328.00|            30|          1125|               t|                8|                    0|                     0|  2016-04-01| 2020-02-18|                4.33|                  4.17|                     4.33|                 4.83|                       4.67|                  4.83|               4.33|                             7|             0.09|\n",
            "|          53696990|https://www.airbn...|Vacation home in ...| 50997424|https://www.airbn...|           Mark|2015-12-10|                f|                 10|                       10|        Middle Village|                      Queens|          40.71726|         -73.87628|Entire home/apt|           4|        1 bath|    null|   2|[\"Kitchen\", \"Refr...|$139.00|            30|           365|               t|                1|                    1|                     0|  2022-09-16| 2022-09-16|                 4.0|                   4.0|                      3.0|                  5.0|                        4.0|                   5.0|                3.0|                             7|             0.08|\n",
            "|           9920363|https://www.airbn...|Townhouse in Quee...| 50997424|https://www.airbn...|           Mark|2015-12-10|                f|                 10|                       10|             Ridgewood|                      Queens|          40.70465|         -73.89909|Entire home/apt|          16|     2.5 baths|       5|  11|[\"Hot water\", \"Ai...|$485.00|            30|          1125|               t|                8|                    0|                     0|  2016-05-08| 2020-01-01|                4.25|                  4.25|                     3.75|                 4.75|                        4.0|                  4.75|                4.5|                             7|             0.09|\n",
            "|556960737995069310|https://www.airbn...|Rental unit in Qu...| 50997424|https://www.airbn...|           Mark|2015-12-10|                f|                 10|                       10|             Ridgewood|                      Queens|          40.70317|         -73.89949|Entire home/apt|           6|        1 bath|       2|   4|[\"Air conditionin...|$242.00|            30|           365|               t|                3|                    3|                     0|  2022-10-06| 2023-04-24|                 5.0|                   5.0|                     4.33|                  5.0|                        5.0|                  4.67|               4.67|                             7|             0.27|\n",
            "|          54395062|https://www.airbn...|Vacation home in ...| 50997424|https://www.airbn...|           Mark|2015-12-10|                f|                 10|                       10|             Ridgewood|                      Queens|          40.70453|         -73.89898|Entire home/apt|           6|        1 bath|       2|   4|[\"Air conditionin...|$245.00|            30|           365|               t|                3|                    2|                     1|  2022-08-14| 2023-08-20|                4.67|                  4.67|                     4.67|                  5.0|                        5.0|                   5.0|               4.33|                             7|             0.23|\n",
            "|          40322951|https://www.airbn...|Home in Brooklyn ...|297311545|https://www.airbn...|        Uchenna|2019-09-23|                f|                  3|                        4|         East Flatbush|                    Brooklyn|          40.65409|         -73.94569|   Private room|           1| 1 shared bath|    null|   1|[\"Private entranc...| $43.00|            30|           120|               t|                6|                    0|                     0|  2020-01-03| 2022-05-06|                4.67|                  4.67|                     4.33|                 4.67|                       4.67|                   4.5|               4.33|                             3|             0.13|\n",
            "|          40195034|https://www.airbn...|Home in Brooklyn ...|297311545|https://www.airbn...|        Uchenna|2019-09-23|                f|                  3|                        4|         East Flatbush|                    Brooklyn|          40.65229|         -73.94556|   Private room|           1|1 private bath|    null|   1|[\"Private entranc...| $49.00|            30|           120|               t|                4|                    0|                     0|  2020-01-02| 2022-03-03|                3.75|                   4.0|                      3.5|                  4.0|                        4.0|                   4.0|               3.75|                             3|             0.09|\n",
            "|          39898950|https://www.airbn...|Home in Brooklyn ...|297311545|https://www.airbn...|        Uchenna|2019-09-23|                f|                  3|                        4|         East Flatbush|                    Brooklyn|          40.65248|         -73.94584|   Private room|           1|     1.5 baths|    null|   1|[\"Private entranc...| $45.00|            30|           120|               t|                8|                    0|                     0|  2020-01-13| 2021-10-26|                3.63|                   4.0|                     3.25|                 4.38|                       4.25|                  4.13|               3.63|                             3|             0.18|\n",
            "|          31717837|https://www.airbn...|Home in Brooklyn ...|234174616|https://www.airbn...|          Onika|2019-01-03|                f|                  1|                        1|         East New York|                    Brooklyn|           40.6716|         -73.88797|Entire home/apt|           2|        1 bath|       2|   3|[\"Private entranc...|$110.00|            30|            60|               t|                7|                    0|                     0|  2019-10-31| 2022-09-01|                 5.0|                   5.0|                      5.0|                  5.0|                        5.0|                  4.86|                5.0|                             1|             0.15|\n",
            "|823518066022552352|https://www.airbn...|Rental unit in Qu...|500407084|https://www.airbn...|       Giuseppe|2023-02-10|                t|                  1|                        1|            Ozone Park|                      Queens| 40.67227235266577|-73.84795230422972|Entire home/apt|           3|        1 bath|       1|   1|[\"Paid dryer \\u20...|$129.00|             1|           365|               t|               54|                   54|                     3|  2023-02-15| 2023-08-31|                4.94|                  4.93|                     4.87|                 4.91|                       4.96|                  4.69|               4.87|                             1|             7.98|\n",
            "|722463449063098611|https://www.airbn...|Home in Queens · ...|141645843|https://www.airbn...|G'S Vacay Spots|2017-07-21|                f|                  2|                        9|               Jamaica|                      Queens|        40.6820373|       -73.7968162|   Private room|           4| 1 shared bath|    null|   1|[\"Hot water\", \"Sh...|$110.00|             1|           365|               t|               25|                   25|                     0|  2022-10-02| 2023-07-12|                4.88|                   4.8|                     4.72|                 4.96|                       4.96|                  4.88|                4.8|                             2|             2.21|\n",
            "|          33102485|https://www.airbn...|Home in Jamaica ·...|141645843|https://www.airbn...|G'S Vacay Spots|2017-07-21|                f|                  2|                        9|               Jamaica|                      Queens|         40.682037|        -73.796814|   Private room|           3| 1 shared bath|       1|   1|[\"Hot water\", \"Sh...| $84.00|             1|          1125|               t|              114|                   42|                     0|  2019-03-31| 2023-07-23|                4.64|                  4.66|                     4.51|                 4.82|                       4.78|                  4.64|               4.54|                             2|             2.11|\n",
            "|          34907354|https://www.airbn...|Rental unit in Br...|246351353|https://www.airbn...|          Erica|2019-03-02|                t|                  1|                        8|  Prospect-Lefferts...|                    Brooklyn|          40.66289|         -73.95756|   Private room|           2| 1 shared bath|    null|   1|[\"Hot water\", \"Ha...| $68.00|             1|          1125|               t|               77|                   18|                     1|  2019-06-02| 2023-09-04|                4.73|                  4.82|                     4.73|                 4.79|                       4.87|                  4.75|               4.74|                             1|             1.48|\n",
            "|          18908638|https://www.airbn...|Townhouse in Broo...| 20438455|https://www.airbn...|          Jason|2014-08-23|                t|                  2|                        2|          Borough Park|                    Brooklyn|          40.63904|         -73.98103|   Private room|           1| 1 shared bath|    null|   1|[\"Hot water\", \"Ai...| $48.00|             2|            28|               t|              191|                   30|                     6|  2017-06-11| 2023-09-01|                4.87|                  4.87|                     4.91|                 4.94|                       4.93|                  4.63|               4.88|                             2|             2.52|\n",
            "|          18473439|https://www.airbn...|Townhouse in Broo...| 20438455|https://www.airbn...|          Jason|2014-08-23|                t|                  2|                        2|          Borough Park|                    Brooklyn|          40.63955|         -73.98251|   Private room|           1| 1 shared bath|    null|   1|[\"Hot water\", \"Ha...| $48.00|             2|            28|               t|              208|                   25|                     7|  2017-05-16| 2023-09-02|                4.86|                  4.88|                     4.88|                  4.9|                       4.92|                   4.6|               4.83|                             2|             2.71|\n",
            "|539865017663194156|https://www.airbn...|casa particular i...|413243090|https://www.airbn...|         Amalia|2021-07-16|                t|                  4|                        4|         Cypress Hills|                    Brooklyn|          40.68713|         -73.87454|   Private room|           2|        1 bath|    null|   2|[\"Private entranc...|$163.00|             5|          1125|               t|               23|                   15|                     0|  2022-03-21| 2023-08-05|                4.91|                  4.91|                     4.96|                 4.91|                       4.96|                   4.7|               4.83|                             4|             1.29|\n",
            "|          51939606|https://www.airbn...|casa particular i...|413243090|https://www.airbn...|         Amalia|2021-07-16|                t|                  4|                        4|         Cypress Hills|                    Brooklyn|          40.68711|         -73.87407|   Private room|           2|1 private bath|    null|   2|[\"Private entranc...|$166.00|             5|           365|               t|               33|                   16|                     0|  2021-09-06| 2023-06-09|                4.88|                  4.91|                     4.88|                 4.88|                       4.91|                  4.18|               4.82|                             4|             1.36|\n",
            "|539084025529334382|https://www.airbn...|casa particular i...|413243090|https://www.airbn...|         Amalia|2021-07-16|                t|                  4|                        4|         Cypress Hills|                    Brooklyn|          40.68585|          -73.8725|   Private room|           2|        1 bath|    null|   2|[\"Private entranc...|$163.00|             5|          1125|               t|               11|                    8|                     1|  2022-01-25| 2023-08-11|                4.73|                   5.0|                     4.64|                 4.73|                       4.73|                  4.27|               4.45|                             4|             0.56|\n",
            "+------------------+--------------------+--------------------+---------+--------------------+---------------+----------+-----------------+-------------------+-------------------------+----------------------+----------------------------+------------------+------------------+---------------+------------+--------------+--------+----+--------------------+-------+--------------+--------------+----------------+-----------------+---------------------+----------------------+------------+-----------+--------------------+----------------------+-------------------------+---------------------+---------------------------+----------------------+-------------------+------------------------------+-----------------+\n",
            "only showing top 20 rows\n",
            "\n"
          ]
        }
      ],
      "source": [
        "column_listings_df = amenities_cleaned_df\n",
        "column_listings_df.show()"
      ]
    },
    {
      "cell_type": "code",
      "execution_count": 177,
      "metadata": {
        "colab": {
          "base_uri": "https://localhost:8080/"
        },
        "id": "Q9N2Xg6GjeGI",
        "outputId": "3e226ca6-4f99-4276-876a-6c7de0f2abcb"
      },
      "outputs": [
        {
          "name": "stdout",
          "output_type": "stream",
          "text": [
            "+----------+----------+---------+-------+--------------+\n",
            "|listing_id|      date|available|  price|adjusted_price|\n",
            "+----------+----------+---------+-------+--------------+\n",
            "|      2595|2023-09-05|        t|$240.00|       $240.00|\n",
            "|      2595|2023-09-06|        t|$240.00|       $240.00|\n",
            "|      2595|2023-09-07|        t|$240.00|       $240.00|\n",
            "|      2595|2023-09-08|        t|$240.00|       $240.00|\n",
            "|      2595|2023-09-09|        t|$240.00|       $240.00|\n",
            "|      2595|2023-09-10|        t|$240.00|       $240.00|\n",
            "|      2595|2023-09-11|        t|$240.00|       $240.00|\n",
            "|      2595|2023-09-12|        t|$240.00|       $240.00|\n",
            "|      2595|2023-09-13|        t|$240.00|       $240.00|\n",
            "|      2595|2023-09-14|        t|$240.00|       $240.00|\n",
            "|      2595|2023-09-15|        t|$240.00|       $240.00|\n",
            "|      2595|2023-09-16|        t|$240.00|       $240.00|\n",
            "|      2595|2023-09-17|        t|$240.00|       $240.00|\n",
            "|      2595|2023-09-18|        t|$240.00|       $240.00|\n",
            "|      2595|2023-09-19|        t|$240.00|       $240.00|\n",
            "|      2595|2023-09-20|        t|$240.00|       $240.00|\n",
            "|      2595|2023-09-21|        t|$240.00|       $240.00|\n",
            "|      2595|2023-09-22|        t|$240.00|       $240.00|\n",
            "|      2595|2023-09-23|        t|$240.00|       $240.00|\n",
            "|      2595|2023-09-24|        t|$240.00|       $240.00|\n",
            "+----------+----------+---------+-------+--------------+\n",
            "only showing top 20 rows\n",
            "\n"
          ]
        }
      ],
      "source": [
        "column_calendars_df.show()"
      ]
    },
    {
      "cell_type": "code",
      "execution_count": 187,
      "metadata": {
        "colab": {
          "base_uri": "https://localhost:8080/"
        },
        "id": "n8ckg_aYRBXM",
        "outputId": "d806a04c-2038-4eb7-8a64-ee9bfacb832a"
      },
      "outputs": [
        {
          "name": "stdout",
          "output_type": "stream",
          "text": [
            "+----------+----------+---------+-----+--------------+\n",
            "|listing_id|      date|available|price|adjusted_price|\n",
            "+----------+----------+---------+-----+--------------+\n",
            "|      2595|2023-09-05|        t|240.0|         240.0|\n",
            "|      2595|2023-09-06|        t|240.0|         240.0|\n",
            "|      2595|2023-09-07|        t|240.0|         240.0|\n",
            "|      2595|2023-09-08|        t|240.0|         240.0|\n",
            "|      2595|2023-09-09|        t|240.0|         240.0|\n",
            "|      2595|2023-09-10|        t|240.0|         240.0|\n",
            "|      2595|2023-09-11|        t|240.0|         240.0|\n",
            "|      2595|2023-09-12|        t|240.0|         240.0|\n",
            "|      2595|2023-09-13|        t|240.0|         240.0|\n",
            "|      2595|2023-09-14|        t|240.0|         240.0|\n",
            "|      2595|2023-09-15|        t|240.0|         240.0|\n",
            "|      2595|2023-09-16|        t|240.0|         240.0|\n",
            "|      2595|2023-09-17|        t|240.0|         240.0|\n",
            "|      2595|2023-09-18|        t|240.0|         240.0|\n",
            "|      2595|2023-09-19|        t|240.0|         240.0|\n",
            "|      2595|2023-09-20|        t|240.0|         240.0|\n",
            "|      2595|2023-09-21|        t|240.0|         240.0|\n",
            "|      2595|2023-09-22|        t|240.0|         240.0|\n",
            "|      2595|2023-09-23|        t|240.0|         240.0|\n",
            "|      2595|2023-09-24|        t|240.0|         240.0|\n",
            "+----------+----------+---------+-----+--------------+\n",
            "only showing top 20 rows\n",
            "\n"
          ]
        }
      ],
      "source": [
        "from pyspark.sql import functions as F\n",
        "\n",
        "# Assuming column_calendars_df is your DataFrame\n",
        "# Remove dollar signs and convert price and adjusted_price to float\n",
        "clean_column_calendars_df = column_calendars_df.withColumn(\"price\",\n",
        "                                                     F.regexp_replace(F.col(\"price\"), \"[$,]\", \"\").cast(\"float\"))\n",
        "clean_column_calendars_df = clean_column_calendars_df.withColumn(\"adjusted_price\",\n",
        "                                                     F.regexp_replace(F.col(\"adjusted_price\"), \"[$,]\", \"\").cast(\"float\"))\n",
        "\n",
        "# Show the DataFrame to verify changes\n",
        "clean_column_calendars_df.show()\n"
      ]
    },
    {
      "cell_type": "code",
      "execution_count": 188,
      "metadata": {
        "id": "kk7q7yLnh-yp"
      },
      "outputs": [],
      "source": [
        "from pyspark.sql import SparkSession\n",
        "from pyspark.sql.functions import col, year, month, dayofmonth, dayofweek\n",
        "from pyspark.ml.feature import VectorAssembler\n",
        "from pyspark.ml.regression import RandomForestRegressor\n",
        "from pyspark.ml import Pipeline\n",
        "from pyspark.ml.evaluation import RegressionEvaluator"
      ]
    },
    {
      "cell_type": "code",
      "execution_count": 189,
      "metadata": {
        "id": "roAJr9afipDN"
      },
      "outputs": [],
      "source": [
        "# Initialize Spark Session\n",
        "spark = SparkSession.builder \\\n",
        "    .appName(\"AirbnbPricePrediction\") \\\n",
        "    .getOrCreate()\n"
      ]
    },
    {
      "cell_type": "code",
      "execution_count": 190,
      "metadata": {
        "id": "7KC64KveisK1"
      },
      "outputs": [],
      "source": [
        "# Convert the price columns to float\n",
        "clean_column_calendars_df = clean_column_calendars_df.withColumn(\"price\", col(\"price\").cast(\"float\"))\n",
        "clean_column_calendars_df = clean_column_calendars_df.withColumn(\"adjusted_price\", col(\"adjusted_price\").cast(\"float\"))\n",
        "\n",
        "# Drop rows where either 'price' or 'adjusted_price' is null\n",
        "clean_column_calendars_df = clean_column_calendars_df.dropna(subset=['price', 'adjusted_price'])\n",
        "\n",
        "# Convert 'available' to numerical (1 for 't', 0 for 'f')\n",
        "clean_column_calendars_df = clean_column_calendars_df.withColumn(\"available\", (col(\"available\") == \"t\").cast(\"integer\"))\n",
        "\n",
        "# Convert 'date' from string to date type\n",
        "clean_column_calendars_df = clean_column_calendars_df.withColumn(\"date\", col(\"date\").cast(\"date\"))\n",
        "\n",
        "# Add 'month' and 'day_of_week' features\n",
        "clean_column_calendars_df = clean_column_calendars_df.withColumn(\"month\", month(\"date\")) \\\n",
        "                                         .withColumn(\"day_of_week\", dayofweek(\"date\"))\n"
      ]
    },
    {
      "cell_type": "code",
      "execution_count": 191,
      "metadata": {
        "id": "-Z_A7yMQoJ_d"
      },
      "outputs": [],
      "source": [
        "# Features and Assembler\n",
        "feature_columns = ['month', 'day_of_week', 'available']\n",
        "assembler = VectorAssembler(inputCols=feature_columns, outputCol=\"features\")\n",
        "\n",
        "# Model\n",
        "rf = RandomForestRegressor(labelCol=\"price\", featuresCol=\"features\")\n",
        "\n",
        "# Pipeline\n",
        "pipeline = Pipeline(stages=[assembler, rf])\n"
      ]
    },
    {
      "cell_type": "code",
      "execution_count": 194,
      "metadata": {
        "colab": {
          "base_uri": "https://localhost:8080/"
        },
        "id": "WGtifrw9oMi9",
        "outputId": "b6f01138-90ca-4644-9abc-6049f346bdf4"
      },
      "outputs": [
        {
          "name": "stdout",
          "output_type": "stream",
          "text": [
            "Root Mean Squared Error (RMSE) on test data = 560.792\n"
          ]
        }
      ],
      "source": [
        "# Split data into training and test sets\n",
        "train_data, test_data = clean_column_calendars_df.randomSplit([0.8, 0.2])\n",
        "\n",
        "# Fit model to training data\n",
        "model = pipeline.fit(train_data)\n",
        "\n",
        "# Make predictions on test data\n",
        "predictions = model.transform(test_data)\n",
        "\n",
        "# Evaluate the model\n",
        "evaluator = RegressionEvaluator(labelCol=\"price\", predictionCol=\"prediction\", metricName=\"rmse\")\n",
        "rmse = evaluator.evaluate(predictions)\n",
        "print(\"Root Mean Squared Error (RMSE) on test data = %g\" % rmse)"
      ]
    },
    {
      "cell_type": "code",
      "execution_count": 211,
      "metadata": {
        "colab": {
          "base_uri": "https://localhost:8080/"
        },
        "id": "D4dGfatKlLsh",
        "outputId": "69290262-2be6-4aa8-8b30-d437c4cd8586"
      },
      "outputs": [
        {
          "name": "stdout",
          "output_type": "stream",
          "text": [
            "+----------+----------+---------+-----+--------------+-----+-----------+\n",
            "|listing_id|      date|available|price|adjusted_price|month|day_of_week|\n",
            "+----------+----------+---------+-----+--------------+-----+-----------+\n",
            "|      2595|2023-09-05|        1|240.0|         240.0|    9|          3|\n",
            "|      2595|2023-09-06|        1|240.0|         240.0|    9|          4|\n",
            "|      2595|2023-09-07|        1|240.0|         240.0|    9|          5|\n",
            "|      2595|2023-09-08|        1|240.0|         240.0|    9|          6|\n",
            "|      2595|2023-09-09|        1|240.0|         240.0|    9|          7|\n",
            "|      2595|2023-09-10|        1|240.0|         240.0|    9|          1|\n",
            "|      2595|2023-09-11|        1|240.0|         240.0|    9|          2|\n",
            "|      2595|2023-09-12|        1|240.0|         240.0|    9|          3|\n",
            "|      2595|2023-09-13|        1|240.0|         240.0|    9|          4|\n",
            "|      2595|2023-09-14|        1|240.0|         240.0|    9|          5|\n",
            "|      2595|2023-09-15|        1|240.0|         240.0|    9|          6|\n",
            "|      2595|2023-09-16|        1|240.0|         240.0|    9|          7|\n",
            "|      2595|2023-09-17|        1|240.0|         240.0|    9|          1|\n",
            "|      2595|2023-09-18|        1|240.0|         240.0|    9|          2|\n",
            "|      2595|2023-09-19|        1|240.0|         240.0|    9|          3|\n",
            "|      2595|2023-09-20|        1|240.0|         240.0|    9|          4|\n",
            "|      2595|2023-09-21|        1|240.0|         240.0|    9|          5|\n",
            "|      2595|2023-09-22|        1|240.0|         240.0|    9|          6|\n",
            "|      2595|2023-09-23|        1|240.0|         240.0|    9|          7|\n",
            "|      2595|2023-09-24|        1|240.0|         240.0|    9|          1|\n",
            "|      2595|2023-09-25|        1|240.0|         240.0|    9|          2|\n",
            "|      2595|2023-09-26|        1|240.0|         240.0|    9|          3|\n",
            "|      2595|2023-09-27|        1|240.0|         240.0|    9|          4|\n",
            "|      2595|2023-09-28|        1|240.0|         240.0|    9|          5|\n",
            "|      2595|2023-09-29|        1|240.0|         240.0|    9|          6|\n",
            "|      2595|2023-09-30|        1|240.0|         240.0|    9|          7|\n",
            "|      2595|2023-10-01|        1|240.0|         240.0|   10|          1|\n",
            "|      2595|2023-10-02|        1|240.0|         240.0|   10|          2|\n",
            "|      2595|2023-10-03|        1|240.0|         240.0|   10|          3|\n",
            "|      2595|2023-10-04|        1|240.0|         240.0|   10|          4|\n",
            "|      2595|2023-10-05|        1|240.0|         240.0|   10|          5|\n",
            "|      2595|2023-10-06|        1|240.0|         240.0|   10|          6|\n",
            "|      2595|2023-10-07|        1|240.0|         240.0|   10|          7|\n",
            "|      2595|2023-10-08|        1|240.0|         240.0|   10|          1|\n",
            "|      2595|2023-10-09|        1|240.0|         240.0|   10|          2|\n",
            "|      2595|2023-10-10|        1|240.0|         240.0|   10|          3|\n",
            "|      2595|2023-10-11|        1|240.0|         240.0|   10|          4|\n",
            "|      2595|2023-10-12|        1|240.0|         240.0|   10|          5|\n",
            "|      2595|2023-10-13|        1|240.0|         240.0|   10|          6|\n",
            "|      2595|2023-10-14|        1|240.0|         240.0|   10|          7|\n",
            "|      2595|2023-10-15|        1|240.0|         240.0|   10|          1|\n",
            "|      2595|2023-10-16|        1|240.0|         240.0|   10|          2|\n",
            "|      2595|2023-10-17|        1|240.0|         240.0|   10|          3|\n",
            "|      2595|2023-10-18|        1|240.0|         240.0|   10|          4|\n",
            "|      2595|2023-10-19|        1|240.0|         240.0|   10|          5|\n",
            "|      2595|2023-10-20|        1|240.0|         240.0|   10|          6|\n",
            "|      2595|2023-10-21|        1|240.0|         240.0|   10|          7|\n",
            "|      2595|2023-10-22|        1|240.0|         240.0|   10|          1|\n",
            "|      2595|2023-10-23|        1|240.0|         240.0|   10|          2|\n",
            "|      2595|2023-10-24|        1|240.0|         240.0|   10|          3|\n",
            "|      2595|2023-10-25|        1|240.0|         240.0|   10|          4|\n",
            "|      2595|2023-10-26|        1|240.0|         240.0|   10|          5|\n",
            "|      2595|2023-10-27|        1|240.0|         240.0|   10|          6|\n",
            "|      2595|2023-10-28|        1|240.0|         240.0|   10|          7|\n",
            "|      2595|2023-10-29|        1|240.0|         240.0|   10|          1|\n",
            "|      2595|2023-10-30|        1|240.0|         240.0|   10|          2|\n",
            "|      2595|2023-10-31|        1|240.0|         240.0|   10|          3|\n",
            "|      2595|2023-11-01|        1|240.0|         240.0|   11|          4|\n",
            "|      2595|2023-11-02|        1|240.0|         240.0|   11|          5|\n",
            "|      2595|2023-11-03|        1|240.0|         240.0|   11|          6|\n",
            "|      2595|2023-11-04|        1|240.0|         240.0|   11|          7|\n",
            "|      2595|2023-11-05|        1|240.0|         240.0|   11|          1|\n",
            "|      2595|2023-11-06|        1|240.0|         240.0|   11|          2|\n",
            "|      2595|2023-11-07|        1|240.0|         240.0|   11|          3|\n",
            "|      2595|2023-11-08|        1|240.0|         240.0|   11|          4|\n",
            "|      2595|2023-11-09|        1|240.0|         240.0|   11|          5|\n",
            "|      2595|2023-11-10|        1|240.0|         240.0|   11|          6|\n",
            "|      2595|2023-11-11|        1|240.0|         240.0|   11|          7|\n",
            "|      2595|2023-11-12|        1|240.0|         240.0|   11|          1|\n",
            "|      2595|2023-11-13|        1|240.0|         240.0|   11|          2|\n",
            "|      2595|2023-11-14|        1|240.0|         240.0|   11|          3|\n",
            "|      2595|2023-11-15|        1|240.0|         240.0|   11|          4|\n",
            "|      2595|2023-11-16|        1|240.0|         240.0|   11|          5|\n",
            "|      2595|2023-11-17|        1|240.0|         240.0|   11|          6|\n",
            "|      2595|2023-11-18|        1|240.0|         240.0|   11|          7|\n",
            "|      2595|2023-11-19|        1|240.0|         240.0|   11|          1|\n",
            "|      2595|2023-11-20|        1|240.0|         240.0|   11|          2|\n",
            "|      2595|2023-11-21|        1|240.0|         240.0|   11|          3|\n",
            "|      2595|2023-11-22|        1|240.0|         240.0|   11|          4|\n",
            "|      2595|2023-11-23|        1|240.0|         240.0|   11|          5|\n",
            "|      2595|2023-11-24|        1|240.0|         240.0|   11|          6|\n",
            "|      2595|2023-11-25|        1|240.0|         240.0|   11|          7|\n",
            "|      2595|2023-11-26|        1|240.0|         240.0|   11|          1|\n",
            "|      2595|2023-11-27|        1|240.0|         240.0|   11|          2|\n",
            "|      2595|2023-11-28|        1|240.0|         240.0|   11|          3|\n",
            "|      2595|2023-11-29|        1|240.0|         240.0|   11|          4|\n",
            "|      2595|2023-11-30|        1|240.0|         240.0|   11|          5|\n",
            "|      2595|2023-12-01|        1|240.0|         240.0|   12|          6|\n",
            "|      2595|2023-12-02|        1|240.0|         240.0|   12|          7|\n",
            "|      2595|2023-12-03|        1|240.0|         240.0|   12|          1|\n",
            "|      2595|2023-12-04|        1|240.0|         240.0|   12|          2|\n",
            "|      2595|2023-12-05|        1|240.0|         240.0|   12|          3|\n",
            "|      2595|2023-12-06|        1|240.0|         240.0|   12|          4|\n",
            "|      2595|2023-12-07|        1|240.0|         240.0|   12|          5|\n",
            "|      2595|2023-12-08|        1|240.0|         240.0|   12|          6|\n",
            "|      2595|2023-12-09|        1|240.0|         240.0|   12|          7|\n",
            "|      2595|2023-12-10|        1|240.0|         240.0|   12|          1|\n",
            "|      2595|2023-12-11|        1|240.0|         240.0|   12|          2|\n",
            "|      2595|2023-12-12|        1|240.0|         240.0|   12|          3|\n",
            "|      2595|2023-12-13|        1|240.0|         240.0|   12|          4|\n",
            "|      2595|2023-12-14|        1|240.0|         240.0|   12|          5|\n",
            "|      2595|2023-12-15|        1|240.0|         240.0|   12|          6|\n",
            "|      2595|2023-12-16|        1|240.0|         240.0|   12|          7|\n",
            "|      2595|2023-12-17|        1|240.0|         240.0|   12|          1|\n",
            "|      2595|2023-12-18|        1|240.0|         240.0|   12|          2|\n",
            "|      2595|2023-12-19|        1|240.0|         240.0|   12|          3|\n",
            "|      2595|2023-12-20|        1|240.0|         240.0|   12|          4|\n",
            "|      2595|2023-12-21|        1|240.0|         240.0|   12|          5|\n",
            "|      2595|2023-12-22|        1|240.0|         240.0|   12|          6|\n",
            "|      2595|2023-12-23|        1|240.0|         240.0|   12|          7|\n",
            "|      2595|2023-12-24|        1|240.0|         240.0|   12|          1|\n",
            "|      2595|2023-12-25|        1|240.0|         240.0|   12|          2|\n",
            "|      2595|2023-12-26|        1|240.0|         240.0|   12|          3|\n",
            "|      2595|2023-12-27|        1|240.0|         240.0|   12|          4|\n",
            "|      2595|2023-12-28|        1|240.0|         240.0|   12|          5|\n",
            "|      2595|2023-12-29|        1|240.0|         240.0|   12|          6|\n",
            "|      2595|2023-12-30|        1|240.0|         240.0|   12|          7|\n",
            "|      2595|2023-12-31|        1|240.0|         240.0|   12|          1|\n",
            "|      2595|2024-01-01|        1|240.0|         240.0|    1|          2|\n",
            "|      2595|2024-01-02|        1|240.0|         240.0|    1|          3|\n",
            "|      2595|2024-01-03|        1|240.0|         240.0|    1|          4|\n",
            "|      2595|2024-01-04|        1|240.0|         240.0|    1|          5|\n",
            "|      2595|2024-01-05|        1|240.0|         240.0|    1|          6|\n",
            "|      2595|2024-01-06|        1|240.0|         240.0|    1|          7|\n",
            "|      2595|2024-01-07|        1|240.0|         240.0|    1|          1|\n",
            "|      2595|2024-01-08|        1|240.0|         240.0|    1|          2|\n",
            "|      2595|2024-01-09|        1|240.0|         240.0|    1|          3|\n",
            "|      2595|2024-01-10|        1|240.0|         240.0|    1|          4|\n",
            "|      2595|2024-01-11|        1|240.0|         240.0|    1|          5|\n",
            "|      2595|2024-01-12|        1|240.0|         240.0|    1|          6|\n",
            "|      2595|2024-01-13|        1|240.0|         240.0|    1|          7|\n",
            "|      2595|2024-01-14|        1|240.0|         240.0|    1|          1|\n",
            "|      2595|2024-01-15|        1|240.0|         240.0|    1|          2|\n",
            "|      2595|2024-01-16|        1|240.0|         240.0|    1|          3|\n",
            "|      2595|2024-01-17|        1|240.0|         240.0|    1|          4|\n",
            "|      2595|2024-01-18|        1|240.0|         240.0|    1|          5|\n",
            "|      2595|2024-01-19|        1|240.0|         240.0|    1|          6|\n",
            "|      2595|2024-01-20|        1|240.0|         240.0|    1|          7|\n",
            "|      2595|2024-01-21|        1|240.0|         240.0|    1|          1|\n",
            "|      2595|2024-01-22|        1|240.0|         240.0|    1|          2|\n",
            "|      2595|2024-01-23|        1|240.0|         240.0|    1|          3|\n",
            "|      2595|2024-01-24|        1|240.0|         240.0|    1|          4|\n",
            "|      2595|2024-01-25|        1|240.0|         240.0|    1|          5|\n",
            "|      2595|2024-01-26|        1|240.0|         240.0|    1|          6|\n",
            "|      2595|2024-01-27|        1|240.0|         240.0|    1|          7|\n",
            "|      2595|2024-01-28|        1|240.0|         240.0|    1|          1|\n",
            "|      2595|2024-01-29|        1|240.0|         240.0|    1|          2|\n",
            "|      2595|2024-01-30|        1|240.0|         240.0|    1|          3|\n",
            "|      2595|2024-01-31|        1|240.0|         240.0|    1|          4|\n",
            "|      2595|2024-02-01|        1|240.0|         240.0|    2|          5|\n",
            "|      2595|2024-02-02|        1|240.0|         240.0|    2|          6|\n",
            "|      2595|2024-02-03|        1|240.0|         240.0|    2|          7|\n",
            "|      2595|2024-02-04|        1|240.0|         240.0|    2|          1|\n",
            "|      2595|2024-02-05|        1|240.0|         240.0|    2|          2|\n",
            "|      2595|2024-02-06|        1|240.0|         240.0|    2|          3|\n",
            "|      2595|2024-02-07|        1|240.0|         240.0|    2|          4|\n",
            "|      2595|2024-02-08|        1|240.0|         240.0|    2|          5|\n",
            "|      2595|2024-02-09|        1|240.0|         240.0|    2|          6|\n",
            "|      2595|2024-02-10|        1|240.0|         240.0|    2|          7|\n",
            "|      2595|2024-02-11|        1|240.0|         240.0|    2|          1|\n",
            "|      2595|2024-02-12|        1|240.0|         240.0|    2|          2|\n",
            "|      2595|2024-02-13|        1|240.0|         240.0|    2|          3|\n",
            "|      2595|2024-02-14|        1|240.0|         240.0|    2|          4|\n",
            "|      2595|2024-02-15|        1|240.0|         240.0|    2|          5|\n",
            "|      2595|2024-02-16|        1|240.0|         240.0|    2|          6|\n",
            "|      2595|2024-02-17|        1|240.0|         240.0|    2|          7|\n",
            "|      2595|2024-02-18|        1|240.0|         240.0|    2|          1|\n",
            "|      2595|2024-02-19|        1|240.0|         240.0|    2|          2|\n",
            "|      2595|2024-02-20|        1|240.0|         240.0|    2|          3|\n",
            "|      2595|2024-02-21|        1|240.0|         240.0|    2|          4|\n",
            "|      2595|2024-02-22|        1|240.0|         240.0|    2|          5|\n",
            "|      2595|2024-02-23|        1|240.0|         240.0|    2|          6|\n",
            "|      2595|2024-02-24|        1|240.0|         240.0|    2|          7|\n",
            "|      2595|2024-02-25|        1|240.0|         240.0|    2|          1|\n",
            "|      2595|2024-02-26|        1|240.0|         240.0|    2|          2|\n",
            "|      2595|2024-02-27|        1|240.0|         240.0|    2|          3|\n",
            "|      2595|2024-02-28|        1|240.0|         240.0|    2|          4|\n",
            "|      2595|2024-02-29|        1|240.0|         240.0|    2|          5|\n",
            "|      2595|2024-03-01|        1|240.0|         240.0|    3|          6|\n",
            "|      2595|2024-03-02|        1|240.0|         240.0|    3|          7|\n",
            "|      2595|2024-03-03|        1|240.0|         240.0|    3|          1|\n",
            "|      2595|2024-03-04|        1|240.0|         240.0|    3|          2|\n",
            "|      2595|2024-03-05|        1|240.0|         240.0|    3|          3|\n",
            "|      2595|2024-03-06|        1|240.0|         240.0|    3|          4|\n",
            "|      2595|2024-03-07|        1|240.0|         240.0|    3|          5|\n",
            "|      2595|2024-03-08|        1|240.0|         240.0|    3|          6|\n",
            "|      2595|2024-03-09|        1|240.0|         240.0|    3|          7|\n",
            "|      2595|2024-03-10|        1|240.0|         240.0|    3|          1|\n",
            "|      2595|2024-03-11|        1|240.0|         240.0|    3|          2|\n",
            "|      2595|2024-03-12|        1|240.0|         240.0|    3|          3|\n",
            "|      2595|2024-03-13|        1|240.0|         240.0|    3|          4|\n",
            "|      2595|2024-03-14|        1|240.0|         240.0|    3|          5|\n",
            "|      2595|2024-03-15|        1|240.0|         240.0|    3|          6|\n",
            "|      2595|2024-03-16|        1|240.0|         240.0|    3|          7|\n",
            "|      2595|2024-03-17|        1|240.0|         240.0|    3|          1|\n",
            "|      2595|2024-03-18|        1|240.0|         240.0|    3|          2|\n",
            "|      2595|2024-03-19|        1|240.0|         240.0|    3|          3|\n",
            "|      2595|2024-03-20|        1|240.0|         240.0|    3|          4|\n",
            "|      2595|2024-03-21|        1|240.0|         240.0|    3|          5|\n",
            "|      2595|2024-03-22|        1|240.0|         240.0|    3|          6|\n",
            "|      2595|2024-03-23|        1|240.0|         240.0|    3|          7|\n",
            "|      2595|2024-03-24|        1|240.0|         240.0|    3|          1|\n",
            "|      2595|2024-03-25|        1|240.0|         240.0|    3|          2|\n",
            "|      2595|2024-03-26|        1|240.0|         240.0|    3|          3|\n",
            "|      2595|2024-03-27|        1|240.0|         240.0|    3|          4|\n",
            "|      2595|2024-03-28|        1|240.0|         240.0|    3|          5|\n",
            "|      2595|2024-03-29|        1|240.0|         240.0|    3|          6|\n",
            "|      2595|2024-03-30|        1|240.0|         240.0|    3|          7|\n",
            "|      2595|2024-03-31|        1|240.0|         240.0|    3|          1|\n",
            "|      2595|2024-04-01|        1|240.0|         240.0|    4|          2|\n",
            "|      2595|2024-04-02|        1|240.0|         240.0|    4|          3|\n",
            "|      2595|2024-04-03|        1|240.0|         240.0|    4|          4|\n",
            "|      2595|2024-04-04|        1|240.0|         240.0|    4|          5|\n",
            "|      2595|2024-04-05|        1|240.0|         240.0|    4|          6|\n",
            "|      2595|2024-04-06|        1|240.0|         240.0|    4|          7|\n",
            "|      2595|2024-04-07|        1|240.0|         240.0|    4|          1|\n",
            "|      2595|2024-04-08|        1|240.0|         240.0|    4|          2|\n",
            "|      2595|2024-04-09|        1|240.0|         240.0|    4|          3|\n",
            "|      2595|2024-04-10|        1|240.0|         240.0|    4|          4|\n",
            "|      2595|2024-04-11|        1|240.0|         240.0|    4|          5|\n",
            "|      2595|2024-04-12|        1|240.0|         240.0|    4|          6|\n",
            "|      2595|2024-04-13|        1|240.0|         240.0|    4|          7|\n",
            "|      2595|2024-04-14|        1|240.0|         240.0|    4|          1|\n",
            "|      2595|2024-04-15|        1|240.0|         240.0|    4|          2|\n",
            "|      2595|2024-04-16|        1|240.0|         240.0|    4|          3|\n",
            "|      2595|2024-04-17|        1|240.0|         240.0|    4|          4|\n",
            "|      2595|2024-04-18|        1|240.0|         240.0|    4|          5|\n",
            "|      2595|2024-04-19|        1|240.0|         240.0|    4|          6|\n",
            "|      2595|2024-04-20|        1|240.0|         240.0|    4|          7|\n",
            "|      2595|2024-04-21|        1|240.0|         240.0|    4|          1|\n",
            "|      2595|2024-04-22|        1|240.0|         240.0|    4|          2|\n",
            "|      2595|2024-04-23|        1|240.0|         240.0|    4|          3|\n",
            "|      2595|2024-04-24|        1|240.0|         240.0|    4|          4|\n",
            "|      2595|2024-04-25|        1|240.0|         240.0|    4|          5|\n",
            "|      2595|2024-04-26|        1|240.0|         240.0|    4|          6|\n",
            "|      2595|2024-04-27|        1|240.0|         240.0|    4|          7|\n",
            "|      2595|2024-04-28|        1|240.0|         240.0|    4|          1|\n",
            "|      2595|2024-04-29|        1|240.0|         240.0|    4|          2|\n",
            "|      2595|2024-04-30|        1|240.0|         240.0|    4|          3|\n",
            "|      2595|2024-05-01|        1|240.0|         240.0|    5|          4|\n",
            "|      2595|2024-05-02|        1|240.0|         240.0|    5|          5|\n",
            "|      2595|2024-05-03|        1|240.0|         240.0|    5|          6|\n",
            "|      2595|2024-05-04|        1|240.0|         240.0|    5|          7|\n",
            "|      2595|2024-05-05|        1|240.0|         240.0|    5|          1|\n",
            "|      2595|2024-05-06|        1|240.0|         240.0|    5|          2|\n",
            "|      2595|2024-05-07|        1|240.0|         240.0|    5|          3|\n",
            "|      2595|2024-05-08|        1|240.0|         240.0|    5|          4|\n",
            "|      2595|2024-05-09|        1|240.0|         240.0|    5|          5|\n",
            "|      2595|2024-05-10|        1|240.0|         240.0|    5|          6|\n",
            "|      2595|2024-05-11|        1|240.0|         240.0|    5|          7|\n",
            "|      2595|2024-05-12|        1|240.0|         240.0|    5|          1|\n",
            "|      2595|2024-05-13|        1|240.0|         240.0|    5|          2|\n",
            "|      2595|2024-05-14|        1|240.0|         240.0|    5|          3|\n",
            "|      2595|2024-05-15|        1|240.0|         240.0|    5|          4|\n",
            "|      2595|2024-05-16|        1|240.0|         240.0|    5|          5|\n",
            "|      2595|2024-05-17|        1|240.0|         240.0|    5|          6|\n",
            "|      2595|2024-05-18|        1|240.0|         240.0|    5|          7|\n",
            "|      2595|2024-05-19|        1|240.0|         240.0|    5|          1|\n",
            "|      2595|2024-05-20|        1|240.0|         240.0|    5|          2|\n",
            "|      2595|2024-05-21|        1|240.0|         240.0|    5|          3|\n",
            "|      2595|2024-05-22|        1|240.0|         240.0|    5|          4|\n",
            "|      2595|2024-05-23|        1|240.0|         240.0|    5|          5|\n",
            "|      2595|2024-05-24|        1|240.0|         240.0|    5|          6|\n",
            "|      2595|2024-05-25|        1|240.0|         240.0|    5|          7|\n",
            "|      2595|2024-05-26|        1|240.0|         240.0|    5|          1|\n",
            "|      2595|2024-05-27|        1|240.0|         240.0|    5|          2|\n",
            "|      2595|2024-05-28|        1|240.0|         240.0|    5|          3|\n",
            "|      2595|2024-05-29|        1|240.0|         240.0|    5|          4|\n",
            "|      2595|2024-05-30|        1|240.0|         240.0|    5|          5|\n",
            "|      2595|2024-05-31|        1|240.0|         240.0|    5|          6|\n",
            "|      2595|2024-06-01|        1|240.0|         240.0|    6|          7|\n",
            "|      2595|2024-06-02|        1|240.0|         240.0|    6|          1|\n",
            "|      2595|2024-06-03|        1|240.0|         240.0|    6|          2|\n",
            "|      2595|2024-06-04|        1|240.0|         240.0|    6|          3|\n",
            "|      2595|2024-06-05|        1|240.0|         240.0|    6|          4|\n",
            "|      2595|2024-06-06|        1|240.0|         240.0|    6|          5|\n",
            "|      2595|2024-06-07|        1|240.0|         240.0|    6|          6|\n",
            "|      2595|2024-06-08|        1|240.0|         240.0|    6|          7|\n",
            "|      2595|2024-06-09|        1|240.0|         240.0|    6|          1|\n",
            "|      2595|2024-06-10|        1|240.0|         240.0|    6|          2|\n",
            "|      2595|2024-06-11|        1|240.0|         240.0|    6|          3|\n",
            "|      2595|2024-06-12|        1|240.0|         240.0|    6|          4|\n",
            "|      2595|2024-06-13|        1|240.0|         240.0|    6|          5|\n",
            "|      2595|2024-06-14|        1|240.0|         240.0|    6|          6|\n",
            "|      2595|2024-06-15|        1|240.0|         240.0|    6|          7|\n",
            "|      2595|2024-06-16|        1|240.0|         240.0|    6|          1|\n",
            "|      2595|2024-06-17|        1|240.0|         240.0|    6|          2|\n",
            "|      2595|2024-06-18|        1|240.0|         240.0|    6|          3|\n",
            "|      2595|2024-06-19|        1|240.0|         240.0|    6|          4|\n",
            "|      2595|2024-06-20|        1|240.0|         240.0|    6|          5|\n",
            "|      2595|2024-06-21|        1|240.0|         240.0|    6|          6|\n",
            "|      2595|2024-06-22|        1|240.0|         240.0|    6|          7|\n",
            "|      2595|2024-06-23|        1|240.0|         240.0|    6|          1|\n",
            "|      2595|2024-06-24|        1|240.0|         240.0|    6|          2|\n",
            "|      2595|2024-06-25|        1|240.0|         240.0|    6|          3|\n",
            "|      2595|2024-06-26|        1|240.0|         240.0|    6|          4|\n",
            "|      2595|2024-06-27|        1|240.0|         240.0|    6|          5|\n",
            "|      2595|2024-06-28|        1|240.0|         240.0|    6|          6|\n",
            "|      2595|2024-06-29|        1|240.0|         240.0|    6|          7|\n",
            "|      2595|2024-06-30|        1|240.0|         240.0|    6|          1|\n",
            "|      2595|2024-07-01|        1|240.0|         240.0|    7|          2|\n",
            "|      2595|2024-07-02|        1|240.0|         240.0|    7|          3|\n",
            "|      2595|2024-07-03|        1|240.0|         240.0|    7|          4|\n",
            "|      2595|2024-07-04|        1|240.0|         240.0|    7|          5|\n",
            "|      2595|2024-07-05|        1|240.0|         240.0|    7|          6|\n",
            "|      2595|2024-07-06|        1|240.0|         240.0|    7|          7|\n",
            "|      2595|2024-07-07|        1|240.0|         240.0|    7|          1|\n",
            "|      2595|2024-07-08|        1|240.0|         240.0|    7|          2|\n",
            "|      2595|2024-07-09|        1|240.0|         240.0|    7|          3|\n",
            "|      2595|2024-07-10|        1|240.0|         240.0|    7|          4|\n",
            "|      2595|2024-07-11|        1|240.0|         240.0|    7|          5|\n",
            "|      2595|2024-07-12|        1|240.0|         240.0|    7|          6|\n",
            "|      2595|2024-07-13|        1|240.0|         240.0|    7|          7|\n",
            "|      2595|2024-07-14|        1|240.0|         240.0|    7|          1|\n",
            "|      2595|2024-07-15|        1|240.0|         240.0|    7|          2|\n",
            "|      2595|2024-07-16|        1|240.0|         240.0|    7|          3|\n",
            "|      2595|2024-07-17|        1|240.0|         240.0|    7|          4|\n",
            "|      2595|2024-07-18|        1|240.0|         240.0|    7|          5|\n",
            "|      2595|2024-07-19|        1|240.0|         240.0|    7|          6|\n",
            "|      2595|2024-07-20|        1|240.0|         240.0|    7|          7|\n",
            "|      2595|2024-07-21|        1|240.0|         240.0|    7|          1|\n",
            "|      2595|2024-07-22|        1|240.0|         240.0|    7|          2|\n",
            "|      2595|2024-07-23|        1|240.0|         240.0|    7|          3|\n",
            "|      2595|2024-07-24|        1|240.0|         240.0|    7|          4|\n",
            "|      2595|2024-07-25|        1|240.0|         240.0|    7|          5|\n",
            "|      2595|2024-07-26|        1|240.0|         240.0|    7|          6|\n",
            "|      2595|2024-07-27|        1|240.0|         240.0|    7|          7|\n",
            "|      2595|2024-07-28|        1|240.0|         240.0|    7|          1|\n",
            "|      2595|2024-07-29|        1|240.0|         240.0|    7|          2|\n",
            "|      2595|2024-07-30|        1|240.0|         240.0|    7|          3|\n",
            "|      2595|2024-07-31|        1|240.0|         240.0|    7|          4|\n",
            "|      2595|2024-08-01|        1|240.0|         240.0|    8|          5|\n",
            "|      2595|2024-08-02|        1|240.0|         240.0|    8|          6|\n",
            "|      2595|2024-08-03|        1|240.0|         240.0|    8|          7|\n",
            "|      2595|2024-08-04|        1|240.0|         240.0|    8|          1|\n",
            "|      2595|2024-08-05|        1|240.0|         240.0|    8|          2|\n",
            "|      2595|2024-08-06|        1|240.0|         240.0|    8|          3|\n",
            "|      2595|2024-08-07|        1|240.0|         240.0|    8|          4|\n",
            "|      2595|2024-08-08|        1|240.0|         240.0|    8|          5|\n",
            "|      2595|2024-08-09|        1|240.0|         240.0|    8|          6|\n",
            "|      2595|2024-08-10|        1|240.0|         240.0|    8|          7|\n",
            "|      2595|2024-08-11|        1|240.0|         240.0|    8|          1|\n",
            "|      2595|2024-08-12|        1|240.0|         240.0|    8|          2|\n",
            "|      2595|2024-08-13|        1|240.0|         240.0|    8|          3|\n",
            "|      2595|2024-08-14|        1|240.0|         240.0|    8|          4|\n",
            "|      2595|2024-08-15|        1|240.0|         240.0|    8|          5|\n",
            "|      2595|2024-08-16|        1|240.0|         240.0|    8|          6|\n",
            "|      2595|2024-08-17|        1|240.0|         240.0|    8|          7|\n",
            "|      2595|2024-08-18|        1|240.0|         240.0|    8|          1|\n",
            "|      2595|2024-08-19|        1|240.0|         240.0|    8|          2|\n",
            "|      2595|2024-08-20|        1|240.0|         240.0|    8|          3|\n",
            "|      2595|2024-08-21|        1|240.0|         240.0|    8|          4|\n",
            "|      2595|2024-08-22|        1|240.0|         240.0|    8|          5|\n",
            "|      2595|2024-08-23|        1|240.0|         240.0|    8|          6|\n",
            "|      2595|2024-08-24|        1|240.0|         240.0|    8|          7|\n",
            "|      2595|2024-08-25|        1|240.0|         240.0|    8|          1|\n",
            "|      2595|2024-08-26|        1|240.0|         240.0|    8|          2|\n",
            "|      2595|2024-08-27|        1|240.0|         240.0|    8|          3|\n",
            "|      2595|2024-08-28|        1|240.0|         240.0|    8|          4|\n",
            "|      2595|2024-08-29|        1|240.0|         240.0|    8|          5|\n",
            "|      2595|2024-08-30|        1|240.0|         240.0|    8|          6|\n",
            "|      2595|2024-08-31|        1|240.0|         240.0|    8|          7|\n",
            "|      2595|2024-09-01|        1|240.0|         240.0|    9|          1|\n",
            "|      2595|2024-09-02|        1|240.0|         240.0|    9|          2|\n",
            "|      2595|2024-09-03|        1|240.0|         240.0|    9|          3|\n",
            "|      5121|2023-09-05|        0| 66.0|          66.0|    9|          3|\n",
            "|      5121|2023-09-06|        1| 66.0|          66.0|    9|          4|\n",
            "|      5121|2023-09-07|        1| 66.0|          66.0|    9|          5|\n",
            "|      5121|2023-09-08|        1| 66.0|          66.0|    9|          6|\n",
            "|      5121|2023-09-09|        1| 66.0|          66.0|    9|          7|\n",
            "|      5121|2023-09-10|        1| 66.0|          66.0|    9|          1|\n",
            "|      5121|2023-09-11|        1| 66.0|          66.0|    9|          2|\n",
            "|      5121|2023-09-12|        1| 66.0|          66.0|    9|          3|\n",
            "|      5121|2023-09-13|        1| 66.0|          66.0|    9|          4|\n",
            "|      5121|2023-09-14|        1| 66.0|          66.0|    9|          5|\n",
            "|      5121|2023-09-15|        1| 66.0|          66.0|    9|          6|\n",
            "|      5121|2023-09-16|        1| 66.0|          66.0|    9|          7|\n",
            "|      5121|2023-09-17|        1| 66.0|          66.0|    9|          1|\n",
            "|      5121|2023-09-18|        1| 66.0|          66.0|    9|          2|\n",
            "|      5121|2023-09-19|        1| 66.0|          66.0|    9|          3|\n",
            "|      5121|2023-09-20|        1| 66.0|          66.0|    9|          4|\n",
            "|      5121|2023-09-21|        1| 66.0|          66.0|    9|          5|\n",
            "|      5121|2023-09-22|        1| 66.0|          66.0|    9|          6|\n",
            "|      5121|2023-09-23|        1| 66.0|          66.0|    9|          7|\n",
            "|      5121|2023-09-24|        1| 66.0|          66.0|    9|          1|\n",
            "|      5121|2023-09-25|        1| 66.0|          66.0|    9|          2|\n",
            "|      5121|2023-09-26|        1| 66.0|          66.0|    9|          3|\n",
            "|      5121|2023-09-27|        1| 66.0|          66.0|    9|          4|\n",
            "|      5121|2023-09-28|        1| 66.0|          66.0|    9|          5|\n",
            "|      5121|2023-09-29|        1| 66.0|          66.0|    9|          6|\n",
            "|      5121|2023-09-30|        1| 66.0|          66.0|    9|          7|\n",
            "|      5121|2023-10-01|        1| 66.0|          66.0|   10|          1|\n",
            "|      5121|2023-10-02|        1| 66.0|          66.0|   10|          2|\n",
            "|      5121|2023-10-03|        1| 66.0|          66.0|   10|          3|\n",
            "|      5121|2023-10-04|        1| 66.0|          66.0|   10|          4|\n",
            "|      5121|2023-10-05|        1| 66.0|          66.0|   10|          5|\n",
            "|      5121|2023-10-06|        1| 66.0|          66.0|   10|          6|\n",
            "|      5121|2023-10-07|        1| 66.0|          66.0|   10|          7|\n",
            "|      5121|2023-10-08|        1| 66.0|          66.0|   10|          1|\n",
            "|      5121|2023-10-09|        1| 66.0|          66.0|   10|          2|\n",
            "+----------+----------+---------+-----+--------------+-----+-----------+\n",
            "only showing top 400 rows\n",
            "\n"
          ]
        }
      ],
      "source": [
        "clean_column_calendars_df.show(400)"
      ]
    },
    {
      "cell_type": "code",
      "execution_count": 212,
      "metadata": {
        "colab": {
          "base_uri": "https://localhost:8080/"
        },
        "id": "KGwn_sQtuCit",
        "outputId": "def73de7-f640-4326-c70d-e564511e19a7"
      },
      "outputs": [
        {
          "name": "stdout",
          "output_type": "stream",
          "text": [
            "+----------+----------+---------+-----+--------------+-----+-----------+--------------+------------------+\n",
            "|listing_id|      date|available|price|adjusted_price|month|day_of_week|      features|        prediction|\n",
            "+----------+----------+---------+-----+--------------+-----+-----------+--------------+------------------+\n",
            "|  10000070|2023-09-06|        0| 85.0|          85.0|    9|          4| [9.0,4.0,0.0]|207.34916592608914|\n",
            "|  10000070|2023-09-07|        0| 85.0|          85.0|    9|          5| [9.0,5.0,0.0]|207.46949479551216|\n",
            "|  10000070|2023-09-12|        0| 85.0|          85.0|    9|          3| [9.0,3.0,0.0]| 207.4552619380791|\n",
            "|  10000070|2023-09-21|        0| 85.0|          85.0|    9|          5| [9.0,5.0,0.0]|207.46949479551216|\n",
            "|  10000070|2023-09-23|        0| 85.0|          85.0|    9|          7| [9.0,7.0,0.0]|211.99827253752068|\n",
            "|  10000070|2023-10-04|        0| 85.0|          85.0|   10|          4|[10.0,4.0,0.0]|202.67368802204996|\n",
            "|  10000070|2023-10-05|        0| 85.0|          85.0|   10|          5|[10.0,5.0,0.0]|203.51649780011576|\n",
            "|  10000070|2023-10-10|        0| 85.0|          85.0|   10|          3|[10.0,3.0,0.0]|202.15053015221707|\n",
            "|  10000070|2023-10-15|        0| 85.0|          85.0|   10|          1|[10.0,1.0,0.0]|201.38983787475124|\n",
            "|  10000070|2023-10-21|        0| 85.0|          85.0|   10|          7|[10.0,7.0,0.0]|211.99340419713263|\n",
            "|  10000070|2023-10-30|        0| 85.0|          85.0|   10|          2|[10.0,2.0,0.0]|201.72645698799045|\n",
            "|  10000070|2023-10-31|        0| 85.0|          85.0|   10|          3|[10.0,3.0,0.0]|202.15053015221707|\n",
            "|  10000070|2023-11-04|        0| 85.0|          85.0|   11|          7|[11.0,7.0,0.0]|206.68393431820937|\n",
            "|  10000070|2023-11-05|        0| 85.0|          85.0|   11|          1|[11.0,1.0,0.0]|198.36326514057038|\n",
            "|  10000070|2023-11-06|        0| 85.0|          85.0|   11|          2|[11.0,2.0,0.0]|198.70637792306815|\n",
            "|  10000070|2023-11-09|        0| 85.0|          85.0|   11|          5|[11.0,5.0,0.0]|200.49641873519346|\n",
            "|  10000070|2023-11-14|        0| 85.0|          85.0|   11|          3|[11.0,3.0,0.0]| 199.1304510872948|\n",
            "|  10000070|2023-11-28|        0| 85.0|          85.0|   11|          3|[11.0,3.0,0.0]| 199.1304510872948|\n",
            "|  10000070|2023-12-06|        0| 85.0|          85.0|   12|          4|[12.0,4.0,0.0]|201.84383711465142|\n",
            "|  10000070|2023-12-09|        0| 85.0|          85.0|   12|          7|[12.0,7.0,0.0]| 210.9458243030339|\n",
            "|  10000070|2023-12-11|        0| 85.0|          85.0|   12|          2|[12.0,2.0,0.0]|200.89660608059188|\n",
            "|  10000070|2023-12-21|        0| 85.0|          85.0|   12|          5|[12.0,5.0,0.0]| 202.6866468927172|\n",
            "|  10000070|2023-12-22|        0| 85.0|          85.0|   12|          6|[12.0,6.0,0.0]| 209.2801119815158|\n",
            "|  10000070|2023-12-25|        0| 85.0|          85.0|   12|          2|[12.0,2.0,0.0]|200.89660608059188|\n",
            "|  10000070|2023-12-28|        0| 85.0|          85.0|   12|          5|[12.0,5.0,0.0]| 202.6866468927172|\n",
            "|  10000070|2023-12-31|        0| 85.0|          85.0|   12|          1|[12.0,1.0,0.0]| 200.5534932980941|\n",
            "|  10000070|2024-01-06|        0| 85.0|          85.0|    1|          7| [1.0,7.0,0.0]| 205.6944674608182|\n",
            "|  10000070|2024-01-08|        0| 85.0|          85.0|    1|          2| [1.0,2.0,0.0]|202.98333712801337|\n",
            "|  10000070|2024-01-09|        0| 85.0|          85.0|    1|          3| [1.0,3.0,0.0]| 202.9129439894491|\n",
            "|  10000070|2024-01-12|        0| 85.0|          85.0|    1|          6| [1.0,6.0,0.0]|205.87820575891283|\n",
            "|  10000070|2024-01-16|        0| 85.0|          85.0|    1|          3| [1.0,3.0,0.0]| 202.9129439894491|\n",
            "|  10000070|2024-01-21|        0| 85.0|          85.0|    1|          1| [1.0,1.0,0.0]|203.65251869989075|\n",
            "|  10000070|2024-02-08|        0| 85.0|          85.0|    2|          5| [2.0,5.0,0.0]| 203.9141075883516|\n",
            "|  10000070|2024-02-11|        0| 85.0|          85.0|    2|          1| [2.0,1.0,0.0]| 203.8330255797989|\n",
            "|  10000070|2024-02-13|        0| 85.0|          85.0|    2|          3| [2.0,3.0,0.0]|  202.906048965181|\n",
            "|  10000070|2024-02-14|        0| 85.0|          85.0|    2|          4| [2.0,4.0,0.0]|202.71706840275448|\n",
            "|  10000070|2024-02-15|        0| 85.0|          85.0|    2|          5| [2.0,5.0,0.0]| 203.9141075883516|\n",
            "|  10000070|2024-02-17|        0| 85.0|          85.0|    2|          7| [2.0,7.0,0.0]|207.19439391931127|\n",
            "|  10000070|2024-02-21|        0| 85.0|          85.0|    2|          4| [2.0,4.0,0.0]|202.71706840275448|\n",
            "|  10000070|2024-02-25|        0| 85.0|          85.0|    2|          1| [2.0,1.0,0.0]| 203.8330255797989|\n",
            "|  10000070|2024-02-28|        0| 85.0|          85.0|    2|          4| [2.0,4.0,0.0]|202.71706840275448|\n",
            "|  10000070|2024-03-01|        0| 85.0|          85.0|    3|          6| [3.0,6.0,0.0]|207.37304954631927|\n",
            "|  10000070|2024-03-09|        0| 85.0|          85.0|    3|          7| [3.0,7.0,0.0]| 209.3653531567013|\n",
            "|  10000070|2024-03-13|        0| 85.0|          85.0|    3|          4| [3.0,4.0,0.0]|206.28557732566622|\n",
            "|  10000070|2024-03-15|        0| 85.0|          85.0|    3|          6| [3.0,6.0,0.0]|207.37304954631927|\n",
            "|  10000070|2024-03-18|        0| 85.0|          85.0|    3|          2| [3.0,2.0,0.0]| 206.4831362085245|\n",
            "|  10000070|2024-03-21|        0| 85.0|          85.0|    3|          5| [3.0,5.0,0.0]|207.46715637943217|\n",
            "|  10000070|2024-03-24|        0| 85.0|          85.0|    3|          1| [3.0,1.0,0.0]| 205.7768122506916|\n",
            "|  10000070|2024-03-29|        0| 85.0|          85.0|    3|          6| [3.0,6.0,0.0]|207.37304954631927|\n",
            "|  10000070|2024-03-30|        0| 85.0|          85.0|    3|          7| [3.0,7.0,0.0]| 209.3653531567013|\n",
            "|  10000070|2024-04-01|        0| 85.0|          85.0|    4|          2| [4.0,2.0,0.0]|208.33482873915437|\n",
            "|  10000070|2024-04-08|        0| 85.0|          85.0|    4|          2| [4.0,2.0,0.0]|208.33482873915437|\n",
            "|  10000070|2024-04-19|        0| 85.0|          85.0|    4|          6| [4.0,6.0,0.0]| 211.8521625455106|\n",
            "|  10000070|2024-04-21|        0| 85.0|          85.0|    4|          1| [4.0,1.0,0.0]|207.47856142660598|\n",
            "|  10000070|2024-04-24|        0| 85.0|          85.0|    4|          4| [4.0,4.0,0.0]|207.31768646756768|\n",
            "|  10000070|2024-04-25|        0| 85.0|          85.0|    4|          5| [4.0,5.0,0.0]| 207.4380153369907|\n",
            "|  10000070|2024-04-26|        0| 85.0|          85.0|    4|          6| [4.0,6.0,0.0]| 211.8521625455106|\n",
            "|  10000070|2024-05-16|        0| 85.0|          85.0|    5|          5| [5.0,5.0,0.0]|207.71747304589772|\n",
            "|  10000070|2024-05-21|        0| 85.0|          85.0|    5|          3| [5.0,3.0,0.0]|207.70324018846458|\n",
            "|  10000070|2024-05-24|        0| 85.0|          85.0|    5|          6| [5.0,6.0,0.0]| 212.9928066816621|\n",
            "|  10000070|2024-05-30|        0| 85.0|          85.0|    5|          5| [5.0,5.0,0.0]|207.71747304589772|\n",
            "|  10000070|2024-05-31|        0| 85.0|          85.0|    5|          6| [5.0,6.0,0.0]| 212.9928066816621|\n",
            "|  10000070|2024-06-01|        0| 85.0|          85.0|    6|          7| [6.0,7.0,0.0]| 213.6348399556704|\n",
            "|  10000070|2024-06-06|        0| 85.0|          85.0|    6|          5| [6.0,5.0,0.0]|207.71747304589772|\n",
            "|  10000070|2024-06-07|        0| 85.0|          85.0|    6|          6| [6.0,6.0,0.0]|213.15893260294803|\n",
            "|  10000070|2024-06-10|        0| 85.0|          85.0|    6|          2| [6.0,2.0,0.0]|208.61428644806134|\n",
            "|  10000070|2024-06-11|        0| 85.0|          85.0|    6|          3| [6.0,3.0,0.0]|207.70324018846458|\n",
            "|  10000070|2024-06-19|        0| 85.0|          85.0|    6|          4| [6.0,4.0,0.0]| 207.5971441764747|\n",
            "|  10000070|2024-06-20|        0| 85.0|          85.0|    6|          5| [6.0,5.0,0.0]|207.71747304589772|\n",
            "|  10000070|2024-06-21|        0| 85.0|          85.0|    6|          6| [6.0,6.0,0.0]|213.15893260294803|\n",
            "|  10000070|2024-06-24|        0| 85.0|          85.0|    6|          2| [6.0,2.0,0.0]|208.61428644806134|\n",
            "|  10000070|2024-07-02|        0| 85.0|          85.0|    7|          3| [7.0,3.0,0.0]|207.70324018846458|\n",
            "|  10000070|2024-07-08|        0| 85.0|          85.0|    7|          2| [7.0,2.0,0.0]|208.61428644806134|\n",
            "|  10000070|2024-07-13|        0| 85.0|          85.0|    7|          7| [7.0,7.0,0.0]| 213.6348399556704|\n",
            "|  10000070|2024-07-19|        0| 85.0|          85.0|    7|          6| [7.0,6.0,0.0]|213.15893260294803|\n",
            "|  10000070|2024-07-23|        0| 85.0|          85.0|    7|          3| [7.0,3.0,0.0]|207.70324018846458|\n",
            "|  10000070|2024-07-24|        0| 85.0|          85.0|    7|          4| [7.0,4.0,0.0]| 207.5971441764747|\n",
            "|  10000070|2024-07-29|        0| 85.0|          85.0|    7|          2| [7.0,2.0,0.0]|208.61428644806134|\n",
            "|  10000070|2024-07-31|        0| 85.0|          85.0|    7|          4| [7.0,4.0,0.0]| 207.5971441764747|\n",
            "|  10000070|2024-08-06|        0| 85.0|          85.0|    8|          3| [8.0,3.0,0.0]|207.70324018846458|\n",
            "|  10000070|2024-08-08|        0| 85.0|          85.0|    8|          5| [8.0,5.0,0.0]|207.71747304589772|\n",
            "|  10000070|2024-08-11|        0| 85.0|          85.0|    8|          1| [8.0,1.0,0.0]|207.75801913551294|\n",
            "|  10000070|2024-08-14|        0| 85.0|          85.0|    8|          4| [8.0,4.0,0.0]| 207.5971441764747|\n",
            "|  10000070|2024-08-21|        0| 85.0|          85.0|    8|          4| [8.0,4.0,0.0]| 207.5971441764747|\n",
            "|  10000070|2024-09-01|        0| 85.0|          85.0|    9|          1| [9.0,1.0,0.0]|207.51004088512747|\n",
            "|  10001022|2023-09-06|        0|105.0|         105.0|    9|          4| [9.0,4.0,0.0]|207.34916592608914|\n",
            "|  10001022|2023-09-11|        0|105.0|         105.0|    9|          2| [9.0,2.0,0.0]|208.36630819767583|\n",
            "|  10001022|2023-09-15|        0|105.0|         105.0|    9|          6| [9.0,6.0,0.0]|211.36919202025416|\n",
            "|  10001022|2023-09-28|        0|105.0|         105.0|    9|          5| [9.0,5.0,0.0]|207.46949479551216|\n",
            "|  10001022|2023-10-06|        0|105.0|         105.0|   10|          6|[10.0,6.0,0.0]|211.19656106006818|\n",
            "|  10001022|2023-10-07|        0|105.0|         105.0|   10|          7|[10.0,7.0,0.0]|211.99340419713263|\n",
            "|  10001022|2023-10-12|        0|105.0|         105.0|   10|          5|[10.0,5.0,0.0]|203.51649780011576|\n",
            "|  10001022|2023-10-21|        0|105.0|         105.0|   10|          7|[10.0,7.0,0.0]|211.99340419713263|\n",
            "|  10001022|2023-10-22|        0|105.0|         105.0|   10|          1|[10.0,1.0,0.0]|201.38983787475124|\n",
            "|  10001022|2023-10-25|        0|105.0|         105.0|   10|          4|[10.0,4.0,0.0]|202.67368802204996|\n",
            "|  10001022|2023-11-14|        0|105.0|         105.0|   11|          3|[11.0,3.0,0.0]| 199.1304510872948|\n",
            "|  10001022|2023-11-21|        0|105.0|         105.0|   11|          3|[11.0,3.0,0.0]| 199.1304510872948|\n",
            "|  10001022|2023-11-23|        0|105.0|         105.0|   11|          5|[11.0,5.0,0.0]|200.49641873519346|\n",
            "|  10001022|2023-11-27|        0|105.0|         105.0|   11|          2|[11.0,2.0,0.0]|198.70637792306815|\n",
            "|  10001022|2023-11-30|        0|105.0|         105.0|   11|          5|[11.0,5.0,0.0]|200.49641873519346|\n",
            "|  10001022|2023-12-05|        0|105.0|         105.0|   12|          3|[12.0,3.0,0.0]| 201.3206792448185|\n",
            "|  10001022|2023-12-09|        0|105.0|         105.0|   12|          7|[12.0,7.0,0.0]| 210.9458243030339|\n",
            "|  10001022|2023-12-10|        0|105.0|         105.0|   12|          1|[12.0,1.0,0.0]| 200.5534932980941|\n",
            "|  10001022|2023-12-11|        0|105.0|         105.0|   12|          2|[12.0,2.0,0.0]|200.89660608059188|\n",
            "|  10001022|2023-12-13|        0|105.0|         105.0|   12|          4|[12.0,4.0,0.0]|201.84383711465142|\n",
            "|  10001022|2023-12-19|        0|105.0|         105.0|   12|          3|[12.0,3.0,0.0]| 201.3206792448185|\n",
            "|  10001022|2023-12-31|        0|105.0|         105.0|   12|          1|[12.0,1.0,0.0]| 200.5534932980941|\n",
            "|  10001022|2024-01-01|        0|105.0|         105.0|    1|          2| [1.0,2.0,0.0]|202.98333712801337|\n",
            "|  10001022|2024-01-03|        0|105.0|         105.0|    1|          4| [1.0,4.0,0.0]| 202.7239634270226|\n",
            "|  10001022|2024-01-04|        0|105.0|         105.0|    1|          5| [1.0,5.0,0.0]| 203.8686674994529|\n",
            "|  10001022|2024-01-08|        0|105.0|         105.0|    1|          2| [1.0,2.0,0.0]|202.98333712801337|\n",
            "|  10001022|2024-01-09|        0|105.0|         105.0|    1|          3| [1.0,3.0,0.0]| 202.9129439894491|\n",
            "|  10001022|2024-01-11|        0|105.0|         105.0|    1|          5| [1.0,5.0,0.0]| 203.8686674994529|\n",
            "|  10001022|2024-01-14|        0|105.0|         105.0|    1|          1| [1.0,1.0,0.0]|203.65251869989075|\n",
            "|  10001022|2024-01-15|        0|105.0|         105.0|    1|          2| [1.0,2.0,0.0]|202.98333712801337|\n",
            "|  10001022|2024-01-16|        0|105.0|         105.0|    1|          3| [1.0,3.0,0.0]| 202.9129439894491|\n",
            "|  10001022|2024-01-18|        0|105.0|         105.0|    1|          5| [1.0,5.0,0.0]| 203.8686674994529|\n",
            "|  10001022|2024-01-19|        0|105.0|         105.0|    1|          6| [1.0,6.0,0.0]|205.87820575891283|\n",
            "|  10001022|2024-01-25|        0|105.0|         105.0|    1|          5| [1.0,5.0,0.0]| 203.8686674994529|\n",
            "|  10001022|2024-01-27|        0|105.0|         105.0|    1|          7| [1.0,7.0,0.0]| 205.6944674608182|\n",
            "|  10001022|2024-01-28|        0|105.0|         105.0|    1|          1| [1.0,1.0,0.0]|203.65251869989075|\n",
            "|  10001022|2024-02-02|        0|105.0|         105.0|    2|          6| [2.0,6.0,0.0]|  207.265443911498|\n",
            "|  10001022|2024-02-08|        0|105.0|         105.0|    2|          5| [2.0,5.0,0.0]| 203.9141075883516|\n",
            "|  10001022|2024-02-12|        0|105.0|         105.0|    2|          2| [2.0,2.0,0.0]|203.00109585160226|\n",
            "|  10001022|2024-02-14|        0|105.0|         105.0|    2|          4| [2.0,4.0,0.0]|202.71706840275448|\n",
            "|  10001022|2024-02-15|        0|105.0|         105.0|    2|          5| [2.0,5.0,0.0]| 203.9141075883516|\n",
            "|  10001022|2024-02-27|        0|105.0|         105.0|    2|          3| [2.0,3.0,0.0]|  202.906048965181|\n",
            "|  10001022|2024-03-07|        0|105.0|         105.0|    3|          5| [3.0,5.0,0.0]|207.46715637943217|\n",
            "|  10001022|2024-03-10|        0|105.0|         105.0|    3|          1| [3.0,1.0,0.0]| 205.7768122506916|\n",
            "|  10001022|2024-03-11|        0|105.0|         105.0|    3|          2| [3.0,2.0,0.0]| 206.4831362085245|\n",
            "|  10001022|2024-03-15|        0|105.0|         105.0|    3|          6| [3.0,6.0,0.0]|207.37304954631927|\n",
            "|  10001022|2024-03-30|        0|105.0|         105.0|    3|          7| [3.0,7.0,0.0]| 209.3653531567013|\n",
            "|  10001022|2024-04-04|        0|105.0|         105.0|    4|          5| [4.0,5.0,0.0]| 207.4380153369907|\n",
            "|  10001022|2024-04-05|        0|105.0|         105.0|    4|          6| [4.0,6.0,0.0]| 211.8521625455106|\n",
            "|  10001022|2024-04-07|        0|105.0|         105.0|    4|          1| [4.0,1.0,0.0]|207.47856142660598|\n",
            "|  10001022|2024-04-10|        0|105.0|         105.0|    4|          4| [4.0,4.0,0.0]|207.31768646756768|\n",
            "|  10001022|2024-04-11|        0|105.0|         105.0|    4|          5| [4.0,5.0,0.0]| 207.4380153369907|\n",
            "|  10001022|2024-04-15|        0|105.0|         105.0|    4|          2| [4.0,2.0,0.0]|208.33482873915437|\n",
            "|  10001022|2024-04-24|        0|105.0|         105.0|    4|          4| [4.0,4.0,0.0]|207.31768646756768|\n",
            "|  10001022|2024-04-25|        0|105.0|         105.0|    4|          5| [4.0,5.0,0.0]| 207.4380153369907|\n",
            "|  10001022|2024-04-26|        0|105.0|         105.0|    4|          6| [4.0,6.0,0.0]| 211.8521625455106|\n",
            "|  10001022|2024-05-10|        0|105.0|         105.0|    5|          6| [5.0,6.0,0.0]| 212.9928066816621|\n",
            "|  10001022|2024-05-11|        0|105.0|         105.0|    5|          7| [5.0,7.0,0.0]|213.46871403438445|\n",
            "|  10001022|2024-05-14|        0|105.0|         105.0|    5|          3| [5.0,3.0,0.0]|207.70324018846458|\n",
            "|  10001022|2024-05-17|        0|105.0|         105.0|    5|          6| [5.0,6.0,0.0]| 212.9928066816621|\n",
            "|  10001022|2024-05-21|        0|105.0|         105.0|    5|          3| [5.0,3.0,0.0]|207.70324018846458|\n",
            "|  10001022|2024-05-22|        0|105.0|         105.0|    5|          4| [5.0,4.0,0.0]| 207.5971441764747|\n",
            "|  10001022|2024-05-24|        0|105.0|         105.0|    5|          6| [5.0,6.0,0.0]| 212.9928066816621|\n",
            "|  10001022|2024-05-30|        0|105.0|         105.0|    5|          5| [5.0,5.0,0.0]|207.71747304589772|\n",
            "|  10001022|2024-06-01|        0|105.0|         105.0|    6|          7| [6.0,7.0,0.0]| 213.6348399556704|\n",
            "|  10001022|2024-06-04|        0|105.0|         105.0|    6|          3| [6.0,3.0,0.0]|207.70324018846458|\n",
            "|  10001022|2024-06-10|        0|105.0|         105.0|    6|          2| [6.0,2.0,0.0]|208.61428644806134|\n",
            "|  10001022|2024-06-13|        0|105.0|         105.0|    6|          5| [6.0,5.0,0.0]|207.71747304589772|\n",
            "|  10001022|2024-06-15|        0|105.0|         105.0|    6|          7| [6.0,7.0,0.0]| 213.6348399556704|\n",
            "|  10001022|2024-06-27|        0|105.0|         105.0|    6|          5| [6.0,5.0,0.0]|207.71747304589772|\n",
            "|  10001022|2024-06-29|        0|105.0|         105.0|    6|          7| [6.0,7.0,0.0]| 213.6348399556704|\n",
            "|  10001022|2024-06-30|        0|105.0|         105.0|    6|          1| [6.0,1.0,0.0]|207.75801913551294|\n",
            "|  10001022|2024-07-18|        0|105.0|         105.0|    7|          5| [7.0,5.0,0.0]|207.71747304589772|\n",
            "|  10001022|2024-07-23|        0|105.0|         105.0|    7|          3| [7.0,3.0,0.0]|207.70324018846458|\n",
            "|  10001022|2024-07-24|        0|105.0|         105.0|    7|          4| [7.0,4.0,0.0]| 207.5971441764747|\n",
            "|  10001022|2024-07-25|        0|105.0|         105.0|    7|          5| [7.0,5.0,0.0]|207.71747304589772|\n",
            "|  10001022|2024-08-08|        0|105.0|         105.0|    8|          5| [8.0,5.0,0.0]|207.71747304589772|\n",
            "|  10001022|2024-08-10|        0|105.0|         105.0|    8|          7| [8.0,7.0,0.0]|214.15398273230704|\n",
            "|  10001022|2024-08-20|        0|105.0|         105.0|    8|          3| [8.0,3.0,0.0]|207.70324018846458|\n",
            "|  10001022|2024-08-23|        0|105.0|         105.0|    8|          6| [8.0,6.0,0.0]|213.67807537958464|\n",
            "|  10001022|2024-08-26|        0|105.0|         105.0|    8|          2| [8.0,2.0,0.0]|208.61428644806134|\n",
            "|  10001022|2024-08-31|        0|105.0|         105.0|    8|          7| [8.0,7.0,0.0]|214.15398273230704|\n",
            "|  10010012|2023-09-08|        0|200.0|         200.0|    9|          6| [9.0,6.0,0.0]|211.36919202025416|\n",
            "|  10010012|2023-09-16|        0|200.0|         200.0|    9|          7| [9.0,7.0,0.0]|211.99827253752068|\n",
            "|  10010012|2023-09-19|        0|200.0|         200.0|    9|          3| [9.0,3.0,0.0]| 207.4552619380791|\n",
            "|  10010012|2023-09-22|        0|200.0|         200.0|    9|          6| [9.0,6.0,0.0]|211.36919202025416|\n",
            "|  10010012|2023-09-28|        0|200.0|         200.0|    9|          5| [9.0,5.0,0.0]|207.46949479551216|\n",
            "|  10010012|2023-10-02|        0|200.0|         200.0|   10|          2|[10.0,2.0,0.0]|201.72645698799045|\n",
            "|  10010012|2023-10-04|        0|200.0|         200.0|   10|          4|[10.0,4.0,0.0]|202.67368802204996|\n",
            "|  10010012|2023-10-05|        0|200.0|         200.0|   10|          5|[10.0,5.0,0.0]|203.51649780011576|\n",
            "|  10010012|2023-10-06|        0|200.0|         200.0|   10|          6|[10.0,6.0,0.0]|211.19656106006818|\n",
            "|  10010012|2023-10-14|        0|200.0|         200.0|   10|          7|[10.0,7.0,0.0]|211.99340419713263|\n",
            "|  10010012|2023-11-06|        0|200.0|         200.0|   11|          2|[11.0,2.0,0.0]|198.70637792306815|\n",
            "|  10010012|2023-11-12|        0|200.0|         200.0|   11|          1|[11.0,1.0,0.0]|198.36326514057038|\n",
            "|  10010012|2023-11-13|        0|200.0|         200.0|   11|          2|[11.0,2.0,0.0]|198.70637792306815|\n",
            "|  10010012|2023-11-15|        0|200.0|         200.0|   11|          4|[11.0,4.0,0.0]| 199.6536089571277|\n",
            "|  10010012|2023-11-17|        0|200.0|         200.0|   11|          6|[11.0,6.0,0.0]|205.77880885125705|\n",
            "|  10010012|2023-11-18|        0|200.0|         200.0|   11|          7|[11.0,7.0,0.0]|206.68393431820937|\n",
            "|  10010012|2023-11-22|        0|200.0|         200.0|   11|          4|[11.0,4.0,0.0]| 199.6536089571277|\n",
            "|  10010012|2023-11-29|        0|200.0|         200.0|   11|          4|[11.0,4.0,0.0]| 199.6536089571277|\n",
            "|  10010012|2023-12-01|        0|200.0|         200.0|   12|          6|[12.0,6.0,0.0]| 209.2801119815158|\n",
            "|  10010012|2023-12-11|        0|200.0|         200.0|   12|          2|[12.0,2.0,0.0]|200.89660608059188|\n",
            "|  10010012|2023-12-12|        0|200.0|         200.0|   12|          3|[12.0,3.0,0.0]| 201.3206792448185|\n",
            "|  10010012|2023-12-28|        0|200.0|         200.0|   12|          5|[12.0,5.0,0.0]| 202.6866468927172|\n",
            "|  10010012|2024-01-07|        0|200.0|         200.0|    1|          1| [1.0,1.0,0.0]|203.65251869989075|\n",
            "|  10010012|2024-01-09|        0|200.0|         200.0|    1|          3| [1.0,3.0,0.0]| 202.9129439894491|\n",
            "|  10010012|2024-01-16|        0|200.0|         200.0|    1|          3| [1.0,3.0,0.0]| 202.9129439894491|\n",
            "|  10010012|2024-01-23|        0|200.0|         200.0|    1|          3| [1.0,3.0,0.0]| 202.9129439894491|\n",
            "|  10010012|2024-01-25|        0|200.0|         200.0|    1|          5| [1.0,5.0,0.0]| 203.8686674994529|\n",
            "|  10010012|2024-01-28|        0|200.0|         200.0|    1|          1| [1.0,1.0,0.0]|203.65251869989075|\n",
            "|  10010012|2024-01-30|        0|200.0|         200.0|    1|          3| [1.0,3.0,0.0]| 202.9129439894491|\n",
            "|  10010012|2024-02-03|        0|200.0|         200.0|    2|          7| [2.0,7.0,0.0]|207.19439391931127|\n",
            "|  10010012|2024-02-04|        0|200.0|         200.0|    2|          1| [2.0,1.0,0.0]| 203.8330255797989|\n",
            "|  10010012|2024-02-09|        0|200.0|         200.0|    2|          6| [2.0,6.0,0.0]|  207.265443911498|\n",
            "|  10010012|2024-02-10|        0|200.0|         200.0|    2|          7| [2.0,7.0,0.0]|207.19439391931127|\n",
            "|  10010012|2024-02-13|        0|200.0|         200.0|    2|          3| [2.0,3.0,0.0]|  202.906048965181|\n",
            "|  10010012|2024-02-22|        0|200.0|         200.0|    2|          5| [2.0,5.0,0.0]| 203.9141075883516|\n",
            "|  10010012|2024-03-02|        0|200.0|         200.0|    3|          7| [3.0,7.0,0.0]| 209.3653531567013|\n",
            "|  10010012|2024-03-15|        0|200.0|         200.0|    3|          6| [3.0,6.0,0.0]|207.37304954631927|\n",
            "|  10010012|2024-03-25|        0|200.0|         200.0|    3|          2| [3.0,2.0,0.0]| 206.4831362085245|\n",
            "|  10010012|2024-04-02|        0|200.0|         200.0|    4|          3| [4.0,3.0,0.0]|207.42378247955762|\n",
            "|  10010012|2024-04-04|        0|200.0|         200.0|    4|          5| [4.0,5.0,0.0]| 207.4380153369907|\n",
            "|  10010012|2024-04-05|        0|200.0|         200.0|    4|          6| [4.0,6.0,0.0]| 211.8521625455106|\n",
            "|  10010012|2024-04-07|        0|200.0|         200.0|    4|          1| [4.0,1.0,0.0]|207.47856142660598|\n",
            "|  10010012|2024-04-15|        0|200.0|         200.0|    4|          2| [4.0,2.0,0.0]|208.33482873915437|\n",
            "|  10010012|2024-05-12|        0|200.0|         200.0|    5|          1| [5.0,1.0,0.0]|207.75801913551294|\n",
            "|  10010012|2024-05-15|        0|200.0|         200.0|    5|          4| [5.0,4.0,0.0]| 207.5971441764747|\n",
            "|  10010012|2024-05-21|        0|200.0|         200.0|    5|          3| [5.0,3.0,0.0]|207.70324018846458|\n",
            "|  10010012|2024-06-06|        0|200.0|         200.0|    6|          5| [6.0,5.0,0.0]|207.71747304589772|\n",
            "|  10010012|2024-06-07|        0|200.0|         200.0|    6|          6| [6.0,6.0,0.0]|213.15893260294803|\n",
            "|  10010012|2024-06-09|        0|200.0|         200.0|    6|          1| [6.0,1.0,0.0]|207.75801913551294|\n",
            "|  10010012|2024-06-15|        0|200.0|         200.0|    6|          7| [6.0,7.0,0.0]| 213.6348399556704|\n",
            "|  10010012|2024-06-17|        0|200.0|         200.0|    6|          2| [6.0,2.0,0.0]|208.61428644806134|\n",
            "|  10010012|2024-06-26|        0|200.0|         200.0|    6|          4| [6.0,4.0,0.0]| 207.5971441764747|\n",
            "|  10010012|2024-06-27|        0|200.0|         200.0|    6|          5| [6.0,5.0,0.0]|207.71747304589772|\n",
            "|  10010012|2024-07-03|        0|200.0|         200.0|    7|          4| [7.0,4.0,0.0]| 207.5971441764747|\n",
            "|  10010012|2024-07-09|        0|200.0|         200.0|    7|          3| [7.0,3.0,0.0]|207.70324018846458|\n",
            "|  10010012|2024-07-17|        0|200.0|         200.0|    7|          4| [7.0,4.0,0.0]| 207.5971441764747|\n",
            "|  10010012|2024-07-19|        0|200.0|         200.0|    7|          6| [7.0,6.0,0.0]|213.15893260294803|\n",
            "|  10010012|2024-07-24|        0|200.0|         200.0|    7|          4| [7.0,4.0,0.0]| 207.5971441764747|\n",
            "|  10010012|2024-07-31|        0|200.0|         200.0|    7|          4| [7.0,4.0,0.0]| 207.5971441764747|\n",
            "|  10010012|2024-08-12|        0|200.0|         200.0|    8|          2| [8.0,2.0,0.0]|208.61428644806134|\n",
            "|  10010012|2024-08-24|        0|200.0|         200.0|    8|          7| [8.0,7.0,0.0]|214.15398273230704|\n",
            "|  10010012|2024-08-28|        0|200.0|         200.0|    8|          4| [8.0,4.0,0.0]| 207.5971441764747|\n",
            "|  10010012|2024-08-31|        0|200.0|         200.0|    8|          7| [8.0,7.0,0.0]|214.15398273230704|\n",
            "|  10010012|2024-09-01|        0|200.0|         200.0|    9|          1| [9.0,1.0,0.0]|207.51004088512747|\n",
            "|  10011086|2023-09-06|        0|100.0|         100.0|    9|          4| [9.0,4.0,0.0]|207.34916592608914|\n",
            "|  10011086|2023-09-15|        0|100.0|         100.0|    9|          6| [9.0,6.0,0.0]|211.36919202025416|\n",
            "|  10011086|2023-09-18|        0|100.0|         100.0|    9|          2| [9.0,2.0,0.0]|208.36630819767583|\n",
            "|  10011086|2023-09-21|        0|100.0|         100.0|    9|          5| [9.0,5.0,0.0]|207.46949479551216|\n",
            "|  10011086|2023-09-27|        0|100.0|         100.0|    9|          4| [9.0,4.0,0.0]|207.34916592608914|\n",
            "|  10011086|2023-10-01|        0|100.0|         100.0|   10|          1|[10.0,1.0,0.0]|201.38983787475124|\n",
            "|  10011086|2023-10-13|        0|100.0|         100.0|   10|          6|[10.0,6.0,0.0]|211.19656106006818|\n",
            "|  10011086|2023-10-15|        0|100.0|         100.0|   10|          1|[10.0,1.0,0.0]|201.38983787475124|\n",
            "|  10011086|2023-10-16|        0|100.0|         100.0|   10|          2|[10.0,2.0,0.0]|201.72645698799045|\n",
            "|  10011086|2023-10-25|        0|100.0|         100.0|   10|          4|[10.0,4.0,0.0]|202.67368802204996|\n",
            "|  10011086|2023-10-27|        0|100.0|         100.0|   10|          6|[10.0,6.0,0.0]|211.19656106006818|\n",
            "|  10011086|2023-11-01|        0|100.0|         100.0|   11|          4|[11.0,4.0,0.0]| 199.6536089571277|\n",
            "|  10011086|2023-11-03|        0|100.0|         100.0|   11|          6|[11.0,6.0,0.0]|205.77880885125705|\n",
            "|  10011086|2023-11-07|        0|100.0|         100.0|   11|          3|[11.0,3.0,0.0]| 199.1304510872948|\n",
            "|  10011086|2023-11-20|        0|100.0|         100.0|   11|          2|[11.0,2.0,0.0]|198.70637792306815|\n",
            "|  10011086|2023-11-22|        0|100.0|         100.0|   11|          4|[11.0,4.0,0.0]| 199.6536089571277|\n",
            "|  10011086|2023-11-29|        0|100.0|         100.0|   11|          4|[11.0,4.0,0.0]| 199.6536089571277|\n",
            "|  10011086|2023-12-05|        0|100.0|         100.0|   12|          3|[12.0,3.0,0.0]| 201.3206792448185|\n",
            "|  10011086|2023-12-09|        0|100.0|         100.0|   12|          7|[12.0,7.0,0.0]| 210.9458243030339|\n",
            "|  10011086|2023-12-10|        0|100.0|         100.0|   12|          1|[12.0,1.0,0.0]| 200.5534932980941|\n",
            "|  10011086|2023-12-23|        0|100.0|         100.0|   12|          7|[12.0,7.0,0.0]| 210.9458243030339|\n",
            "|  10011086|2023-12-27|        0|100.0|         100.0|   12|          4|[12.0,4.0,0.0]|201.84383711465142|\n",
            "|  10011086|2023-12-31|        0|100.0|         100.0|   12|          1|[12.0,1.0,0.0]| 200.5534932980941|\n",
            "|  10011086|2024-01-09|        0|100.0|         100.0|    1|          3| [1.0,3.0,0.0]| 202.9129439894491|\n",
            "|  10011086|2024-01-11|        0|100.0|         100.0|    1|          5| [1.0,5.0,0.0]| 203.8686674994529|\n",
            "|  10011086|2024-01-14|        0|100.0|         100.0|    1|          1| [1.0,1.0,0.0]|203.65251869989075|\n",
            "|  10011086|2024-01-16|        0|100.0|         100.0|    1|          3| [1.0,3.0,0.0]| 202.9129439894491|\n",
            "|  10011086|2024-01-19|        0|100.0|         100.0|    1|          6| [1.0,6.0,0.0]|205.87820575891283|\n",
            "|  10011086|2024-01-27|        0|100.0|         100.0|    1|          7| [1.0,7.0,0.0]| 205.6944674608182|\n",
            "|  10011086|2024-02-09|        0|100.0|         100.0|    2|          6| [2.0,6.0,0.0]|  207.265443911498|\n",
            "|  10011086|2024-02-12|        0|100.0|         100.0|    2|          2| [2.0,2.0,0.0]|203.00109585160226|\n",
            "|  10011086|2024-02-19|        0|100.0|         100.0|    2|          2| [2.0,2.0,0.0]|203.00109585160226|\n",
            "|  10011086|2024-02-24|        0|100.0|         100.0|    2|          7| [2.0,7.0,0.0]|207.19439391931127|\n",
            "|  10011086|2024-02-27|        0|100.0|         100.0|    2|          3| [2.0,3.0,0.0]|  202.906048965181|\n",
            "|  10011086|2024-03-05|        0|100.0|         100.0|    3|          3| [3.0,3.0,0.0]| 206.4437711786482|\n",
            "|  10011086|2024-03-06|        0|100.0|         100.0|    3|          4| [3.0,4.0,0.0]|206.28557732566622|\n",
            "|  10011086|2024-03-11|        0|100.0|         100.0|    3|          2| [3.0,2.0,0.0]| 206.4831362085245|\n",
            "|  10011086|2024-03-14|        0|100.0|         100.0|    3|          5| [3.0,5.0,0.0]|207.46715637943217|\n",
            "|  10011086|2024-03-17|        0|100.0|         100.0|    3|          1| [3.0,1.0,0.0]| 205.7768122506916|\n",
            "|  10011086|2024-03-20|        0|100.0|         100.0|    3|          4| [3.0,4.0,0.0]|206.28557732566622|\n",
            "|  10011086|2024-03-21|        0|100.0|         100.0|    3|          5| [3.0,5.0,0.0]|207.46715637943217|\n",
            "|  10011086|2024-04-08|        0|100.0|         100.0|    4|          2| [4.0,2.0,0.0]|208.33482873915437|\n",
            "|  10011086|2024-04-09|        0|100.0|         100.0|    4|          3| [4.0,3.0,0.0]|207.42378247955762|\n",
            "|  10011086|2024-04-12|        0|100.0|         100.0|    4|          6| [4.0,6.0,0.0]| 211.8521625455106|\n",
            "|  10011086|2024-04-25|        0|100.0|         100.0|    4|          5| [4.0,5.0,0.0]| 207.4380153369907|\n",
            "|  10011086|2024-05-06|        0|100.0|         100.0|    5|          2| [5.0,2.0,0.0]|208.61428644806134|\n",
            "|  10011086|2024-05-16|        0|100.0|         100.0|    5|          5| [5.0,5.0,0.0]|207.71747304589772|\n",
            "|  10011086|2024-05-19|        0|100.0|         100.0|    5|          1| [5.0,1.0,0.0]|207.75801913551294|\n",
            "|  10011086|2024-05-20|        0|100.0|         100.0|    5|          2| [5.0,2.0,0.0]|208.61428644806134|\n",
            "|  10011086|2024-05-21|        0|100.0|         100.0|    5|          3| [5.0,3.0,0.0]|207.70324018846458|\n",
            "|  10011086|2024-05-30|        0|100.0|         100.0|    5|          5| [5.0,5.0,0.0]|207.71747304589772|\n",
            "|  10011086|2024-06-09|        0|100.0|         100.0|    6|          1| [6.0,1.0,0.0]|207.75801913551294|\n",
            "|  10011086|2024-06-18|        0|100.0|         100.0|    6|          3| [6.0,3.0,0.0]|207.70324018846458|\n",
            "|  10011086|2024-06-22|        0|100.0|         100.0|    6|          7| [6.0,7.0,0.0]| 213.6348399556704|\n",
            "|  10011086|2024-06-25|        0|100.0|         100.0|    6|          3| [6.0,3.0,0.0]|207.70324018846458|\n",
            "|  10011086|2024-07-02|        0|100.0|         100.0|    7|          3| [7.0,3.0,0.0]|207.70324018846458|\n",
            "|  10011086|2024-07-08|        0|100.0|         100.0|    7|          2| [7.0,2.0,0.0]|208.61428644806134|\n",
            "|  10011086|2024-07-12|        0|100.0|         100.0|    7|          6| [7.0,6.0,0.0]|213.15893260294803|\n",
            "|  10011086|2024-07-13|        0|100.0|         100.0|    7|          7| [7.0,7.0,0.0]| 213.6348399556704|\n",
            "|  10011086|2024-07-14|        0|100.0|         100.0|    7|          1| [7.0,1.0,0.0]|207.75801913551294|\n",
            "|  10011086|2024-07-23|        0|100.0|         100.0|    7|          3| [7.0,3.0,0.0]|207.70324018846458|\n",
            "|  10011086|2024-08-06|        0|100.0|         100.0|    8|          3| [8.0,3.0,0.0]|207.70324018846458|\n",
            "|  10011086|2024-08-08|        0|100.0|         100.0|    8|          5| [8.0,5.0,0.0]|207.71747304589772|\n",
            "|  10011086|2024-08-12|        0|100.0|         100.0|    8|          2| [8.0,2.0,0.0]|208.61428644806134|\n",
            "|  10011086|2024-08-14|        0|100.0|         100.0|    8|          4| [8.0,4.0,0.0]| 207.5971441764747|\n",
            "|  10011086|2024-08-17|        0|100.0|         100.0|    8|          7| [8.0,7.0,0.0]|214.15398273230704|\n",
            "|  10011086|2024-08-18|        0|100.0|         100.0|    8|          1| [8.0,1.0,0.0]|207.75801913551294|\n",
            "|  10011086|2024-08-22|        0|100.0|         100.0|    8|          5| [8.0,5.0,0.0]|207.71747304589772|\n",
            "|  10011086|2024-08-29|        0|100.0|         100.0|    8|          5| [8.0,5.0,0.0]|207.71747304589772|\n",
            "|   1001147|2023-09-25|        0| 55.0|          55.0|    9|          2| [9.0,2.0,0.0]|208.36630819767583|\n",
            "|   1001147|2023-09-26|        0| 55.0|          55.0|    9|          3| [9.0,3.0,0.0]| 207.4552619380791|\n",
            "|   1001147|2023-09-30|        0| 55.0|          55.0|    9|          7| [9.0,7.0,0.0]|211.99827253752068|\n",
            "|   1001147|2023-10-04|        0| 55.0|          55.0|   10|          4|[10.0,4.0,0.0]|202.67368802204996|\n",
            "|   1001147|2023-10-07|        0| 55.0|          55.0|   10|          7|[10.0,7.0,0.0]|211.99340419713263|\n",
            "|   1001147|2023-10-09|        0| 55.0|          55.0|   10|          2|[10.0,2.0,0.0]|201.72645698799045|\n",
            "|   1001147|2023-10-11|        0| 55.0|          55.0|   10|          4|[10.0,4.0,0.0]|202.67368802204996|\n",
            "|   1001147|2023-10-22|        0| 55.0|          55.0|   10|          1|[10.0,1.0,0.0]|201.38983787475124|\n",
            "|   1001147|2023-10-23|        0| 55.0|          55.0|   10|          2|[10.0,2.0,0.0]|201.72645698799045|\n",
            "|   1001147|2023-10-25|        0| 55.0|          55.0|   10|          4|[10.0,4.0,0.0]|202.67368802204996|\n",
            "|   1001147|2023-10-26|        0| 55.0|          55.0|   10|          5|[10.0,5.0,0.0]|203.51649780011576|\n",
            "|   1001147|2023-11-11|        0| 55.0|          55.0|   11|          7|[11.0,7.0,0.0]|206.68393431820937|\n",
            "|   1001147|2023-11-17|        0| 55.0|          55.0|   11|          6|[11.0,6.0,0.0]|205.77880885125705|\n",
            "|   1001147|2023-11-18|        0| 55.0|          55.0|   11|          7|[11.0,7.0,0.0]|206.68393431820937|\n",
            "|   1001147|2023-11-19|        0| 55.0|          55.0|   11|          1|[11.0,1.0,0.0]|198.36326514057038|\n",
            "|   1001147|2023-11-20|        0| 55.0|          55.0|   11|          2|[11.0,2.0,0.0]|198.70637792306815|\n",
            "|   1001147|2023-11-27|        0| 55.0|          55.0|   11|          2|[11.0,2.0,0.0]|198.70637792306815|\n",
            "|   1001147|2023-12-05|        0| 55.0|          55.0|   12|          3|[12.0,3.0,0.0]| 201.3206792448185|\n",
            "|   1001147|2023-12-09|        0| 55.0|          55.0|   12|          7|[12.0,7.0,0.0]| 210.9458243030339|\n",
            "|   1001147|2023-12-14|        0| 55.0|          55.0|   12|          5|[12.0,5.0,0.0]| 202.6866468927172|\n",
            "|   1001147|2023-12-19|        0| 55.0|          55.0|   12|          3|[12.0,3.0,0.0]| 201.3206792448185|\n",
            "|   1001147|2023-12-22|        0| 55.0|          55.0|   12|          6|[12.0,6.0,0.0]| 209.2801119815158|\n",
            "|   1001147|2023-12-26|        0| 55.0|          55.0|   12|          3|[12.0,3.0,0.0]| 201.3206792448185|\n",
            "|   1001147|2023-12-29|        0| 55.0|          55.0|   12|          6|[12.0,6.0,0.0]| 209.2801119815158|\n",
            "|   1001147|2023-12-31|        0| 55.0|          55.0|   12|          1|[12.0,1.0,0.0]| 200.5534932980941|\n",
            "|   1001147|2024-01-02|        0| 55.0|          55.0|    1|          3| [1.0,3.0,0.0]| 202.9129439894491|\n",
            "|   1001147|2024-01-23|        0| 55.0|          55.0|    1|          3| [1.0,3.0,0.0]| 202.9129439894491|\n",
            "|   1001147|2024-01-28|        0| 55.0|          55.0|    1|          1| [1.0,1.0,0.0]|203.65251869989075|\n",
            "|   1001147|2024-01-31|        0| 55.0|          55.0|    1|          4| [1.0,4.0,0.0]| 202.7239634270226|\n",
            "|   1001147|2024-02-07|        0| 55.0|          55.0|    2|          4| [2.0,4.0,0.0]|202.71706840275448|\n",
            "|   1001147|2024-02-13|        0| 55.0|          55.0|    2|          3| [2.0,3.0,0.0]|  202.906048965181|\n",
            "|   1001147|2024-02-16|        0| 55.0|          55.0|    2|          6| [2.0,6.0,0.0]|  207.265443911498|\n",
            "|   1001147|2024-02-18|        0| 55.0|          55.0|    2|          1| [2.0,1.0,0.0]| 203.8330255797989|\n",
            "|   1001147|2024-02-19|        0| 55.0|          55.0|    2|          2| [2.0,2.0,0.0]|203.00109585160226|\n",
            "|   1001147|2024-02-23|        0| 55.0|          55.0|    2|          6| [2.0,6.0,0.0]|  207.265443911498|\n",
            "|   1001147|2024-03-03|        0| 55.0|          55.0|    3|          1| [3.0,1.0,0.0]| 205.7768122506916|\n",
            "|   1001147|2024-03-05|        0| 55.0|          55.0|    3|          3| [3.0,3.0,0.0]| 206.4437711786482|\n",
            "|   1001147|2024-03-06|        0| 55.0|          55.0|    3|          4| [3.0,4.0,0.0]|206.28557732566622|\n",
            "|   1001147|2024-03-11|        0| 55.0|          55.0|    3|          2| [3.0,2.0,0.0]| 206.4831362085245|\n",
            "|   1001147|2024-03-27|        0| 55.0|          55.0|    3|          4| [3.0,4.0,0.0]|206.28557732566622|\n",
            "|   1001147|2024-04-03|        0| 55.0|          55.0|    4|          4| [4.0,4.0,0.0]|207.31768646756768|\n",
            "|   1001147|2024-04-06|        0| 55.0|          55.0|    4|          7| [4.0,7.0,0.0]| 212.6863572727691|\n",
            "|   1001147|2024-04-11|        0| 55.0|          55.0|    4|          5| [4.0,5.0,0.0]| 207.4380153369907|\n",
            "|   1001147|2024-04-14|        0| 55.0|          55.0|    4|          1| [4.0,1.0,0.0]|207.47856142660598|\n",
            "|   1001147|2024-04-17|        0| 55.0|          55.0|    4|          4| [4.0,4.0,0.0]|207.31768646756768|\n",
            "|   1001147|2024-04-18|        0| 55.0|          55.0|    4|          5| [4.0,5.0,0.0]| 207.4380153369907|\n",
            "|   1001147|2024-04-21|        0| 55.0|          55.0|    4|          1| [4.0,1.0,0.0]|207.47856142660598|\n",
            "|   1001147|2024-05-01|        0| 55.0|          55.0|    5|          4| [5.0,4.0,0.0]| 207.5971441764747|\n",
            "|   1001147|2024-05-09|        0| 55.0|          55.0|    5|          5| [5.0,5.0,0.0]|207.71747304589772|\n",
            "|   1001147|2024-05-13|        0| 55.0|          55.0|    5|          2| [5.0,2.0,0.0]|208.61428644806134|\n",
            "|   1001147|2024-05-14|        0| 55.0|          55.0|    5|          3| [5.0,3.0,0.0]|207.70324018846458|\n",
            "|   1001147|2024-05-18|        0| 55.0|          55.0|    5|          7| [5.0,7.0,0.0]|213.46871403438445|\n",
            "|   1001147|2024-05-21|        0| 55.0|          55.0|    5|          3| [5.0,3.0,0.0]|207.70324018846458|\n",
            "|   1001147|2024-05-26|        0| 55.0|          55.0|    5|          1| [5.0,1.0,0.0]|207.75801913551294|\n",
            "|   1001147|2024-05-29|        0| 55.0|          55.0|    5|          4| [5.0,4.0,0.0]| 207.5971441764747|\n",
            "|   1001147|2024-05-31|        0| 55.0|          55.0|    5|          6| [5.0,6.0,0.0]| 212.9928066816621|\n",
            "|   1001147|2024-06-03|        0| 55.0|          55.0|    6|          2| [6.0,2.0,0.0]|208.61428644806134|\n",
            "|   1001147|2024-06-04|        0| 55.0|          55.0|    6|          3| [6.0,3.0,0.0]|207.70324018846458|\n",
            "|   1001147|2024-06-08|        0| 55.0|          55.0|    6|          7| [6.0,7.0,0.0]| 213.6348399556704|\n",
            "|   1001147|2024-06-14|        0| 55.0|          55.0|    6|          6| [6.0,6.0,0.0]|213.15893260294803|\n",
            "|   1001147|2024-06-18|        0| 55.0|          55.0|    6|          3| [6.0,3.0,0.0]|207.70324018846458|\n",
            "|   1001147|2024-06-26|        0| 55.0|          55.0|    6|          4| [6.0,4.0,0.0]| 207.5971441764747|\n",
            "|   1001147|2024-07-14|        0| 55.0|          55.0|    7|          1| [7.0,1.0,0.0]|207.75801913551294|\n",
            "|   1001147|2024-07-16|        0| 55.0|          55.0|    7|          3| [7.0,3.0,0.0]|207.70324018846458|\n",
            "|   1001147|2024-07-17|        0| 55.0|          55.0|    7|          4| [7.0,4.0,0.0]| 207.5971441764747|\n",
            "|   1001147|2024-07-20|        0| 55.0|          55.0|    7|          7| [7.0,7.0,0.0]| 213.6348399556704|\n",
            "|   1001147|2024-07-21|        0| 55.0|          55.0|    7|          1| [7.0,1.0,0.0]|207.75801913551294|\n",
            "|   1001147|2024-07-27|        0| 55.0|          55.0|    7|          7| [7.0,7.0,0.0]| 213.6348399556704|\n",
            "|   1001147|2024-07-28|        0| 55.0|          55.0|    7|          1| [7.0,1.0,0.0]|207.75801913551294|\n",
            "|   1001147|2024-08-06|        0| 55.0|          55.0|    8|          3| [8.0,3.0,0.0]|207.70324018846458|\n",
            "|   1001147|2024-08-09|        0| 55.0|          55.0|    8|          6| [8.0,6.0,0.0]|213.67807537958464|\n",
            "|   1001147|2024-08-18|        0| 55.0|          55.0|    8|          1| [8.0,1.0,0.0]|207.75801913551294|\n",
            "|   1001147|2024-08-19|        0| 55.0|          55.0|    8|          2| [8.0,2.0,0.0]|208.61428644806134|\n",
            "|   1001147|2024-08-22|        0| 55.0|          55.0|    8|          5| [8.0,5.0,0.0]|207.71747304589772|\n",
            "|  10011850|2023-09-09|        0|117.0|         117.0|    9|          7| [9.0,7.0,0.0]|211.99827253752068|\n",
            "|  10011850|2023-09-13|        0|117.0|         117.0|    9|          4| [9.0,4.0,0.0]|207.34916592608914|\n",
            "|  10011850|2023-09-16|        0|117.0|         117.0|    9|          7| [9.0,7.0,0.0]|211.99827253752068|\n",
            "|  10011850|2023-09-25|        0|117.0|         117.0|    9|          2| [9.0,2.0,0.0]|208.36630819767583|\n",
            "|  10011850|2023-10-09|        1|117.0|         117.0|   10|          2|[10.0,2.0,1.0]| 263.2695850596391|\n",
            "|  10011850|2023-10-10|        1|117.0|         117.0|   10|          3|[10.0,3.0,1.0]|263.48367158484245|\n",
            "|  10011850|2023-10-18|        1|117.0|         117.0|   10|          4|[10.0,4.0,1.0]|  263.360457925426|\n",
            "|  10011850|2023-10-25|        1|117.0|         117.0|   10|          4|[10.0,4.0,1.0]|  263.360457925426|\n",
            "|  10011850|2023-10-27|        1|117.0|         117.0|   10|          6|[10.0,6.0,1.0]|264.00410146865227|\n",
            "|  10011850|2023-11-06|        1|117.0|         117.0|   11|          2|[11.0,2.0,1.0]|264.82098078464196|\n",
            "|  10011850|2023-11-09|        1|117.0|         117.0|   11|          5|[11.0,5.0,1.0]| 265.1138601347332|\n",
            "|  10011850|2023-11-12|        1|117.0|         117.0|   11|          1|[11.0,1.0,1.0]| 268.7911777171447|\n",
            "|  10011850|2023-11-13|        1|117.0|         117.0|   11|          2|[11.0,2.0,1.0]|264.82098078464196|\n",
            "|  10011850|2023-11-14|        1|117.0|         117.0|   11|          3|[11.0,3.0,1.0]| 265.0350673098454|\n",
            "|  10011850|2023-11-20|        1|117.0|         117.0|   11|          2|[11.0,2.0,1.0]|264.82098078464196|\n",
            "|  10011850|2023-11-28|        1|117.0|         117.0|   11|          3|[11.0,3.0,1.0]| 265.0350673098454|\n",
            "|  10011850|2023-12-05|        1|117.0|         117.0|   12|          3|[12.0,3.0,1.0]| 262.9800709084199|\n",
            "|  10011850|2023-12-06|        1|117.0|         117.0|   12|          4|[12.0,4.0,1.0]|262.85685724900344|\n",
            "|  10011850|2023-12-16|        1|117.0|         117.0|   12|          7|[12.0,7.0,1.0]| 265.7301381615078|\n",
            "|  10011850|2023-12-17|        1|117.0|         117.0|   12|          1|[12.0,1.0,1.0]| 266.7361813157193|\n",
            "|  10011850|2023-12-20|        1|117.0|         117.0|   12|          4|[12.0,4.0,1.0]|262.85685724900344|\n",
            "|  10011850|2023-12-21|        1|117.0|         117.0|   12|          5|[12.0,5.0,1.0]|263.05886373330776|\n",
            "|  10011850|2023-12-22|        1|117.0|         117.0|   12|          6|[12.0,6.0,1.0]|263.54585953375687|\n",
            "|  10011850|2023-12-23|        1|117.0|         117.0|   12|          7|[12.0,7.0,1.0]| 265.7301381615078|\n",
            "|  10011850|2023-12-25|        1|117.0|         117.0|   12|          2|[12.0,2.0,1.0]| 262.7659843832165|\n",
            "|  10011850|2024-01-06|        1|110.0|         110.0|    1|          7| [1.0,7.0,1.0]|243.03231938571648|\n",
            "+----------+----------+---------+-----+--------------+-----+-----------+--------------+------------------+\n",
            "only showing top 400 rows\n",
            "\n"
          ]
        }
      ],
      "source": [
        "predictions.show(400)"
      ]
    },
    {
      "cell_type": "code",
      "execution_count": 203,
      "metadata": {
        "colab": {
          "base_uri": "https://localhost:8080/"
        },
        "id": "ehBMi2MCyBHZ",
        "outputId": "fa28fb13-491d-4824-e349-3987993865b2"
      },
      "outputs": [
        {
          "name": "stdout",
          "output_type": "stream",
          "text": [
            "model\t\t\t     spark-3.4.0-bin-hadoop3.tgz.1\n",
            "sample_data\t\t     spark-3.4.0-bin-hadoop3.tgz.2\n",
            "spark-3.4.0-bin-hadoop3      spark-3.4.0-bin-hadoop3.tgz.3\n",
            "spark-3.4.0-bin-hadoop3.tgz  spark-3.4.0-bin-hadoop3.tgz.4\n"
          ]
        }
      ],
      "source": [
        "!ls /content/"
      ]
    },
    {
      "cell_type": "code",
      "execution_count": 209,
      "metadata": {
        "colab": {
          "base_uri": "https://localhost:8080/"
        },
        "id": "zzVlnYdWyGp9",
        "outputId": "0eba0ed7-3ff7-4f27-fb97-aec2899e32d2"
      },
      "outputs": [
        {
          "name": "stdout",
          "output_type": "stream",
          "text": [
            "  adding: content/model/ (stored 0%)\n",
            "  adding: content/model/stages/ (stored 0%)\n",
            "  adding: content/model/stages/0_VectorAssembler_c5aebd56572a/ (stored 0%)\n",
            "  adding: content/model/stages/0_VectorAssembler_c5aebd56572a/metadata/ (stored 0%)\n",
            "  adding: content/model/stages/0_VectorAssembler_c5aebd56572a/metadata/part-00000 (deflated 35%)\n",
            "  adding: content/model/stages/0_VectorAssembler_c5aebd56572a/metadata/.part-00000.crc (stored 0%)\n",
            "  adding: content/model/stages/0_VectorAssembler_c5aebd56572a/metadata/_SUCCESS (stored 0%)\n",
            "  adding: content/model/stages/0_VectorAssembler_c5aebd56572a/metadata/._SUCCESS.crc (stored 0%)\n",
            "  adding: content/model/stages/1_RandomForestRegressor_9b4d875bf9f9/ (stored 0%)\n",
            "  adding: content/model/stages/1_RandomForestRegressor_9b4d875bf9f9/data/ (stored 0%)\n",
            "  adding: content/model/stages/1_RandomForestRegressor_9b4d875bf9f9/data/_SUCCESS (stored 0%)\n",
            "  adding: content/model/stages/1_RandomForestRegressor_9b4d875bf9f9/data/.part-00000-f912abf2-407e-422f-add8-a2733c1bda97-c000.snappy.parquet.crc (stored 0%)\n",
            "  adding: content/model/stages/1_RandomForestRegressor_9b4d875bf9f9/data/._SUCCESS.crc (stored 0%)\n",
            "  adding: content/model/stages/1_RandomForestRegressor_9b4d875bf9f9/data/part-00000-f912abf2-407e-422f-add8-a2733c1bda97-c000.snappy.parquet (deflated 16%)\n",
            "  adding: content/model/stages/1_RandomForestRegressor_9b4d875bf9f9/treesMetadata/ (stored 0%)\n",
            "  adding: content/model/stages/1_RandomForestRegressor_9b4d875bf9f9/treesMetadata/_SUCCESS (stored 0%)\n",
            "  adding: content/model/stages/1_RandomForestRegressor_9b4d875bf9f9/treesMetadata/.part-00000-ee43d0b6-a4f6-4998-b290-16a9195c2c0c-c000.snappy.parquet.crc (stored 0%)\n",
            "  adding: content/model/stages/1_RandomForestRegressor_9b4d875bf9f9/treesMetadata/._SUCCESS.crc (stored 0%)\n",
            "  adding: content/model/stages/1_RandomForestRegressor_9b4d875bf9f9/treesMetadata/part-00000-ee43d0b6-a4f6-4998-b290-16a9195c2c0c-c000.snappy.parquet (deflated 40%)\n",
            "  adding: content/model/stages/1_RandomForestRegressor_9b4d875bf9f9/metadata/ (stored 0%)\n",
            "  adding: content/model/stages/1_RandomForestRegressor_9b4d875bf9f9/metadata/part-00000 (deflated 41%)\n",
            "  adding: content/model/stages/1_RandomForestRegressor_9b4d875bf9f9/metadata/.part-00000.crc (stored 0%)\n",
            "  adding: content/model/stages/1_RandomForestRegressor_9b4d875bf9f9/metadata/_SUCCESS (stored 0%)\n",
            "  adding: content/model/stages/1_RandomForestRegressor_9b4d875bf9f9/metadata/._SUCCESS.crc (stored 0%)\n",
            "  adding: content/model/metadata/ (stored 0%)\n",
            "  adding: content/model/metadata/part-00000 (deflated 23%)\n",
            "  adding: content/model/metadata/.part-00000.crc (stored 0%)\n",
            "  adding: content/model/metadata/_SUCCESS (stored 0%)\n",
            "  adding: content/model/metadata/._SUCCESS.crc (stored 0%)\n"
          ]
        }
      ],
      "source": [
        "!zip -r /content/model.zip /content/model\n"
      ]
    },
    {
      "cell_type": "code",
      "execution_count": 210,
      "metadata": {
        "colab": {
          "base_uri": "https://localhost:8080/",
          "height": 17
        },
        "id": "2gqo2s9Vyp-V",
        "outputId": "9efac5a0-ebc2-4bb4-cbbf-3416bed7da7d"
      },
      "outputs": [
        {
          "data": {
            "application/javascript": "\n    async function download(id, filename, size) {\n      if (!google.colab.kernel.accessAllowed) {\n        return;\n      }\n      const div = document.createElement('div');\n      const label = document.createElement('label');\n      label.textContent = `Downloading \"${filename}\": `;\n      div.appendChild(label);\n      const progress = document.createElement('progress');\n      progress.max = size;\n      div.appendChild(progress);\n      document.body.appendChild(div);\n\n      const buffers = [];\n      let downloaded = 0;\n\n      const channel = await google.colab.kernel.comms.open(id);\n      // Send a message to notify the kernel that we're ready.\n      channel.send({})\n\n      for await (const message of channel.messages) {\n        // Send a message to notify the kernel that we're ready.\n        channel.send({})\n        if (message.buffers) {\n          for (const buffer of message.buffers) {\n            buffers.push(buffer);\n            downloaded += buffer.byteLength;\n            progress.value = downloaded;\n          }\n        }\n      }\n      const blob = new Blob(buffers, {type: 'application/binary'});\n      const a = document.createElement('a');\n      a.href = window.URL.createObjectURL(blob);\n      a.download = filename;\n      div.appendChild(a);\n      a.click();\n      div.remove();\n    }\n  ",
            "text/plain": [
              "<IPython.core.display.Javascript object>"
            ]
          },
          "metadata": {},
          "output_type": "display_data"
        },
        {
          "data": {
            "application/javascript": "download(\"download_ea4fe842-3fbd-41ae-a63b-a16c52177920\", \"model.zip\", 38837)",
            "text/plain": [
              "<IPython.core.display.Javascript object>"
            ]
          },
          "metadata": {},
          "output_type": "display_data"
        }
      ],
      "source": [
        "from google.colab import files\n",
        "files.download(\"/content/model.zip\")\n"
      ]
    },
    {
      "cell_type": "code",
      "execution_count": 80,
      "metadata": {
        "id": "KYRzDaKfiwdd"
      },
      "outputs": [],
      "source": [
        "# End the Spark session\n",
        "spark.stop()"
      ]
    },
    {
      "cell_type": "code",
      "execution_count": null,
      "metadata": {
        "id": "7kW2V5NThG_4"
      },
      "outputs": [],
      "source": [
        "# Don't forget to stop the Spark session when you're done\n",
        "spark.stop()"
      ]
    }
  ],
  "metadata": {
    "colab": {
      "provenance": []
    },
    "kernelspec": {
      "display_name": "Python 3 (ipykernel)",
      "language": "python",
      "name": "python3"
    },
    "language_info": {
      "codemirror_mode": {
        "name": "ipython",
        "version": 3
      },
      "file_extension": ".py",
      "mimetype": "text/x-python",
      "name": "python",
      "nbconvert_exporter": "python",
      "pygments_lexer": "ipython3",
      "version": "3.10.9"
    }
  },
  "nbformat": 4,
  "nbformat_minor": 0
}
