{
  "cells": [
    {
      "cell_type": "code",
      "execution_count": null,
      "metadata": {
        "colab": {
          "base_uri": "https://localhost:8080/"
        },
        "id": "eGA5-htN6oEN",
        "outputId": "ab03a851-9eeb-41f6-d4cb-b09df3ee2fdf"
      },
      "outputs": [
        {
          "output_type": "stream",
          "name": "stdout",
          "text": [
            "\r0% [Working]\r            \rGet:1 https://cloud.r-project.org/bin/linux/ubuntu jammy-cran40/ InRelease [3,626 B]\n",
            "\r0% [Connecting to archive.ubuntu.com (185.125.190.39)] [Connecting to security.\r0% [Connecting to archive.ubuntu.com (185.125.190.39)] [Connecting to security.\r                                                                               \rHit:2 https://developer.download.nvidia.com/compute/cuda/repos/ubuntu2204/x86_64  InRelease\n",
            "Get:3 http://security.ubuntu.com/ubuntu jammy-security InRelease [110 kB]\n",
            "Hit:4 http://archive.ubuntu.com/ubuntu jammy InRelease\n",
            "Get:5 http://archive.ubuntu.com/ubuntu jammy-updates InRelease [119 kB]\n",
            "Get:6 https://ppa.launchpadcontent.net/c2d4u.team/c2d4u4.0+/ubuntu jammy InRelease [18.1 kB]\n",
            "Get:7 http://security.ubuntu.com/ubuntu jammy-security/main amd64 Packages [965 kB]\n",
            "Get:8 http://security.ubuntu.com/ubuntu jammy-security/restricted amd64 Packages [1,064 kB]\n",
            "Get:9 http://archive.ubuntu.com/ubuntu jammy-backports InRelease [109 kB]\n",
            "Get:10 http://archive.ubuntu.com/ubuntu jammy-updates/main amd64 Packages [1,233 kB]\n",
            "Hit:11 https://ppa.launchpadcontent.net/deadsnakes/ppa/ubuntu jammy InRelease\n",
            "Get:12 http://archive.ubuntu.com/ubuntu jammy-updates/restricted amd64 Packages [1,085 kB]\n",
            "Hit:13 https://ppa.launchpadcontent.net/graphics-drivers/ppa/ubuntu jammy InRelease\n",
            "Get:14 http://archive.ubuntu.com/ubuntu jammy-updates/universe amd64 Packages [1,254 kB]\n",
            "Get:15 http://archive.ubuntu.com/ubuntu jammy-backports/universe amd64 Packages [28.1 kB]\n",
            "Hit:16 https://ppa.launchpadcontent.net/ubuntugis/ppa/ubuntu jammy InRelease\n",
            "Get:17 https://ppa.launchpadcontent.net/c2d4u.team/c2d4u4.0+/ubuntu jammy/main Sources [2,180 kB]\n",
            "Get:18 https://ppa.launchpadcontent.net/c2d4u.team/c2d4u4.0+/ubuntu jammy/main amd64 Packages [1,119 kB]\n",
            "Fetched 9,287 kB in 5s (2,025 kB/s)\n",
            "Reading package lists... Done\n"
          ]
        }
      ],
      "source": [
        "import os\n",
        "# Find the latest version of spark 3.x  from http://www.apache.org/dist/spark/ and enter as the spark version\n",
        "# For example:\n",
        "# spark_version = 'spark-3.4.0'\n",
        "spark_version = 'spark-3.4.0'\n",
        "os.environ['SPARK_VERSION']=spark_version\n",
        "\n",
        "# Install Spark and Java\n",
        "!apt-get update\n",
        "!apt-get install openjdk-11-jdk-headless -qq > /dev/null\n",
        "!wget -q http://www.apache.org/dist/spark/$SPARK_VERSION/$SPARK_VERSION-bin-hadoop3.tgz\n",
        "!tar xf $SPARK_VERSION-bin-hadoop3.tgz\n",
        "!pip install -q findspark\n",
        "\n",
        "# Set Environment Variables\n",
        "os.environ[\"JAVA_HOME\"] = \"/usr/lib/jvm/java-11-openjdk-amd64\"\n",
        "os.environ[\"SPARK_HOME\"] = f\"/content/{spark_version}-bin-hadoop3\"\n",
        "\n",
        "# Start a SparkSession\n",
        "import findspark\n",
        "findspark.init()"
      ]
    },
    {
      "cell_type": "code",
      "execution_count": null,
      "metadata": {
        "id": "pIUo9MYO6vlj"
      },
      "outputs": [],
      "source": [
        "# Import packages\n",
        "from pyspark.sql import SparkSession\n",
        "import time\n",
        "\n",
        "# Create a SparkSession\n",
        "spark = SparkSession.builder\\\n",
        "    .appName(\"SparkSQL\")\\\n",
        "    .config(\"spark.sql.debug.maxToStringFields\", 2000)\\\n",
        "    .config(\"spark.driver.memory\", \"2g\")\\\n",
        "    .getOrCreate()\n",
        "\n",
        "# Set the partitions to 4 or 8.\n",
        "spark.conf.set(\"spark.sql.shuffle.partitions\", 8)"
      ]
    },
    {
      "cell_type": "code",
      "execution_count": null,
      "metadata": {
        "id": "Ej6Sabcd-1At"
      },
      "outputs": [],
      "source": [
        "# Read in data from S3 Bucket\n",
        "from pyspark import SparkFiles\n",
        "url_listings = \"http://data.insideairbnb.com/united-states/ny/new-york-city/2023-09-05/data/listings.csv.gz\"\n",
        "spark.sparkContext.addFile(url_listings)\n",
        "listings_df = spark.read.csv(SparkFiles.get(\"listings.csv.gz\"), sep=\",\", header=True)\n",
        "\n",
        "# Create a lookup table for calendar.\n",
        "url_calendar=\"http://data.insideairbnb.com/united-states/ny/new-york-city/2023-09-05/data/calendar.csv.gz\"\n",
        "spark.sparkContext.addFile(url_calendar)\n",
        "calendar_df = spark.read.csv(SparkFiles.get(\"calendar.csv.gz\"), sep=\",\", header=True)\n",
        "\n",
        "# Create a lookup table for the airport codes.\n",
        "url_reviews =\"http://data.insideairbnb.com/united-states/ny/new-york-city/2023-09-05/data/reviews.csv.gz\"\n",
        "spark.sparkContext.addFile(url_reviews)\n",
        "reviews_df = spark.read.csv(SparkFiles.get(\"reviews.csv.gz\"), sep=\",\", header=True)\n"
      ]
    },
    {
      "cell_type": "code",
      "execution_count": null,
      "metadata": {
        "colab": {
          "base_uri": "https://localhost:8080/"
        },
        "id": "7XUB6IMQxLAB",
        "outputId": "18b4f646-f17b-46df-b2db-b28f24ed5d2a"
      },
      "outputs": [
        {
          "output_type": "stream",
          "name": "stdout",
          "text": [
            "+------------------+--------------------+--------------+------------+-----------+--------------------+--------------------+---------------------+--------------------+--------------------+--------------------+--------------------+--------------------+--------------------+--------------------+------------------+--------------------+--------------------+------------------+--------------------+--------------------+------------------+--------------------+-------------------------+------------------+--------------------+----------------------+--------------------+----------------------+----------------------------+------------------+--------------------+--------------------+--------------------+-------------+---------+------------------+------------------+------------------+--------------------+--------------------+--------------------+--------------------+----------------------+----------------------+----------------------+----------------------+----------------------+----------------------+--------------------+--------------------+--------------------+--------------------+--------------------+--------------------+---------------------+--------------------+---------------------+----------------------+--------------------+--------------------+--------------------+----------------------+-------------------------+---------------------+---------------------------+----------------------+--------------------+--------------------+--------------------+------------------------------+-------------------------------------------+--------------------------------------------+-------------------------------------------+--------------------+\n",
            "|                id|         listing_url|     scrape_id|last_scraped|     source|                name|         description|neighborhood_overview|         picture_url|             host_id|            host_url|           host_name|          host_since|       host_location|          host_about|host_response_time|  host_response_rate|host_acceptance_rate| host_is_superhost|  host_thumbnail_url|    host_picture_url|host_neighbourhood| host_listings_count|host_total_listings_count|host_verifications|host_has_profile_pic|host_identity_verified|       neighbourhood|neighbourhood_cleansed|neighbourhood_group_cleansed|          latitude|           longitude|       property_type|           room_type| accommodates|bathrooms|    bathrooms_text|          bedrooms|              beds|           amenities|               price|      minimum_nights|      maximum_nights|minimum_minimum_nights|maximum_minimum_nights|minimum_maximum_nights|maximum_maximum_nights|minimum_nights_avg_ntm|maximum_nights_avg_ntm|    calendar_updated|    has_availability|     availability_30|     availability_60|     availability_90|    availability_365|calendar_last_scraped|   number_of_reviews|number_of_reviews_ltm|number_of_reviews_l30d|        first_review|         last_review|review_scores_rating|review_scores_accuracy|review_scores_cleanliness|review_scores_checkin|review_scores_communication|review_scores_location| review_scores_value|             license|    instant_bookable|calculated_host_listings_count|calculated_host_listings_count_entire_homes|calculated_host_listings_count_private_rooms|calculated_host_listings_count_shared_rooms|   reviews_per_month|\n",
            "+------------------+--------------------+--------------+------------+-----------+--------------------+--------------------+---------------------+--------------------+--------------------+--------------------+--------------------+--------------------+--------------------+--------------------+------------------+--------------------+--------------------+------------------+--------------------+--------------------+------------------+--------------------+-------------------------+------------------+--------------------+----------------------+--------------------+----------------------+----------------------------+------------------+--------------------+--------------------+--------------------+-------------+---------+------------------+------------------+------------------+--------------------+--------------------+--------------------+--------------------+----------------------+----------------------+----------------------+----------------------+----------------------+----------------------+--------------------+--------------------+--------------------+--------------------+--------------------+--------------------+---------------------+--------------------+---------------------+----------------------+--------------------+--------------------+--------------------+----------------------+-------------------------+---------------------+---------------------------+----------------------+--------------------+--------------------+--------------------+------------------------------+-------------------------------------------+--------------------------------------------+-------------------------------------------+--------------------+\n",
            "|          52702018|https://www.airbn...|20230905131342|  2023-09-05|city scrape|Rental unit in Qu...|Unique entire uni...|                 null|https://a0.muscac...|            93231383|https://www.airbn...|              Daniel|          2016-09-03|        New York, NY|                null|    within an hour|                 96%|                100%|                 t|https://a0.muscac...|https://a0.muscac...|          Flushing|                   3|                        3|['email', 'phone']|                   t|                     t|                null|         East Elmhurst|                      Queens|          40.76911|           -73.87053|  Entire rental unit|     Entire home/apt|            4|     null|            1 bath|                 1|                 2|\"[\"\"Private entra...|       \"\"Hot water\"\"|         \"\"Hangers\"\"| \"\"Coffee maker: ...|   \"\"Luggage dropof...|   \"\"Central air co...|      \"\"Pets allowed\"\"|   \"\"SAMSUNG refrig...|       \"\"Smoke alarm\"\"|            \"\"Washer\"\"| \"\"Stainless stee...|     \"\"Conditioner\"\"| \"\"Extra pillows ...| \"\"Dishes and sil...|          \"\"Coffee\"\"|      \"\"Essentials\"\"|    \"\"Self check-in\"\"| \"\"Fast wifi \\u20...|       \"\"Bed linens\"\"|   \"\"Security camer...|       \"\"Body soap\"\"| \"\"Carbon monoxid...|         \"\"Lockbox\"\"|   \"\"Free street pa...|      \"\"Exercise equip...|          \"\"Kitchen\"\"|        \"\"Free driveway ...|        \"\"Hair dryer\"\"|         \"\"Shampoo\"\"| \"\"Cleaning produ...| \"\"Long term stay...|           \"\"HDTV with Fire...|                        \"\"Free dryer \\u2...|                         \"\"Clothing stora...|                        \"\"Central heating\"\"|            \"\"Iron\"\"|\n",
            "|903776106853996545|https://www.airbn...|20230905131342|  2023-09-05|city scrape|Rental unit in Qu...|Unique entire dup...|                 null|https://a0.muscac...|            93231383|https://www.airbn...|              Daniel|          2016-09-03|        New York, NY|                null|    within an hour|                 96%|                100%|                 t|https://a0.muscac...|https://a0.muscac...|          Flushing|                   3|                        3|['email', 'phone']|                   t|                     t|                null|         East Elmhurst|                      Queens|          40.76951|           -73.86976|  Entire rental unit|     Entire home/apt|            6|     null|            1 bath|                 3|                 4|\"[\"\"Air condition...|            \"\"Wifi\"\"| \"\"Free parking o...|         \"\"Kitchen\"\"|              \"\"TV\"\"]\"|               $137.00|                    30|                   365|                    30|                    30|                 365|                 365|                30.0|               365.0|                null|                   t|                   29|                  59|                   89|                    89|          2023-09-05|                   0|                   0|                     0|                     null|                 null|                       null|                  null|                null|                null|                null|                          null|                                       null|                                        null|                                          f|                   3|\n",
            "|784969376930125242|https://www.airbn...|20230905131342|  2023-09-05|city scrape|Home in Queens · ...|Unique entire uni...|                 null|https://a0.muscac...|            93231383|https://www.airbn...|              Daniel|          2016-09-03|        New York, NY|                null|    within an hour|                 96%|                100%|                 t|https://a0.muscac...|https://a0.muscac...|          Flushing|                   3|                        3|['email', 'phone']|                   t|                     t|                null|         East Elmhurst|                      Queens|40.768175708747755|  -73.87126330286264|         Entire home|     Entire home/apt|            7|     null|            1 bath|                 3|                 4|\"[\"\"Private entra...|       \"\"Hot water\"\"|         \"\"Hangers\"\"| \"\"Luggage dropof...|   \"\"Central air co...|      \"\"Refrigerator\"\"|      \"\"Pets allowed\"\"|       \"\"Smoke alarm\"\"|       \"\"Conditioner\"\"|                \"\"TV\"\"| \"\"Extra pillows ...| \"\"Dishes and sil...|    \"\"Dining table\"\"| \"\"Room-darkening...|          \"\"Coffee\"\"|      \"\"Essentials\"\"|    \"\"Self check-in\"\"| \"\"Clothing stora...|   \"\"Cooking basics\"\"|        \"\"Bed linens\"\"|         \"\"Freezer\"\"|       \"\"Gas stove\"\"| \"\"Security camer...|   \"\"Free washer \\u...|            \"\"Body soap\"\"|          \"\"Lockbox\"\"|        \"\"Free parking o...|           \"\"Kitchen\"\"|            \"\"Safe\"\"|         \"\"Shampoo\"\"| \"\"Cleaning produ...|           \"\"Long term stay...|                        \"\"Free dryer \\u2...|                         \"\"Fast wifi \\u20...|                        \"\"Central heating\"\"|   \"\"First aid kit\"\"|\n",
            "|          54089885|https://www.airbn...|20230905131342|  2023-09-05|city scrape|Rental unit in Br...|\"\"\"Welcome to our...|  our property is ...|     🌡medical stays|  government workers|         contractors| insurance reloca...| and wanderers al...|Scenic views: The...|https://a0.muscac...|         398622781|https://www.airbn...|             Katelyn|        2021-04-25|        New York, NY|   \"\"\"Hi I'm Katelyn| Host of TRAVSERVE| a hospitality br...|           small families| insurance clients| and leisure trav...|   I understand the...|      within an hour|                  100%|                         92%|                 f|https://a0.muscac...|https://a0.muscac...|          Pelham Bay|            9|        9|['email', 'phone']|                 t|                 t|Bronx, New York, ...|       Schuylerville|               Bronx|            40.83995|             -73.83317|    Entire rental unit|       Entire home/apt|                     5|                  null|                1 bath|                   2|                   3|\"[\"\"Private entra...|       \"\"Hot water\"\"| \"\"Free washer \\u...|      \"\"Shower gel\"\"|          \"\"Hangers\"\"| \"\"Books and read...|        \"\"Baby bath\"\"|   \"\"Radiant heating\"\"|   \"\"Portable fans\"\"| \"\"Private BBQ gr...| \"\"Ethernet conne...|   \"\"53\\\"\" HDTV wit...|      \"\"Children\\u2019...|  \"\"Luggage dropof...|           \"\"Pets allowed\"\"|    \"\"Window AC unit\"\"|     \"\"Smoke alarm\"\"| \"\"Extra pillows ...|   \"\"Outlet covers\"\"|           \"\"Children\\u2019...|                             5-10 years old|                         and 10+ years old\"\"|                              \"\"Park view\"\"| \"\"Room-darkening...|\n",
            "|836843217858604295|https://www.airbn...|20230905131342|  2023-09-05|city scrape|Rental unit in Th...|Experience luxury...| Scenic views: The...|https://a0.muscac...|           398622781|https://www.airbn...|             Katelyn|          2021-04-25|        New York, NY|   \"\"\"Hi I'm Katelyn| Host of TRAVSERVE| a hospitality br...|      small families| insurance clients| and leisure trav...| I understand the...|    within an hour|                100%|                      92%|                 f|https://a0.muscac...|  https://a0.muscac...|          Pelham Bay|                     9|                           9|['email', 'phone']|                   t|                   t|The Bronx, New Yo...|Schuylerville|    Bronx|  40.8392396326725|-73.83119430683094|Entire rental unit|     Entire home/apt|                  10|                null|             2 baths|                     4|                     6|  \"[\"\"Private entra...|         \"\"Hot water\"\"|   \"\"Free washer \\u...|        \"\"Shower gel\"\"|         \"\"Hangers\"\"| \"\"Books and read...| \"\"Radiant heating\"\"| \"\"Paid parking o...|   \"\"Portable fans\"\"| \"\"Luggage dropof...|  \"\"Ethernet conne...| \"\"Children\\u2019...|     \"\"Refrigerator\"\"|      \"\"Pets allowed\"\"| \"\"Paid crib - av...|  \"\"Window AC unit\"\"|     \"\"Smoke alarm\"\"|              \"\"Oven\"\"|      \"\"Extra pillows ...|  \"\"55\\\"\" HDTV wit...|        \"\"Children\\u2019...|        5-10 years old| and 10+ years old\"\"|   \"\"Outlet covers\"\"| \"\"Room-darkening...|           \"\"Exercise equip...|                                 yoga mat\"\"|                              \"\"Essentials\"\"|                        \"\"Dedicated work...| \"\"Dishes and sil...|\n",
            "|841128954402711018|https://www.airbn...|20230905131342|  2023-09-05|city scrape|Rental unit in Th...|Discover our char...| Scenic views: The...|https://a0.muscac...|           398622781|https://www.airbn...|             Katelyn|          2021-04-25|        New York, NY|   \"\"\"Hi I'm Katelyn| Host of TRAVSERVE| a hospitality br...|      small families| insurance clients| and leisure trav...| I understand the...|    within an hour|                100%|                      92%|                 f|https://a0.muscac...|  https://a0.muscac...|          Pelham Bay|                     9|                           9|['email', 'phone']|                   t|                   t|The Bronx, New Yo...|Schuylerville|    Bronx| 40.84087113494387|-73.83319272363603|Entire rental unit|     Entire home/apt|                   5|                null|              1 bath|                     2|                     3|  \"[\"\"Private entra...|         \"\"Hot water\"\"|   \"\"Free washer \\u...|        \"\"Shower gel\"\"|         \"\"Hangers\"\"| \"\"Books and read...| \"\"Radiant heating\"\"| \"\"Luggage dropof...|   \"\"Portable fans\"\"|       \"\"Breakfast\"\"|  \"\"Ethernet conne...| \"\"Children\\u2019...|     \"\"Pets allowed\"\"|    \"\"Window AC unit\"\"|     \"\"Smoke alarm\"\"| \"\"Single level h...|          \"\"Keypad\"\"|   \"\"Extra pillows ...|        \"\"Outlet covers\"\"|  \"\"Dishes and sil...|        \"\"55\\\"\" HDTV wit...|                Roku\"\"| \"\"Room-darkening...| \"\"Exercise equip...|          yoga mat\"\"|                \"\"Essentials\"\"|                        \"\"Ginger Lilly F...|                         \"\"Dedicated work...|                           \"\"Dining table\"\"|          \"\"Coffee\"\"|\n",
            "|549465289587099130|https://www.airbn...|20230905131342|  2023-09-05|city scrape|Home in Bronx · ★...|\"Welcome! Make yo...| Scenic views: The...|https://a0.muscac...|           398622781|https://www.airbn...|             Katelyn|          2021-04-25|        New York, NY|   \"\"\"Hi I'm Katelyn| Host of TRAVSERVE| a hospitality br...|      small families| insurance clients| and leisure trav...| I understand the...|    within an hour|                100%|                      92%|                 f|https://a0.muscac...|  https://a0.muscac...|          Pelham Bay|                     9|                           9|['email', 'phone']|                   t|                   t|Bronx, New York, ...|Schuylerville|    Bronx|           40.8407|         -73.83328|       Entire home|     Entire home/apt|                   2|                null|              1 bath|                     8|                     1|  \"[\"\"Private entra...|         \"\"Hot water\"\"|   \"\"Free washer \\u...|        \"\"Shower gel\"\"|         \"\"Hangers\"\"| \"\"Books and read...| \"\"Radiant heating\"\"| \"\"Luggage dropof...|   \"\"Portable fans\"\"| \"\"Private BBQ gr...|  \"\"Ethernet conne...| \"\"53\\\"\" HDTV wit...|  \"\"Children\\u2019...|      \"\"Pets allowed\"\"|  \"\"Window AC unit\"\"|     \"\"Smoke alarm\"\"| \"\"Single level h...|            \"\"Keypad\"\"|      \"\"Extra pillows ...|    \"\"Outlet covers\"\"|        \"\"Dishes and sil...|      \"\"Dining table\"\"| \"\"Room-darkening...| \"\"Exercise equip...|          yoga mat\"\"|                \"\"Essentials\"\"|                        \"\"Dedicated work...|                                  \"\"Coffee\"\"|                          \"\"Self check-in\"\"|            \"\"Wifi\"\"|\n",
            "|953648370950219232|https://www.airbn...|20230905131342|  2023-09-05|city scrape|Rental unit in Th...|\"\"\"The Private Su...|  less than 1 mile...| Einstein Medical...| and Montefiore M...| modern kitchen w...| and a well-appoi...| you'll enjoy sub...|                null|https://a0.muscac...|         398622781|https://www.airbn...|             Katelyn|        2021-04-25|        New York, NY|   \"\"\"Hi I'm Katelyn| Host of TRAVSERVE| a hospitality br...|           small families| insurance clients| and leisure trav...|   I understand the...|      within an hour|                  100%|                         92%|                 f|https://a0.muscac...|https://a0.muscac...|          Pelham Bay|            9|        9|['email', 'phone']|                 t|                 t|                null|       Schuylerville|               Bronx|   40.83957054653607|    -73.83236073391457|    Entire rental unit|       Entire home/apt|                     4|                  null|                1 bath|                   1|                   3|\"[\"\"Private entra...|       \"\"Hot water\"\"| \"\"Free washer \\u...|      \"\"Shower gel\"\"|          \"\"Hangers\"\"| \"\"Books and read...|  \"\"Radiant heating\"\"|   \"\"Luggage dropof...| \"\"Crib - availab...|   \"\"Portable fans\"\"| \"\"Ethernet conne...|   \"\"Children\\u2019...|         \"\"Pets allowed\"\"|   \"\"Window AC unit\"\"|            \"\"Smoke alarm\"\"|   \"\"Stainless stee...| \"\"Single level h...|          \"\"Keypad\"\"| \"\"Kenmore stainl...|           \"\"Extra pillows ...|                          \"\"Outlet covers\"\"|                         \"\"Dishes and sil...|                           \"\"Dining table\"\"| \"\"Room-darkening...|\n",
            "|          49422007|https://www.airbn...|20230905131342|  2023-09-05|city scrape|Rental unit in Th...|\"\"\"Welcome to our...|  our property is ...|            cookware|        and utensils| making it easy t...| with comfortable...| of which are cle...|Scenic views: The...|https://a0.muscac...|         398622781|https://www.airbn...|             Katelyn|        2021-04-25|        New York, NY|   \"\"\"Hi I'm Katelyn| Host of TRAVSERVE| a hospitality br...|           small families| insurance clients| and leisure trav...|   I understand the...|      within an hour|                  100%|                         92%|                 f|https://a0.muscac...|https://a0.muscac...|          Pelham Bay|            9|        9|['email', 'phone']|                 t|                 t|The Bronx, New Yo...|       Schuylerville|               Bronx|             40.8395|             -73.83315|    Entire rental unit|       Entire home/apt|                     5|                  null|                1 bath|                   2|                   3|\"[\"\"Private entra...|       \"\"Hot water\"\"| \"\"Free washer \\u...|      \"\"Shower gel\"\"|          \"\"Hangers\"\"| \"\"Books and read...|  \"\"Radiant heating\"\"|   \"\"Fast wifi \\u20...|   \"\"Portable fans\"\"| \"\"Private BBQ gr...| \"\"Ethernet conne...|   \"\"Children\\u2019...|         \"\"GE gas stove\"\"|  \"\"Luggage dropof...|           \"\"Pets allowed\"\"|    \"\"Window AC unit\"\"|     \"\"Smoke alarm\"\"|          \"\"Keypad\"\"| \"\"Extra pillows ...|           \"\"55\\\"\" HDTV wit...|                        \"\"Gingerv Lilly ...|                         \"\"Children\\u2019...|                             5-10 years old| and 10+ years old\"\"|\n",
            "|841075134306050279|https://www.airbn...|20230905131342|  2023-09-05|city scrape|Rental unit in Th...|\"\"\"Welcome to our...|  our property is ...|            cookware|        and utensils| making it easy t...| with comfortable...| of which are cle...|Scenic views: The...|https://a0.muscac...|         398622781|https://www.airbn...|             Katelyn|        2021-04-25|        New York, NY|   \"\"\"Hi I'm Katelyn| Host of TRAVSERVE| a hospitality br...|           small families| insurance clients| and leisure trav...|   I understand the...|      within an hour|                  100%|                         92%|                 f|https://a0.muscac...|https://a0.muscac...|          Pelham Bay|            9|        9|['email', 'phone']|                 t|                 t|The Bronx, New Yo...|       Schuylerville|               Bronx|   40.84140547461933|    -73.83300267390709|    Entire rental unit|       Entire home/apt|                     5|                  null|                1 bath|                   2|                   3|\"[\"\"Private entra...|       \"\"Hot water\"\"| \"\"Free washer \\u...|      \"\"Shower gel\"\"|          \"\"Hangers\"\"| \"\"Books and read...|  \"\"Radiant heating\"\"|   \"\"Paid parking o...| \"\"Crib - availab...|   \"\"Portable fans\"\"| \"\"Ginger Lilly F...|   \"\"Ethernet conne...|      \"\"Children\\u2019...|  \"\"Luggage dropof...|           \"\"Pets allowed\"\"|    \"\"Window AC unit\"\"|     \"\"Smoke alarm\"\"| \"\"Children\\u2019...| \"\"Extra pillows ...|             \"\"Outlet covers\"\"|                        \"\"Dishes and sil...|                         \"\"55\\\"\" HDTV wit...|                                     Roku\"\"| \"\"Room-darkening...|\n",
            "|863733005126162178|https://www.airbn...|20230905131342|  2023-09-05|city scrape|Home in Queens · ...|Bring the whole f...|                 null|https://a0.muscac...|            50997424|https://www.airbn...|                Mark|          2015-12-10|New York, United ...|Native of NYC.  B...|    within an hour|                100%|                 33%|                 f|https://a0.muscac...|https://a0.muscac...|    Middle Village|                  10|                       10|['email', 'phone']|                   t|                     t|                null|             Ridgewood|                      Queens|  40.7029477891808|  -73.89821661565234|         Entire home|     Entire home/apt|           16|     null|           3 baths|                 7|                13|\"[\"\"Air condition...| \"\"Dedicated work...|            \"\"Wifi\"\"| \"\"Carbon monoxid...|       \"\"Smoke alarm\"\"|            \"\"Washer\"\"|           \"\"Kitchen\"\"|              \"\"TV\"\"]\"|               $600.00|                    30|                 365|                  30|                  30|                 365|                 365|                30.0|                365.0|                null|                    t|                    29|                  59|                  89|                 269|            2023-09-05|                        0|                    0|                          0|                  null|                null|                null|                null|                          null|                                       null|                                        null|                                       null|                null|\n",
            "|           9919728|https://www.airbn...|20230905131342|  2023-09-05|city scrape|Townhouse in Quee...|Comfortable 3BR/1...| Beautiful Juniper...|https://a0.muscac...|            50997424|https://www.airbn...|                Mark|          2015-12-10|New York, United ...|Native of NYC.  B...|    within an hour|                100%|                 33%|                 f|https://a0.muscac...|https://a0.muscac...|    Middle Village|                  10|                       10|['email', 'phone']|                   t|                     t|Queens, New York,...|        Middle Village|                      Queens|          40.71734|           -73.87805|    Entire townhouse|     Entire home/apt|           12|     null|            1 bath|                 3|                 7|       \"[\"\"Kitchen\"\"|           \"\"Dryer\"\"|              \"\"TV\"\"|            \"\"Iron\"\"|           \"\"Heating\"\"|       \"\"Smoke alarm\"\"|              \"\"Wifi\"\"|            \"\"Washer\"\"|   \"\"Free parking o...|   \"\"Carbon monoxid...| \"\"Air conditioni...|    \"\"Hair dryer\"\"]\"|             $328.00|                  30|                1125|                  30|                   30|                1125|                 1125|                  30.0|              1125.0|                null|                   t|                     5|                       35|                   65|                        340|            2023-09-05|                   8|                   0|                   0|                    2016-04-01|                                 2020-02-18|                                        4.33|                                       4.17|                4.33|\n",
            "|          53696990|https://www.airbn...|20230905131342|  2023-09-05|city scrape|Vacation home in ...|Private studio ap...|                 null|https://a0.muscac...|            50997424|https://www.airbn...|                Mark|          2015-12-10|New York, United ...|Native of NYC.  B...|    within an hour|                100%|                 33%|                 f|https://a0.muscac...|https://a0.muscac...|    Middle Village|                  10|                       10|['email', 'phone']|                   t|                     t|                null|        Middle Village|                      Queens|          40.71726|           -73.87628|Entire vacation home|     Entire home/apt|            4|     null|            1 bath|              null|                 2|       \"[\"\"Kitchen\"\"|    \"\"Refrigerator\"\"| \"\"Heating - spli...|    \"\"Coffee maker\"\"|      \"\"Dining table\"\"|                \"\"TV\"\"|       \"\"Smoke alarm\"\"|        \"\"Bed linens\"\"|         \"\"Hot water\"\"|   \"\"Hot water kett...|           \"\"Bidet\"\"|            \"\"Wifi\"\"|       \"\"Gas stove\"\"| \"\"Free parking o...| \"\"Carbon monoxid...|      \"\"Essentials\"\"|  \"\"Air conditioni...|  \"\"Cooking basics\"\"|  \"\"Dishes and sil...|               $139.00|                  30|                 365|                  30|                    30|                      365|                  365|                       30.0|                 365.0|                null|                   t|                  30|                            60|                                         90|                                         365|                                 2023-09-05|                   1|\n",
            "|714936072143571657|https://www.airbn...|20230905131342|  2023-09-05|city scrape|Townhouse in Quee...|Bring your large ...|                 null|https://a0.muscac...|            50997424|https://www.airbn...|                Mark|          2015-12-10|New York, United ...|Native of NYC.  B...|    within an hour|                100%|                 33%|                 f|https://a0.muscac...|https://a0.muscac...|    Middle Village|                  10|                       10|['email', 'phone']|                   t|                     t|                null|             Ridgewood|                      Queens|          40.70405|           -73.89761|    Entire townhouse|     Entire home/apt|           14|     null|           2 baths|                 5|                 9|\"[\"\"Air condition...|            \"\"Wifi\"\"| \"\"Carbon monoxid...|     \"\"Smoke alarm\"\"|            \"\"Washer\"\"|           \"\"Kitchen\"\"|              \"\"TV\"\"]\"|               $518.00|                     7|                   365|                  30|                  30|                 365|                 365|                30.0|               365.0|                 null|                   t|                   30|                    60|                  90|                 365|          2023-09-05|                     0|                        0|                    0|                       null|                  null|                null|                null|                null|                          null|                                       null|                                        null|                                       null|                null|\n",
            "|           9920363|https://www.airbn...|20230905131342|  2023-09-05|city scrape|Townhouse in Quee...|Lots of space for...| Ridgewood is trad...|https://a0.muscac...|            50997424|https://www.airbn...|                Mark|          2015-12-10|New York, United ...|Native of NYC.  B...|    within an hour|                100%|                 33%|                 f|https://a0.muscac...|https://a0.muscac...|    Middle Village|                  10|                       10|['email', 'phone']|                   t|                     t|Queens, New York,...|             Ridgewood|                      Queens|          40.70465|           -73.89909|    Entire townhouse|     Entire home/apt|           16|     null|         2.5 baths|                 5|                11|     \"[\"\"Hot water\"\"| \"\"Air conditioni...|   \"\"Self check-in\"\"|            \"\"Wifi\"\"|      \"\"Refrigerator\"\"|   \"\"Carbon monoxid...|              \"\"Iron\"\"|   \"\"Fire extinguis...|             \"\"Dryer\"\"|        \"\"Bed linens\"\"|          \"\"Keypad\"\"|     \"\"Smoke alarm\"\"|          \"\"Washer\"\"|         \"\"Kitchen\"\"|              \"\"TV\"\"|      \"\"Hair dryer\"\"|        \"\"Heating\"\"]\"|             $485.00|                   30|                  1125|                  30|                  30|                1125|                  1125|                     30.0|               1125.0|                       null|                     t|                  30|                  60|                  90|                           365|                                 2023-09-05|                                           8|                                          0|                   0|\n",
            "|556960737995069310|https://www.airbn...|20230905131342|  2023-09-05|city scrape|Rental unit in Qu...|Newly renovated b...|                 null|https://a0.muscac...|            50997424|https://www.airbn...|                Mark|          2015-12-10|New York, United ...|Native of NYC.  B...|    within an hour|                100%|                 33%|                 f|https://a0.muscac...|https://a0.muscac...|    Middle Village|                  10|                       10|['email', 'phone']|                   t|                     t|                null|             Ridgewood|                      Queens|          40.70317|           -73.89949|  Entire rental unit|     Entire home/apt|            6|     null|            1 bath|                 2|                 4|\"[\"\"Air condition...|            \"\"Wifi\"\"| \"\"Carbon monoxid...|     \"\"Smoke alarm\"\"|            \"\"Washer\"\"|           \"\"Kitchen\"\"|              \"\"TV\"\"]\"|               $242.00|                    30|                   365|                  30|                  30|                 365|                 365|                30.0|               365.0|                 null|                   t|                   30|                    60|                  90|                 365|          2023-09-05|                     3|                        3|                    0|                 2022-10-06|            2023-04-24|                 5.0|                 5.0|                4.33|                           5.0|                                        5.0|                                        4.67|                                       4.67|                null|\n",
            "|          54395062|https://www.airbn...|20230905131342|  2023-09-05|city scrape|Vacation home in ...|Your family will ...|                 null|https://a0.muscac...|            50997424|https://www.airbn...|                Mark|          2015-12-10|New York, United ...|Native of NYC.  B...|    within an hour|                100%|                 33%|                 f|https://a0.muscac...|https://a0.muscac...|    Middle Village|                  10|                       10|['email', 'phone']|                   t|                     t|                null|             Ridgewood|                      Queens|          40.70453|           -73.89898|Entire vacation home|     Entire home/apt|            6|     null|            1 bath|                 2|                 4|\"[\"\"Air condition...|            \"\"Wifi\"\"|    \"\"Refrigerator\"\"| \"\"Carbon monoxid...|       \"\"Smoke alarm\"\"|           \"\"Kitchen\"\"|              \"\"TV\"\"]\"|               $245.00|                    30|                   365|                  30|                  30|                 365|                 365|                30.0|               365.0|                 null|                   t|                   30|                    60|                  90|                 365|          2023-09-05|                     3|                        2|                    1|                 2022-08-14|            2023-08-20|                4.67|                4.67|                4.67|                           5.0|                                        5.0|                                         5.0|                                       4.33|                null|\n",
            "|          40322951|https://www.airbn...|20230905131342|  2023-09-05|city scrape|Home in Brooklyn ...|One full/queen be...| Beautiful and bus...|https://a0.muscac...|           297311545|https://www.airbn...|             Uchenna|          2019-09-23|New York, United ...|                null|    within an hour|                100%|                 N/A|                 f|https://a0.muscac...|https://a0.muscac...|     East Flatbush|                   3|                        4|['email', 'phone']|                   t|                     t|Brooklyn, New Yor...|         East Flatbush|                    Brooklyn|          40.65409|           -73.94569|Private room in home|        Private room|            1|     null|     1 shared bath|              null|                 1|\"[\"\"Private entra...|       \"\"Hot water\"\"|      \"\"Shower gel\"\"|         \"\"Hangers\"\"|     \"\"Portable fans\"\"|      \"\"Refrigerator\"\"|              \"\"Oven\"\"|       \"\"Smoke alarm\"\"|   \"\"Extra pillows ...|   \"\"Dishes and sil...|    \"\"Dining table\"\"| \"\"Room-darkening...|          \"\"Coffee\"\"|      \"\"Essentials\"\"| \"\"Dedicated work...|   \"\"Self check-in\"\"|             \"\"Wifi\"\"|  \"\"Cooking basics\"\"|       \"\"Bed linens\"\"|   \"\"Security camer...| \"\"Fire extinguis...|       \"\"Body soap\"\"|   \"\"Window guards\"\"|           \"\"Toaster\"\"|      \"\"Carbon monoxid...|          \"\"Lockbox\"\"|        \"\"Free street pa...|           \"\"Kitchen\"\"|         \"\"Heating\"\"|         \"\"Shampoo\"\"| \"\"Lock on bedroo...|           \"\"Long term stay...|                                  \"\"Stove\"\"|                           \"\"First aid kit\"\"|                                   \"\"Iron\"\"|       \"\"Microwave\"\"|\n",
            "|          40195034|https://www.airbn...|20230905131342|  2023-09-05|city scrape|Home in Brooklyn ...|One full/queen be...| The Space is a bl...|https://a0.muscac...|           297311545|https://www.airbn...|             Uchenna|          2019-09-23|New York, United ...|                null|    within an hour|                100%|                 N/A|                 f|https://a0.muscac...|https://a0.muscac...|     East Flatbush|                   3|                        4|['email', 'phone']|                   t|                     t|Brooklyn, New Yor...|         East Flatbush|                    Brooklyn|          40.65229|           -73.94556|Private room in home|        Private room|            1|     null|    1 private bath|              null|                 1|\"[\"\"Private entra...|       \"\"Hot water\"\"|      \"\"Shower gel\"\"|         \"\"Hangers\"\"|     \"\"Portable fans\"\"|      \"\"Refrigerator\"\"|              \"\"Oven\"\"|       \"\"Smoke alarm\"\"|   \"\"Extra pillows ...|   \"\"Dishes and sil...|    \"\"Dining table\"\"| \"\"Room-darkening...|          \"\"Coffee\"\"|      \"\"Essentials\"\"|   \"\"Self check-in\"\"|            \"\"Wifi\"\"|  \"\"Clothing stora...|  \"\"Cooking basics\"\"|       \"\"Bed linens\"\"|           \"\"Bathtub\"\"| \"\"Security camer...| \"\"Fire extinguis...|     \"\"Mini fridge\"\"|         \"\"Body soap\"\"|        \"\"Window guards\"\"|          \"\"Toaster\"\"|        \"\"Carbon monoxid...|           \"\"Lockbox\"\"| \"\"Free street pa...|         \"\"Kitchen\"\"|         \"\"Heating\"\"|           \"\"TV with standa...|                                \"\"Shampoo\"\"|                         \"\"Lock on bedroo...|                        \"\"Long term stay...|   \"\"First aid kit\"\"|\n",
            "|          39898950|https://www.airbn...|20230905131342|  2023-09-05|city scrape|Home in Brooklyn ...|One full/queen be...| A block away from...|https://a0.muscac...|           297311545|https://www.airbn...|             Uchenna|          2019-09-23|New York, United ...|                null|    within an hour|                100%|                 N/A|                 f|https://a0.muscac...|https://a0.muscac...|     East Flatbush|                   3|                        4|['email', 'phone']|                   t|                     t|Brooklyn, New Yor...|         East Flatbush|                    Brooklyn|          40.65248|           -73.94584|Private room in home|        Private room|            1|     null|         1.5 baths|              null|                 1|\"[\"\"Private entra...|       \"\"Hot water\"\"|         \"\"Hangers\"\"|      \"\"Shower gel\"\"|   \"\"Luggage dropof...|     \"\"Portable fans\"\"|      \"\"Refrigerator\"\"|              \"\"Oven\"\"|       \"\"Smoke alarm\"\"|   \"\"Extra pillows ...| \"\"Dishes and sil...|    \"\"Dining table\"\"| \"\"Room-darkening...|          \"\"Coffee\"\"|      \"\"Essentials\"\"| \"\"Dedicated work...|    \"\"Self check-in\"\"|            \"\"Wifi\"\"|  \"\"Clothing stora...|    \"\"Cooking basics\"\"|      \"\"Bed linens\"\"| \"\"Security camer...| \"\"Fire extinguis...|       \"\"Mini fridge\"\"|        \"\"Window guards\"\"|          \"\"Toaster\"\"|        \"\"Carbon monoxid...|           \"\"Lockbox\"\"| \"\"Free street pa...|         \"\"Kitchen\"\"|         \"\"Heating\"\"|                   \"\"Shampoo\"\"|                        \"\"Lock on bedroo...|                         \"\"Long term stay...|                                  \"\"Stove\"\"|   \"\"First aid kit\"\"|\n",
            "+------------------+--------------------+--------------+------------+-----------+--------------------+--------------------+---------------------+--------------------+--------------------+--------------------+--------------------+--------------------+--------------------+--------------------+------------------+--------------------+--------------------+------------------+--------------------+--------------------+------------------+--------------------+-------------------------+------------------+--------------------+----------------------+--------------------+----------------------+----------------------------+------------------+--------------------+--------------------+--------------------+-------------+---------+------------------+------------------+------------------+--------------------+--------------------+--------------------+--------------------+----------------------+----------------------+----------------------+----------------------+----------------------+----------------------+--------------------+--------------------+--------------------+--------------------+--------------------+--------------------+---------------------+--------------------+---------------------+----------------------+--------------------+--------------------+--------------------+----------------------+-------------------------+---------------------+---------------------------+----------------------+--------------------+--------------------+--------------------+------------------------------+-------------------------------------------+--------------------------------------------+-------------------------------------------+--------------------+\n",
            "only showing top 20 rows\n",
            "\n"
          ]
        }
      ],
      "source": [
        "# Look over the listings data.\n",
        "listings_df.show()"
      ]
    },
    {
      "cell_type": "code",
      "execution_count": null,
      "metadata": {
        "colab": {
          "base_uri": "https://localhost:8080/"
        },
        "id": "L_hKqNbW_EnA",
        "outputId": "3f7ec460-d22e-490b-9cc1-50ba90e5df75"
      },
      "outputs": [
        {
          "output_type": "stream",
          "name": "stdout",
          "text": [
            "+----------+----------+---------+-------+--------------+--------------+--------------+\n",
            "|listing_id|      date|available|  price|adjusted_price|minimum_nights|maximum_nights|\n",
            "+----------+----------+---------+-------+--------------+--------------+--------------+\n",
            "|      2595|2023-09-05|        t|$240.00|       $240.00|            30|          1125|\n",
            "|      2595|2023-09-06|        t|$240.00|       $240.00|            30|          1125|\n",
            "|      2595|2023-09-07|        t|$240.00|       $240.00|            30|          1125|\n",
            "|      2595|2023-09-08|        t|$240.00|       $240.00|            30|          1125|\n",
            "|      2595|2023-09-09|        t|$240.00|       $240.00|            30|          1125|\n",
            "|      2595|2023-09-10|        t|$240.00|       $240.00|            30|          1125|\n",
            "|      2595|2023-09-11|        t|$240.00|       $240.00|            30|          1125|\n",
            "|      2595|2023-09-12|        t|$240.00|       $240.00|            30|          1125|\n",
            "|      2595|2023-09-13|        t|$240.00|       $240.00|            30|          1125|\n",
            "|      2595|2023-09-14|        t|$240.00|       $240.00|            30|          1125|\n",
            "|      2595|2023-09-15|        t|$240.00|       $240.00|            30|          1125|\n",
            "|      2595|2023-09-16|        t|$240.00|       $240.00|            30|          1125|\n",
            "|      2595|2023-09-17|        t|$240.00|       $240.00|            30|          1125|\n",
            "|      2595|2023-09-18|        t|$240.00|       $240.00|            30|          1125|\n",
            "|      2595|2023-09-19|        t|$240.00|       $240.00|            30|          1125|\n",
            "|      2595|2023-09-20|        t|$240.00|       $240.00|            30|          1125|\n",
            "|      2595|2023-09-21|        t|$240.00|       $240.00|            30|          1125|\n",
            "|      2595|2023-09-22|        t|$240.00|       $240.00|            30|          1125|\n",
            "|      2595|2023-09-23|        t|$240.00|       $240.00|            30|          1125|\n",
            "|      2595|2023-09-24|        t|$240.00|       $240.00|            30|          1125|\n",
            "+----------+----------+---------+-------+--------------+--------------+--------------+\n",
            "only showing top 20 rows\n",
            "\n"
          ]
        }
      ],
      "source": [
        "# Look over the data for calendar.\n",
        "calendar_df.show()"
      ]
    },
    {
      "cell_type": "code",
      "execution_count": null,
      "metadata": {
        "colab": {
          "base_uri": "https://localhost:8080/"
        },
        "id": "uRm2AMPRHM_u",
        "outputId": "9fe70d2d-bc23-4dd9-95fa-b9923b87fd14"
      },
      "outputs": [
        {
          "output_type": "stream",
          "name": "stdout",
          "text": [
            "+--------------------+--------------------+--------------------+--------------------+--------------------+--------------------+\n",
            "|          listing_id|                  id|                date|         reviewer_id|       reviewer_name|            comments|\n",
            "+--------------------+--------------------+--------------------+--------------------+--------------------+--------------------+\n",
            "|                2595|               17857|          2009-11-21|               50679|                Jean|Notre séjour de t...|\n",
            "|<br/>Nous avons a...| propre et bien s...|                null|                null|                null|                null|\n",
            "|<br/>Petits souci...| et il manquait l...| le liquide vaiss...| nous les avons r...| donc une premièr...|                null|\n",
            "|<br/>Si j'ai la p...| je reprendrai à ...|                null|                null|                null|                null|\n",
            "|           <br/>Jean|                null|                null|                null|                null|                null|\n",
            "|<br/>Possession -...|                null|                null|                null|                null|                null|\n",
            "|              <br/>\"|                null|                null|                null|                null|                null|\n",
            "|                2595|               19176|          2009-12-05|               53267|                Cate|   Great experience.|\n",
            "|                2595|               19760|          2009-12-10|               38960|               Anita|I've stayed with ...|\n",
            "|<br/>Attention: i...|                null|                null|                null|                null|                null|\n",
            "|                2595|               34320|          2010-04-09|               71130|             Kai-Uwe|We've been stayin...|\n",
            "|                2595|               46312|          2010-05-25|              117113|              Alicia|We had a wonderfu...|\n",
            "|                2595|             1238204|          2012-05-07|             1783688|              Sergey|     Hi to everyone!|\n",
            "|<br/>Would say ou...| the host of Midt...| 2012) and will r...|                null|                null|                null|\n",
            "|<br/>The apartmen...| vigorous and ver...|                null|                null|                null|                null|\n",
            "|                2595|             1293632|          2012-05-17|             1870771|                Loïc|Jennifer was very...|\n",
            "|               <br/>|                null|                null|                null|                null|                null|\n",
            "|      <br/>Thanks !\"|                null|                null|                null|                null|                null|\n",
            "|                2595|             2022498|          2012-08-18|             2124102|             Melanie|This apartment is...|\n",
            "|<br/>We weren’t h...| the host sent in...|                null|                null|                null|                null|\n",
            "+--------------------+--------------------+--------------------+--------------------+--------------------+--------------------+\n",
            "only showing top 20 rows\n",
            "\n"
          ]
        }
      ],
      "source": [
        "# Look over the review data.\n",
        "reviews_df.show()"
      ]
    },
    {
      "cell_type": "code",
      "source": [
        "import pandas as pd"
      ],
      "metadata": {
        "id": "I9J5v8RT-aOK"
      },
      "execution_count": null,
      "outputs": []
    },
    {
      "cell_type": "code",
      "source": [
        "listings_df.count()"
      ],
      "metadata": {
        "colab": {
          "base_uri": "https://localhost:8080/"
        },
        "id": "cQ1u7-j7-ied",
        "outputId": "509a5baa-6051-4e9c-ed9a-e1162aee92a7"
      },
      "execution_count": null,
      "outputs": [
        {
          "output_type": "execute_result",
          "data": {
            "text/plain": [
              "64949"
            ]
          },
          "metadata": {},
          "execution_count": 8
        }
      ]
    },
    {
      "cell_type": "code",
      "source": [
        "calendar_df.count()"
      ],
      "metadata": {
        "colab": {
          "base_uri": "https://localhost:8080/"
        },
        "id": "OXNOvjAd-rol",
        "outputId": "b4b77ef3-075e-4123-d4c9-927571d997d9"
      },
      "execution_count": null,
      "outputs": [
        {
          "output_type": "execute_result",
          "data": {
            "text/plain": [
              "14399996"
            ]
          },
          "metadata": {},
          "execution_count": 9
        }
      ]
    },
    {
      "cell_type": "code",
      "source": [
        "reviews_df.count()"
      ],
      "metadata": {
        "colab": {
          "base_uri": "https://localhost:8080/"
        },
        "id": "eaB9vW0PAR-u",
        "outputId": "374015ab-b19f-4262-ff34-d9b67ff85463"
      },
      "execution_count": null,
      "outputs": [
        {
          "output_type": "execute_result",
          "data": {
            "text/plain": [
              "1107152"
            ]
          },
          "metadata": {},
          "execution_count": 10
        }
      ]
    },
    {
      "cell_type": "code",
      "source": [
        "listing_columns = ['id','listing_url','name','host_id','host_url','host_name','host_since','host_is_superhost','host_listings_count','host_total_listings_count','neighbourhood_cleansed','neighbourhood_group_cleansed','latitude','longitude','room_type','accommodates','bathrooms_text','bedrooms','beds','amenities','price','minimum_nights','maximum_nights','has_availability','number_of_reviews','number_of_reviews_ltm','number_of_reviews_l30d','first_review','last_review','review_scores_rating','review_scores_accuracy','review_scores_cleanliness','review_scores_checkin','review_scores_communication','review_scores_location','review_scores_value','calculated_host_listings_count','reviews_per_month']\n",
        "calendars_columns = ['listing_id','date','available','price','adjusted_price']\n",
        "reviews_columns = ['listing_id','id','date','reviewer_id','reviewer_name','comments']"
      ],
      "metadata": {
        "id": "Mrj1z1JIBGoK"
      },
      "execution_count": null,
      "outputs": []
    },
    {
      "cell_type": "code",
      "source": [
        "column_listings_df = listings_df[listing_columns]\n",
        "column_calendars_df = calendar_df[calendars_columns]\n",
        "column_reviews_df = reviews_df[reviews_columns]"
      ],
      "metadata": {
        "id": "U7M_kV0dHu0X"
      },
      "execution_count": null,
      "outputs": []
    },
    {
      "cell_type": "code",
      "source": [
        "column_listings_df = column_listings_df.withColumnRenamed('id', 'listing_id')"
      ],
      "metadata": {
        "id": "y376vpggIJpj"
      },
      "execution_count": null,
      "outputs": []
    },
    {
      "cell_type": "code",
      "source": [
        "column_listings_df.show()"
      ],
      "metadata": {
        "colab": {
          "base_uri": "https://localhost:8080/"
        },
        "id": "TSwlpG70Iw0L",
        "outputId": "c9ebbc2a-e31e-4a05-f60c-56e7e04448f2"
      },
      "execution_count": null,
      "outputs": [
        {
          "output_type": "stream",
          "name": "stdout",
          "text": [
            "+------------------+--------------------+--------------------+--------------------+--------------------+--------------------+--------------------+------------------+--------------------+-------------------------+----------------------+----------------------------+------------------+--------------------+--------------------+-------------+------------------+------------------+------------------+--------------------+--------------------+--------------------+--------------------+--------------------+--------------------+---------------------+----------------------+--------------------+--------------------+--------------------+----------------------+-------------------------+---------------------+---------------------------+----------------------+--------------------+------------------------------+--------------------+\n",
            "|        listing_id|         listing_url|                name|             host_id|            host_url|           host_name|          host_since| host_is_superhost| host_listings_count|host_total_listings_count|neighbourhood_cleansed|neighbourhood_group_cleansed|          latitude|           longitude|           room_type| accommodates|    bathrooms_text|          bedrooms|              beds|           amenities|               price|      minimum_nights|      maximum_nights|    has_availability|   number_of_reviews|number_of_reviews_ltm|number_of_reviews_l30d|        first_review|         last_review|review_scores_rating|review_scores_accuracy|review_scores_cleanliness|review_scores_checkin|review_scores_communication|review_scores_location| review_scores_value|calculated_host_listings_count|   reviews_per_month|\n",
            "+------------------+--------------------+--------------------+--------------------+--------------------+--------------------+--------------------+------------------+--------------------+-------------------------+----------------------+----------------------------+------------------+--------------------+--------------------+-------------+------------------+------------------+------------------+--------------------+--------------------+--------------------+--------------------+--------------------+--------------------+---------------------+----------------------+--------------------+--------------------+--------------------+----------------------+-------------------------+---------------------+---------------------------+----------------------+--------------------+------------------------------+--------------------+\n",
            "|          52702018|https://www.airbn...|Rental unit in Qu...|            93231383|https://www.airbn...|              Daniel|          2016-09-03|                 t|                   3|                        3|         East Elmhurst|                      Queens|          40.76911|           -73.87053|     Entire home/apt|            4|            1 bath|                 1|                 2|\"[\"\"Private entra...|       \"\"Hot water\"\"|         \"\"Hangers\"\"| \"\"Coffee maker: ...|     \"\"Conditioner\"\"| \"\"Fast wifi \\u20...|       \"\"Bed linens\"\"|   \"\"Security camer...|       \"\"Body soap\"\"| \"\"Carbon monoxid...|         \"\"Lockbox\"\"|   \"\"Free street pa...|      \"\"Exercise equip...|          \"\"Kitchen\"\"|        \"\"Free driveway ...|        \"\"Hair dryer\"\"|         \"\"Shampoo\"\"|           \"\"HDTV with Fire...|            \"\"Iron\"\"|\n",
            "|903776106853996545|https://www.airbn...|Rental unit in Qu...|            93231383|https://www.airbn...|              Daniel|          2016-09-03|                 t|                   3|                        3|         East Elmhurst|                      Queens|          40.76951|           -73.86976|     Entire home/apt|            6|            1 bath|                 3|                 4|\"[\"\"Air condition...|            \"\"Wifi\"\"| \"\"Free parking o...|         \"\"Kitchen\"\"|                 365|                  59|                   89|                    89|          2023-09-05|                   0|                   0|                     0|                     null|                 null|                       null|                  null|                null|                          null|                   3|\n",
            "|784969376930125242|https://www.airbn...|Home in Queens · ...|            93231383|https://www.airbn...|              Daniel|          2016-09-03|                 t|                   3|                        3|         East Elmhurst|                      Queens|40.768175708747755|  -73.87126330286264|     Entire home/apt|            7|            1 bath|                 3|                 4|\"[\"\"Private entra...|       \"\"Hot water\"\"|         \"\"Hangers\"\"| \"\"Luggage dropof...| \"\"Dishes and sil...| \"\"Clothing stora...|   \"\"Cooking basics\"\"|        \"\"Bed linens\"\"|         \"\"Freezer\"\"|       \"\"Gas stove\"\"| \"\"Security camer...|   \"\"Free washer \\u...|            \"\"Body soap\"\"|          \"\"Lockbox\"\"|        \"\"Free parking o...|           \"\"Kitchen\"\"|            \"\"Safe\"\"|           \"\"Long term stay...|   \"\"First aid kit\"\"|\n",
            "|          54089885|https://www.airbn...|Rental unit in Br...|  government workers|         contractors| insurance reloca...| and wanderers al...|        2021-04-25| a hospitality br...|           small families|                  100%|                         92%|                 f|https://a0.muscac...|          Pelham Bay|            9|['email', 'phone']|                 t|                 t|Bronx, New York, ...|       Schuylerville|               Bronx|            40.83995|                   3| \"\"Books and read...|        \"\"Baby bath\"\"|   \"\"Radiant heating\"\"|   \"\"Portable fans\"\"| \"\"Private BBQ gr...| \"\"Ethernet conne...|   \"\"53\\\"\" HDTV wit...|      \"\"Children\\u2019...|  \"\"Luggage dropof...|           \"\"Pets allowed\"\"|    \"\"Window AC unit\"\"|     \"\"Smoke alarm\"\"|           \"\"Children\\u2019...| \"\"Room-darkening...|\n",
            "|836843217858604295|https://www.airbn...|Rental unit in Th...|           398622781|https://www.airbn...|             Katelyn|          2021-04-25| insurance clients|                100%|                      92%|                     9|                           9|['email', 'phone']|                   t|The Bronx, New Yo...|Schuylerville|  40.8392396326725|-73.83119430683094|Entire rental unit|     Entire home/apt|                  10|                null|             2 baths| \"\"Books and read...| \"\"Children\\u2019...|     \"\"Refrigerator\"\"|      \"\"Pets allowed\"\"| \"\"Paid crib - av...|  \"\"Window AC unit\"\"|     \"\"Smoke alarm\"\"|              \"\"Oven\"\"|      \"\"Extra pillows ...|  \"\"55\\\"\" HDTV wit...|        \"\"Children\\u2019...|        5-10 years old| and 10+ years old\"\"|           \"\"Exercise equip...| \"\"Dishes and sil...|\n",
            "|841128954402711018|https://www.airbn...|Rental unit in Th...|           398622781|https://www.airbn...|             Katelyn|          2021-04-25| insurance clients|                100%|                      92%|                     9|                           9|['email', 'phone']|                   t|The Bronx, New Yo...|Schuylerville| 40.84087113494387|-73.83319272363603|Entire rental unit|     Entire home/apt|                   5|                null|              1 bath| \"\"Books and read...| \"\"Children\\u2019...|     \"\"Pets allowed\"\"|    \"\"Window AC unit\"\"|     \"\"Smoke alarm\"\"| \"\"Single level h...|          \"\"Keypad\"\"|   \"\"Extra pillows ...|        \"\"Outlet covers\"\"|  \"\"Dishes and sil...|        \"\"55\\\"\" HDTV wit...|                Roku\"\"| \"\"Room-darkening...|                \"\"Essentials\"\"|          \"\"Coffee\"\"|\n",
            "|549465289587099130|https://www.airbn...|Home in Bronx · ★...|           398622781|https://www.airbn...|             Katelyn|          2021-04-25| insurance clients|                100%|                      92%|                     9|                           9|['email', 'phone']|                   t|Bronx, New York, ...|Schuylerville|           40.8407|         -73.83328|       Entire home|     Entire home/apt|                   2|                null|              1 bath| \"\"Books and read...| \"\"53\\\"\" HDTV wit...|  \"\"Children\\u2019...|      \"\"Pets allowed\"\"|  \"\"Window AC unit\"\"|     \"\"Smoke alarm\"\"| \"\"Single level h...|            \"\"Keypad\"\"|      \"\"Extra pillows ...|    \"\"Outlet covers\"\"|        \"\"Dishes and sil...|      \"\"Dining table\"\"| \"\"Room-darkening...|                \"\"Essentials\"\"|            \"\"Wifi\"\"|\n",
            "|953648370950219232|https://www.airbn...|Rental unit in Th...| and Montefiore M...| modern kitchen w...| and a well-appoi...| you'll enjoy sub...|        2021-04-25| a hospitality br...|           small families|                  100%|                         92%|                 f|https://a0.muscac...|          Pelham Bay|            9|['email', 'phone']|                 t|                 t|                null|       Schuylerville|               Bronx|   40.83957054653607|                   3| \"\"Books and read...|  \"\"Radiant heating\"\"|   \"\"Luggage dropof...| \"\"Crib - availab...|   \"\"Portable fans\"\"| \"\"Ethernet conne...|   \"\"Children\\u2019...|         \"\"Pets allowed\"\"|   \"\"Window AC unit\"\"|            \"\"Smoke alarm\"\"|   \"\"Stainless stee...| \"\"Single level h...|           \"\"Extra pillows ...| \"\"Room-darkening...|\n",
            "|          49422007|https://www.airbn...|Rental unit in Th...|        and utensils| making it easy t...| with comfortable...| of which are cle...|        2021-04-25| a hospitality br...|           small families|                  100%|                         92%|                 f|https://a0.muscac...|          Pelham Bay|            9|['email', 'phone']|                 t|                 t|The Bronx, New Yo...|       Schuylerville|               Bronx|             40.8395|                   3| \"\"Books and read...|  \"\"Radiant heating\"\"|   \"\"Fast wifi \\u20...|   \"\"Portable fans\"\"| \"\"Private BBQ gr...| \"\"Ethernet conne...|   \"\"Children\\u2019...|         \"\"GE gas stove\"\"|  \"\"Luggage dropof...|           \"\"Pets allowed\"\"|    \"\"Window AC unit\"\"|     \"\"Smoke alarm\"\"|           \"\"55\\\"\" HDTV wit...| and 10+ years old\"\"|\n",
            "|841075134306050279|https://www.airbn...|Rental unit in Th...|        and utensils| making it easy t...| with comfortable...| of which are cle...|        2021-04-25| a hospitality br...|           small families|                  100%|                         92%|                 f|https://a0.muscac...|          Pelham Bay|            9|['email', 'phone']|                 t|                 t|The Bronx, New Yo...|       Schuylerville|               Bronx|   40.84140547461933|                   3| \"\"Books and read...|  \"\"Radiant heating\"\"|   \"\"Paid parking o...| \"\"Crib - availab...|   \"\"Portable fans\"\"| \"\"Ginger Lilly F...|   \"\"Ethernet conne...|      \"\"Children\\u2019...|  \"\"Luggage dropof...|           \"\"Pets allowed\"\"|    \"\"Window AC unit\"\"|     \"\"Smoke alarm\"\"|             \"\"Outlet covers\"\"| \"\"Room-darkening...|\n",
            "|863733005126162178|https://www.airbn...|Home in Queens · ...|            50997424|https://www.airbn...|                Mark|          2015-12-10|                 f|                  10|                       10|             Ridgewood|                      Queens|  40.7029477891808|  -73.89821661565234|     Entire home/apt|           16|           3 baths|                 7|                13|\"[\"\"Air condition...| \"\"Dedicated work...|            \"\"Wifi\"\"| \"\"Carbon monoxid...|                  30|                null|                    t|                    29|                  59|                  89|                 269|            2023-09-05|                        0|                    0|                          0|                  null|                null|                          null|                null|\n",
            "|           9919728|https://www.airbn...|Townhouse in Quee...|            50997424|https://www.airbn...|                Mark|          2015-12-10|                 f|                  10|                       10|        Middle Village|                      Queens|          40.71734|           -73.87805|     Entire home/apt|           12|            1 bath|                 3|                 7|       \"[\"\"Kitchen\"\"|           \"\"Dryer\"\"|              \"\"TV\"\"|            \"\"Iron\"\"|    \"\"Hair dryer\"\"]\"|                1125|                 1125|                  30.0|              1125.0|                null|                   t|                     5|                       35|                   65|                        340|            2023-09-05|                   8|                    2016-04-01|                4.33|\n",
            "|          53696990|https://www.airbn...|Vacation home in ...|            50997424|https://www.airbn...|                Mark|          2015-12-10|                 f|                  10|                       10|        Middle Village|                      Queens|          40.71726|           -73.87628|     Entire home/apt|            4|            1 bath|              null|                 2|       \"[\"\"Kitchen\"\"|    \"\"Refrigerator\"\"| \"\"Heating - spli...|    \"\"Coffee maker\"\"|            \"\"Wifi\"\"|  \"\"Cooking basics\"\"|  \"\"Dishes and sil...|               $139.00|                  30|                 365|                  30|                    30|                      365|                  365|                       30.0|                 365.0|                null|                            60|                   1|\n",
            "|714936072143571657|https://www.airbn...|Townhouse in Quee...|            50997424|https://www.airbn...|                Mark|          2015-12-10|                 f|                  10|                       10|             Ridgewood|                      Queens|          40.70405|           -73.89761|     Entire home/apt|           14|           2 baths|                 5|                 9|\"[\"\"Air condition...|            \"\"Wifi\"\"| \"\"Carbon monoxid...|     \"\"Smoke alarm\"\"|                  30|                   t|                   30|                    60|                  90|                 365|          2023-09-05|                     0|                        0|                    0|                       null|                  null|                null|                          null|                null|\n",
            "|           9920363|https://www.airbn...|Townhouse in Quee...|            50997424|https://www.airbn...|                Mark|          2015-12-10|                 f|                  10|                       10|             Ridgewood|                      Queens|          40.70465|           -73.89909|     Entire home/apt|           16|         2.5 baths|                 5|                11|     \"[\"\"Hot water\"\"| \"\"Air conditioni...|   \"\"Self check-in\"\"|            \"\"Wifi\"\"|     \"\"Smoke alarm\"\"|             $485.00|                   30|                  1125|                  30|                  30|                1125|                  1125|                     30.0|               1125.0|                       null|                     t|                  30|                           365|                   0|\n",
            "|556960737995069310|https://www.airbn...|Rental unit in Qu...|            50997424|https://www.airbn...|                Mark|          2015-12-10|                 f|                  10|                       10|             Ridgewood|                      Queens|          40.70317|           -73.89949|     Entire home/apt|            6|            1 bath|                 2|                 4|\"[\"\"Air condition...|            \"\"Wifi\"\"| \"\"Carbon monoxid...|     \"\"Smoke alarm\"\"|                  30|                   t|                   30|                    60|                  90|                 365|          2023-09-05|                     3|                        3|                    0|                 2022-10-06|            2023-04-24|                 5.0|                           5.0|                null|\n",
            "|          54395062|https://www.airbn...|Vacation home in ...|            50997424|https://www.airbn...|                Mark|          2015-12-10|                 f|                  10|                       10|             Ridgewood|                      Queens|          40.70453|           -73.89898|     Entire home/apt|            6|            1 bath|                 2|                 4|\"[\"\"Air condition...|            \"\"Wifi\"\"|    \"\"Refrigerator\"\"| \"\"Carbon monoxid...|                  30|                   t|                   30|                    60|                  90|                 365|          2023-09-05|                     3|                        2|                    1|                 2022-08-14|            2023-08-20|                4.67|                           5.0|                null|\n",
            "|          40322951|https://www.airbn...|Home in Brooklyn ...|           297311545|https://www.airbn...|             Uchenna|          2019-09-23|                 f|                   3|                        4|         East Flatbush|                    Brooklyn|          40.65409|           -73.94569|        Private room|            1|     1 shared bath|              null|                 1|\"[\"\"Private entra...|       \"\"Hot water\"\"|      \"\"Shower gel\"\"|         \"\"Hangers\"\"| \"\"Room-darkening...|  \"\"Cooking basics\"\"|       \"\"Bed linens\"\"|   \"\"Security camer...| \"\"Fire extinguis...|       \"\"Body soap\"\"|   \"\"Window guards\"\"|           \"\"Toaster\"\"|      \"\"Carbon monoxid...|          \"\"Lockbox\"\"|        \"\"Free street pa...|           \"\"Kitchen\"\"|         \"\"Heating\"\"|           \"\"Long term stay...|       \"\"Microwave\"\"|\n",
            "|          40195034|https://www.airbn...|Home in Brooklyn ...|           297311545|https://www.airbn...|             Uchenna|          2019-09-23|                 f|                   3|                        4|         East Flatbush|                    Brooklyn|          40.65229|           -73.94556|        Private room|            1|    1 private bath|              null|                 1|\"[\"\"Private entra...|       \"\"Hot water\"\"|      \"\"Shower gel\"\"|         \"\"Hangers\"\"| \"\"Room-darkening...|  \"\"Cooking basics\"\"|       \"\"Bed linens\"\"|           \"\"Bathtub\"\"| \"\"Security camer...| \"\"Fire extinguis...|     \"\"Mini fridge\"\"|         \"\"Body soap\"\"|        \"\"Window guards\"\"|          \"\"Toaster\"\"|        \"\"Carbon monoxid...|           \"\"Lockbox\"\"| \"\"Free street pa...|           \"\"TV with standa...|   \"\"First aid kit\"\"|\n",
            "|          39898950|https://www.airbn...|Home in Brooklyn ...|           297311545|https://www.airbn...|             Uchenna|          2019-09-23|                 f|                   3|                        4|         East Flatbush|                    Brooklyn|          40.65248|           -73.94584|        Private room|            1|         1.5 baths|              null|                 1|\"[\"\"Private entra...|       \"\"Hot water\"\"|         \"\"Hangers\"\"|      \"\"Shower gel\"\"|    \"\"Dining table\"\"|            \"\"Wifi\"\"|  \"\"Clothing stora...|    \"\"Cooking basics\"\"|      \"\"Bed linens\"\"| \"\"Security camer...| \"\"Fire extinguis...|       \"\"Mini fridge\"\"|        \"\"Window guards\"\"|          \"\"Toaster\"\"|        \"\"Carbon monoxid...|           \"\"Lockbox\"\"| \"\"Free street pa...|                   \"\"Shampoo\"\"|   \"\"First aid kit\"\"|\n",
            "+------------------+--------------------+--------------------+--------------------+--------------------+--------------------+--------------------+------------------+--------------------+-------------------------+----------------------+----------------------------+------------------+--------------------+--------------------+-------------+------------------+------------------+------------------+--------------------+--------------------+--------------------+--------------------+--------------------+--------------------+---------------------+----------------------+--------------------+--------------------+--------------------+----------------------+-------------------------+---------------------+---------------------------+----------------------+--------------------+------------------------------+--------------------+\n",
            "only showing top 20 rows\n",
            "\n"
          ]
        }
      ]
    },
    {
      "cell_type": "code",
      "source": [
        "from pyspark.sql import SparkSession\n"
      ],
      "metadata": {
        "id": "AOVxFH90I2FK"
      },
      "execution_count": null,
      "outputs": []
    },
    {
      "cell_type": "code",
      "source": [
        "# Initialize Spark session\n",
        "spark = SparkSession.builder.appName(\"example\").getOrCreate()\n",
        "\n",
        "# Assuming you have a PySpark DataFrame named 'column_listings_df'\n",
        "# Drop rows with null values in the 'listing_id' column\n",
        "column_listings_df = column_listings_df.dropna(subset=['listing_id'])\n",
        "\n",
        "# Show the DataFrame after dropping null values\n",
        "column_listings_df.show()"
      ],
      "metadata": {
        "colab": {
          "base_uri": "https://localhost:8080/"
        },
        "id": "1PguHgeNNu3p",
        "outputId": "aea903a8-b5e5-46d5-d24e-83355b86d3b4"
      },
      "execution_count": null,
      "outputs": [
        {
          "output_type": "stream",
          "name": "stdout",
          "text": [
            "+------------------+--------------------+--------------------+--------------------+--------------------+--------------------+--------------------+------------------+--------------------+-------------------------+----------------------+----------------------------+------------------+--------------------+--------------------+-------------+------------------+------------------+------------------+--------------------+--------------------+--------------------+--------------------+--------------------+--------------------+---------------------+----------------------+--------------------+--------------------+--------------------+----------------------+-------------------------+---------------------+---------------------------+----------------------+--------------------+------------------------------+--------------------+\n",
            "|        listing_id|         listing_url|                name|             host_id|            host_url|           host_name|          host_since| host_is_superhost| host_listings_count|host_total_listings_count|neighbourhood_cleansed|neighbourhood_group_cleansed|          latitude|           longitude|           room_type| accommodates|    bathrooms_text|          bedrooms|              beds|           amenities|               price|      minimum_nights|      maximum_nights|    has_availability|   number_of_reviews|number_of_reviews_ltm|number_of_reviews_l30d|        first_review|         last_review|review_scores_rating|review_scores_accuracy|review_scores_cleanliness|review_scores_checkin|review_scores_communication|review_scores_location| review_scores_value|calculated_host_listings_count|   reviews_per_month|\n",
            "+------------------+--------------------+--------------------+--------------------+--------------------+--------------------+--------------------+------------------+--------------------+-------------------------+----------------------+----------------------------+------------------+--------------------+--------------------+-------------+------------------+------------------+------------------+--------------------+--------------------+--------------------+--------------------+--------------------+--------------------+---------------------+----------------------+--------------------+--------------------+--------------------+----------------------+-------------------------+---------------------+---------------------------+----------------------+--------------------+------------------------------+--------------------+\n",
            "|          52702018|https://www.airbn...|Rental unit in Qu...|            93231383|https://www.airbn...|              Daniel|          2016-09-03|                 t|                   3|                        3|         East Elmhurst|                      Queens|          40.76911|           -73.87053|     Entire home/apt|            4|            1 bath|                 1|                 2|\"[\"\"Private entra...|       \"\"Hot water\"\"|         \"\"Hangers\"\"| \"\"Coffee maker: ...|     \"\"Conditioner\"\"| \"\"Fast wifi \\u20...|       \"\"Bed linens\"\"|   \"\"Security camer...|       \"\"Body soap\"\"| \"\"Carbon monoxid...|         \"\"Lockbox\"\"|   \"\"Free street pa...|      \"\"Exercise equip...|          \"\"Kitchen\"\"|        \"\"Free driveway ...|        \"\"Hair dryer\"\"|         \"\"Shampoo\"\"|           \"\"HDTV with Fire...|            \"\"Iron\"\"|\n",
            "|903776106853996545|https://www.airbn...|Rental unit in Qu...|            93231383|https://www.airbn...|              Daniel|          2016-09-03|                 t|                   3|                        3|         East Elmhurst|                      Queens|          40.76951|           -73.86976|     Entire home/apt|            6|            1 bath|                 3|                 4|\"[\"\"Air condition...|            \"\"Wifi\"\"| \"\"Free parking o...|         \"\"Kitchen\"\"|                 365|                  59|                   89|                    89|          2023-09-05|                   0|                   0|                     0|                     null|                 null|                       null|                  null|                null|                          null|                   3|\n",
            "|784969376930125242|https://www.airbn...|Home in Queens · ...|            93231383|https://www.airbn...|              Daniel|          2016-09-03|                 t|                   3|                        3|         East Elmhurst|                      Queens|40.768175708747755|  -73.87126330286264|     Entire home/apt|            7|            1 bath|                 3|                 4|\"[\"\"Private entra...|       \"\"Hot water\"\"|         \"\"Hangers\"\"| \"\"Luggage dropof...| \"\"Dishes and sil...| \"\"Clothing stora...|   \"\"Cooking basics\"\"|        \"\"Bed linens\"\"|         \"\"Freezer\"\"|       \"\"Gas stove\"\"| \"\"Security camer...|   \"\"Free washer \\u...|            \"\"Body soap\"\"|          \"\"Lockbox\"\"|        \"\"Free parking o...|           \"\"Kitchen\"\"|            \"\"Safe\"\"|           \"\"Long term stay...|   \"\"First aid kit\"\"|\n",
            "|          54089885|https://www.airbn...|Rental unit in Br...|  government workers|         contractors| insurance reloca...| and wanderers al...|        2021-04-25| a hospitality br...|           small families|                  100%|                         92%|                 f|https://a0.muscac...|          Pelham Bay|            9|['email', 'phone']|                 t|                 t|Bronx, New York, ...|       Schuylerville|               Bronx|            40.83995|                   3| \"\"Books and read...|        \"\"Baby bath\"\"|   \"\"Radiant heating\"\"|   \"\"Portable fans\"\"| \"\"Private BBQ gr...| \"\"Ethernet conne...|   \"\"53\\\"\" HDTV wit...|      \"\"Children\\u2019...|  \"\"Luggage dropof...|           \"\"Pets allowed\"\"|    \"\"Window AC unit\"\"|     \"\"Smoke alarm\"\"|           \"\"Children\\u2019...| \"\"Room-darkening...|\n",
            "|836843217858604295|https://www.airbn...|Rental unit in Th...|           398622781|https://www.airbn...|             Katelyn|          2021-04-25| insurance clients|                100%|                      92%|                     9|                           9|['email', 'phone']|                   t|The Bronx, New Yo...|Schuylerville|  40.8392396326725|-73.83119430683094|Entire rental unit|     Entire home/apt|                  10|                null|             2 baths| \"\"Books and read...| \"\"Children\\u2019...|     \"\"Refrigerator\"\"|      \"\"Pets allowed\"\"| \"\"Paid crib - av...|  \"\"Window AC unit\"\"|     \"\"Smoke alarm\"\"|              \"\"Oven\"\"|      \"\"Extra pillows ...|  \"\"55\\\"\" HDTV wit...|        \"\"Children\\u2019...|        5-10 years old| and 10+ years old\"\"|           \"\"Exercise equip...| \"\"Dishes and sil...|\n",
            "|841128954402711018|https://www.airbn...|Rental unit in Th...|           398622781|https://www.airbn...|             Katelyn|          2021-04-25| insurance clients|                100%|                      92%|                     9|                           9|['email', 'phone']|                   t|The Bronx, New Yo...|Schuylerville| 40.84087113494387|-73.83319272363603|Entire rental unit|     Entire home/apt|                   5|                null|              1 bath| \"\"Books and read...| \"\"Children\\u2019...|     \"\"Pets allowed\"\"|    \"\"Window AC unit\"\"|     \"\"Smoke alarm\"\"| \"\"Single level h...|          \"\"Keypad\"\"|   \"\"Extra pillows ...|        \"\"Outlet covers\"\"|  \"\"Dishes and sil...|        \"\"55\\\"\" HDTV wit...|                Roku\"\"| \"\"Room-darkening...|                \"\"Essentials\"\"|          \"\"Coffee\"\"|\n",
            "|549465289587099130|https://www.airbn...|Home in Bronx · ★...|           398622781|https://www.airbn...|             Katelyn|          2021-04-25| insurance clients|                100%|                      92%|                     9|                           9|['email', 'phone']|                   t|Bronx, New York, ...|Schuylerville|           40.8407|         -73.83328|       Entire home|     Entire home/apt|                   2|                null|              1 bath| \"\"Books and read...| \"\"53\\\"\" HDTV wit...|  \"\"Children\\u2019...|      \"\"Pets allowed\"\"|  \"\"Window AC unit\"\"|     \"\"Smoke alarm\"\"| \"\"Single level h...|            \"\"Keypad\"\"|      \"\"Extra pillows ...|    \"\"Outlet covers\"\"|        \"\"Dishes and sil...|      \"\"Dining table\"\"| \"\"Room-darkening...|                \"\"Essentials\"\"|            \"\"Wifi\"\"|\n",
            "|953648370950219232|https://www.airbn...|Rental unit in Th...| and Montefiore M...| modern kitchen w...| and a well-appoi...| you'll enjoy sub...|        2021-04-25| a hospitality br...|           small families|                  100%|                         92%|                 f|https://a0.muscac...|          Pelham Bay|            9|['email', 'phone']|                 t|                 t|                null|       Schuylerville|               Bronx|   40.83957054653607|                   3| \"\"Books and read...|  \"\"Radiant heating\"\"|   \"\"Luggage dropof...| \"\"Crib - availab...|   \"\"Portable fans\"\"| \"\"Ethernet conne...|   \"\"Children\\u2019...|         \"\"Pets allowed\"\"|   \"\"Window AC unit\"\"|            \"\"Smoke alarm\"\"|   \"\"Stainless stee...| \"\"Single level h...|           \"\"Extra pillows ...| \"\"Room-darkening...|\n",
            "|          49422007|https://www.airbn...|Rental unit in Th...|        and utensils| making it easy t...| with comfortable...| of which are cle...|        2021-04-25| a hospitality br...|           small families|                  100%|                         92%|                 f|https://a0.muscac...|          Pelham Bay|            9|['email', 'phone']|                 t|                 t|The Bronx, New Yo...|       Schuylerville|               Bronx|             40.8395|                   3| \"\"Books and read...|  \"\"Radiant heating\"\"|   \"\"Fast wifi \\u20...|   \"\"Portable fans\"\"| \"\"Private BBQ gr...| \"\"Ethernet conne...|   \"\"Children\\u2019...|         \"\"GE gas stove\"\"|  \"\"Luggage dropof...|           \"\"Pets allowed\"\"|    \"\"Window AC unit\"\"|     \"\"Smoke alarm\"\"|           \"\"55\\\"\" HDTV wit...| and 10+ years old\"\"|\n",
            "|841075134306050279|https://www.airbn...|Rental unit in Th...|        and utensils| making it easy t...| with comfortable...| of which are cle...|        2021-04-25| a hospitality br...|           small families|                  100%|                         92%|                 f|https://a0.muscac...|          Pelham Bay|            9|['email', 'phone']|                 t|                 t|The Bronx, New Yo...|       Schuylerville|               Bronx|   40.84140547461933|                   3| \"\"Books and read...|  \"\"Radiant heating\"\"|   \"\"Paid parking o...| \"\"Crib - availab...|   \"\"Portable fans\"\"| \"\"Ginger Lilly F...|   \"\"Ethernet conne...|      \"\"Children\\u2019...|  \"\"Luggage dropof...|           \"\"Pets allowed\"\"|    \"\"Window AC unit\"\"|     \"\"Smoke alarm\"\"|             \"\"Outlet covers\"\"| \"\"Room-darkening...|\n",
            "|863733005126162178|https://www.airbn...|Home in Queens · ...|            50997424|https://www.airbn...|                Mark|          2015-12-10|                 f|                  10|                       10|             Ridgewood|                      Queens|  40.7029477891808|  -73.89821661565234|     Entire home/apt|           16|           3 baths|                 7|                13|\"[\"\"Air condition...| \"\"Dedicated work...|            \"\"Wifi\"\"| \"\"Carbon monoxid...|                  30|                null|                    t|                    29|                  59|                  89|                 269|            2023-09-05|                        0|                    0|                          0|                  null|                null|                          null|                null|\n",
            "|           9919728|https://www.airbn...|Townhouse in Quee...|            50997424|https://www.airbn...|                Mark|          2015-12-10|                 f|                  10|                       10|        Middle Village|                      Queens|          40.71734|           -73.87805|     Entire home/apt|           12|            1 bath|                 3|                 7|       \"[\"\"Kitchen\"\"|           \"\"Dryer\"\"|              \"\"TV\"\"|            \"\"Iron\"\"|    \"\"Hair dryer\"\"]\"|                1125|                 1125|                  30.0|              1125.0|                null|                   t|                     5|                       35|                   65|                        340|            2023-09-05|                   8|                    2016-04-01|                4.33|\n",
            "|          53696990|https://www.airbn...|Vacation home in ...|            50997424|https://www.airbn...|                Mark|          2015-12-10|                 f|                  10|                       10|        Middle Village|                      Queens|          40.71726|           -73.87628|     Entire home/apt|            4|            1 bath|              null|                 2|       \"[\"\"Kitchen\"\"|    \"\"Refrigerator\"\"| \"\"Heating - spli...|    \"\"Coffee maker\"\"|            \"\"Wifi\"\"|  \"\"Cooking basics\"\"|  \"\"Dishes and sil...|               $139.00|                  30|                 365|                  30|                    30|                      365|                  365|                       30.0|                 365.0|                null|                            60|                   1|\n",
            "|714936072143571657|https://www.airbn...|Townhouse in Quee...|            50997424|https://www.airbn...|                Mark|          2015-12-10|                 f|                  10|                       10|             Ridgewood|                      Queens|          40.70405|           -73.89761|     Entire home/apt|           14|           2 baths|                 5|                 9|\"[\"\"Air condition...|            \"\"Wifi\"\"| \"\"Carbon monoxid...|     \"\"Smoke alarm\"\"|                  30|                   t|                   30|                    60|                  90|                 365|          2023-09-05|                     0|                        0|                    0|                       null|                  null|                null|                          null|                null|\n",
            "|           9920363|https://www.airbn...|Townhouse in Quee...|            50997424|https://www.airbn...|                Mark|          2015-12-10|                 f|                  10|                       10|             Ridgewood|                      Queens|          40.70465|           -73.89909|     Entire home/apt|           16|         2.5 baths|                 5|                11|     \"[\"\"Hot water\"\"| \"\"Air conditioni...|   \"\"Self check-in\"\"|            \"\"Wifi\"\"|     \"\"Smoke alarm\"\"|             $485.00|                   30|                  1125|                  30|                  30|                1125|                  1125|                     30.0|               1125.0|                       null|                     t|                  30|                           365|                   0|\n",
            "|556960737995069310|https://www.airbn...|Rental unit in Qu...|            50997424|https://www.airbn...|                Mark|          2015-12-10|                 f|                  10|                       10|             Ridgewood|                      Queens|          40.70317|           -73.89949|     Entire home/apt|            6|            1 bath|                 2|                 4|\"[\"\"Air condition...|            \"\"Wifi\"\"| \"\"Carbon monoxid...|     \"\"Smoke alarm\"\"|                  30|                   t|                   30|                    60|                  90|                 365|          2023-09-05|                     3|                        3|                    0|                 2022-10-06|            2023-04-24|                 5.0|                           5.0|                null|\n",
            "|          54395062|https://www.airbn...|Vacation home in ...|            50997424|https://www.airbn...|                Mark|          2015-12-10|                 f|                  10|                       10|             Ridgewood|                      Queens|          40.70453|           -73.89898|     Entire home/apt|            6|            1 bath|                 2|                 4|\"[\"\"Air condition...|            \"\"Wifi\"\"|    \"\"Refrigerator\"\"| \"\"Carbon monoxid...|                  30|                   t|                   30|                    60|                  90|                 365|          2023-09-05|                     3|                        2|                    1|                 2022-08-14|            2023-08-20|                4.67|                           5.0|                null|\n",
            "|          40322951|https://www.airbn...|Home in Brooklyn ...|           297311545|https://www.airbn...|             Uchenna|          2019-09-23|                 f|                   3|                        4|         East Flatbush|                    Brooklyn|          40.65409|           -73.94569|        Private room|            1|     1 shared bath|              null|                 1|\"[\"\"Private entra...|       \"\"Hot water\"\"|      \"\"Shower gel\"\"|         \"\"Hangers\"\"| \"\"Room-darkening...|  \"\"Cooking basics\"\"|       \"\"Bed linens\"\"|   \"\"Security camer...| \"\"Fire extinguis...|       \"\"Body soap\"\"|   \"\"Window guards\"\"|           \"\"Toaster\"\"|      \"\"Carbon monoxid...|          \"\"Lockbox\"\"|        \"\"Free street pa...|           \"\"Kitchen\"\"|         \"\"Heating\"\"|           \"\"Long term stay...|       \"\"Microwave\"\"|\n",
            "|          40195034|https://www.airbn...|Home in Brooklyn ...|           297311545|https://www.airbn...|             Uchenna|          2019-09-23|                 f|                   3|                        4|         East Flatbush|                    Brooklyn|          40.65229|           -73.94556|        Private room|            1|    1 private bath|              null|                 1|\"[\"\"Private entra...|       \"\"Hot water\"\"|      \"\"Shower gel\"\"|         \"\"Hangers\"\"| \"\"Room-darkening...|  \"\"Cooking basics\"\"|       \"\"Bed linens\"\"|           \"\"Bathtub\"\"| \"\"Security camer...| \"\"Fire extinguis...|     \"\"Mini fridge\"\"|         \"\"Body soap\"\"|        \"\"Window guards\"\"|          \"\"Toaster\"\"|        \"\"Carbon monoxid...|           \"\"Lockbox\"\"| \"\"Free street pa...|           \"\"TV with standa...|   \"\"First aid kit\"\"|\n",
            "|          39898950|https://www.airbn...|Home in Brooklyn ...|           297311545|https://www.airbn...|             Uchenna|          2019-09-23|                 f|                   3|                        4|         East Flatbush|                    Brooklyn|          40.65248|           -73.94584|        Private room|            1|         1.5 baths|              null|                 1|\"[\"\"Private entra...|       \"\"Hot water\"\"|         \"\"Hangers\"\"|      \"\"Shower gel\"\"|    \"\"Dining table\"\"|            \"\"Wifi\"\"|  \"\"Clothing stora...|    \"\"Cooking basics\"\"|      \"\"Bed linens\"\"| \"\"Security camer...| \"\"Fire extinguis...|       \"\"Mini fridge\"\"|        \"\"Window guards\"\"|          \"\"Toaster\"\"|        \"\"Carbon monoxid...|           \"\"Lockbox\"\"| \"\"Free street pa...|                   \"\"Shampoo\"\"|   \"\"First aid kit\"\"|\n",
            "+------------------+--------------------+--------------------+--------------------+--------------------+--------------------+--------------------+------------------+--------------------+-------------------------+----------------------+----------------------------+------------------+--------------------+--------------------+-------------+------------------+------------------+------------------+--------------------+--------------------+--------------------+--------------------+--------------------+--------------------+---------------------+----------------------+--------------------+--------------------+--------------------+----------------------+-------------------------+---------------------+---------------------------+----------------------+--------------------+------------------------------+--------------------+\n",
            "only showing top 20 rows\n",
            "\n"
          ]
        }
      ]
    },
    {
      "cell_type": "code",
      "source": [
        "column_reviews_df = column_reviews_df.dropna(subset=['comments'])\n",
        "column_reviews_df.show()"
      ],
      "metadata": {
        "id": "6syDta0XSTg9",
        "outputId": "92b5d24e-f56e-4a93-de06-9216c4957c9c",
        "colab": {
          "base_uri": "https://localhost:8080/"
        }
      },
      "execution_count": null,
      "outputs": [
        {
          "output_type": "stream",
          "name": "stdout",
          "text": [
            "+----------+--------+----------+-----------+-------------+--------------------+\n",
            "|listing_id|      id|      date|reviewer_id|reviewer_name|            comments|\n",
            "+----------+--------+----------+-----------+-------------+--------------------+\n",
            "|      2595|   17857|2009-11-21|      50679|         Jean|Notre séjour de t...|\n",
            "|      2595|   19176|2009-12-05|      53267|         Cate|   Great experience.|\n",
            "|      2595|   19760|2009-12-10|      38960|        Anita|I've stayed with ...|\n",
            "|      2595|   34320|2010-04-09|      71130|      Kai-Uwe|We've been stayin...|\n",
            "|      2595|   46312|2010-05-25|     117113|       Alicia|We had a wonderfu...|\n",
            "|      2595| 1238204|2012-05-07|    1783688|       Sergey|     Hi to everyone!|\n",
            "|      2595| 1293632|2012-05-17|    1870771|         Loïc|Jennifer was very...|\n",
            "|      2595| 2022498|2012-08-18|    2124102|      Melanie|This apartment is...|\n",
            "|      2595| 4682989|2013-05-20|     496053|         Eric|Jennifer's place ...|\n",
            "|      2595|13193832|2014-05-21|   13685934|       Gerald|Jennifer is a ver...|\n",
            "|      2595|15515108|2014-07-10|   10781357|      Richard|This is a cute st...|\n",
            "|      2595|20372242|2014-09-28|    4212558|       Carson|A great location,...|\n",
            "|      2595|20937971|2014-10-07|   13460520|      Michael|Jennifer's place ...|\n",
            "|      2595|21464102|2014-10-18|   16584002|        Kitty|We hebben genoten...|\n",
            "|      2595|28794060|2015-03-30|   27436102|       Kellie|Jennifer was very...|\n",
            "|      2595|30430122|2015-04-21|    6429364|        Sonya|I love this space...|\n",
            "|      2595|32532759|2015-05-19|   12146524|      Michiel|This was our firs...|\n",
            "|      2595|47785650|2015-09-21|   12885233|          Lin|Great location, i...|\n",
            "|      2595|48764464|2015-09-28|   18636130|         Alex|Jennifer was with...|\n",
            "|      2595|69547296|2016-04-11|   16512817|         Gary|Jennifer was an u...|\n",
            "+----------+--------+----------+-----------+-------------+--------------------+\n",
            "only showing top 20 rows\n",
            "\n"
          ]
        }
      ]
    },
    {
      "cell_type": "code",
      "source": [
        "# Initialize a Spark session\n",
        "spark = SparkSession.builder.appName(\"DataFrameJoin\").getOrCreate()\n",
        "\n",
        "# Assuming you have DataFrames reviews_df and other_df\n",
        "# You can perform an inner join like this:\n",
        "joined_df = column_listings_df.join(column_reviews_df, on='listing_id', how='inner')\n",
        "\n",
        "# To show the result\n",
        "joined_df.show()\n",
        "\n"
      ],
      "metadata": {
        "id": "8Lzm-4XOSoCp",
        "outputId": "21dbb3cb-bb1f-4902-c569-ca4fae4fd570",
        "colab": {
          "base_uri": "https://localhost:8080/"
        }
      },
      "execution_count": null,
      "outputs": [
        {
          "output_type": "stream",
          "name": "stdout",
          "text": [
            "+----------+--------------------+--------------------+-------+--------------------+---------+----------+-----------------+-------------------+-------------------------+----------------------+----------------------------+--------+---------+---------+------------+--------------+--------+----+---------+-----+--------------+--------------+----------------+-----------------+---------------------+----------------------+------------+-----------+--------------------+----------------------+-------------------------+---------------------+---------------------------+----------------------+-------------------+------------------------------+-----------------+--------+----------+-----------+-------------+--------------------+\n",
            "|listing_id|         listing_url|                name|host_id|            host_url|host_name|host_since|host_is_superhost|host_listings_count|host_total_listings_count|neighbourhood_cleansed|neighbourhood_group_cleansed|latitude|longitude|room_type|accommodates|bathrooms_text|bedrooms|beds|amenities|price|minimum_nights|maximum_nights|has_availability|number_of_reviews|number_of_reviews_ltm|number_of_reviews_l30d|first_review|last_review|review_scores_rating|review_scores_accuracy|review_scores_cleanliness|review_scores_checkin|review_scores_communication|review_scores_location|review_scores_value|calculated_host_listings_count|reviews_per_month|      id|      date|reviewer_id|reviewer_name|            comments|\n",
            "+----------+--------------------+--------------------+-------+--------------------+---------+----------+-----------------+-------------------+-------------------------+----------------------+----------------------------+--------+---------+---------+------------+--------------+--------+----+---------+-----+--------------+--------------+----------------+-----------------+---------------------+----------------------+------------+-----------+--------------------+----------------------+-------------------------+---------------------+---------------------------+----------------------+-------------------+------------------------------+-----------------+--------+----------+-----------+-------------+--------------------+\n",
            "|      2595|https://www.airbn...|Rental unit in Ne...|   2845|https://www.airbn...| Jennifer|2008-09-09|             null|               null|                     null|                  null|                        null|    null|     null|     null|        null|          null|    null|null|     null| null|          null|          null|            null|             null|                 null|                  null|        null|       null|                null|                  null|                     null|                 null|                       null|                  null|               null|                          null|             null|   17857|2009-11-21|      50679|         Jean|Notre séjour de t...|\n",
            "|      2595|https://www.airbn...|Rental unit in Ne...|   2845|https://www.airbn...| Jennifer|2008-09-09|             null|               null|                     null|                  null|                        null|    null|     null|     null|        null|          null|    null|null|     null| null|          null|          null|            null|             null|                 null|                  null|        null|       null|                null|                  null|                     null|                 null|                       null|                  null|               null|                          null|             null|   19176|2009-12-05|      53267|         Cate|   Great experience.|\n",
            "|      2595|https://www.airbn...|Rental unit in Ne...|   2845|https://www.airbn...| Jennifer|2008-09-09|             null|               null|                     null|                  null|                        null|    null|     null|     null|        null|          null|    null|null|     null| null|          null|          null|            null|             null|                 null|                  null|        null|       null|                null|                  null|                     null|                 null|                       null|                  null|               null|                          null|             null|   19760|2009-12-10|      38960|        Anita|I've stayed with ...|\n",
            "|      2595|https://www.airbn...|Rental unit in Ne...|   2845|https://www.airbn...| Jennifer|2008-09-09|             null|               null|                     null|                  null|                        null|    null|     null|     null|        null|          null|    null|null|     null| null|          null|          null|            null|             null|                 null|                  null|        null|       null|                null|                  null|                     null|                 null|                       null|                  null|               null|                          null|             null|   34320|2010-04-09|      71130|      Kai-Uwe|We've been stayin...|\n",
            "|      2595|https://www.airbn...|Rental unit in Ne...|   2845|https://www.airbn...| Jennifer|2008-09-09|             null|               null|                     null|                  null|                        null|    null|     null|     null|        null|          null|    null|null|     null| null|          null|          null|            null|             null|                 null|                  null|        null|       null|                null|                  null|                     null|                 null|                       null|                  null|               null|                          null|             null|   46312|2010-05-25|     117113|       Alicia|We had a wonderfu...|\n",
            "|      2595|https://www.airbn...|Rental unit in Ne...|   2845|https://www.airbn...| Jennifer|2008-09-09|             null|               null|                     null|                  null|                        null|    null|     null|     null|        null|          null|    null|null|     null| null|          null|          null|            null|             null|                 null|                  null|        null|       null|                null|                  null|                     null|                 null|                       null|                  null|               null|                          null|             null| 1238204|2012-05-07|    1783688|       Sergey|     Hi to everyone!|\n",
            "|      2595|https://www.airbn...|Rental unit in Ne...|   2845|https://www.airbn...| Jennifer|2008-09-09|             null|               null|                     null|                  null|                        null|    null|     null|     null|        null|          null|    null|null|     null| null|          null|          null|            null|             null|                 null|                  null|        null|       null|                null|                  null|                     null|                 null|                       null|                  null|               null|                          null|             null| 1293632|2012-05-17|    1870771|         Loïc|Jennifer was very...|\n",
            "|      2595|https://www.airbn...|Rental unit in Ne...|   2845|https://www.airbn...| Jennifer|2008-09-09|             null|               null|                     null|                  null|                        null|    null|     null|     null|        null|          null|    null|null|     null| null|          null|          null|            null|             null|                 null|                  null|        null|       null|                null|                  null|                     null|                 null|                       null|                  null|               null|                          null|             null| 2022498|2012-08-18|    2124102|      Melanie|This apartment is...|\n",
            "|      2595|https://www.airbn...|Rental unit in Ne...|   2845|https://www.airbn...| Jennifer|2008-09-09|             null|               null|                     null|                  null|                        null|    null|     null|     null|        null|          null|    null|null|     null| null|          null|          null|            null|             null|                 null|                  null|        null|       null|                null|                  null|                     null|                 null|                       null|                  null|               null|                          null|             null| 4682989|2013-05-20|     496053|         Eric|Jennifer's place ...|\n",
            "|      2595|https://www.airbn...|Rental unit in Ne...|   2845|https://www.airbn...| Jennifer|2008-09-09|             null|               null|                     null|                  null|                        null|    null|     null|     null|        null|          null|    null|null|     null| null|          null|          null|            null|             null|                 null|                  null|        null|       null|                null|                  null|                     null|                 null|                       null|                  null|               null|                          null|             null|13193832|2014-05-21|   13685934|       Gerald|Jennifer is a ver...|\n",
            "|      2595|https://www.airbn...|Rental unit in Ne...|   2845|https://www.airbn...| Jennifer|2008-09-09|             null|               null|                     null|                  null|                        null|    null|     null|     null|        null|          null|    null|null|     null| null|          null|          null|            null|             null|                 null|                  null|        null|       null|                null|                  null|                     null|                 null|                       null|                  null|               null|                          null|             null|15515108|2014-07-10|   10781357|      Richard|This is a cute st...|\n",
            "|      2595|https://www.airbn...|Rental unit in Ne...|   2845|https://www.airbn...| Jennifer|2008-09-09|             null|               null|                     null|                  null|                        null|    null|     null|     null|        null|          null|    null|null|     null| null|          null|          null|            null|             null|                 null|                  null|        null|       null|                null|                  null|                     null|                 null|                       null|                  null|               null|                          null|             null|20372242|2014-09-28|    4212558|       Carson|A great location,...|\n",
            "|      2595|https://www.airbn...|Rental unit in Ne...|   2845|https://www.airbn...| Jennifer|2008-09-09|             null|               null|                     null|                  null|                        null|    null|     null|     null|        null|          null|    null|null|     null| null|          null|          null|            null|             null|                 null|                  null|        null|       null|                null|                  null|                     null|                 null|                       null|                  null|               null|                          null|             null|20937971|2014-10-07|   13460520|      Michael|Jennifer's place ...|\n",
            "|      2595|https://www.airbn...|Rental unit in Ne...|   2845|https://www.airbn...| Jennifer|2008-09-09|             null|               null|                     null|                  null|                        null|    null|     null|     null|        null|          null|    null|null|     null| null|          null|          null|            null|             null|                 null|                  null|        null|       null|                null|                  null|                     null|                 null|                       null|                  null|               null|                          null|             null|21464102|2014-10-18|   16584002|        Kitty|We hebben genoten...|\n",
            "|      2595|https://www.airbn...|Rental unit in Ne...|   2845|https://www.airbn...| Jennifer|2008-09-09|             null|               null|                     null|                  null|                        null|    null|     null|     null|        null|          null|    null|null|     null| null|          null|          null|            null|             null|                 null|                  null|        null|       null|                null|                  null|                     null|                 null|                       null|                  null|               null|                          null|             null|28794060|2015-03-30|   27436102|       Kellie|Jennifer was very...|\n",
            "|      2595|https://www.airbn...|Rental unit in Ne...|   2845|https://www.airbn...| Jennifer|2008-09-09|             null|               null|                     null|                  null|                        null|    null|     null|     null|        null|          null|    null|null|     null| null|          null|          null|            null|             null|                 null|                  null|        null|       null|                null|                  null|                     null|                 null|                       null|                  null|               null|                          null|             null|30430122|2015-04-21|    6429364|        Sonya|I love this space...|\n",
            "|      2595|https://www.airbn...|Rental unit in Ne...|   2845|https://www.airbn...| Jennifer|2008-09-09|             null|               null|                     null|                  null|                        null|    null|     null|     null|        null|          null|    null|null|     null| null|          null|          null|            null|             null|                 null|                  null|        null|       null|                null|                  null|                     null|                 null|                       null|                  null|               null|                          null|             null|32532759|2015-05-19|   12146524|      Michiel|This was our firs...|\n",
            "|      2595|https://www.airbn...|Rental unit in Ne...|   2845|https://www.airbn...| Jennifer|2008-09-09|             null|               null|                     null|                  null|                        null|    null|     null|     null|        null|          null|    null|null|     null| null|          null|          null|            null|             null|                 null|                  null|        null|       null|                null|                  null|                     null|                 null|                       null|                  null|               null|                          null|             null|47785650|2015-09-21|   12885233|          Lin|Great location, i...|\n",
            "|      2595|https://www.airbn...|Rental unit in Ne...|   2845|https://www.airbn...| Jennifer|2008-09-09|             null|               null|                     null|                  null|                        null|    null|     null|     null|        null|          null|    null|null|     null| null|          null|          null|            null|             null|                 null|                  null|        null|       null|                null|                  null|                     null|                 null|                       null|                  null|               null|                          null|             null|48764464|2015-09-28|   18636130|         Alex|Jennifer was with...|\n",
            "|      2595|https://www.airbn...|Rental unit in Ne...|   2845|https://www.airbn...| Jennifer|2008-09-09|             null|               null|                     null|                  null|                        null|    null|     null|     null|        null|          null|    null|null|     null| null|          null|          null|            null|             null|                 null|                  null|        null|       null|                null|                  null|                     null|                 null|                       null|                  null|               null|                          null|             null|69547296|2016-04-11|   16512817|         Gary|Jennifer was an u...|\n",
            "+----------+--------------------+--------------------+-------+--------------------+---------+----------+-----------------+-------------------+-------------------------+----------------------+----------------------------+--------+---------+---------+------------+--------------+--------+----+---------+-----+--------------+--------------+----------------+-----------------+---------------------+----------------------+------------+-----------+--------------------+----------------------+-------------------------+---------------------+---------------------------+----------------------+-------------------+------------------------------+-----------------+--------+----------+-----------+-------------+--------------------+\n",
            "only showing top 20 rows\n",
            "\n"
          ]
        }
      ]
    },
    {
      "cell_type": "code",
      "source": [
        "cleaned_joined_df = joined_df.dropna(subset=['latitude'])\n",
        "cleaned_joined_df.show()"
      ],
      "metadata": {
        "colab": {
          "base_uri": "https://localhost:8080/"
        },
        "id": "Ly2xAiEFaYjl",
        "outputId": "091422e5-7c38-4af1-fca6-7a9efaf50416"
      },
      "execution_count": null,
      "outputs": [
        {
          "output_type": "stream",
          "name": "stdout",
          "text": [
            "+----------+--------------------+--------------------+-------+--------------------+---------+----------+-----------------+-------------------+-------------------------+----------------------+----------------------------+--------+---------+---------------+------------+--------------+--------+----+-------------+-----------------+--------------+--------------------+----------------+--------------------+---------------------+----------------------+--------------------+--------------------+--------------------+----------------------+-------------------------+---------------------+---------------------------+----------------------+-------------------+------------------------------+-----------------+------------------+----------+-----------+-------------+--------------------+\n",
            "|listing_id|         listing_url|                name|host_id|            host_url|host_name|host_since|host_is_superhost|host_listings_count|host_total_listings_count|neighbourhood_cleansed|neighbourhood_group_cleansed|latitude|longitude|      room_type|accommodates|bathrooms_text|bedrooms|beds|    amenities|            price|minimum_nights|      maximum_nights|has_availability|   number_of_reviews|number_of_reviews_ltm|number_of_reviews_l30d|        first_review|         last_review|review_scores_rating|review_scores_accuracy|review_scores_cleanliness|review_scores_checkin|review_scores_communication|review_scores_location|review_scores_value|calculated_host_listings_count|reviews_per_month|                id|      date|reviewer_id|reviewer_name|            comments|\n",
            "+----------+--------------------+--------------------+-------+--------------------+---------+----------+-----------------+-------------------+-------------------------+----------------------+----------------------------+--------+---------+---------------+------------+--------------+--------+----+-------------+-----------------+--------------+--------------------+----------------+--------------------+---------------------+----------------------+--------------------+--------------------+--------------------+----------------------+-------------------------+---------------------+---------------------------+----------------------+-------------------+------------------------------+-----------------+------------------+----------+-----------+-------------+--------------------+\n",
            "|      5136|https://www.airbn...|Rental unit in Br...|   7378|https://www.airbn...|  Rebecca|2009-02-03|                f|                  1|                        5|           Sunset Park|                    Brooklyn|40.66265|-73.99454|Entire home/apt|           4|     1.5 baths|       2|   2|\"[\"\"Kitchen\"\"| \"\"Refrigerator\"\"|     \"\"Dryer\"\"|    \"\"Coffee maker\"\"|     \"\"Heating\"\"| \"\"Outdoor dining...|  \"\"Carbon monoxid...|   \"\"Outdoor furnit...| \"\"Air conditioni...| \"\"Children\\u2019...|      \"\"Hair dryer\"\"|   \"\"Private patio ...|                  $235.00|                   30|                       1125|                    30|                 30|                          30.0|                0|           9549695|2014-01-02|    3585271|        Elise|My family had a w...|\n",
            "|      5136|https://www.airbn...|Rental unit in Br...|   7378|https://www.airbn...|  Rebecca|2009-02-03|                f|                  1|                        5|           Sunset Park|                    Brooklyn|40.66265|-73.99454|Entire home/apt|           4|     1.5 baths|       2|   2|\"[\"\"Kitchen\"\"| \"\"Refrigerator\"\"|     \"\"Dryer\"\"|    \"\"Coffee maker\"\"|     \"\"Heating\"\"| \"\"Outdoor dining...|  \"\"Carbon monoxid...|   \"\"Outdoor furnit...| \"\"Air conditioni...| \"\"Children\\u2019...|      \"\"Hair dryer\"\"|   \"\"Private patio ...|                  $235.00|                   30|                       1125|                    30|                 30|                          30.0|                0|424592125814621653|2021-08-08|    9458653|          Lia|If you have to st...|\n",
            "|      5136|https://www.airbn...|Rental unit in Br...|   7378|https://www.airbn...|  Rebecca|2009-02-03|                f|                  1|                        5|           Sunset Park|                    Brooklyn|40.66265|-73.99454|Entire home/apt|           4|     1.5 baths|       2|   2|\"[\"\"Kitchen\"\"| \"\"Refrigerator\"\"|     \"\"Dryer\"\"|    \"\"Coffee maker\"\"|     \"\"Heating\"\"| \"\"Outdoor dining...|  \"\"Carbon monoxid...|   \"\"Outdoor furnit...| \"\"Air conditioni...| \"\"Children\\u2019...|      \"\"Hair dryer\"\"|   \"\"Private patio ...|                  $235.00|                   30|                       1125|                    30|                 30|                          30.0|                0|690516472411031230|2022-08-10|    9105377|         Mark|Great place for m...|\n",
            "|      5136|https://www.airbn...|Rental unit in Br...|   7378|https://www.airbn...|  Rebecca|2009-02-03|                f|                  1|                        5|           Sunset Park|                    Brooklyn|40.66265|-73.99454|Entire home/apt|           4|     1.5 baths|       2|   2|\"[\"\"Kitchen\"\"| \"\"Refrigerator\"\"|     \"\"Dryer\"\"|    \"\"Coffee maker\"\"|     \"\"Heating\"\"| \"\"Outdoor dining...|  \"\"Carbon monoxid...|   \"\"Outdoor furnit...| \"\"Air conditioni...| \"\"Children\\u2019...|      \"\"Hair dryer\"\"|   \"\"Private patio ...|                  $235.00|                   30|                       1125|                    30|                 30|                          30.0|                0|962324187708959042|2023-08-20|    7246906|         Alix|Rebecca’s place i...|\n",
            "|      6872|https://www.airbn...|Condo in New York...|  16104|https://www.airbn...|      Kae|2009-05-07|                f|                  2|                        2|           East Harlem|                   Manhattan|40.80107|-73.94255|   Private room|           1| 1 shared bath|    null|   1|  \"[\"\"Dryer\"\"|      \"\"Heating\"\"|      \"\"Wifi\"\"|         \"\"Kitchen\"\"|     \"\"Hangers\"\"|     \"\"Hot water\"\"]\"|               $65.00|                    30|                 180|                  30|                  30|                   180|                      180|                 30.0|                      180.0|                  null|                  t|                            90|                0|642683360253427133|2022-06-05|  138544226|  Subhadarshi|This place is fan...|\n",
            "|      8490|https://www.airbn...|Loft in Brooklyn ...|  25183|https://www.airbn...| Nathalie|2009-07-10|                t|                  2|                        3|    Bedford-Stuyvesant|                    Brooklyn|40.68462|-73.93839|Entire home/apt|           5|        1 bath|       1|   4|\"[\"\"Hangers\"\"| \"\"Refrigerator\"\"|      \"\"Iron\"\"| \"\"Luggage dropof...|  \"\"Essentials\"\"| \"\"Barbecue utens...|  \"\"Long term stay...|           \"\"Bathtub\"\"|       \"\"Hot water\"\"| \"\"Laundromat nea...|      \"\"Bed linens\"\"|   \"\"Free street pa...|       \"\"Cooking basics\"\"|       \"\"Hair dryer\"\"|        \"\"Dishes and sil...|   \"\"Stainless stee...|        \"\"Kitchen\"\"|               \"\"Smoke alarm\"\"|      \"\"Toaster\"\"|              8259|2009-08-25|      32300|         Gina|Nathalie's browns...|\n",
            "|      8490|https://www.airbn...|Loft in Brooklyn ...|  25183|https://www.airbn...| Nathalie|2009-07-10|                t|                  2|                        3|    Bedford-Stuyvesant|                    Brooklyn|40.68462|-73.93839|Entire home/apt|           5|        1 bath|       1|   4|\"[\"\"Hangers\"\"| \"\"Refrigerator\"\"|      \"\"Iron\"\"| \"\"Luggage dropof...|  \"\"Essentials\"\"| \"\"Barbecue utens...|  \"\"Long term stay...|           \"\"Bathtub\"\"|       \"\"Hot water\"\"| \"\"Laundromat nea...|      \"\"Bed linens\"\"|   \"\"Free street pa...|       \"\"Cooking basics\"\"|       \"\"Hair dryer\"\"|        \"\"Dishes and sil...|   \"\"Stainless stee...|        \"\"Kitchen\"\"|               \"\"Smoke alarm\"\"|      \"\"Toaster\"\"|             16657|2009-11-08|      48839|     J. Scott|Our stay aw Maiso...|\n",
            "|      8490|https://www.airbn...|Loft in Brooklyn ...|  25183|https://www.airbn...| Nathalie|2009-07-10|                t|                  2|                        3|    Bedford-Stuyvesant|                    Brooklyn|40.68462|-73.93839|Entire home/apt|           5|        1 bath|       1|   4|\"[\"\"Hangers\"\"| \"\"Refrigerator\"\"|      \"\"Iron\"\"| \"\"Luggage dropof...|  \"\"Essentials\"\"| \"\"Barbecue utens...|  \"\"Long term stay...|           \"\"Bathtub\"\"|       \"\"Hot water\"\"| \"\"Laundromat nea...|      \"\"Bed linens\"\"|   \"\"Free street pa...|       \"\"Cooking basics\"\"|       \"\"Hair dryer\"\"|        \"\"Dishes and sil...|   \"\"Stainless stee...|        \"\"Kitchen\"\"|               \"\"Smoke alarm\"\"|      \"\"Toaster\"\"|             18626|2009-11-29|      46060|         Kate|Nathalie is a fan...|\n",
            "|      8490|https://www.airbn...|Loft in Brooklyn ...|  25183|https://www.airbn...| Nathalie|2009-07-10|                t|                  2|                        3|    Bedford-Stuyvesant|                    Brooklyn|40.68462|-73.93839|Entire home/apt|           5|        1 bath|       1|   4|\"[\"\"Hangers\"\"| \"\"Refrigerator\"\"|      \"\"Iron\"\"| \"\"Luggage dropof...|  \"\"Essentials\"\"| \"\"Barbecue utens...|  \"\"Long term stay...|           \"\"Bathtub\"\"|       \"\"Hot water\"\"| \"\"Laundromat nea...|      \"\"Bed linens\"\"|   \"\"Free street pa...|       \"\"Cooking basics\"\"|       \"\"Hair dryer\"\"|        \"\"Dishes and sil...|   \"\"Stainless stee...|        \"\"Kitchen\"\"|               \"\"Smoke alarm\"\"|      \"\"Toaster\"\"|             20452|2009-12-15|      55566|       Susana|Nathalie's place ...|\n",
            "|      8490|https://www.airbn...|Loft in Brooklyn ...|  25183|https://www.airbn...| Nathalie|2009-07-10|                t|                  2|                        3|    Bedford-Stuyvesant|                    Brooklyn|40.68462|-73.93839|Entire home/apt|           5|        1 bath|       1|   4|\"[\"\"Hangers\"\"| \"\"Refrigerator\"\"|      \"\"Iron\"\"| \"\"Luggage dropof...|  \"\"Essentials\"\"| \"\"Barbecue utens...|  \"\"Long term stay...|           \"\"Bathtub\"\"|       \"\"Hot water\"\"| \"\"Laundromat nea...|      \"\"Bed linens\"\"|   \"\"Free street pa...|       \"\"Cooking basics\"\"|       \"\"Hair dryer\"\"|        \"\"Dishes and sil...|   \"\"Stainless stee...|        \"\"Kitchen\"\"|               \"\"Smoke alarm\"\"|      \"\"Toaster\"\"|             39836|2010-05-03|     111517|     Jennifer|I visited New Yor...|\n",
            "|      8490|https://www.airbn...|Loft in Brooklyn ...|  25183|https://www.airbn...| Nathalie|2009-07-10|                t|                  2|                        3|    Bedford-Stuyvesant|                    Brooklyn|40.68462|-73.93839|Entire home/apt|           5|        1 bath|       1|   4|\"[\"\"Hangers\"\"| \"\"Refrigerator\"\"|      \"\"Iron\"\"| \"\"Luggage dropof...|  \"\"Essentials\"\"| \"\"Barbecue utens...|  \"\"Long term stay...|           \"\"Bathtub\"\"|       \"\"Hot water\"\"| \"\"Laundromat nea...|      \"\"Bed linens\"\"|   \"\"Free street pa...|       \"\"Cooking basics\"\"|       \"\"Hair dryer\"\"|        \"\"Dishes and sil...|   \"\"Stainless stee...|        \"\"Kitchen\"\"|               \"\"Smoke alarm\"\"|      \"\"Toaster\"\"|             48802|2010-06-01|     105648|     Jocelyne|The apartment is ...|\n",
            "|      8490|https://www.airbn...|Loft in Brooklyn ...|  25183|https://www.airbn...| Nathalie|2009-07-10|                t|                  2|                        3|    Bedford-Stuyvesant|                    Brooklyn|40.68462|-73.93839|Entire home/apt|           5|        1 bath|       1|   4|\"[\"\"Hangers\"\"| \"\"Refrigerator\"\"|      \"\"Iron\"\"| \"\"Luggage dropof...|  \"\"Essentials\"\"| \"\"Barbecue utens...|  \"\"Long term stay...|           \"\"Bathtub\"\"|       \"\"Hot water\"\"| \"\"Laundromat nea...|      \"\"Bed linens\"\"|   \"\"Free street pa...|       \"\"Cooking basics\"\"|       \"\"Hair dryer\"\"|        \"\"Dishes and sil...|   \"\"Stainless stee...|        \"\"Kitchen\"\"|               \"\"Smoke alarm\"\"|      \"\"Toaster\"\"|             61598|2010-07-06|     104152|      Johanna|Me and my friend ...|\n",
            "|      8490|https://www.airbn...|Loft in Brooklyn ...|  25183|https://www.airbn...| Nathalie|2009-07-10|                t|                  2|                        3|    Bedford-Stuyvesant|                    Brooklyn|40.68462|-73.93839|Entire home/apt|           5|        1 bath|       1|   4|\"[\"\"Hangers\"\"| \"\"Refrigerator\"\"|      \"\"Iron\"\"| \"\"Luggage dropof...|  \"\"Essentials\"\"| \"\"Barbecue utens...|  \"\"Long term stay...|           \"\"Bathtub\"\"|       \"\"Hot water\"\"| \"\"Laundromat nea...|      \"\"Bed linens\"\"|   \"\"Free street pa...|       \"\"Cooking basics\"\"|       \"\"Hair dryer\"\"|        \"\"Dishes and sil...|   \"\"Stainless stee...|        \"\"Kitchen\"\"|               \"\"Smoke alarm\"\"|      \"\"Toaster\"\"|             78220|2010-08-14|     151067|      Maranda|     Amazing time...|\n",
            "|      8490|https://www.airbn...|Loft in Brooklyn ...|  25183|https://www.airbn...| Nathalie|2009-07-10|                t|                  2|                        3|    Bedford-Stuyvesant|                    Brooklyn|40.68462|-73.93839|Entire home/apt|           5|        1 bath|       1|   4|\"[\"\"Hangers\"\"| \"\"Refrigerator\"\"|      \"\"Iron\"\"| \"\"Luggage dropof...|  \"\"Essentials\"\"| \"\"Barbecue utens...|  \"\"Long term stay...|           \"\"Bathtub\"\"|       \"\"Hot water\"\"| \"\"Laundromat nea...|      \"\"Bed linens\"\"|   \"\"Free street pa...|       \"\"Cooking basics\"\"|       \"\"Hair dryer\"\"|        \"\"Dishes and sil...|   \"\"Stainless stee...|        \"\"Kitchen\"\"|               \"\"Smoke alarm\"\"|      \"\"Toaster\"\"|            110959|2010-10-04|     184560|       Nadene|\"The apartment is...|\n",
            "|      8490|https://www.airbn...|Loft in Brooklyn ...|  25183|https://www.airbn...| Nathalie|2009-07-10|                t|                  2|                        3|    Bedford-Stuyvesant|                    Brooklyn|40.68462|-73.93839|Entire home/apt|           5|        1 bath|       1|   4|\"[\"\"Hangers\"\"| \"\"Refrigerator\"\"|      \"\"Iron\"\"| \"\"Luggage dropof...|  \"\"Essentials\"\"| \"\"Barbecue utens...|  \"\"Long term stay...|           \"\"Bathtub\"\"|       \"\"Hot water\"\"| \"\"Laundromat nea...|      \"\"Bed linens\"\"|   \"\"Free street pa...|       \"\"Cooking basics\"\"|       \"\"Hair dryer\"\"|        \"\"Dishes and sil...|   \"\"Stainless stee...|        \"\"Kitchen\"\"|               \"\"Smoke alarm\"\"|      \"\"Toaster\"\"|            302719|2011-06-07|      32006|     Stephane|\"Nathalie apartme...|\n",
            "|      8490|https://www.airbn...|Loft in Brooklyn ...|  25183|https://www.airbn...| Nathalie|2009-07-10|                t|                  2|                        3|    Bedford-Stuyvesant|                    Brooklyn|40.68462|-73.93839|Entire home/apt|           5|        1 bath|       1|   4|\"[\"\"Hangers\"\"| \"\"Refrigerator\"\"|      \"\"Iron\"\"| \"\"Luggage dropof...|  \"\"Essentials\"\"| \"\"Barbecue utens...|  \"\"Long term stay...|           \"\"Bathtub\"\"|       \"\"Hot water\"\"| \"\"Laundromat nea...|      \"\"Bed linens\"\"|   \"\"Free street pa...|       \"\"Cooking basics\"\"|       \"\"Hair dryer\"\"|        \"\"Dishes and sil...|   \"\"Stainless stee...|        \"\"Kitchen\"\"|               \"\"Smoke alarm\"\"|      \"\"Toaster\"\"|            316453|2011-06-15|     633882|        Araba|Nathalies apartme...|\n",
            "|      8490|https://www.airbn...|Loft in Brooklyn ...|  25183|https://www.airbn...| Nathalie|2009-07-10|                t|                  2|                        3|    Bedford-Stuyvesant|                    Brooklyn|40.68462|-73.93839|Entire home/apt|           5|        1 bath|       1|   4|\"[\"\"Hangers\"\"| \"\"Refrigerator\"\"|      \"\"Iron\"\"| \"\"Luggage dropof...|  \"\"Essentials\"\"| \"\"Barbecue utens...|  \"\"Long term stay...|           \"\"Bathtub\"\"|       \"\"Hot water\"\"| \"\"Laundromat nea...|      \"\"Bed linens\"\"|   \"\"Free street pa...|       \"\"Cooking basics\"\"|       \"\"Hair dryer\"\"|        \"\"Dishes and sil...|   \"\"Stainless stee...|        \"\"Kitchen\"\"|               \"\"Smoke alarm\"\"|      \"\"Toaster\"\"|            456780|2011-08-18|     953617|       Thomas|\"The overall expe...|\n",
            "|      8490|https://www.airbn...|Loft in Brooklyn ...|  25183|https://www.airbn...| Nathalie|2009-07-10|                t|                  2|                        3|    Bedford-Stuyvesant|                    Brooklyn|40.68462|-73.93839|Entire home/apt|           5|        1 bath|       1|   4|\"[\"\"Hangers\"\"| \"\"Refrigerator\"\"|      \"\"Iron\"\"| \"\"Luggage dropof...|  \"\"Essentials\"\"| \"\"Barbecue utens...|  \"\"Long term stay...|           \"\"Bathtub\"\"|       \"\"Hot water\"\"| \"\"Laundromat nea...|      \"\"Bed linens\"\"|   \"\"Free street pa...|       \"\"Cooking basics\"\"|       \"\"Hair dryer\"\"|        \"\"Dishes and sil...|   \"\"Stainless stee...|        \"\"Kitchen\"\"|               \"\"Smoke alarm\"\"|      \"\"Toaster\"\"|            524379|2011-09-12|     994376|      Whitney|The apartment was...|\n",
            "|      8490|https://www.airbn...|Loft in Brooklyn ...|  25183|https://www.airbn...| Nathalie|2009-07-10|                t|                  2|                        3|    Bedford-Stuyvesant|                    Brooklyn|40.68462|-73.93839|Entire home/apt|           5|        1 bath|       1|   4|\"[\"\"Hangers\"\"| \"\"Refrigerator\"\"|      \"\"Iron\"\"| \"\"Luggage dropof...|  \"\"Essentials\"\"| \"\"Barbecue utens...|  \"\"Long term stay...|           \"\"Bathtub\"\"|       \"\"Hot water\"\"| \"\"Laundromat nea...|      \"\"Bed linens\"\"|   \"\"Free street pa...|       \"\"Cooking basics\"\"|       \"\"Hair dryer\"\"|        \"\"Dishes and sil...|   \"\"Stainless stee...|        \"\"Kitchen\"\"|               \"\"Smoke alarm\"\"|      \"\"Toaster\"\"|            625364|2011-10-13|    1013654|       Louise|I had such a love...|\n",
            "|      8490|https://www.airbn...|Loft in Brooklyn ...|  25183|https://www.airbn...| Nathalie|2009-07-10|                t|                  2|                        3|    Bedford-Stuyvesant|                    Brooklyn|40.68462|-73.93839|Entire home/apt|           5|        1 bath|       1|   4|\"[\"\"Hangers\"\"| \"\"Refrigerator\"\"|      \"\"Iron\"\"| \"\"Luggage dropof...|  \"\"Essentials\"\"| \"\"Barbecue utens...|  \"\"Long term stay...|           \"\"Bathtub\"\"|       \"\"Hot water\"\"| \"\"Laundromat nea...|      \"\"Bed linens\"\"|   \"\"Free street pa...|       \"\"Cooking basics\"\"|       \"\"Hair dryer\"\"|        \"\"Dishes and sil...|   \"\"Stainless stee...|        \"\"Kitchen\"\"|               \"\"Smoke alarm\"\"|      \"\"Toaster\"\"|            705218|2011-11-09|    1100161|      Daniela|First I liked the...|\n",
            "+----------+--------------------+--------------------+-------+--------------------+---------+----------+-----------------+-------------------+-------------------------+----------------------+----------------------------+--------+---------+---------------+------------+--------------+--------+----+-------------+-----------------+--------------+--------------------+----------------+--------------------+---------------------+----------------------+--------------------+--------------------+--------------------+----------------------+-------------------------+---------------------+---------------------------+----------------------+-------------------+------------------------------+-----------------+------------------+----------+-----------+-------------+--------------------+\n",
            "only showing top 20 rows\n",
            "\n"
          ]
        }
      ]
    },
    {
      "cell_type": "code",
      "source": [
        "cleaned_joined_df.count()"
      ],
      "metadata": {
        "colab": {
          "base_uri": "https://localhost:8080/"
        },
        "id": "vvvojV8tau6J",
        "outputId": "579d416b-c2b1-4d11-aaea-43d7b27c9b51"
      },
      "execution_count": null,
      "outputs": [
        {
          "output_type": "execute_result",
          "data": {
            "text/plain": [
              "752323"
            ]
          },
          "metadata": {},
          "execution_count": 23
        }
      ]
    },
    {
      "cell_type": "code",
      "source": [
        "# Don't forget to stop the Spark session when you're done\n",
        "spark.stop()"
      ],
      "metadata": {
        "id": "_j9AkCOxVCnJ"
      },
      "execution_count": null,
      "outputs": []
    },
    {
      "cell_type": "markdown",
      "source": [
        "# New Section"
      ],
      "metadata": {
        "id": "g93vqREJO6CJ"
      }
    },
    {
      "cell_type": "markdown",
      "source": [
        "# New Section"
      ],
      "metadata": {
        "id": "GgkoONESO6eU"
      }
    }
  ],
  "metadata": {
    "colab": {
      "provenance": []
    },
    "kernelspec": {
      "display_name": "Python 3 (ipykernel)",
      "language": "python",
      "name": "python3"
    },
    "language_info": {
      "codemirror_mode": {
        "name": "ipython",
        "version": 3
      },
      "file_extension": ".py",
      "mimetype": "text/x-python",
      "name": "python",
      "nbconvert_exporter": "python",
      "pygments_lexer": "ipython3",
      "version": "3.10.4"
    }
  },
  "nbformat": 4,
  "nbformat_minor": 0
}