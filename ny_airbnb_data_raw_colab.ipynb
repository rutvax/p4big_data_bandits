{
  "cells": [
    {
      "cell_type": "code",
      "execution_count": 1,
      "metadata": {
        "colab": {
          "base_uri": "https://localhost:8080/"
        },
        "id": "eGA5-htN6oEN",
        "outputId": "f8ef3cf8-5fd7-497e-95ea-0f736b210833"
      },
      "outputs": [
        {
          "output_type": "stream",
          "name": "stdout",
          "text": [
            "\r0% [Working]\r            \rGet:1 https://cloud.r-project.org/bin/linux/ubuntu jammy-cran40/ InRelease [3,626 B]\n",
            "\r0% [Waiting for headers] [Connecting to security.ubuntu.com (185.125.190.36)] [\r0% [Waiting for headers] [Connecting to security.ubuntu.com (185.125.190.36)] [\r                                                                               \rHit:2 https://developer.download.nvidia.com/compute/cuda/repos/ubuntu2204/x86_64  InRelease\n",
            "\r0% [Waiting for headers] [Connecting to security.ubuntu.com (185.125.190.36)] [\r                                                                               \rHit:3 http://archive.ubuntu.com/ubuntu jammy InRelease\n",
            "\r0% [Waiting for headers] [Waiting for headers] [Connected to ppa.launchpadconte\r                                                                               \rGet:4 http://archive.ubuntu.com/ubuntu jammy-updates InRelease [119 kB]\n",
            "Get:5 http://security.ubuntu.com/ubuntu jammy-security InRelease [110 kB]\n",
            "Get:6 http://archive.ubuntu.com/ubuntu jammy-backports InRelease [109 kB]\n",
            "Hit:7 https://ppa.launchpadcontent.net/c2d4u.team/c2d4u4.0+/ubuntu jammy InRelease\n",
            "Get:8 http://archive.ubuntu.com/ubuntu jammy-updates/universe amd64 Packages [1,254 kB]\n",
            "Get:9 http://archive.ubuntu.com/ubuntu jammy-updates/restricted amd64 Packages [1,079 kB]\n",
            "Get:10 http://archive.ubuntu.com/ubuntu jammy-updates/main amd64 Packages [1,230 kB]\n",
            "Get:11 https://ppa.launchpadcontent.net/deadsnakes/ppa/ubuntu jammy InRelease [18.1 kB]\n",
            "Get:12 http://security.ubuntu.com/ubuntu jammy-security/restricted amd64 Packages [1,059 kB]\n",
            "Get:13 http://security.ubuntu.com/ubuntu jammy-security/main amd64 Packages [962 kB]\n",
            "Hit:14 https://ppa.launchpadcontent.net/graphics-drivers/ppa/ubuntu jammy InRelease\n",
            "Get:15 http://security.ubuntu.com/ubuntu jammy-security/universe amd64 Packages [993 kB]\n",
            "Hit:16 https://ppa.launchpadcontent.net/ubuntugis/ppa/ubuntu jammy InRelease\n",
            "Get:17 https://ppa.launchpadcontent.net/deadsnakes/ppa/ubuntu jammy/main amd64 Packages [21.8 kB]\n",
            "Fetched 6,959 kB in 3s (2,035 kB/s)\n",
            "Reading package lists... Done\n"
          ]
        }
      ],
      "source": [
        "import os\n",
        "# Find the latest version of spark 3.x  from http://www.apache.org/dist/spark/ and enter as the spark version\n",
        "# For example:\n",
        "# spark_version = 'spark-3.4.0'\n",
        "spark_version = 'spark-3.4.0'\n",
        "os.environ['SPARK_VERSION']=spark_version\n",
        "\n",
        "# Install Spark and Java\n",
        "!apt-get update\n",
        "!apt-get install openjdk-11-jdk-headless -qq > /dev/null\n",
        "!wget -q http://www.apache.org/dist/spark/$SPARK_VERSION/$SPARK_VERSION-bin-hadoop3.tgz\n",
        "!tar xf $SPARK_VERSION-bin-hadoop3.tgz\n",
        "!pip install -q findspark\n",
        "\n",
        "# Set Environment Variables\n",
        "os.environ[\"JAVA_HOME\"] = \"/usr/lib/jvm/java-11-openjdk-amd64\"\n",
        "os.environ[\"SPARK_HOME\"] = f\"/content/{spark_version}-bin-hadoop3\"\n",
        "\n",
        "# Start a SparkSession\n",
        "import findspark\n",
        "findspark.init()"
      ]
    },
    {
      "cell_type": "code",
      "execution_count": 2,
      "metadata": {
        "id": "pIUo9MYO6vlj"
      },
      "outputs": [],
      "source": [
        "# Import packages\n",
        "from pyspark.sql import SparkSession\n",
        "import time\n",
        "\n",
        "# Create a SparkSession\n",
        "spark = SparkSession.builder\\\n",
        "    .appName(\"SparkSQL\")\\\n",
        "    .config(\"spark.sql.debug.maxToStringFields\", 2000)\\\n",
        "    .config(\"spark.driver.memory\", \"2g\")\\\n",
        "    .getOrCreate()\n",
        "\n",
        "# Set the partitions to 4 or 8.\n",
        "spark.conf.set(\"spark.sql.shuffle.partitions\", 8)"
      ]
    },
    {
      "cell_type": "code",
      "execution_count": 6,
      "metadata": {
        "id": "Ej6Sabcd-1At"
      },
      "outputs": [],
      "source": [
        "# Read in data from S3 Bucket\n",
        "from pyspark import SparkFiles\n",
        "url_listings = \"http://data.insideairbnb.com/united-states/ny/new-york-city/2023-09-05/data/listings.csv.gz\"\n",
        "spark.sparkContext.addFile(url_listings)\n",
        "listings_df = spark.read.csv(SparkFiles.get(\"listings.csv.gz\"), sep=\",\", header=True)\n",
        "\n",
        "# Create a lookup table for calendar.\n",
        "url_calendar=\"http://data.insideairbnb.com/united-states/ny/new-york-city/2023-09-05/data/calendar.csv.gz\"\n",
        "spark.sparkContext.addFile(url_calendar)\n",
        "calendar_df = spark.read.csv(SparkFiles.get(\"calendar.csv.gz\"), sep=\",\", header=True)\n",
        "\n",
        "# Create a lookup table for the airport codes.\n",
        "url_reviews =\"http://data.insideairbnb.com/united-states/ny/new-york-city/2023-09-05/data/reviews.csv.gz\"\n",
        "spark.sparkContext.addFile(url_reviews)\n",
        "reviews_df = spark.read.csv(SparkFiles.get(\"reviews.csv.gz\"), sep=\",\", header=True)\n"
      ]
    },
    {
      "cell_type": "code",
      "execution_count": 7,
      "metadata": {
        "colab": {
          "base_uri": "https://localhost:8080/"
        },
        "id": "7XUB6IMQxLAB",
        "outputId": "1a5da171-752e-43ad-c0c8-987745524ef0"
      },
      "outputs": [
        {
          "output_type": "stream",
          "name": "stdout",
          "text": [
            "+------------------+--------------------+--------------+------------+-----------+--------------------+--------------------+---------------------+--------------------+--------------------+--------------------+--------------------+--------------------+--------------------+--------------------+------------------+--------------------+--------------------+------------------+--------------------+--------------------+------------------+--------------------+-------------------------+------------------+--------------------+----------------------+--------------------+----------------------+----------------------------+------------------+--------------------+--------------------+--------------------+-------------+---------+------------------+------------------+------------------+--------------------+--------------------+--------------------+--------------------+----------------------+----------------------+----------------------+----------------------+----------------------+----------------------+--------------------+--------------------+--------------------+--------------------+--------------------+--------------------+---------------------+--------------------+---------------------+----------------------+--------------------+--------------------+--------------------+----------------------+-------------------------+---------------------+---------------------------+----------------------+--------------------+--------------------+--------------------+------------------------------+-------------------------------------------+--------------------------------------------+-------------------------------------------+--------------------+\n",
            "|                id|         listing_url|     scrape_id|last_scraped|     source|                name|         description|neighborhood_overview|         picture_url|             host_id|            host_url|           host_name|          host_since|       host_location|          host_about|host_response_time|  host_response_rate|host_acceptance_rate| host_is_superhost|  host_thumbnail_url|    host_picture_url|host_neighbourhood| host_listings_count|host_total_listings_count|host_verifications|host_has_profile_pic|host_identity_verified|       neighbourhood|neighbourhood_cleansed|neighbourhood_group_cleansed|          latitude|           longitude|       property_type|           room_type| accommodates|bathrooms|    bathrooms_text|          bedrooms|              beds|           amenities|               price|      minimum_nights|      maximum_nights|minimum_minimum_nights|maximum_minimum_nights|minimum_maximum_nights|maximum_maximum_nights|minimum_nights_avg_ntm|maximum_nights_avg_ntm|    calendar_updated|    has_availability|     availability_30|     availability_60|     availability_90|    availability_365|calendar_last_scraped|   number_of_reviews|number_of_reviews_ltm|number_of_reviews_l30d|        first_review|         last_review|review_scores_rating|review_scores_accuracy|review_scores_cleanliness|review_scores_checkin|review_scores_communication|review_scores_location| review_scores_value|             license|    instant_bookable|calculated_host_listings_count|calculated_host_listings_count_entire_homes|calculated_host_listings_count_private_rooms|calculated_host_listings_count_shared_rooms|   reviews_per_month|\n",
            "+------------------+--------------------+--------------+------------+-----------+--------------------+--------------------+---------------------+--------------------+--------------------+--------------------+--------------------+--------------------+--------------------+--------------------+------------------+--------------------+--------------------+------------------+--------------------+--------------------+------------------+--------------------+-------------------------+------------------+--------------------+----------------------+--------------------+----------------------+----------------------------+------------------+--------------------+--------------------+--------------------+-------------+---------+------------------+------------------+------------------+--------------------+--------------------+--------------------+--------------------+----------------------+----------------------+----------------------+----------------------+----------------------+----------------------+--------------------+--------------------+--------------------+--------------------+--------------------+--------------------+---------------------+--------------------+---------------------+----------------------+--------------------+--------------------+--------------------+----------------------+-------------------------+---------------------+---------------------------+----------------------+--------------------+--------------------+--------------------+------------------------------+-------------------------------------------+--------------------------------------------+-------------------------------------------+--------------------+\n",
            "|          52702018|https://www.airbn...|20230905131342|  2023-09-05|city scrape|Rental unit in Qu...|Unique entire uni...|                 null|https://a0.muscac...|            93231383|https://www.airbn...|              Daniel|          2016-09-03|        New York, NY|                null|    within an hour|                 96%|                100%|                 t|https://a0.muscac...|https://a0.muscac...|          Flushing|                   3|                        3|['email', 'phone']|                   t|                     t|                null|         East Elmhurst|                      Queens|          40.76911|           -73.87053|  Entire rental unit|     Entire home/apt|            4|     null|            1 bath|                 1|                 2|\"[\"\"Private entra...|       \"\"Hot water\"\"|         \"\"Hangers\"\"| \"\"Coffee maker: ...|   \"\"Luggage dropof...|   \"\"Central air co...|      \"\"Pets allowed\"\"|   \"\"SAMSUNG refrig...|       \"\"Smoke alarm\"\"|            \"\"Washer\"\"| \"\"Stainless stee...|     \"\"Conditioner\"\"| \"\"Extra pillows ...| \"\"Dishes and sil...|          \"\"Coffee\"\"|      \"\"Essentials\"\"|    \"\"Self check-in\"\"| \"\"Fast wifi \\u20...|       \"\"Bed linens\"\"|   \"\"Security camer...|       \"\"Body soap\"\"| \"\"Carbon monoxid...|         \"\"Lockbox\"\"|   \"\"Free street pa...|      \"\"Exercise equip...|          \"\"Kitchen\"\"|        \"\"Free driveway ...|        \"\"Hair dryer\"\"|         \"\"Shampoo\"\"| \"\"Cleaning produ...| \"\"Long term stay...|           \"\"HDTV with Fire...|                        \"\"Free dryer \\u2...|                         \"\"Clothing stora...|                        \"\"Central heating\"\"|            \"\"Iron\"\"|\n",
            "|903776106853996545|https://www.airbn...|20230905131342|  2023-09-05|city scrape|Rental unit in Qu...|Unique entire dup...|                 null|https://a0.muscac...|            93231383|https://www.airbn...|              Daniel|          2016-09-03|        New York, NY|                null|    within an hour|                 96%|                100%|                 t|https://a0.muscac...|https://a0.muscac...|          Flushing|                   3|                        3|['email', 'phone']|                   t|                     t|                null|         East Elmhurst|                      Queens|          40.76951|           -73.86976|  Entire rental unit|     Entire home/apt|            6|     null|            1 bath|                 3|                 4|\"[\"\"Air condition...|            \"\"Wifi\"\"| \"\"Free parking o...|         \"\"Kitchen\"\"|              \"\"TV\"\"]\"|               $137.00|                    30|                   365|                    30|                    30|                 365|                 365|                30.0|               365.0|                null|                   t|                   29|                  59|                   89|                    89|          2023-09-05|                   0|                   0|                     0|                     null|                 null|                       null|                  null|                null|                null|                null|                          null|                                       null|                                        null|                                          f|                   3|\n",
            "|784969376930125242|https://www.airbn...|20230905131342|  2023-09-05|city scrape|Home in Queens · ...|Unique entire uni...|                 null|https://a0.muscac...|            93231383|https://www.airbn...|              Daniel|          2016-09-03|        New York, NY|                null|    within an hour|                 96%|                100%|                 t|https://a0.muscac...|https://a0.muscac...|          Flushing|                   3|                        3|['email', 'phone']|                   t|                     t|                null|         East Elmhurst|                      Queens|40.768175708747755|  -73.87126330286264|         Entire home|     Entire home/apt|            7|     null|            1 bath|                 3|                 4|\"[\"\"Private entra...|       \"\"Hot water\"\"|         \"\"Hangers\"\"| \"\"Luggage dropof...|   \"\"Central air co...|      \"\"Refrigerator\"\"|      \"\"Pets allowed\"\"|       \"\"Smoke alarm\"\"|       \"\"Conditioner\"\"|                \"\"TV\"\"| \"\"Extra pillows ...| \"\"Dishes and sil...|    \"\"Dining table\"\"| \"\"Room-darkening...|          \"\"Coffee\"\"|      \"\"Essentials\"\"|    \"\"Self check-in\"\"| \"\"Clothing stora...|   \"\"Cooking basics\"\"|        \"\"Bed linens\"\"|         \"\"Freezer\"\"|       \"\"Gas stove\"\"| \"\"Security camer...|   \"\"Free washer \\u...|            \"\"Body soap\"\"|          \"\"Lockbox\"\"|        \"\"Free parking o...|           \"\"Kitchen\"\"|            \"\"Safe\"\"|         \"\"Shampoo\"\"| \"\"Cleaning produ...|           \"\"Long term stay...|                        \"\"Free dryer \\u2...|                         \"\"Fast wifi \\u20...|                        \"\"Central heating\"\"|   \"\"First aid kit\"\"|\n",
            "|          54089885|https://www.airbn...|20230905131342|  2023-09-05|city scrape|Rental unit in Br...|\"\"\"Welcome to our...|  our property is ...|     🌡medical stays|  government workers|         contractors| insurance reloca...| and wanderers al...|Scenic views: The...|https://a0.muscac...|         398622781|https://www.airbn...|             Katelyn|        2021-04-25|        New York, NY|   \"\"\"Hi I'm Katelyn| Host of TRAVSERVE| a hospitality br...|           small families| insurance clients| and leisure trav...|   I understand the...|      within an hour|                  100%|                         92%|                 f|https://a0.muscac...|https://a0.muscac...|          Pelham Bay|            9|        9|['email', 'phone']|                 t|                 t|Bronx, New York, ...|       Schuylerville|               Bronx|            40.83995|             -73.83317|    Entire rental unit|       Entire home/apt|                     5|                  null|                1 bath|                   2|                   3|\"[\"\"Private entra...|       \"\"Hot water\"\"| \"\"Free washer \\u...|      \"\"Shower gel\"\"|          \"\"Hangers\"\"| \"\"Books and read...|        \"\"Baby bath\"\"|   \"\"Radiant heating\"\"|   \"\"Portable fans\"\"| \"\"Private BBQ gr...| \"\"Ethernet conne...|   \"\"53\\\"\" HDTV wit...|      \"\"Children\\u2019...|  \"\"Luggage dropof...|           \"\"Pets allowed\"\"|    \"\"Window AC unit\"\"|     \"\"Smoke alarm\"\"| \"\"Extra pillows ...|   \"\"Outlet covers\"\"|           \"\"Children\\u2019...|                             5-10 years old|                         and 10+ years old\"\"|                              \"\"Park view\"\"| \"\"Room-darkening...|\n",
            "|836843217858604295|https://www.airbn...|20230905131342|  2023-09-05|city scrape|Rental unit in Th...|Experience luxury...| Scenic views: The...|https://a0.muscac...|           398622781|https://www.airbn...|             Katelyn|          2021-04-25|        New York, NY|   \"\"\"Hi I'm Katelyn| Host of TRAVSERVE| a hospitality br...|      small families| insurance clients| and leisure trav...| I understand the...|    within an hour|                100%|                      92%|                 f|https://a0.muscac...|  https://a0.muscac...|          Pelham Bay|                     9|                           9|['email', 'phone']|                   t|                   t|The Bronx, New Yo...|Schuylerville|    Bronx|  40.8392396326725|-73.83119430683094|Entire rental unit|     Entire home/apt|                  10|                null|             2 baths|                     4|                     6|  \"[\"\"Private entra...|         \"\"Hot water\"\"|   \"\"Free washer \\u...|        \"\"Shower gel\"\"|         \"\"Hangers\"\"| \"\"Books and read...| \"\"Radiant heating\"\"| \"\"Paid parking o...|   \"\"Portable fans\"\"| \"\"Luggage dropof...|  \"\"Ethernet conne...| \"\"Children\\u2019...|     \"\"Refrigerator\"\"|      \"\"Pets allowed\"\"| \"\"Paid crib - av...|  \"\"Window AC unit\"\"|     \"\"Smoke alarm\"\"|              \"\"Oven\"\"|      \"\"Extra pillows ...|  \"\"55\\\"\" HDTV wit...|        \"\"Children\\u2019...|        5-10 years old| and 10+ years old\"\"|   \"\"Outlet covers\"\"| \"\"Room-darkening...|           \"\"Exercise equip...|                                 yoga mat\"\"|                              \"\"Essentials\"\"|                        \"\"Dedicated work...| \"\"Dishes and sil...|\n",
            "|841128954402711018|https://www.airbn...|20230905131342|  2023-09-05|city scrape|Rental unit in Th...|Discover our char...| Scenic views: The...|https://a0.muscac...|           398622781|https://www.airbn...|             Katelyn|          2021-04-25|        New York, NY|   \"\"\"Hi I'm Katelyn| Host of TRAVSERVE| a hospitality br...|      small families| insurance clients| and leisure trav...| I understand the...|    within an hour|                100%|                      92%|                 f|https://a0.muscac...|  https://a0.muscac...|          Pelham Bay|                     9|                           9|['email', 'phone']|                   t|                   t|The Bronx, New Yo...|Schuylerville|    Bronx| 40.84087113494387|-73.83319272363603|Entire rental unit|     Entire home/apt|                   5|                null|              1 bath|                     2|                     3|  \"[\"\"Private entra...|         \"\"Hot water\"\"|   \"\"Free washer \\u...|        \"\"Shower gel\"\"|         \"\"Hangers\"\"| \"\"Books and read...| \"\"Radiant heating\"\"| \"\"Luggage dropof...|   \"\"Portable fans\"\"|       \"\"Breakfast\"\"|  \"\"Ethernet conne...| \"\"Children\\u2019...|     \"\"Pets allowed\"\"|    \"\"Window AC unit\"\"|     \"\"Smoke alarm\"\"| \"\"Single level h...|          \"\"Keypad\"\"|   \"\"Extra pillows ...|        \"\"Outlet covers\"\"|  \"\"Dishes and sil...|        \"\"55\\\"\" HDTV wit...|                Roku\"\"| \"\"Room-darkening...| \"\"Exercise equip...|          yoga mat\"\"|                \"\"Essentials\"\"|                        \"\"Ginger Lilly F...|                         \"\"Dedicated work...|                           \"\"Dining table\"\"|          \"\"Coffee\"\"|\n",
            "|549465289587099130|https://www.airbn...|20230905131342|  2023-09-05|city scrape|Home in Bronx · ★...|\"Welcome! Make yo...| Scenic views: The...|https://a0.muscac...|           398622781|https://www.airbn...|             Katelyn|          2021-04-25|        New York, NY|   \"\"\"Hi I'm Katelyn| Host of TRAVSERVE| a hospitality br...|      small families| insurance clients| and leisure trav...| I understand the...|    within an hour|                100%|                      92%|                 f|https://a0.muscac...|  https://a0.muscac...|          Pelham Bay|                     9|                           9|['email', 'phone']|                   t|                   t|Bronx, New York, ...|Schuylerville|    Bronx|           40.8407|         -73.83328|       Entire home|     Entire home/apt|                   2|                null|              1 bath|                     8|                     1|  \"[\"\"Private entra...|         \"\"Hot water\"\"|   \"\"Free washer \\u...|        \"\"Shower gel\"\"|         \"\"Hangers\"\"| \"\"Books and read...| \"\"Radiant heating\"\"| \"\"Luggage dropof...|   \"\"Portable fans\"\"| \"\"Private BBQ gr...|  \"\"Ethernet conne...| \"\"53\\\"\" HDTV wit...|  \"\"Children\\u2019...|      \"\"Pets allowed\"\"|  \"\"Window AC unit\"\"|     \"\"Smoke alarm\"\"| \"\"Single level h...|            \"\"Keypad\"\"|      \"\"Extra pillows ...|    \"\"Outlet covers\"\"|        \"\"Dishes and sil...|      \"\"Dining table\"\"| \"\"Room-darkening...| \"\"Exercise equip...|          yoga mat\"\"|                \"\"Essentials\"\"|                        \"\"Dedicated work...|                                  \"\"Coffee\"\"|                          \"\"Self check-in\"\"|            \"\"Wifi\"\"|\n",
            "|953648370950219232|https://www.airbn...|20230905131342|  2023-09-05|city scrape|Rental unit in Th...|\"\"\"The Private Su...|  less than 1 mile...| Einstein Medical...| and Montefiore M...| modern kitchen w...| and a well-appoi...| you'll enjoy sub...|                null|https://a0.muscac...|         398622781|https://www.airbn...|             Katelyn|        2021-04-25|        New York, NY|   \"\"\"Hi I'm Katelyn| Host of TRAVSERVE| a hospitality br...|           small families| insurance clients| and leisure trav...|   I understand the...|      within an hour|                  100%|                         92%|                 f|https://a0.muscac...|https://a0.muscac...|          Pelham Bay|            9|        9|['email', 'phone']|                 t|                 t|                null|       Schuylerville|               Bronx|   40.83957054653607|    -73.83236073391457|    Entire rental unit|       Entire home/apt|                     4|                  null|                1 bath|                   1|                   3|\"[\"\"Private entra...|       \"\"Hot water\"\"| \"\"Free washer \\u...|      \"\"Shower gel\"\"|          \"\"Hangers\"\"| \"\"Books and read...|  \"\"Radiant heating\"\"|   \"\"Luggage dropof...| \"\"Crib - availab...|   \"\"Portable fans\"\"| \"\"Ethernet conne...|   \"\"Children\\u2019...|         \"\"Pets allowed\"\"|   \"\"Window AC unit\"\"|            \"\"Smoke alarm\"\"|   \"\"Stainless stee...| \"\"Single level h...|          \"\"Keypad\"\"| \"\"Kenmore stainl...|           \"\"Extra pillows ...|                          \"\"Outlet covers\"\"|                         \"\"Dishes and sil...|                           \"\"Dining table\"\"| \"\"Room-darkening...|\n",
            "|          49422007|https://www.airbn...|20230905131342|  2023-09-05|city scrape|Rental unit in Th...|\"\"\"Welcome to our...|  our property is ...|            cookware|        and utensils| making it easy t...| with comfortable...| of which are cle...|Scenic views: The...|https://a0.muscac...|         398622781|https://www.airbn...|             Katelyn|        2021-04-25|        New York, NY|   \"\"\"Hi I'm Katelyn| Host of TRAVSERVE| a hospitality br...|           small families| insurance clients| and leisure trav...|   I understand the...|      within an hour|                  100%|                         92%|                 f|https://a0.muscac...|https://a0.muscac...|          Pelham Bay|            9|        9|['email', 'phone']|                 t|                 t|The Bronx, New Yo...|       Schuylerville|               Bronx|             40.8395|             -73.83315|    Entire rental unit|       Entire home/apt|                     5|                  null|                1 bath|                   2|                   3|\"[\"\"Private entra...|       \"\"Hot water\"\"| \"\"Free washer \\u...|      \"\"Shower gel\"\"|          \"\"Hangers\"\"| \"\"Books and read...|  \"\"Radiant heating\"\"|   \"\"Fast wifi \\u20...|   \"\"Portable fans\"\"| \"\"Private BBQ gr...| \"\"Ethernet conne...|   \"\"Children\\u2019...|         \"\"GE gas stove\"\"|  \"\"Luggage dropof...|           \"\"Pets allowed\"\"|    \"\"Window AC unit\"\"|     \"\"Smoke alarm\"\"|          \"\"Keypad\"\"| \"\"Extra pillows ...|           \"\"55\\\"\" HDTV wit...|                        \"\"Gingerv Lilly ...|                         \"\"Children\\u2019...|                             5-10 years old| and 10+ years old\"\"|\n",
            "|841075134306050279|https://www.airbn...|20230905131342|  2023-09-05|city scrape|Rental unit in Th...|\"\"\"Welcome to our...|  our property is ...|            cookware|        and utensils| making it easy t...| with comfortable...| of which are cle...|Scenic views: The...|https://a0.muscac...|         398622781|https://www.airbn...|             Katelyn|        2021-04-25|        New York, NY|   \"\"\"Hi I'm Katelyn| Host of TRAVSERVE| a hospitality br...|           small families| insurance clients| and leisure trav...|   I understand the...|      within an hour|                  100%|                         92%|                 f|https://a0.muscac...|https://a0.muscac...|          Pelham Bay|            9|        9|['email', 'phone']|                 t|                 t|The Bronx, New Yo...|       Schuylerville|               Bronx|   40.84140547461933|    -73.83300267390709|    Entire rental unit|       Entire home/apt|                     5|                  null|                1 bath|                   2|                   3|\"[\"\"Private entra...|       \"\"Hot water\"\"| \"\"Free washer \\u...|      \"\"Shower gel\"\"|          \"\"Hangers\"\"| \"\"Books and read...|  \"\"Radiant heating\"\"|   \"\"Paid parking o...| \"\"Crib - availab...|   \"\"Portable fans\"\"| \"\"Ginger Lilly F...|   \"\"Ethernet conne...|      \"\"Children\\u2019...|  \"\"Luggage dropof...|           \"\"Pets allowed\"\"|    \"\"Window AC unit\"\"|     \"\"Smoke alarm\"\"| \"\"Children\\u2019...| \"\"Extra pillows ...|             \"\"Outlet covers\"\"|                        \"\"Dishes and sil...|                         \"\"55\\\"\" HDTV wit...|                                     Roku\"\"| \"\"Room-darkening...|\n",
            "|863733005126162178|https://www.airbn...|20230905131342|  2023-09-05|city scrape|Home in Queens · ...|Bring the whole f...|                 null|https://a0.muscac...|            50997424|https://www.airbn...|                Mark|          2015-12-10|New York, United ...|Native of NYC.  B...|    within an hour|                100%|                 33%|                 f|https://a0.muscac...|https://a0.muscac...|    Middle Village|                  10|                       10|['email', 'phone']|                   t|                     t|                null|             Ridgewood|                      Queens|  40.7029477891808|  -73.89821661565234|         Entire home|     Entire home/apt|           16|     null|           3 baths|                 7|                13|\"[\"\"Air condition...| \"\"Dedicated work...|            \"\"Wifi\"\"| \"\"Carbon monoxid...|       \"\"Smoke alarm\"\"|            \"\"Washer\"\"|           \"\"Kitchen\"\"|              \"\"TV\"\"]\"|               $600.00|                    30|                 365|                  30|                  30|                 365|                 365|                30.0|                365.0|                null|                    t|                    29|                  59|                  89|                 269|            2023-09-05|                        0|                    0|                          0|                  null|                null|                null|                null|                          null|                                       null|                                        null|                                       null|                null|\n",
            "|           9919728|https://www.airbn...|20230905131342|  2023-09-05|city scrape|Townhouse in Quee...|Comfortable 3BR/1...| Beautiful Juniper...|https://a0.muscac...|            50997424|https://www.airbn...|                Mark|          2015-12-10|New York, United ...|Native of NYC.  B...|    within an hour|                100%|                 33%|                 f|https://a0.muscac...|https://a0.muscac...|    Middle Village|                  10|                       10|['email', 'phone']|                   t|                     t|Queens, New York,...|        Middle Village|                      Queens|          40.71734|           -73.87805|    Entire townhouse|     Entire home/apt|           12|     null|            1 bath|                 3|                 7|       \"[\"\"Kitchen\"\"|           \"\"Dryer\"\"|              \"\"TV\"\"|            \"\"Iron\"\"|           \"\"Heating\"\"|       \"\"Smoke alarm\"\"|              \"\"Wifi\"\"|            \"\"Washer\"\"|   \"\"Free parking o...|   \"\"Carbon monoxid...| \"\"Air conditioni...|    \"\"Hair dryer\"\"]\"|             $328.00|                  30|                1125|                  30|                   30|                1125|                 1125|                  30.0|              1125.0|                null|                   t|                     5|                       35|                   65|                        340|            2023-09-05|                   8|                   0|                   0|                    2016-04-01|                                 2020-02-18|                                        4.33|                                       4.17|                4.33|\n",
            "|          53696990|https://www.airbn...|20230905131342|  2023-09-05|city scrape|Vacation home in ...|Private studio ap...|                 null|https://a0.muscac...|            50997424|https://www.airbn...|                Mark|          2015-12-10|New York, United ...|Native of NYC.  B...|    within an hour|                100%|                 33%|                 f|https://a0.muscac...|https://a0.muscac...|    Middle Village|                  10|                       10|['email', 'phone']|                   t|                     t|                null|        Middle Village|                      Queens|          40.71726|           -73.87628|Entire vacation home|     Entire home/apt|            4|     null|            1 bath|              null|                 2|       \"[\"\"Kitchen\"\"|    \"\"Refrigerator\"\"| \"\"Heating - spli...|    \"\"Coffee maker\"\"|      \"\"Dining table\"\"|                \"\"TV\"\"|       \"\"Smoke alarm\"\"|        \"\"Bed linens\"\"|         \"\"Hot water\"\"|   \"\"Hot water kett...|           \"\"Bidet\"\"|            \"\"Wifi\"\"|       \"\"Gas stove\"\"| \"\"Free parking o...| \"\"Carbon monoxid...|      \"\"Essentials\"\"|  \"\"Air conditioni...|  \"\"Cooking basics\"\"|  \"\"Dishes and sil...|               $139.00|                  30|                 365|                  30|                    30|                      365|                  365|                       30.0|                 365.0|                null|                   t|                  30|                            60|                                         90|                                         365|                                 2023-09-05|                   1|\n",
            "|714936072143571657|https://www.airbn...|20230905131342|  2023-09-05|city scrape|Townhouse in Quee...|Bring your large ...|                 null|https://a0.muscac...|            50997424|https://www.airbn...|                Mark|          2015-12-10|New York, United ...|Native of NYC.  B...|    within an hour|                100%|                 33%|                 f|https://a0.muscac...|https://a0.muscac...|    Middle Village|                  10|                       10|['email', 'phone']|                   t|                     t|                null|             Ridgewood|                      Queens|          40.70405|           -73.89761|    Entire townhouse|     Entire home/apt|           14|     null|           2 baths|                 5|                 9|\"[\"\"Air condition...|            \"\"Wifi\"\"| \"\"Carbon monoxid...|     \"\"Smoke alarm\"\"|            \"\"Washer\"\"|           \"\"Kitchen\"\"|              \"\"TV\"\"]\"|               $518.00|                     7|                   365|                  30|                  30|                 365|                 365|                30.0|               365.0|                 null|                   t|                   30|                    60|                  90|                 365|          2023-09-05|                     0|                        0|                    0|                       null|                  null|                null|                null|                null|                          null|                                       null|                                        null|                                       null|                null|\n",
            "|           9920363|https://www.airbn...|20230905131342|  2023-09-05|city scrape|Townhouse in Quee...|Lots of space for...| Ridgewood is trad...|https://a0.muscac...|            50997424|https://www.airbn...|                Mark|          2015-12-10|New York, United ...|Native of NYC.  B...|    within an hour|                100%|                 33%|                 f|https://a0.muscac...|https://a0.muscac...|    Middle Village|                  10|                       10|['email', 'phone']|                   t|                     t|Queens, New York,...|             Ridgewood|                      Queens|          40.70465|           -73.89909|    Entire townhouse|     Entire home/apt|           16|     null|         2.5 baths|                 5|                11|     \"[\"\"Hot water\"\"| \"\"Air conditioni...|   \"\"Self check-in\"\"|            \"\"Wifi\"\"|      \"\"Refrigerator\"\"|   \"\"Carbon monoxid...|              \"\"Iron\"\"|   \"\"Fire extinguis...|             \"\"Dryer\"\"|        \"\"Bed linens\"\"|          \"\"Keypad\"\"|     \"\"Smoke alarm\"\"|          \"\"Washer\"\"|         \"\"Kitchen\"\"|              \"\"TV\"\"|      \"\"Hair dryer\"\"|        \"\"Heating\"\"]\"|             $485.00|                   30|                  1125|                  30|                  30|                1125|                  1125|                     30.0|               1125.0|                       null|                     t|                  30|                  60|                  90|                           365|                                 2023-09-05|                                           8|                                          0|                   0|\n",
            "|556960737995069310|https://www.airbn...|20230905131342|  2023-09-05|city scrape|Rental unit in Qu...|Newly renovated b...|                 null|https://a0.muscac...|            50997424|https://www.airbn...|                Mark|          2015-12-10|New York, United ...|Native of NYC.  B...|    within an hour|                100%|                 33%|                 f|https://a0.muscac...|https://a0.muscac...|    Middle Village|                  10|                       10|['email', 'phone']|                   t|                     t|                null|             Ridgewood|                      Queens|          40.70317|           -73.89949|  Entire rental unit|     Entire home/apt|            6|     null|            1 bath|                 2|                 4|\"[\"\"Air condition...|            \"\"Wifi\"\"| \"\"Carbon monoxid...|     \"\"Smoke alarm\"\"|            \"\"Washer\"\"|           \"\"Kitchen\"\"|              \"\"TV\"\"]\"|               $242.00|                    30|                   365|                  30|                  30|                 365|                 365|                30.0|               365.0|                 null|                   t|                   30|                    60|                  90|                 365|          2023-09-05|                     3|                        3|                    0|                 2022-10-06|            2023-04-24|                 5.0|                 5.0|                4.33|                           5.0|                                        5.0|                                        4.67|                                       4.67|                null|\n",
            "|          54395062|https://www.airbn...|20230905131342|  2023-09-05|city scrape|Vacation home in ...|Your family will ...|                 null|https://a0.muscac...|            50997424|https://www.airbn...|                Mark|          2015-12-10|New York, United ...|Native of NYC.  B...|    within an hour|                100%|                 33%|                 f|https://a0.muscac...|https://a0.muscac...|    Middle Village|                  10|                       10|['email', 'phone']|                   t|                     t|                null|             Ridgewood|                      Queens|          40.70453|           -73.89898|Entire vacation home|     Entire home/apt|            6|     null|            1 bath|                 2|                 4|\"[\"\"Air condition...|            \"\"Wifi\"\"|    \"\"Refrigerator\"\"| \"\"Carbon monoxid...|       \"\"Smoke alarm\"\"|           \"\"Kitchen\"\"|              \"\"TV\"\"]\"|               $245.00|                    30|                   365|                  30|                  30|                 365|                 365|                30.0|               365.0|                 null|                   t|                   30|                    60|                  90|                 365|          2023-09-05|                     3|                        2|                    1|                 2022-08-14|            2023-08-20|                4.67|                4.67|                4.67|                           5.0|                                        5.0|                                         5.0|                                       4.33|                null|\n",
            "|          40322951|https://www.airbn...|20230905131342|  2023-09-05|city scrape|Home in Brooklyn ...|One full/queen be...| Beautiful and bus...|https://a0.muscac...|           297311545|https://www.airbn...|             Uchenna|          2019-09-23|New York, United ...|                null|    within an hour|                100%|                 N/A|                 f|https://a0.muscac...|https://a0.muscac...|     East Flatbush|                   3|                        4|['email', 'phone']|                   t|                     t|Brooklyn, New Yor...|         East Flatbush|                    Brooklyn|          40.65409|           -73.94569|Private room in home|        Private room|            1|     null|     1 shared bath|              null|                 1|\"[\"\"Private entra...|       \"\"Hot water\"\"|      \"\"Shower gel\"\"|         \"\"Hangers\"\"|     \"\"Portable fans\"\"|      \"\"Refrigerator\"\"|              \"\"Oven\"\"|       \"\"Smoke alarm\"\"|   \"\"Extra pillows ...|   \"\"Dishes and sil...|    \"\"Dining table\"\"| \"\"Room-darkening...|          \"\"Coffee\"\"|      \"\"Essentials\"\"| \"\"Dedicated work...|   \"\"Self check-in\"\"|             \"\"Wifi\"\"|  \"\"Cooking basics\"\"|       \"\"Bed linens\"\"|   \"\"Security camer...| \"\"Fire extinguis...|       \"\"Body soap\"\"|   \"\"Window guards\"\"|           \"\"Toaster\"\"|      \"\"Carbon monoxid...|          \"\"Lockbox\"\"|        \"\"Free street pa...|           \"\"Kitchen\"\"|         \"\"Heating\"\"|         \"\"Shampoo\"\"| \"\"Lock on bedroo...|           \"\"Long term stay...|                                  \"\"Stove\"\"|                           \"\"First aid kit\"\"|                                   \"\"Iron\"\"|       \"\"Microwave\"\"|\n",
            "|          40195034|https://www.airbn...|20230905131342|  2023-09-05|city scrape|Home in Brooklyn ...|One full/queen be...| The Space is a bl...|https://a0.muscac...|           297311545|https://www.airbn...|             Uchenna|          2019-09-23|New York, United ...|                null|    within an hour|                100%|                 N/A|                 f|https://a0.muscac...|https://a0.muscac...|     East Flatbush|                   3|                        4|['email', 'phone']|                   t|                     t|Brooklyn, New Yor...|         East Flatbush|                    Brooklyn|          40.65229|           -73.94556|Private room in home|        Private room|            1|     null|    1 private bath|              null|                 1|\"[\"\"Private entra...|       \"\"Hot water\"\"|      \"\"Shower gel\"\"|         \"\"Hangers\"\"|     \"\"Portable fans\"\"|      \"\"Refrigerator\"\"|              \"\"Oven\"\"|       \"\"Smoke alarm\"\"|   \"\"Extra pillows ...|   \"\"Dishes and sil...|    \"\"Dining table\"\"| \"\"Room-darkening...|          \"\"Coffee\"\"|      \"\"Essentials\"\"|   \"\"Self check-in\"\"|            \"\"Wifi\"\"|  \"\"Clothing stora...|  \"\"Cooking basics\"\"|       \"\"Bed linens\"\"|           \"\"Bathtub\"\"| \"\"Security camer...| \"\"Fire extinguis...|     \"\"Mini fridge\"\"|         \"\"Body soap\"\"|        \"\"Window guards\"\"|          \"\"Toaster\"\"|        \"\"Carbon monoxid...|           \"\"Lockbox\"\"| \"\"Free street pa...|         \"\"Kitchen\"\"|         \"\"Heating\"\"|           \"\"TV with standa...|                                \"\"Shampoo\"\"|                         \"\"Lock on bedroo...|                        \"\"Long term stay...|   \"\"First aid kit\"\"|\n",
            "|          39898950|https://www.airbn...|20230905131342|  2023-09-05|city scrape|Home in Brooklyn ...|One full/queen be...| A block away from...|https://a0.muscac...|           297311545|https://www.airbn...|             Uchenna|          2019-09-23|New York, United ...|                null|    within an hour|                100%|                 N/A|                 f|https://a0.muscac...|https://a0.muscac...|     East Flatbush|                   3|                        4|['email', 'phone']|                   t|                     t|Brooklyn, New Yor...|         East Flatbush|                    Brooklyn|          40.65248|           -73.94584|Private room in home|        Private room|            1|     null|         1.5 baths|              null|                 1|\"[\"\"Private entra...|       \"\"Hot water\"\"|         \"\"Hangers\"\"|      \"\"Shower gel\"\"|   \"\"Luggage dropof...|     \"\"Portable fans\"\"|      \"\"Refrigerator\"\"|              \"\"Oven\"\"|       \"\"Smoke alarm\"\"|   \"\"Extra pillows ...| \"\"Dishes and sil...|    \"\"Dining table\"\"| \"\"Room-darkening...|          \"\"Coffee\"\"|      \"\"Essentials\"\"| \"\"Dedicated work...|    \"\"Self check-in\"\"|            \"\"Wifi\"\"|  \"\"Clothing stora...|    \"\"Cooking basics\"\"|      \"\"Bed linens\"\"| \"\"Security camer...| \"\"Fire extinguis...|       \"\"Mini fridge\"\"|        \"\"Window guards\"\"|          \"\"Toaster\"\"|        \"\"Carbon monoxid...|           \"\"Lockbox\"\"| \"\"Free street pa...|         \"\"Kitchen\"\"|         \"\"Heating\"\"|                   \"\"Shampoo\"\"|                        \"\"Lock on bedroo...|                         \"\"Long term stay...|                                  \"\"Stove\"\"|   \"\"First aid kit\"\"|\n",
            "+------------------+--------------------+--------------+------------+-----------+--------------------+--------------------+---------------------+--------------------+--------------------+--------------------+--------------------+--------------------+--------------------+--------------------+------------------+--------------------+--------------------+------------------+--------------------+--------------------+------------------+--------------------+-------------------------+------------------+--------------------+----------------------+--------------------+----------------------+----------------------------+------------------+--------------------+--------------------+--------------------+-------------+---------+------------------+------------------+------------------+--------------------+--------------------+--------------------+--------------------+----------------------+----------------------+----------------------+----------------------+----------------------+----------------------+--------------------+--------------------+--------------------+--------------------+--------------------+--------------------+---------------------+--------------------+---------------------+----------------------+--------------------+--------------------+--------------------+----------------------+-------------------------+---------------------+---------------------------+----------------------+--------------------+--------------------+--------------------+------------------------------+-------------------------------------------+--------------------------------------------+-------------------------------------------+--------------------+\n",
            "only showing top 20 rows\n",
            "\n"
          ]
        }
      ],
      "source": [
        "# Look over the listings data.\n",
        "listings_df.show()"
      ]
    },
    {
      "cell_type": "code",
      "execution_count": 8,
      "metadata": {
        "colab": {
          "base_uri": "https://localhost:8080/"
        },
        "id": "L_hKqNbW_EnA",
        "outputId": "07ffe900-ad4b-4016-c288-9790a70962e0"
      },
      "outputs": [
        {
          "output_type": "stream",
          "name": "stdout",
          "text": [
            "+----------+----------+---------+-------+--------------+--------------+--------------+\n",
            "|listing_id|      date|available|  price|adjusted_price|minimum_nights|maximum_nights|\n",
            "+----------+----------+---------+-------+--------------+--------------+--------------+\n",
            "|      2595|2023-09-05|        t|$240.00|       $240.00|            30|          1125|\n",
            "|      2595|2023-09-06|        t|$240.00|       $240.00|            30|          1125|\n",
            "|      2595|2023-09-07|        t|$240.00|       $240.00|            30|          1125|\n",
            "|      2595|2023-09-08|        t|$240.00|       $240.00|            30|          1125|\n",
            "|      2595|2023-09-09|        t|$240.00|       $240.00|            30|          1125|\n",
            "|      2595|2023-09-10|        t|$240.00|       $240.00|            30|          1125|\n",
            "|      2595|2023-09-11|        t|$240.00|       $240.00|            30|          1125|\n",
            "|      2595|2023-09-12|        t|$240.00|       $240.00|            30|          1125|\n",
            "|      2595|2023-09-13|        t|$240.00|       $240.00|            30|          1125|\n",
            "|      2595|2023-09-14|        t|$240.00|       $240.00|            30|          1125|\n",
            "|      2595|2023-09-15|        t|$240.00|       $240.00|            30|          1125|\n",
            "|      2595|2023-09-16|        t|$240.00|       $240.00|            30|          1125|\n",
            "|      2595|2023-09-17|        t|$240.00|       $240.00|            30|          1125|\n",
            "|      2595|2023-09-18|        t|$240.00|       $240.00|            30|          1125|\n",
            "|      2595|2023-09-19|        t|$240.00|       $240.00|            30|          1125|\n",
            "|      2595|2023-09-20|        t|$240.00|       $240.00|            30|          1125|\n",
            "|      2595|2023-09-21|        t|$240.00|       $240.00|            30|          1125|\n",
            "|      2595|2023-09-22|        t|$240.00|       $240.00|            30|          1125|\n",
            "|      2595|2023-09-23|        t|$240.00|       $240.00|            30|          1125|\n",
            "|      2595|2023-09-24|        t|$240.00|       $240.00|            30|          1125|\n",
            "+----------+----------+---------+-------+--------------+--------------+--------------+\n",
            "only showing top 20 rows\n",
            "\n"
          ]
        }
      ],
      "source": [
        "# Look over the data for calendar.\n",
        "calendar_df.show()"
      ]
    },
    {
      "cell_type": "code",
      "execution_count": 9,
      "metadata": {
        "colab": {
          "base_uri": "https://localhost:8080/"
        },
        "id": "uRm2AMPRHM_u",
        "outputId": "69f10edc-9053-4148-e089-d1c85f0c0fae"
      },
      "outputs": [
        {
          "output_type": "stream",
          "name": "stdout",
          "text": [
            "+--------------------+--------------------+--------------------+--------------------+--------------------+--------------------+\n",
            "|          listing_id|                  id|                date|         reviewer_id|       reviewer_name|            comments|\n",
            "+--------------------+--------------------+--------------------+--------------------+--------------------+--------------------+\n",
            "|                2595|               17857|          2009-11-21|               50679|                Jean|Notre séjour de t...|\n",
            "|<br/>Nous avons a...| propre et bien s...|                null|                null|                null|                null|\n",
            "|<br/>Petits souci...| et il manquait l...| le liquide vaiss...| nous les avons r...| donc une premièr...|                null|\n",
            "|<br/>Si j'ai la p...| je reprendrai à ...|                null|                null|                null|                null|\n",
            "|           <br/>Jean|                null|                null|                null|                null|                null|\n",
            "|<br/>Possession -...|                null|                null|                null|                null|                null|\n",
            "|              <br/>\"|                null|                null|                null|                null|                null|\n",
            "|                2595|               19176|          2009-12-05|               53267|                Cate|   Great experience.|\n",
            "|                2595|               19760|          2009-12-10|               38960|               Anita|I've stayed with ...|\n",
            "|<br/>Attention: i...|                null|                null|                null|                null|                null|\n",
            "|                2595|               34320|          2010-04-09|               71130|             Kai-Uwe|We've been stayin...|\n",
            "|                2595|               46312|          2010-05-25|              117113|              Alicia|We had a wonderfu...|\n",
            "|                2595|             1238204|          2012-05-07|             1783688|              Sergey|     Hi to everyone!|\n",
            "|<br/>Would say ou...| the host of Midt...| 2012) and will r...|                null|                null|                null|\n",
            "|<br/>The apartmen...| vigorous and ver...|                null|                null|                null|                null|\n",
            "|                2595|             1293632|          2012-05-17|             1870771|                Loïc|Jennifer was very...|\n",
            "|               <br/>|                null|                null|                null|                null|                null|\n",
            "|      <br/>Thanks !\"|                null|                null|                null|                null|                null|\n",
            "|                2595|             2022498|          2012-08-18|             2124102|             Melanie|This apartment is...|\n",
            "|<br/>We weren’t h...| the host sent in...|                null|                null|                null|                null|\n",
            "+--------------------+--------------------+--------------------+--------------------+--------------------+--------------------+\n",
            "only showing top 20 rows\n",
            "\n"
          ]
        }
      ],
      "source": [
        "# Look over the review data.\n",
        "reviews_df.show()"
      ]
    }
  ],
  "metadata": {
    "colab": {
      "provenance": []
    },
    "kernelspec": {
      "display_name": "Python 3 (ipykernel)",
      "language": "python",
      "name": "python3"
    },
    "language_info": {
      "codemirror_mode": {
        "name": "ipython",
        "version": 3
      },
      "file_extension": ".py",
      "mimetype": "text/x-python",
      "name": "python",
      "nbconvert_exporter": "python",
      "pygments_lexer": "ipython3",
      "version": "3.10.4"
    }
  },
  "nbformat": 4,
  "nbformat_minor": 0
}