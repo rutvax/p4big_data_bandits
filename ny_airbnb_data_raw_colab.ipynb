{
  "cells": [
    {
      "cell_type": "code",
      "execution_count": 1,
      "metadata": {
        "colab": {
          "base_uri": "https://localhost:8080/"
        },
        "id": "eGA5-htN6oEN",
        "outputId": "879e7f28-b316-4bc5-ac55-35b40f66bb48"
      },
      "outputs": [
        {
          "output_type": "stream",
          "name": "stdout",
          "text": [
            "\r0% [Working]\r            \rHit:1 http://archive.ubuntu.com/ubuntu jammy InRelease\n",
            "\r            \rGet:2 https://cloud.r-project.org/bin/linux/ubuntu jammy-cran40/ InRelease [3,626 B]\n",
            "\r0% [Waiting for headers] [Waiting for headers] [Connected to ppa.launchpadconte\r                                                                               \rGet:3 https://developer.download.nvidia.com/compute/cuda/repos/ubuntu2204/x86_64  InRelease [1,581 B]\n",
            "Get:4 http://archive.ubuntu.com/ubuntu jammy-updates InRelease [119 kB]\n",
            "Get:5 http://archive.ubuntu.com/ubuntu jammy-backports InRelease [109 kB]\n",
            "Hit:6 https://ppa.launchpadcontent.net/c2d4u.team/c2d4u4.0+/ubuntu jammy InRelease\n",
            "Get:7 https://developer.download.nvidia.com/compute/cuda/repos/ubuntu2204/x86_64  Packages [497 kB]\n",
            "Get:8 http://security.ubuntu.com/ubuntu jammy-security InRelease [110 kB]\n",
            "Hit:9 https://ppa.launchpadcontent.net/deadsnakes/ppa/ubuntu jammy InRelease\n",
            "Hit:10 https://ppa.launchpadcontent.net/graphics-drivers/ppa/ubuntu jammy InRelease\n",
            "Hit:11 https://ppa.launchpadcontent.net/ubuntugis/ppa/ubuntu jammy InRelease\n",
            "Get:12 http://security.ubuntu.com/ubuntu jammy-security/restricted amd64 Packages [1,064 kB]\n",
            "Get:13 http://security.ubuntu.com/ubuntu jammy-security/main amd64 Packages [965 kB]\n",
            "Fetched 2,869 kB in 3s (827 kB/s)\n",
            "Reading package lists... Done\n"
          ]
        }
      ],
      "source": [
        "import os\n",
        "# Find the latest version of spark 3.x  from http://www.apache.org/dist/spark/ and enter as the spark version\n",
        "# For example:\n",
        "# spark_version = 'spark-3.4.0'\n",
        "spark_version = 'spark-3.4.0'\n",
        "os.environ['SPARK_VERSION']=spark_version\n",
        "\n",
        "# Install Spark and Java\n",
        "!apt-get update\n",
        "!apt-get install openjdk-11-jdk-headless -qq > /dev/null\n",
        "!wget -q http://www.apache.org/dist/spark/$SPARK_VERSION/$SPARK_VERSION-bin-hadoop3.tgz\n",
        "!tar xf $SPARK_VERSION-bin-hadoop3.tgz\n",
        "!pip install -q findspark\n",
        "\n",
        "# Set Environment Variables\n",
        "os.environ[\"JAVA_HOME\"] = \"/usr/lib/jvm/java-11-openjdk-amd64\"\n",
        "os.environ[\"SPARK_HOME\"] = f\"/content/{spark_version}-bin-hadoop3\"\n",
        "\n",
        "# Start a SparkSession\n",
        "import findspark\n",
        "findspark.init()"
      ]
    },
    {
      "cell_type": "code",
      "execution_count": 2,
      "metadata": {
        "id": "pIUo9MYO6vlj"
      },
      "outputs": [],
      "source": [
        "# Import packages\n",
        "from pyspark.sql import SparkSession\n",
        "import time\n",
        "\n",
        "# Create a SparkSession\n",
        "spark = SparkSession.builder\\\n",
        "    .appName(\"SparkSQL\")\\\n",
        "    .config(\"spark.sql.debug.maxToStringFields\", 2000)\\\n",
        "    .config(\"spark.driver.memory\", \"2g\")\\\n",
        "    .getOrCreate()\n",
        "\n",
        "# Set the partitions to 4 or 8.\n",
        "spark.conf.set(\"spark.sql.shuffle.partitions\", 8)"
      ]
    },
    {
      "cell_type": "code",
      "execution_count": 3,
      "metadata": {
        "id": "Ej6Sabcd-1At"
      },
      "outputs": [],
      "source": [
        "# Read in data from S3 Bucket\n",
        "from pyspark import SparkFiles\n",
        "url_listings = \"http://data.insideairbnb.com/united-states/ny/new-york-city/2023-09-05/data/listings.csv.gz\"\n",
        "spark.sparkContext.addFile(url_listings)\n",
        "listings_df = spark.read.csv(SparkFiles.get(\"listings.csv.gz\"), sep=\",\", header=True, quote ='\"', multiLine=True, escape = '\"')\n",
        "\n",
        "# Create a lookup table for calendar.\n",
        "url_calendar=\"http://data.insideairbnb.com/united-states/ny/new-york-city/2023-09-05/data/calendar.csv.gz\"\n",
        "spark.sparkContext.addFile(url_calendar)\n",
        "calendar_df = spark.read.csv(SparkFiles.get(\"calendar.csv.gz\"), sep=\",\", header=True, quote ='\"', multiLine=True, escape = '\"')\n",
        "\n",
        "# Create a lookup table for the airport codes.\n",
        "url_reviews =\"http://data.insideairbnb.com/united-states/ny/new-york-city/2023-09-05/data/reviews.csv.gz\"\n",
        "spark.sparkContext.addFile(url_reviews)\n",
        "reviews_df = spark.read.csv(SparkFiles.get(\"reviews.csv.gz\"), sep=\",\", header=True, quote ='\"', multiLine=True, escape = '\"')\n"
      ]
    },
    {
      "cell_type": "code",
      "execution_count": 4,
      "metadata": {
        "colab": {
          "base_uri": "https://localhost:8080/"
        },
        "id": "7XUB6IMQxLAB",
        "outputId": "8b200287-28c7-4ad9-b6b5-7ddad31d2cdc"
      },
      "outputs": [
        {
          "output_type": "stream",
          "name": "stdout",
          "text": [
            "+------------------+--------------------+--------------+------------+-----------+--------------------+--------------------+---------------------+--------------------+---------+--------------------+---------+----------+--------------------+--------------------+------------------+------------------+--------------------+-----------------+--------------------+--------------------+------------------+-------------------+-------------------------+------------------+--------------------+----------------------+--------------------+----------------------+----------------------------+------------------+------------------+--------------------+---------------+------------+---------+--------------+--------+----+--------------------+-------+--------------+--------------+----------------------+----------------------+----------------------+----------------------+----------------------+----------------------+----------------+----------------+---------------+---------------+---------------+----------------+---------------------+-----------------+---------------------+----------------------+------------+-----------+--------------------+----------------------+-------------------------+---------------------+---------------------------+----------------------+-------------------+-------+----------------+------------------------------+-------------------------------------------+--------------------------------------------+-------------------------------------------+-----------------+\n",
            "|                id|         listing_url|     scrape_id|last_scraped|     source|                name|         description|neighborhood_overview|         picture_url|  host_id|            host_url|host_name|host_since|       host_location|          host_about|host_response_time|host_response_rate|host_acceptance_rate|host_is_superhost|  host_thumbnail_url|    host_picture_url|host_neighbourhood|host_listings_count|host_total_listings_count|host_verifications|host_has_profile_pic|host_identity_verified|       neighbourhood|neighbourhood_cleansed|neighbourhood_group_cleansed|          latitude|         longitude|       property_type|      room_type|accommodates|bathrooms|bathrooms_text|bedrooms|beds|           amenities|  price|minimum_nights|maximum_nights|minimum_minimum_nights|maximum_minimum_nights|minimum_maximum_nights|maximum_maximum_nights|minimum_nights_avg_ntm|maximum_nights_avg_ntm|calendar_updated|has_availability|availability_30|availability_60|availability_90|availability_365|calendar_last_scraped|number_of_reviews|number_of_reviews_ltm|number_of_reviews_l30d|first_review|last_review|review_scores_rating|review_scores_accuracy|review_scores_cleanliness|review_scores_checkin|review_scores_communication|review_scores_location|review_scores_value|license|instant_bookable|calculated_host_listings_count|calculated_host_listings_count_entire_homes|calculated_host_listings_count_private_rooms|calculated_host_listings_count_shared_rooms|reviews_per_month|\n",
            "+------------------+--------------------+--------------+------------+-----------+--------------------+--------------------+---------------------+--------------------+---------+--------------------+---------+----------+--------------------+--------------------+------------------+------------------+--------------------+-----------------+--------------------+--------------------+------------------+-------------------+-------------------------+------------------+--------------------+----------------------+--------------------+----------------------+----------------------------+------------------+------------------+--------------------+---------------+------------+---------+--------------+--------+----+--------------------+-------+--------------+--------------+----------------------+----------------------+----------------------+----------------------+----------------------+----------------------+----------------+----------------+---------------+---------------+---------------+----------------+---------------------+-----------------+---------------------+----------------------+------------+-----------+--------------------+----------------------+-------------------------+---------------------+---------------------------+----------------------+-------------------+-------+----------------+------------------------------+-------------------------------------------+--------------------------------------------+-------------------------------------------+-----------------+\n",
            "|          52702018|https://www.airbn...|20230905131342|  2023-09-05|city scrape|Rental unit in Qu...|Unique entire uni...|                 null|https://a0.muscac...| 93231383|https://www.airbn...|   Daniel|2016-09-03|        New York, NY|                null|    within an hour|               96%|                100%|                t|https://a0.muscac...|https://a0.muscac...|          Flushing|                  3|                        3|['email', 'phone']|                   t|                     t|                null|         East Elmhurst|                      Queens|          40.76911|         -73.87053|  Entire rental unit|Entire home/apt|           4|     null|        1 bath|       1|   2|[\"Private entranc...|$171.00|             1|          1125|                    30|                    30|                  1125|                  1125|                  30.0|                1125.0|            null|               t|             14|             43|             73|              73|           2023-09-05|              188|                   88|                     6|  2021-11-14| 2023-08-21|                 4.9|                  4.95|                      4.9|                 4.95|                       4.94|                  4.85|               4.87|   null|               t|                             3|                                          3|                                           0|                                          0|             8.53|\n",
            "|903776106853996545|https://www.airbn...|20230905131342|  2023-09-05|city scrape|Rental unit in Qu...|Unique entire dup...|                 null|https://a0.muscac...| 93231383|https://www.airbn...|   Daniel|2016-09-03|        New York, NY|                null|    within an hour|               96%|                100%|                t|https://a0.muscac...|https://a0.muscac...|          Flushing|                  3|                        3|['email', 'phone']|                   t|                     t|                null|         East Elmhurst|                      Queens|          40.76951|         -73.86976|  Entire rental unit|Entire home/apt|           6|     null|        1 bath|       3|   4|[\"Air conditionin...|$137.00|            30|           365|                    30|                    30|                   365|                   365|                  30.0|                 365.0|            null|               t|             29|             59|             89|              89|           2023-09-05|                0|                    0|                     0|        null|       null|                null|                  null|                     null|                 null|                       null|                  null|               null|   null|               f|                             3|                                          3|                                           0|                                          0|             null|\n",
            "|784969376930125242|https://www.airbn...|20230905131342|  2023-09-05|city scrape|Home in Queens · ...|Unique entire uni...|                 null|https://a0.muscac...| 93231383|https://www.airbn...|   Daniel|2016-09-03|        New York, NY|                null|    within an hour|               96%|                100%|                t|https://a0.muscac...|https://a0.muscac...|          Flushing|                  3|                        3|['email', 'phone']|                   t|                     t|                null|         East Elmhurst|                      Queens|40.768175708747755|-73.87126330286264|         Entire home|Entire home/apt|           7|     null|        1 bath|       3|   4|[\"Private entranc...|$311.00|            30|           365|                    30|                    30|                  1125|                  1125|                  30.0|                1125.0|            null|               t|             18|             43|             73|             163|           2023-09-05|               38|                   38|                     1|  2022-12-25| 2023-08-15|                4.97|                  4.97|                     4.97|                 4.95|                       4.95|                  4.84|               4.87|   null|               t|                             3|                                          3|                                           0|                                          0|             4.47|\n",
            "|          54089885|https://www.airbn...|20230905131342|  2023-09-05|city scrape|Rental unit in Br...|\"Welcome to our c...| Scenic views: The...|https://a0.muscac...|398622781|https://www.airbn...|  Katelyn|2021-04-25|        New York, NY|\"Hi I'm Katelyn, ...|    within an hour|              100%|                 92%|                f|https://a0.muscac...|https://a0.muscac...|        Pelham Bay|                  9|                        9|['email', 'phone']|                   t|                     t|Bronx, New York, ...|         Schuylerville|                       Bronx|          40.83995|         -73.83317|  Entire rental unit|Entire home/apt|           5|     null|        1 bath|       2|   3|[\"Private entranc...|$116.00|            30|          1125|                    30|                    30|                  1125|                  1125|                  30.0|                1125.0|            null|               t|             15|             45|             75|             350|           2023-09-05|               28|                   17|                     2|  2022-01-25| 2023-08-13|                4.75|                  4.79|                      5.0|                 4.68|                       4.75|                  4.89|               4.71|   null|               f|                             7|                                          7|                                           0|                                          0|             1.43|\n",
            "|836843217858604295|https://www.airbn...|20230905131342|  2023-09-05|city scrape|Rental unit in Th...|Experience luxury...| Scenic views: The...|https://a0.muscac...|398622781|https://www.airbn...|  Katelyn|2021-04-25|        New York, NY|\"Hi I'm Katelyn, ...|    within an hour|              100%|                 92%|                f|https://a0.muscac...|https://a0.muscac...|        Pelham Bay|                  9|                        9|['email', 'phone']|                   t|                     t|The Bronx, New Yo...|         Schuylerville|                       Bronx|  40.8392396326725|-73.83119430683094|  Entire rental unit|Entire home/apt|          10|     null|       2 baths|       4|   6|[\"Private entranc...|$255.00|             1|           365|                    30|                    30|                  1125|                  1125|                  30.0|                1125.0|            null|               t|             15|             45|             75|             350|           2023-09-05|                9|                    9|                     1|  2023-05-21| 2023-08-20|                4.56|                  4.89|                     4.89|                 4.44|                       4.89|                  4.89|               4.78|   null|               f|                             7|                                          7|                                           0|                                          0|             2.50|\n",
            "|841128954402711018|https://www.airbn...|20230905131342|  2023-09-05|city scrape|Rental unit in Th...|Discover our char...| Scenic views: The...|https://a0.muscac...|398622781|https://www.airbn...|  Katelyn|2021-04-25|        New York, NY|\"Hi I'm Katelyn, ...|    within an hour|              100%|                 92%|                f|https://a0.muscac...|https://a0.muscac...|        Pelham Bay|                  9|                        9|['email', 'phone']|                   t|                     t|The Bronx, New Yo...|         Schuylerville|                       Bronx| 40.84087113494387|-73.83319272363603|  Entire rental unit|Entire home/apt|           5|     null|        1 bath|       2|   3|[\"Private entranc...|$141.00|             1|           365|                    30|                    30|                   365|                   365|                  30.0|                 365.0|            null|               t|             14|             44|             72|             347|           2023-09-05|               10|                   10|                     2|  2023-04-17| 2023-08-14|                 4.8|                   4.9|                      5.0|                  5.0|                        4.9|                   4.9|                4.7|   null|               f|                             7|                                          7|                                           0|                                          0|             2.11|\n",
            "|549465289587099130|https://www.airbn...|20230905131342|  2023-09-05|city scrape|Home in Bronx · ★...|Welcome! Make you...| Scenic views: The...|https://a0.muscac...|398622781|https://www.airbn...|  Katelyn|2021-04-25|        New York, NY|\"Hi I'm Katelyn, ...|    within an hour|              100%|                 92%|                f|https://a0.muscac...|https://a0.muscac...|        Pelham Bay|                  9|                        9|['email', 'phone']|                   t|                     t|Bronx, New York, ...|         Schuylerville|                       Bronx|           40.8407|         -73.83328|         Entire home|Entire home/apt|           2|     null|        1 bath|       8|   1|[\"Private entranc...| $99.00|             1|           356|                    30|                    30|                  1125|                  1125|                  30.0|                1125.0|            null|               t|              5|             35|             65|             340|           2023-09-05|               13|                    6|                     0|  2022-01-30| 2023-03-27|                4.77|                  4.69|                      5.0|                 4.85|                        5.0|                  4.46|               4.23|   null|               f|                             7|                                          7|                                           0|                                          0|             0.67|\n",
            "|953648370950219232|https://www.airbn...|20230905131342|  2023-09-05|city scrape|Rental unit in Th...|\"The Private Suit...|                 null|https://a0.muscac...|398622781|https://www.airbn...|  Katelyn|2021-04-25|        New York, NY|\"Hi I'm Katelyn, ...|    within an hour|              100%|                 92%|                f|https://a0.muscac...|https://a0.muscac...|        Pelham Bay|                  9|                        9|['email', 'phone']|                   t|                     t|                null|         Schuylerville|                       Bronx| 40.83957054653607|-73.83236073391457|  Entire rental unit|Entire home/apt|           4|     null|        1 bath|       1|   3|[\"Private entranc...|$108.00|            30|           365|                    30|                    30|                   365|                   365|                  30.0|                 365.0|            null|               t|              0|             18|             48|             323|           2023-09-05|                0|                    0|                     0|        null|       null|                null|                  null|                     null|                 null|                       null|                  null|               null|   null|               f|                             7|                                          7|                                           0|                                          0|             null|\n",
            "|          49422007|https://www.airbn...|20230905131342|  2023-09-05|city scrape|Rental unit in Th...|\"Welcome to our c...| Scenic views: The...|https://a0.muscac...|398622781|https://www.airbn...|  Katelyn|2021-04-25|        New York, NY|\"Hi I'm Katelyn, ...|    within an hour|              100%|                 92%|                f|https://a0.muscac...|https://a0.muscac...|        Pelham Bay|                  9|                        9|['email', 'phone']|                   t|                     t|The Bronx, New Yo...|         Schuylerville|                       Bronx|           40.8395|         -73.83315|  Entire rental unit|Entire home/apt|           5|     null|        1 bath|       2|   3|[\"Private entranc...|$118.00|             1|           365|                    30|                    30|                  1125|                  1125|                  30.0|                1125.0|            null|               t|             15|             45|             75|             350|           2023-09-05|               52|                   10|                     1|  2021-05-09| 2023-08-08|                4.73|                  4.85|                     4.92|                 4.71|                       4.69|                  4.81|                4.6|   null|               f|                             7|                                          7|                                           0|                                          0|             1.84|\n",
            "|841075134306050279|https://www.airbn...|20230905131342|  2023-09-05|city scrape|Rental unit in Th...|\"Welcome to our c...| Scenic views: The...|https://a0.muscac...|398622781|https://www.airbn...|  Katelyn|2021-04-25|        New York, NY|\"Hi I'm Katelyn, ...|    within an hour|              100%|                 92%|                f|https://a0.muscac...|https://a0.muscac...|        Pelham Bay|                  9|                        9|['email', 'phone']|                   t|                     t|The Bronx, New Yo...|         Schuylerville|                       Bronx| 40.84140547461933|-73.83300267390709|  Entire rental unit|Entire home/apt|           5|     null|        1 bath|       2|   3|[\"Private entranc...|$160.00|             1|           365|                    30|                    30|                   365|                   365|                  30.0|                 365.0|            null|               t|             22|             52|             82|             357|           2023-09-05|                2|                    2|                     0|  2023-03-30| 2023-04-16|                 5.0|                   5.0|                      5.0|                  5.0|                        5.0|                   5.0|                5.0|   null|               f|                             7|                                          7|                                           0|                                          0|             0.38|\n",
            "|863733005126162178|https://www.airbn...|20230905131342|  2023-09-05|city scrape|Home in Queens · ...|Bring the whole f...|                 null|https://a0.muscac...| 50997424|https://www.airbn...|     Mark|2015-12-10|New York, United ...|Native of NYC.  B...|    within an hour|              100%|                 33%|                f|https://a0.muscac...|https://a0.muscac...|    Middle Village|                 10|                       10|['email', 'phone']|                   t|                     t|                null|             Ridgewood|                      Queens|  40.7029477891808|-73.89821661565234|         Entire home|Entire home/apt|          16|     null|       3 baths|       7|  13|[\"Air conditionin...|$600.00|            30|           365|                    30|                    30|                   365|                   365|                  30.0|                 365.0|            null|               t|             29|             59|             89|             269|           2023-09-05|                0|                    0|                     0|        null|       null|                null|                  null|                     null|                 null|                       null|                  null|               null|   null|               f|                             7|                                          7|                                           0|                                          0|             null|\n",
            "|           9919728|https://www.airbn...|20230905131342|  2023-09-05|city scrape|Townhouse in Quee...|Comfortable 3BR/1...| Beautiful Juniper...|https://a0.muscac...| 50997424|https://www.airbn...|     Mark|2015-12-10|New York, United ...|Native of NYC.  B...|    within an hour|              100%|                 33%|                f|https://a0.muscac...|https://a0.muscac...|    Middle Village|                 10|                       10|['email', 'phone']|                   t|                     t|Queens, New York,...|        Middle Village|                      Queens|          40.71734|         -73.87805|    Entire townhouse|Entire home/apt|          12|     null|        1 bath|       3|   7|[\"Kitchen\", \"Drye...|$328.00|            30|          1125|                    30|                    30|                  1125|                  1125|                  30.0|                1125.0|            null|               t|              5|             35|             65|             340|           2023-09-05|                8|                    0|                     0|  2016-04-01| 2020-02-18|                4.33|                  4.17|                     4.33|                 4.83|                       4.67|                  4.83|               4.33|   null|               f|                             7|                                          7|                                           0|                                          0|             0.09|\n",
            "|          53696990|https://www.airbn...|20230905131342|  2023-09-05|city scrape|Vacation home in ...|Private studio ap...|                 null|https://a0.muscac...| 50997424|https://www.airbn...|     Mark|2015-12-10|New York, United ...|Native of NYC.  B...|    within an hour|              100%|                 33%|                f|https://a0.muscac...|https://a0.muscac...|    Middle Village|                 10|                       10|['email', 'phone']|                   t|                     t|                null|        Middle Village|                      Queens|          40.71726|         -73.87628|Entire vacation home|Entire home/apt|           4|     null|        1 bath|    null|   2|[\"Kitchen\", \"Refr...|$139.00|            30|           365|                    30|                    30|                   365|                   365|                  30.0|                 365.0|            null|               t|             30|             60|             90|             365|           2023-09-05|                1|                    1|                     0|  2022-09-16| 2022-09-16|                 4.0|                   4.0|                      3.0|                  5.0|                        4.0|                   5.0|                3.0|   null|               f|                             7|                                          7|                                           0|                                          0|             0.08|\n",
            "|714936072143571657|https://www.airbn...|20230905131342|  2023-09-05|city scrape|Townhouse in Quee...|Bring your large ...|                 null|https://a0.muscac...| 50997424|https://www.airbn...|     Mark|2015-12-10|New York, United ...|Native of NYC.  B...|    within an hour|              100%|                 33%|                f|https://a0.muscac...|https://a0.muscac...|    Middle Village|                 10|                       10|['email', 'phone']|                   t|                     t|                null|             Ridgewood|                      Queens|          40.70405|         -73.89761|    Entire townhouse|Entire home/apt|          14|     null|       2 baths|       5|   9|[\"Air conditionin...|$518.00|             7|           365|                    30|                    30|                   365|                   365|                  30.0|                 365.0|            null|               t|             30|             60|             90|             365|           2023-09-05|                0|                    0|                     0|        null|       null|                null|                  null|                     null|                 null|                       null|                  null|               null|   null|               f|                             7|                                          7|                                           0|                                          0|             null|\n",
            "|           9920363|https://www.airbn...|20230905131342|  2023-09-05|city scrape|Townhouse in Quee...|Lots of space for...| Ridgewood is trad...|https://a0.muscac...| 50997424|https://www.airbn...|     Mark|2015-12-10|New York, United ...|Native of NYC.  B...|    within an hour|              100%|                 33%|                f|https://a0.muscac...|https://a0.muscac...|    Middle Village|                 10|                       10|['email', 'phone']|                   t|                     t|Queens, New York,...|             Ridgewood|                      Queens|          40.70465|         -73.89909|    Entire townhouse|Entire home/apt|          16|     null|     2.5 baths|       5|  11|[\"Hot water\", \"Ai...|$485.00|            30|          1125|                    30|                    30|                  1125|                  1125|                  30.0|                1125.0|            null|               t|             30|             60|             90|             365|           2023-09-05|                8|                    0|                     0|  2016-05-08| 2020-01-01|                4.25|                  4.25|                     3.75|                 4.75|                        4.0|                  4.75|                4.5|   null|               f|                             7|                                          7|                                           0|                                          0|             0.09|\n",
            "|556960737995069310|https://www.airbn...|20230905131342|  2023-09-05|city scrape|Rental unit in Qu...|Newly renovated b...|                 null|https://a0.muscac...| 50997424|https://www.airbn...|     Mark|2015-12-10|New York, United ...|Native of NYC.  B...|    within an hour|              100%|                 33%|                f|https://a0.muscac...|https://a0.muscac...|    Middle Village|                 10|                       10|['email', 'phone']|                   t|                     t|                null|             Ridgewood|                      Queens|          40.70317|         -73.89949|  Entire rental unit|Entire home/apt|           6|     null|        1 bath|       2|   4|[\"Air conditionin...|$242.00|            30|           365|                    30|                    30|                   365|                   365|                  30.0|                 365.0|            null|               t|             30|             60|             90|             365|           2023-09-05|                3|                    3|                     0|  2022-10-06| 2023-04-24|                 5.0|                   5.0|                     4.33|                  5.0|                        5.0|                  4.67|               4.67|   null|               f|                             7|                                          7|                                           0|                                          0|             0.27|\n",
            "|          54395062|https://www.airbn...|20230905131342|  2023-09-05|city scrape|Vacation home in ...|Your family will ...|                 null|https://a0.muscac...| 50997424|https://www.airbn...|     Mark|2015-12-10|New York, United ...|Native of NYC.  B...|    within an hour|              100%|                 33%|                f|https://a0.muscac...|https://a0.muscac...|    Middle Village|                 10|                       10|['email', 'phone']|                   t|                     t|                null|             Ridgewood|                      Queens|          40.70453|         -73.89898|Entire vacation home|Entire home/apt|           6|     null|        1 bath|       2|   4|[\"Air conditionin...|$245.00|            30|           365|                    30|                    30|                   365|                   365|                  30.0|                 365.0|            null|               t|             30|             60|             90|             365|           2023-09-05|                3|                    2|                     1|  2022-08-14| 2023-08-20|                4.67|                  4.67|                     4.67|                  5.0|                        5.0|                   5.0|               4.33|   null|               f|                             7|                                          7|                                           0|                                          0|             0.23|\n",
            "|          40322951|https://www.airbn...|20230905131342|  2023-09-05|city scrape|Home in Brooklyn ...|One full/queen be...| Beautiful and bus...|https://a0.muscac...|297311545|https://www.airbn...|  Uchenna|2019-09-23|New York, United ...|                null|    within an hour|              100%|                 N/A|                f|https://a0.muscac...|https://a0.muscac...|     East Flatbush|                  3|                        4|['email', 'phone']|                   t|                     t|Brooklyn, New Yor...|         East Flatbush|                    Brooklyn|          40.65409|         -73.94569|Private room in home|   Private room|           1|     null| 1 shared bath|    null|   1|[\"Private entranc...| $43.00|            30|           120|                    30|                    30|                  1125|                  1125|                  30.0|                1125.0|            null|               t|             19|             38|             57|             234|           2023-09-05|                6|                    0|                     0|  2020-01-03| 2022-05-06|                4.67|                  4.67|                     4.33|                 4.67|                       4.67|                   4.5|               4.33|   null|               f|                             3|                                          0|                                           3|                                          0|             0.13|\n",
            "|          40195034|https://www.airbn...|20230905131342|  2023-09-05|city scrape|Home in Brooklyn ...|One full/queen be...| The Space is a bl...|https://a0.muscac...|297311545|https://www.airbn...|  Uchenna|2019-09-23|New York, United ...|                null|    within an hour|              100%|                 N/A|                f|https://a0.muscac...|https://a0.muscac...|     East Flatbush|                  3|                        4|['email', 'phone']|                   t|                     t|Brooklyn, New Yor...|         East Flatbush|                    Brooklyn|          40.65229|         -73.94556|Private room in home|   Private room|           1|     null|1 private bath|    null|   1|[\"Private entranc...| $49.00|            30|           120|                    30|                    30|                  1125|                  1125|                  30.0|                1125.0|            null|               t|             24|             48|             73|             252|           2023-09-05|                4|                    0|                     0|  2020-01-02| 2022-03-03|                3.75|                   4.0|                      3.5|                  4.0|                        4.0|                   4.0|               3.75|   null|               f|                             3|                                          0|                                           3|                                          0|             0.09|\n",
            "|          39898950|https://www.airbn...|20230905131342|  2023-09-05|city scrape|Home in Brooklyn ...|One full/queen be...| A block away from...|https://a0.muscac...|297311545|https://www.airbn...|  Uchenna|2019-09-23|New York, United ...|                null|    within an hour|              100%|                 N/A|                f|https://a0.muscac...|https://a0.muscac...|     East Flatbush|                  3|                        4|['email', 'phone']|                   t|                     t|Brooklyn, New Yor...|         East Flatbush|                    Brooklyn|          40.65248|         -73.94584|Private room in home|   Private room|           1|     null|     1.5 baths|    null|   1|[\"Private entranc...| $45.00|            30|           120|                    30|                    30|                  1125|                  1125|                  30.0|                1125.0|            null|               t|             24|             47|             66|             258|           2023-09-05|                8|                    0|                     0|  2020-01-13| 2021-10-26|                3.63|                   4.0|                     3.25|                 4.38|                       4.25|                  4.13|               3.63|   null|               f|                             3|                                          0|                                           3|                                          0|             0.18|\n",
            "+------------------+--------------------+--------------+------------+-----------+--------------------+--------------------+---------------------+--------------------+---------+--------------------+---------+----------+--------------------+--------------------+------------------+------------------+--------------------+-----------------+--------------------+--------------------+------------------+-------------------+-------------------------+------------------+--------------------+----------------------+--------------------+----------------------+----------------------------+------------------+------------------+--------------------+---------------+------------+---------+--------------+--------+----+--------------------+-------+--------------+--------------+----------------------+----------------------+----------------------+----------------------+----------------------+----------------------+----------------+----------------+---------------+---------------+---------------+----------------+---------------------+-----------------+---------------------+----------------------+------------+-----------+--------------------+----------------------+-------------------------+---------------------+---------------------------+----------------------+-------------------+-------+----------------+------------------------------+-------------------------------------------+--------------------------------------------+-------------------------------------------+-----------------+\n",
            "only showing top 20 rows\n",
            "\n"
          ]
        }
      ],
      "source": [
        "# Look over the listings data.\n",
        "listings_df.show()"
      ]
    },
    {
      "cell_type": "code",
      "execution_count": 5,
      "metadata": {
        "colab": {
          "base_uri": "https://localhost:8080/"
        },
        "id": "L_hKqNbW_EnA",
        "outputId": "0c6e2593-a6d7-4ad9-c341-7eff0e76a296"
      },
      "outputs": [
        {
          "output_type": "stream",
          "name": "stdout",
          "text": [
            "+----------+----------+---------+-------+--------------+--------------+--------------+\n",
            "|listing_id|      date|available|  price|adjusted_price|minimum_nights|maximum_nights|\n",
            "+----------+----------+---------+-------+--------------+--------------+--------------+\n",
            "|      2595|2023-09-05|        t|$240.00|       $240.00|            30|          1125|\n",
            "|      2595|2023-09-06|        t|$240.00|       $240.00|            30|          1125|\n",
            "|      2595|2023-09-07|        t|$240.00|       $240.00|            30|          1125|\n",
            "|      2595|2023-09-08|        t|$240.00|       $240.00|            30|          1125|\n",
            "|      2595|2023-09-09|        t|$240.00|       $240.00|            30|          1125|\n",
            "|      2595|2023-09-10|        t|$240.00|       $240.00|            30|          1125|\n",
            "|      2595|2023-09-11|        t|$240.00|       $240.00|            30|          1125|\n",
            "|      2595|2023-09-12|        t|$240.00|       $240.00|            30|          1125|\n",
            "|      2595|2023-09-13|        t|$240.00|       $240.00|            30|          1125|\n",
            "|      2595|2023-09-14|        t|$240.00|       $240.00|            30|          1125|\n",
            "|      2595|2023-09-15|        t|$240.00|       $240.00|            30|          1125|\n",
            "|      2595|2023-09-16|        t|$240.00|       $240.00|            30|          1125|\n",
            "|      2595|2023-09-17|        t|$240.00|       $240.00|            30|          1125|\n",
            "|      2595|2023-09-18|        t|$240.00|       $240.00|            30|          1125|\n",
            "|      2595|2023-09-19|        t|$240.00|       $240.00|            30|          1125|\n",
            "|      2595|2023-09-20|        t|$240.00|       $240.00|            30|          1125|\n",
            "|      2595|2023-09-21|        t|$240.00|       $240.00|            30|          1125|\n",
            "|      2595|2023-09-22|        t|$240.00|       $240.00|            30|          1125|\n",
            "|      2595|2023-09-23|        t|$240.00|       $240.00|            30|          1125|\n",
            "|      2595|2023-09-24|        t|$240.00|       $240.00|            30|          1125|\n",
            "+----------+----------+---------+-------+--------------+--------------+--------------+\n",
            "only showing top 20 rows\n",
            "\n"
          ]
        }
      ],
      "source": [
        "# Look over the data for calendar.\n",
        "calendar_df.show()"
      ]
    },
    {
      "cell_type": "code",
      "execution_count": 6,
      "metadata": {
        "colab": {
          "base_uri": "https://localhost:8080/"
        },
        "id": "uRm2AMPRHM_u",
        "outputId": "58ccd197-dc93-4eb9-d1ae-fba81c53bab8"
      },
      "outputs": [
        {
          "output_type": "stream",
          "name": "stdout",
          "text": [
            "+----------+--------+----------+-----------+-------------+--------------------+\n",
            "|listing_id|      id|      date|reviewer_id|reviewer_name|            comments|\n",
            "+----------+--------+----------+-----------+-------------+--------------------+\n",
            "|      2595|   17857|2009-11-21|      50679|         Jean|Notre séjour de t...|\n",
            "|      2595|   19176|2009-12-05|      53267|         Cate|   Great experience.|\n",
            "|      2595|   19760|2009-12-10|      38960|        Anita|I've stayed with ...|\n",
            "|      2595|   34320|2010-04-09|      71130|      Kai-Uwe|We've been stayin...|\n",
            "|      2595|   46312|2010-05-25|     117113|       Alicia|We had a wonderfu...|\n",
            "|      2595| 1238204|2012-05-07|    1783688|       Sergey|Hi to everyone!\\r...|\n",
            "|      2595| 1293632|2012-05-17|    1870771|         Loïc|Jennifer was very...|\n",
            "|      2595| 2022498|2012-08-18|    2124102|      Melanie|This apartment is...|\n",
            "|      2595| 4682989|2013-05-20|     496053|         Eric|Jennifer's place ...|\n",
            "|      2595|13193832|2014-05-21|   13685934|       Gerald|Jennifer is a ver...|\n",
            "|      2595|15515108|2014-07-10|   10781357|      Richard|This is a cute st...|\n",
            "|      2595|20372242|2014-09-28|    4212558|       Carson|A great location,...|\n",
            "|      2595|20937971|2014-10-07|   13460520|      Michael|Jennifer's place ...|\n",
            "|      2595|21464102|2014-10-18|   16584002|        Kitty|We hebben genoten...|\n",
            "|      2595|28794060|2015-03-30|   27436102|       Kellie|Jennifer was very...|\n",
            "|      2595|30430122|2015-04-21|    6429364|        Sonya|I love this space...|\n",
            "|      2595|32532759|2015-05-19|   12146524|      Michiel|This was our firs...|\n",
            "|      2595|47785650|2015-09-21|   12885233|          Lin|Great location, i...|\n",
            "|      2595|48764464|2015-09-28|   18636130|         Alex|Jennifer was with...|\n",
            "|      2595|69547296|2016-04-11|   16512817|         Gary|Jennifer was an u...|\n",
            "+----------+--------+----------+-----------+-------------+--------------------+\n",
            "only showing top 20 rows\n",
            "\n"
          ]
        }
      ],
      "source": [
        "# Look over the review data.\n",
        "reviews_df.show()"
      ]
    },
    {
      "cell_type": "code",
      "source": [
        "import pandas as pd"
      ],
      "metadata": {
        "id": "I9J5v8RT-aOK"
      },
      "execution_count": 7,
      "outputs": []
    },
    {
      "cell_type": "code",
      "source": [
        "listings_df.count()"
      ],
      "metadata": {
        "colab": {
          "base_uri": "https://localhost:8080/"
        },
        "id": "cQ1u7-j7-ied",
        "outputId": "e637d68d-0b56-4695-dc51-a797cf4854c1"
      },
      "execution_count": 8,
      "outputs": [
        {
          "output_type": "execute_result",
          "data": {
            "text/plain": [
              "39453"
            ]
          },
          "metadata": {},
          "execution_count": 8
        }
      ]
    },
    {
      "cell_type": "code",
      "source": [
        "calendar_df.count()"
      ],
      "metadata": {
        "colab": {
          "base_uri": "https://localhost:8080/"
        },
        "id": "OXNOvjAd-rol",
        "outputId": "268d75d4-c8fc-410f-866c-ac5ed62d215e"
      },
      "execution_count": 9,
      "outputs": [
        {
          "output_type": "execute_result",
          "data": {
            "text/plain": [
              "14399996"
            ]
          },
          "metadata": {},
          "execution_count": 9
        }
      ]
    },
    {
      "cell_type": "code",
      "source": [
        "reviews_df.count()"
      ],
      "metadata": {
        "colab": {
          "base_uri": "https://localhost:8080/"
        },
        "id": "eaB9vW0PAR-u",
        "outputId": "0ccea8f4-dac5-4ccc-a08d-fa711ca92e1f"
      },
      "execution_count": 10,
      "outputs": [
        {
          "output_type": "execute_result",
          "data": {
            "text/plain": [
              "1019573"
            ]
          },
          "metadata": {},
          "execution_count": 10
        }
      ]
    },
    {
      "cell_type": "code",
      "source": [
        "unique_neighbourhoods = listings_df.select('neighbourhood_cleansed').distinct()\n",
        "unique_neighbourhoods_count = unique_neighbourhoods.count()\n",
        "print(\"Count of unique neighbourhoods:\", unique_neighbourhoods_count)"
      ],
      "metadata": {
        "colab": {
          "base_uri": "https://localhost:8080/"
        },
        "id": "cq0eWpKdWAlp",
        "outputId": "0ac626ea-4ee6-4b2a-b504-ec17686a2a56"
      },
      "execution_count": 11,
      "outputs": [
        {
          "output_type": "stream",
          "name": "stdout",
          "text": [
            "Count of unique neighbourhoods: 223\n"
          ]
        }
      ]
    },
    {
      "cell_type": "code",
      "source": [
        "accepted_neighborhoods = [\"Manhattan\", \"Queens\", \"Brooklyn\"]"
      ],
      "metadata": {
        "id": "04J03uceWAi_"
      },
      "execution_count": 12,
      "outputs": []
    },
    {
      "cell_type": "code",
      "source": [
        "filtered_listings_df = listings_df[listings_df['neighbourhood_group_cleansed'].isin(accepted_neighborhoods)]\n"
      ],
      "metadata": {
        "id": "a2ZwEZVUWAge"
      },
      "execution_count": 13,
      "outputs": []
    },
    {
      "cell_type": "code",
      "source": [
        "filtered_listings_df.show()"
      ],
      "metadata": {
        "colab": {
          "base_uri": "https://localhost:8080/"
        },
        "id": "lIwvH6jdWAdy",
        "outputId": "83f53c99-6332-4c2a-921a-9ca7973f0985"
      },
      "execution_count": 14,
      "outputs": [
        {
          "output_type": "stream",
          "name": "stdout",
          "text": [
            "+------------------+--------------------+--------------+------------+-----------+--------------------+--------------------+---------------------+--------------------+---------+--------------------+---------------+----------+--------------------+--------------------+------------------+------------------+--------------------+-----------------+--------------------+--------------------+------------------+-------------------+-------------------------+--------------------+--------------------+----------------------+--------------------+----------------------+----------------------------+------------------+------------------+--------------------+---------------+------------+---------+--------------+--------+----+--------------------+-------+--------------+--------------+----------------------+----------------------+----------------------+----------------------+----------------------+----------------------+----------------+----------------+---------------+---------------+---------------+----------------+---------------------+-----------------+---------------------+----------------------+------------+-----------+--------------------+----------------------+-------------------------+---------------------+---------------------------+----------------------+-------------------+-------+----------------+------------------------------+-------------------------------------------+--------------------------------------------+-------------------------------------------+-----------------+\n",
            "|                id|         listing_url|     scrape_id|last_scraped|     source|                name|         description|neighborhood_overview|         picture_url|  host_id|            host_url|      host_name|host_since|       host_location|          host_about|host_response_time|host_response_rate|host_acceptance_rate|host_is_superhost|  host_thumbnail_url|    host_picture_url|host_neighbourhood|host_listings_count|host_total_listings_count|  host_verifications|host_has_profile_pic|host_identity_verified|       neighbourhood|neighbourhood_cleansed|neighbourhood_group_cleansed|          latitude|         longitude|       property_type|      room_type|accommodates|bathrooms|bathrooms_text|bedrooms|beds|           amenities|  price|minimum_nights|maximum_nights|minimum_minimum_nights|maximum_minimum_nights|minimum_maximum_nights|maximum_maximum_nights|minimum_nights_avg_ntm|maximum_nights_avg_ntm|calendar_updated|has_availability|availability_30|availability_60|availability_90|availability_365|calendar_last_scraped|number_of_reviews|number_of_reviews_ltm|number_of_reviews_l30d|first_review|last_review|review_scores_rating|review_scores_accuracy|review_scores_cleanliness|review_scores_checkin|review_scores_communication|review_scores_location|review_scores_value|license|instant_bookable|calculated_host_listings_count|calculated_host_listings_count_entire_homes|calculated_host_listings_count_private_rooms|calculated_host_listings_count_shared_rooms|reviews_per_month|\n",
            "+------------------+--------------------+--------------+------------+-----------+--------------------+--------------------+---------------------+--------------------+---------+--------------------+---------------+----------+--------------------+--------------------+------------------+------------------+--------------------+-----------------+--------------------+--------------------+------------------+-------------------+-------------------------+--------------------+--------------------+----------------------+--------------------+----------------------+----------------------------+------------------+------------------+--------------------+---------------+------------+---------+--------------+--------+----+--------------------+-------+--------------+--------------+----------------------+----------------------+----------------------+----------------------+----------------------+----------------------+----------------+----------------+---------------+---------------+---------------+----------------+---------------------+-----------------+---------------------+----------------------+------------+-----------+--------------------+----------------------+-------------------------+---------------------+---------------------------+----------------------+-------------------+-------+----------------+------------------------------+-------------------------------------------+--------------------------------------------+-------------------------------------------+-----------------+\n",
            "|          52702018|https://www.airbn...|20230905131342|  2023-09-05|city scrape|Rental unit in Qu...|Unique entire uni...|                 null|https://a0.muscac...| 93231383|https://www.airbn...|         Daniel|2016-09-03|        New York, NY|                null|    within an hour|               96%|                100%|                t|https://a0.muscac...|https://a0.muscac...|          Flushing|                  3|                        3|  ['email', 'phone']|                   t|                     t|                null|         East Elmhurst|                      Queens|          40.76911|         -73.87053|  Entire rental unit|Entire home/apt|           4|     null|        1 bath|       1|   2|[\"Private entranc...|$171.00|             1|          1125|                    30|                    30|                  1125|                  1125|                  30.0|                1125.0|            null|               t|             14|             43|             73|              73|           2023-09-05|              188|                   88|                     6|  2021-11-14| 2023-08-21|                 4.9|                  4.95|                      4.9|                 4.95|                       4.94|                  4.85|               4.87|   null|               t|                             3|                                          3|                                           0|                                          0|             8.53|\n",
            "|903776106853996545|https://www.airbn...|20230905131342|  2023-09-05|city scrape|Rental unit in Qu...|Unique entire dup...|                 null|https://a0.muscac...| 93231383|https://www.airbn...|         Daniel|2016-09-03|        New York, NY|                null|    within an hour|               96%|                100%|                t|https://a0.muscac...|https://a0.muscac...|          Flushing|                  3|                        3|  ['email', 'phone']|                   t|                     t|                null|         East Elmhurst|                      Queens|          40.76951|         -73.86976|  Entire rental unit|Entire home/apt|           6|     null|        1 bath|       3|   4|[\"Air conditionin...|$137.00|            30|           365|                    30|                    30|                   365|                   365|                  30.0|                 365.0|            null|               t|             29|             59|             89|              89|           2023-09-05|                0|                    0|                     0|        null|       null|                null|                  null|                     null|                 null|                       null|                  null|               null|   null|               f|                             3|                                          3|                                           0|                                          0|             null|\n",
            "|784969376930125242|https://www.airbn...|20230905131342|  2023-09-05|city scrape|Home in Queens · ...|Unique entire uni...|                 null|https://a0.muscac...| 93231383|https://www.airbn...|         Daniel|2016-09-03|        New York, NY|                null|    within an hour|               96%|                100%|                t|https://a0.muscac...|https://a0.muscac...|          Flushing|                  3|                        3|  ['email', 'phone']|                   t|                     t|                null|         East Elmhurst|                      Queens|40.768175708747755|-73.87126330286264|         Entire home|Entire home/apt|           7|     null|        1 bath|       3|   4|[\"Private entranc...|$311.00|            30|           365|                    30|                    30|                  1125|                  1125|                  30.0|                1125.0|            null|               t|             18|             43|             73|             163|           2023-09-05|               38|                   38|                     1|  2022-12-25| 2023-08-15|                4.97|                  4.97|                     4.97|                 4.95|                       4.95|                  4.84|               4.87|   null|               t|                             3|                                          3|                                           0|                                          0|             4.47|\n",
            "|863733005126162178|https://www.airbn...|20230905131342|  2023-09-05|city scrape|Home in Queens · ...|Bring the whole f...|                 null|https://a0.muscac...| 50997424|https://www.airbn...|           Mark|2015-12-10|New York, United ...|Native of NYC.  B...|    within an hour|              100%|                 33%|                f|https://a0.muscac...|https://a0.muscac...|    Middle Village|                 10|                       10|  ['email', 'phone']|                   t|                     t|                null|             Ridgewood|                      Queens|  40.7029477891808|-73.89821661565234|         Entire home|Entire home/apt|          16|     null|       3 baths|       7|  13|[\"Air conditionin...|$600.00|            30|           365|                    30|                    30|                   365|                   365|                  30.0|                 365.0|            null|               t|             29|             59|             89|             269|           2023-09-05|                0|                    0|                     0|        null|       null|                null|                  null|                     null|                 null|                       null|                  null|               null|   null|               f|                             7|                                          7|                                           0|                                          0|             null|\n",
            "|           9919728|https://www.airbn...|20230905131342|  2023-09-05|city scrape|Townhouse in Quee...|Comfortable 3BR/1...| Beautiful Juniper...|https://a0.muscac...| 50997424|https://www.airbn...|           Mark|2015-12-10|New York, United ...|Native of NYC.  B...|    within an hour|              100%|                 33%|                f|https://a0.muscac...|https://a0.muscac...|    Middle Village|                 10|                       10|  ['email', 'phone']|                   t|                     t|Queens, New York,...|        Middle Village|                      Queens|          40.71734|         -73.87805|    Entire townhouse|Entire home/apt|          12|     null|        1 bath|       3|   7|[\"Kitchen\", \"Drye...|$328.00|            30|          1125|                    30|                    30|                  1125|                  1125|                  30.0|                1125.0|            null|               t|              5|             35|             65|             340|           2023-09-05|                8|                    0|                     0|  2016-04-01| 2020-02-18|                4.33|                  4.17|                     4.33|                 4.83|                       4.67|                  4.83|               4.33|   null|               f|                             7|                                          7|                                           0|                                          0|             0.09|\n",
            "|          53696990|https://www.airbn...|20230905131342|  2023-09-05|city scrape|Vacation home in ...|Private studio ap...|                 null|https://a0.muscac...| 50997424|https://www.airbn...|           Mark|2015-12-10|New York, United ...|Native of NYC.  B...|    within an hour|              100%|                 33%|                f|https://a0.muscac...|https://a0.muscac...|    Middle Village|                 10|                       10|  ['email', 'phone']|                   t|                     t|                null|        Middle Village|                      Queens|          40.71726|         -73.87628|Entire vacation home|Entire home/apt|           4|     null|        1 bath|    null|   2|[\"Kitchen\", \"Refr...|$139.00|            30|           365|                    30|                    30|                   365|                   365|                  30.0|                 365.0|            null|               t|             30|             60|             90|             365|           2023-09-05|                1|                    1|                     0|  2022-09-16| 2022-09-16|                 4.0|                   4.0|                      3.0|                  5.0|                        4.0|                   5.0|                3.0|   null|               f|                             7|                                          7|                                           0|                                          0|             0.08|\n",
            "|714936072143571657|https://www.airbn...|20230905131342|  2023-09-05|city scrape|Townhouse in Quee...|Bring your large ...|                 null|https://a0.muscac...| 50997424|https://www.airbn...|           Mark|2015-12-10|New York, United ...|Native of NYC.  B...|    within an hour|              100%|                 33%|                f|https://a0.muscac...|https://a0.muscac...|    Middle Village|                 10|                       10|  ['email', 'phone']|                   t|                     t|                null|             Ridgewood|                      Queens|          40.70405|         -73.89761|    Entire townhouse|Entire home/apt|          14|     null|       2 baths|       5|   9|[\"Air conditionin...|$518.00|             7|           365|                    30|                    30|                   365|                   365|                  30.0|                 365.0|            null|               t|             30|             60|             90|             365|           2023-09-05|                0|                    0|                     0|        null|       null|                null|                  null|                     null|                 null|                       null|                  null|               null|   null|               f|                             7|                                          7|                                           0|                                          0|             null|\n",
            "|           9920363|https://www.airbn...|20230905131342|  2023-09-05|city scrape|Townhouse in Quee...|Lots of space for...| Ridgewood is trad...|https://a0.muscac...| 50997424|https://www.airbn...|           Mark|2015-12-10|New York, United ...|Native of NYC.  B...|    within an hour|              100%|                 33%|                f|https://a0.muscac...|https://a0.muscac...|    Middle Village|                 10|                       10|  ['email', 'phone']|                   t|                     t|Queens, New York,...|             Ridgewood|                      Queens|          40.70465|         -73.89909|    Entire townhouse|Entire home/apt|          16|     null|     2.5 baths|       5|  11|[\"Hot water\", \"Ai...|$485.00|            30|          1125|                    30|                    30|                  1125|                  1125|                  30.0|                1125.0|            null|               t|             30|             60|             90|             365|           2023-09-05|                8|                    0|                     0|  2016-05-08| 2020-01-01|                4.25|                  4.25|                     3.75|                 4.75|                        4.0|                  4.75|                4.5|   null|               f|                             7|                                          7|                                           0|                                          0|             0.09|\n",
            "|556960737995069310|https://www.airbn...|20230905131342|  2023-09-05|city scrape|Rental unit in Qu...|Newly renovated b...|                 null|https://a0.muscac...| 50997424|https://www.airbn...|           Mark|2015-12-10|New York, United ...|Native of NYC.  B...|    within an hour|              100%|                 33%|                f|https://a0.muscac...|https://a0.muscac...|    Middle Village|                 10|                       10|  ['email', 'phone']|                   t|                     t|                null|             Ridgewood|                      Queens|          40.70317|         -73.89949|  Entire rental unit|Entire home/apt|           6|     null|        1 bath|       2|   4|[\"Air conditionin...|$242.00|            30|           365|                    30|                    30|                   365|                   365|                  30.0|                 365.0|            null|               t|             30|             60|             90|             365|           2023-09-05|                3|                    3|                     0|  2022-10-06| 2023-04-24|                 5.0|                   5.0|                     4.33|                  5.0|                        5.0|                  4.67|               4.67|   null|               f|                             7|                                          7|                                           0|                                          0|             0.27|\n",
            "|          54395062|https://www.airbn...|20230905131342|  2023-09-05|city scrape|Vacation home in ...|Your family will ...|                 null|https://a0.muscac...| 50997424|https://www.airbn...|           Mark|2015-12-10|New York, United ...|Native of NYC.  B...|    within an hour|              100%|                 33%|                f|https://a0.muscac...|https://a0.muscac...|    Middle Village|                 10|                       10|  ['email', 'phone']|                   t|                     t|                null|             Ridgewood|                      Queens|          40.70453|         -73.89898|Entire vacation home|Entire home/apt|           6|     null|        1 bath|       2|   4|[\"Air conditionin...|$245.00|            30|           365|                    30|                    30|                   365|                   365|                  30.0|                 365.0|            null|               t|             30|             60|             90|             365|           2023-09-05|                3|                    2|                     1|  2022-08-14| 2023-08-20|                4.67|                  4.67|                     4.67|                  5.0|                        5.0|                   5.0|               4.33|   null|               f|                             7|                                          7|                                           0|                                          0|             0.23|\n",
            "|          40322951|https://www.airbn...|20230905131342|  2023-09-05|city scrape|Home in Brooklyn ...|One full/queen be...| Beautiful and bus...|https://a0.muscac...|297311545|https://www.airbn...|        Uchenna|2019-09-23|New York, United ...|                null|    within an hour|              100%|                 N/A|                f|https://a0.muscac...|https://a0.muscac...|     East Flatbush|                  3|                        4|  ['email', 'phone']|                   t|                     t|Brooklyn, New Yor...|         East Flatbush|                    Brooklyn|          40.65409|         -73.94569|Private room in home|   Private room|           1|     null| 1 shared bath|    null|   1|[\"Private entranc...| $43.00|            30|           120|                    30|                    30|                  1125|                  1125|                  30.0|                1125.0|            null|               t|             19|             38|             57|             234|           2023-09-05|                6|                    0|                     0|  2020-01-03| 2022-05-06|                4.67|                  4.67|                     4.33|                 4.67|                       4.67|                   4.5|               4.33|   null|               f|                             3|                                          0|                                           3|                                          0|             0.13|\n",
            "|          40195034|https://www.airbn...|20230905131342|  2023-09-05|city scrape|Home in Brooklyn ...|One full/queen be...| The Space is a bl...|https://a0.muscac...|297311545|https://www.airbn...|        Uchenna|2019-09-23|New York, United ...|                null|    within an hour|              100%|                 N/A|                f|https://a0.muscac...|https://a0.muscac...|     East Flatbush|                  3|                        4|  ['email', 'phone']|                   t|                     t|Brooklyn, New Yor...|         East Flatbush|                    Brooklyn|          40.65229|         -73.94556|Private room in home|   Private room|           1|     null|1 private bath|    null|   1|[\"Private entranc...| $49.00|            30|           120|                    30|                    30|                  1125|                  1125|                  30.0|                1125.0|            null|               t|             24|             48|             73|             252|           2023-09-05|                4|                    0|                     0|  2020-01-02| 2022-03-03|                3.75|                   4.0|                      3.5|                  4.0|                        4.0|                   4.0|               3.75|   null|               f|                             3|                                          0|                                           3|                                          0|             0.09|\n",
            "|          39898950|https://www.airbn...|20230905131342|  2023-09-05|city scrape|Home in Brooklyn ...|One full/queen be...| A block away from...|https://a0.muscac...|297311545|https://www.airbn...|        Uchenna|2019-09-23|New York, United ...|                null|    within an hour|              100%|                 N/A|                f|https://a0.muscac...|https://a0.muscac...|     East Flatbush|                  3|                        4|  ['email', 'phone']|                   t|                     t|Brooklyn, New Yor...|         East Flatbush|                    Brooklyn|          40.65248|         -73.94584|Private room in home|   Private room|           1|     null|     1.5 baths|    null|   1|[\"Private entranc...| $45.00|            30|           120|                    30|                    30|                  1125|                  1125|                  30.0|                1125.0|            null|               t|             24|             47|             66|             258|           2023-09-05|                8|                    0|                     0|  2020-01-13| 2021-10-26|                3.63|                   4.0|                     3.25|                 4.38|                       4.25|                  4.13|               3.63|   null|               f|                             3|                                          0|                                           3|                                          0|             0.18|\n",
            "|          31717837|https://www.airbn...|20230905131342|  2023-09-05|city scrape|Home in Brooklyn ...|Beautiful  2 bedr...|                 null|https://a0.muscac...|234174616|https://www.airbn...|          Onika|2019-01-03|                null|                null|      within a day|              100%|                 N/A|                f|https://a0.muscac...|https://a0.muscac...|     East New York|                  1|                        1|  ['email', 'phone']|                   t|                     t|                null|         East New York|                    Brooklyn|           40.6716|         -73.88797|         Entire home|Entire home/apt|           2|     null|        1 bath|       2|   3|[\"Private entranc...|$110.00|            30|            60|                    30|                    30|                  1125|                  1125|                  30.0|                1125.0|            null|               t|              0|              3|             33|              33|           2023-09-05|                7|                    0|                     0|  2019-10-31| 2022-09-01|                 5.0|                   5.0|                      5.0|                  5.0|                        5.0|                  4.86|                5.0|   null|               f|                             1|                                          1|                                           0|                                          0|             0.15|\n",
            "|823518066022552352|https://www.airbn...|20230905131342|  2023-09-05|city scrape|Rental unit in Qu...|Newly renovated, ...| Well connected to...|https://a0.muscac...|500407084|https://www.airbn...|       Giuseppe|2023-02-10|                null|                null|    within an hour|              100%|                 98%|                t|https://a0.muscac...|https://a0.muscac...|           Jamaica|                  1|                        1|  ['email', 'phone']|                   t|                     f|Queens, New York,...|            Ozone Park|                      Queens| 40.67227235266577|-73.84795230422972|  Entire rental unit|Entire home/apt|           3|     null|        1 bath|       1|   1|[\"Paid dryer \\u20...|$129.00|             1|           365|                    30|                    30|                   365|                   365|                  30.0|                 365.0|            null|               t|             20|             20|             20|              83|           2023-09-05|               54|                   54|                     3|  2023-02-15| 2023-08-31|                4.94|                  4.93|                     4.87|                 4.91|                       4.96|                  4.69|               4.87|   null|               t|                             1|                                          1|                                           0|                                          0|             7.98|\n",
            "|722463449063098611|https://www.airbn...|20230905131342|  2023-09-05|city scrape|Home in Queens · ...|Kick back and rel...|                 null|https://a0.muscac...|141645843|https://www.airbn...|G'S Vacay Spots|2017-07-21|        New York, NY|I enjoy meeting n...|    within an hour|              100%|                 80%|                f|https://a0.muscac...|https://a0.muscac...|           Jamaica|                  2|                        9|['email', 'phone'...|                   t|                     t|                null|               Jamaica|                      Queens|        40.6820373|       -73.7968162|Private room in home|   Private room|           4|     null| 1 shared bath|    null|   1|[\"Hot water\", \"Sh...|$110.00|             1|           365|                    30|                    30|                   365|                   365|                  30.0|                 365.0|            null|               t|             30|             60|             90|             365|           2023-09-05|               25|                   25|                     0|  2022-10-02| 2023-07-12|                4.88|                   4.8|                     4.72|                 4.96|                       4.96|                  4.88|                4.8|   null|               f|                             2|                                          0|                                           2|                                          0|             2.21|\n",
            "|          33102485|https://www.airbn...|20230905131342|  2023-09-05|city scrape|Home in Jamaica ·...|Essentials with a...| Sutphin Station ?...|https://a0.muscac...|141645843|https://www.airbn...|G'S Vacay Spots|2017-07-21|        New York, NY|I enjoy meeting n...|    within an hour|              100%|                 80%|                f|https://a0.muscac...|https://a0.muscac...|           Jamaica|                  2|                        9|['email', 'phone'...|                   t|                     t|Jamaica, New York...|               Jamaica|                      Queens|         40.682037|        -73.796814|Private room in home|   Private room|           3|     null| 1 shared bath|       1|   1|[\"Hot water\", \"Sh...| $84.00|             1|          1125|                    30|                    30|                  1125|                  1125|                  30.0|                1125.0|            null|               t|             30|             60|             90|             180|           2023-09-05|              114|                   42|                     0|  2019-03-31| 2023-07-23|                4.64|                  4.66|                     4.51|                 4.82|                       4.78|                  4.64|               4.54|   null|               t|                             2|                                          0|                                           2|                                          0|             2.11|\n",
            "|          34907354|https://www.airbn...|20230905131342|  2023-09-05|city scrape|Rental unit in Br...|Hello, within the...| You can get break...|https://a0.muscac...|246351353|https://www.airbn...|          Erica|2019-03-02|New York, United ...|I am a very lovin...|    within an hour|              100%|                 98%|                t|https://a0.muscac...|https://a0.muscac...|   Lefferts Garden|                  1|                        8|  ['email', 'phone']|                   t|                     t|Brooklyn, New Yor...|  Prospect-Lefferts...|                    Brooklyn|          40.66289|         -73.95756|Private room in r...|   Private room|           2|     null| 1 shared bath|    null|   1|[\"Hot water\", \"Ha...| $68.00|             1|          1125|                    30|                    30|                  1125|                  1125|                  30.0|                1125.0|            null|               t|              4|             19|             22|             103|           2023-09-05|               77|                   18|                     1|  2019-06-02| 2023-09-04|                4.73|                  4.82|                     4.73|                 4.79|                       4.87|                  4.75|               4.74|   null|               f|                             1|                                          0|                                           1|                                          0|             1.48|\n",
            "|          18908638|https://www.airbn...|20230905131342|  2023-09-05|city scrape|Townhouse in Broo...|In the safe neigh...| The neighborhood ...|https://a0.muscac...| 20438455|https://www.airbn...|          Jason|2014-08-23|        New York, NY|Hi my name is Jas...|    within an hour|              100%|                 97%|                t|https://a0.muscac...|https://a0.muscac...|      Borough Park|                  2|                        2|  ['email', 'phone']|                   t|                     t|Brooklyn, New Yor...|          Borough Park|                    Brooklyn|          40.63904|         -73.98103|Private room in t...|   Private room|           1|     null| 1 shared bath|    null|   1|[\"Hot water\", \"Ai...| $48.00|             2|            28|                     2|                     2|                  1125|                  1125|                   2.0|                1125.0|            null|               t|              2|              6|             23|              23|           2023-09-05|              191|                   30|                     6|  2017-06-11| 2023-09-01|                4.87|                  4.87|                     4.91|                 4.94|                       4.93|                  4.63|               4.88|   null|               f|                             2|                                          0|                                           2|                                          0|             2.52|\n",
            "|          18473439|https://www.airbn...|20230905131342|  2023-09-05|city scrape|Townhouse in Broo...|In the safe neigh...| It is a jewish, R...|https://a0.muscac...| 20438455|https://www.airbn...|          Jason|2014-08-23|        New York, NY|Hi my name is Jas...|    within an hour|              100%|                 97%|                t|https://a0.muscac...|https://a0.muscac...|      Borough Park|                  2|                        2|  ['email', 'phone']|                   t|                     t|Brooklyn, New Yor...|          Borough Park|                    Brooklyn|          40.63955|         -73.98251|Private room in t...|   Private room|           1|     null| 1 shared bath|    null|   1|[\"Hot water\", \"Ha...| $48.00|             2|            28|                     2|                     2|                    28|                    28|                   2.0|                  28.0|            null|               t|              1|              4|             21|              21|           2023-09-05|              208|                   25|                     7|  2017-05-16| 2023-09-02|                4.86|                  4.88|                     4.88|                  4.9|                       4.92|                   4.6|               4.83|   null|               f|                             2|                                          0|                                           2|                                          0|             2.71|\n",
            "+------------------+--------------------+--------------+------------+-----------+--------------------+--------------------+---------------------+--------------------+---------+--------------------+---------------+----------+--------------------+--------------------+------------------+------------------+--------------------+-----------------+--------------------+--------------------+------------------+-------------------+-------------------------+--------------------+--------------------+----------------------+--------------------+----------------------+----------------------------+------------------+------------------+--------------------+---------------+------------+---------+--------------+--------+----+--------------------+-------+--------------+--------------+----------------------+----------------------+----------------------+----------------------+----------------------+----------------------+----------------+----------------+---------------+---------------+---------------+----------------+---------------------+-----------------+---------------------+----------------------+------------+-----------+--------------------+----------------------+-------------------------+---------------------+---------------------------+----------------------+-------------------+-------+----------------+------------------------------+-------------------------------------------+--------------------------------------------+-------------------------------------------+-----------------+\n",
            "only showing top 20 rows\n",
            "\n"
          ]
        }
      ]
    },
    {
      "cell_type": "code",
      "source": [
        "filtered_listings_df.count()"
      ],
      "metadata": {
        "colab": {
          "base_uri": "https://localhost:8080/"
        },
        "id": "vh0Re6FgWAbL",
        "outputId": "b33f55b7-79dc-4a9e-8b69-b3ad00f908c2"
      },
      "execution_count": 15,
      "outputs": [
        {
          "output_type": "execute_result",
          "data": {
            "text/plain": [
              "37609"
            ]
          },
          "metadata": {},
          "execution_count": 15
        }
      ]
    },
    {
      "cell_type": "code",
      "source": [
        "listing_columns = ['id','listing_url','name','host_id','host_url','host_name','host_since','host_is_superhost','host_listings_count','host_total_listings_count','neighbourhood_cleansed','neighbourhood_group_cleansed','latitude','longitude','room_type','accommodates','bathrooms_text','bedrooms','beds','amenities','price','minimum_nights','maximum_nights','has_availability','number_of_reviews','number_of_reviews_ltm','number_of_reviews_l30d','first_review','last_review','review_scores_rating','review_scores_accuracy','review_scores_cleanliness','review_scores_checkin','review_scores_communication','review_scores_location','review_scores_value','calculated_host_listings_count','reviews_per_month']\n",
        "calendars_columns = ['listing_id','date','available','price','adjusted_price']\n",
        "reviews_columns = ['listing_id','id','date','reviewer_id','reviewer_name','comments']"
      ],
      "metadata": {
        "id": "Mrj1z1JIBGoK"
      },
      "execution_count": 16,
      "outputs": []
    },
    {
      "cell_type": "code",
      "source": [
        "column_listings_df = filtered_listings_df[listing_columns]\n",
        "column_calendars_df = calendar_df[calendars_columns]\n",
        "column_reviews_df = reviews_df[reviews_columns]"
      ],
      "metadata": {
        "id": "U7M_kV0dHu0X"
      },
      "execution_count": 17,
      "outputs": []
    },
    {
      "cell_type": "code",
      "source": [
        "column_listings_df = column_listings_df.withColumnRenamed('id', 'listing_id')"
      ],
      "metadata": {
        "id": "y376vpggIJpj"
      },
      "execution_count": 18,
      "outputs": []
    },
    {
      "cell_type": "code",
      "source": [
        "column_listings_df.show()"
      ],
      "metadata": {
        "colab": {
          "base_uri": "https://localhost:8080/"
        },
        "id": "TSwlpG70Iw0L",
        "outputId": "e23b0100-5500-40ad-9370-ce8e59218f1e"
      },
      "execution_count": 19,
      "outputs": [
        {
          "output_type": "stream",
          "name": "stdout",
          "text": [
            "+------------------+--------------------+--------------------+---------+--------------------+---------------+----------+-----------------+-------------------+-------------------------+----------------------+----------------------------+------------------+------------------+---------------+------------+--------------+--------+----+--------------------+-------+--------------+--------------+----------------+-----------------+---------------------+----------------------+------------+-----------+--------------------+----------------------+-------------------------+---------------------+---------------------------+----------------------+-------------------+------------------------------+-----------------+\n",
            "|        listing_id|         listing_url|                name|  host_id|            host_url|      host_name|host_since|host_is_superhost|host_listings_count|host_total_listings_count|neighbourhood_cleansed|neighbourhood_group_cleansed|          latitude|         longitude|      room_type|accommodates|bathrooms_text|bedrooms|beds|           amenities|  price|minimum_nights|maximum_nights|has_availability|number_of_reviews|number_of_reviews_ltm|number_of_reviews_l30d|first_review|last_review|review_scores_rating|review_scores_accuracy|review_scores_cleanliness|review_scores_checkin|review_scores_communication|review_scores_location|review_scores_value|calculated_host_listings_count|reviews_per_month|\n",
            "+------------------+--------------------+--------------------+---------+--------------------+---------------+----------+-----------------+-------------------+-------------------------+----------------------+----------------------------+------------------+------------------+---------------+------------+--------------+--------+----+--------------------+-------+--------------+--------------+----------------+-----------------+---------------------+----------------------+------------+-----------+--------------------+----------------------+-------------------------+---------------------+---------------------------+----------------------+-------------------+------------------------------+-----------------+\n",
            "|          52702018|https://www.airbn...|Rental unit in Qu...| 93231383|https://www.airbn...|         Daniel|2016-09-03|                t|                  3|                        3|         East Elmhurst|                      Queens|          40.76911|         -73.87053|Entire home/apt|           4|        1 bath|       1|   2|[\"Private entranc...|$171.00|             1|          1125|               t|              188|                   88|                     6|  2021-11-14| 2023-08-21|                 4.9|                  4.95|                      4.9|                 4.95|                       4.94|                  4.85|               4.87|                             3|             8.53|\n",
            "|903776106853996545|https://www.airbn...|Rental unit in Qu...| 93231383|https://www.airbn...|         Daniel|2016-09-03|                t|                  3|                        3|         East Elmhurst|                      Queens|          40.76951|         -73.86976|Entire home/apt|           6|        1 bath|       3|   4|[\"Air conditionin...|$137.00|            30|           365|               t|                0|                    0|                     0|        null|       null|                null|                  null|                     null|                 null|                       null|                  null|               null|                             3|             null|\n",
            "|784969376930125242|https://www.airbn...|Home in Queens · ...| 93231383|https://www.airbn...|         Daniel|2016-09-03|                t|                  3|                        3|         East Elmhurst|                      Queens|40.768175708747755|-73.87126330286264|Entire home/apt|           7|        1 bath|       3|   4|[\"Private entranc...|$311.00|            30|           365|               t|               38|                   38|                     1|  2022-12-25| 2023-08-15|                4.97|                  4.97|                     4.97|                 4.95|                       4.95|                  4.84|               4.87|                             3|             4.47|\n",
            "|863733005126162178|https://www.airbn...|Home in Queens · ...| 50997424|https://www.airbn...|           Mark|2015-12-10|                f|                 10|                       10|             Ridgewood|                      Queens|  40.7029477891808|-73.89821661565234|Entire home/apt|          16|       3 baths|       7|  13|[\"Air conditionin...|$600.00|            30|           365|               t|                0|                    0|                     0|        null|       null|                null|                  null|                     null|                 null|                       null|                  null|               null|                             7|             null|\n",
            "|           9919728|https://www.airbn...|Townhouse in Quee...| 50997424|https://www.airbn...|           Mark|2015-12-10|                f|                 10|                       10|        Middle Village|                      Queens|          40.71734|         -73.87805|Entire home/apt|          12|        1 bath|       3|   7|[\"Kitchen\", \"Drye...|$328.00|            30|          1125|               t|                8|                    0|                     0|  2016-04-01| 2020-02-18|                4.33|                  4.17|                     4.33|                 4.83|                       4.67|                  4.83|               4.33|                             7|             0.09|\n",
            "|          53696990|https://www.airbn...|Vacation home in ...| 50997424|https://www.airbn...|           Mark|2015-12-10|                f|                 10|                       10|        Middle Village|                      Queens|          40.71726|         -73.87628|Entire home/apt|           4|        1 bath|    null|   2|[\"Kitchen\", \"Refr...|$139.00|            30|           365|               t|                1|                    1|                     0|  2022-09-16| 2022-09-16|                 4.0|                   4.0|                      3.0|                  5.0|                        4.0|                   5.0|                3.0|                             7|             0.08|\n",
            "|714936072143571657|https://www.airbn...|Townhouse in Quee...| 50997424|https://www.airbn...|           Mark|2015-12-10|                f|                 10|                       10|             Ridgewood|                      Queens|          40.70405|         -73.89761|Entire home/apt|          14|       2 baths|       5|   9|[\"Air conditionin...|$518.00|             7|           365|               t|                0|                    0|                     0|        null|       null|                null|                  null|                     null|                 null|                       null|                  null|               null|                             7|             null|\n",
            "|           9920363|https://www.airbn...|Townhouse in Quee...| 50997424|https://www.airbn...|           Mark|2015-12-10|                f|                 10|                       10|             Ridgewood|                      Queens|          40.70465|         -73.89909|Entire home/apt|          16|     2.5 baths|       5|  11|[\"Hot water\", \"Ai...|$485.00|            30|          1125|               t|                8|                    0|                     0|  2016-05-08| 2020-01-01|                4.25|                  4.25|                     3.75|                 4.75|                        4.0|                  4.75|                4.5|                             7|             0.09|\n",
            "|556960737995069310|https://www.airbn...|Rental unit in Qu...| 50997424|https://www.airbn...|           Mark|2015-12-10|                f|                 10|                       10|             Ridgewood|                      Queens|          40.70317|         -73.89949|Entire home/apt|           6|        1 bath|       2|   4|[\"Air conditionin...|$242.00|            30|           365|               t|                3|                    3|                     0|  2022-10-06| 2023-04-24|                 5.0|                   5.0|                     4.33|                  5.0|                        5.0|                  4.67|               4.67|                             7|             0.27|\n",
            "|          54395062|https://www.airbn...|Vacation home in ...| 50997424|https://www.airbn...|           Mark|2015-12-10|                f|                 10|                       10|             Ridgewood|                      Queens|          40.70453|         -73.89898|Entire home/apt|           6|        1 bath|       2|   4|[\"Air conditionin...|$245.00|            30|           365|               t|                3|                    2|                     1|  2022-08-14| 2023-08-20|                4.67|                  4.67|                     4.67|                  5.0|                        5.0|                   5.0|               4.33|                             7|             0.23|\n",
            "|          40322951|https://www.airbn...|Home in Brooklyn ...|297311545|https://www.airbn...|        Uchenna|2019-09-23|                f|                  3|                        4|         East Flatbush|                    Brooklyn|          40.65409|         -73.94569|   Private room|           1| 1 shared bath|    null|   1|[\"Private entranc...| $43.00|            30|           120|               t|                6|                    0|                     0|  2020-01-03| 2022-05-06|                4.67|                  4.67|                     4.33|                 4.67|                       4.67|                   4.5|               4.33|                             3|             0.13|\n",
            "|          40195034|https://www.airbn...|Home in Brooklyn ...|297311545|https://www.airbn...|        Uchenna|2019-09-23|                f|                  3|                        4|         East Flatbush|                    Brooklyn|          40.65229|         -73.94556|   Private room|           1|1 private bath|    null|   1|[\"Private entranc...| $49.00|            30|           120|               t|                4|                    0|                     0|  2020-01-02| 2022-03-03|                3.75|                   4.0|                      3.5|                  4.0|                        4.0|                   4.0|               3.75|                             3|             0.09|\n",
            "|          39898950|https://www.airbn...|Home in Brooklyn ...|297311545|https://www.airbn...|        Uchenna|2019-09-23|                f|                  3|                        4|         East Flatbush|                    Brooklyn|          40.65248|         -73.94584|   Private room|           1|     1.5 baths|    null|   1|[\"Private entranc...| $45.00|            30|           120|               t|                8|                    0|                     0|  2020-01-13| 2021-10-26|                3.63|                   4.0|                     3.25|                 4.38|                       4.25|                  4.13|               3.63|                             3|             0.18|\n",
            "|          31717837|https://www.airbn...|Home in Brooklyn ...|234174616|https://www.airbn...|          Onika|2019-01-03|                f|                  1|                        1|         East New York|                    Brooklyn|           40.6716|         -73.88797|Entire home/apt|           2|        1 bath|       2|   3|[\"Private entranc...|$110.00|            30|            60|               t|                7|                    0|                     0|  2019-10-31| 2022-09-01|                 5.0|                   5.0|                      5.0|                  5.0|                        5.0|                  4.86|                5.0|                             1|             0.15|\n",
            "|823518066022552352|https://www.airbn...|Rental unit in Qu...|500407084|https://www.airbn...|       Giuseppe|2023-02-10|                t|                  1|                        1|            Ozone Park|                      Queens| 40.67227235266577|-73.84795230422972|Entire home/apt|           3|        1 bath|       1|   1|[\"Paid dryer \\u20...|$129.00|             1|           365|               t|               54|                   54|                     3|  2023-02-15| 2023-08-31|                4.94|                  4.93|                     4.87|                 4.91|                       4.96|                  4.69|               4.87|                             1|             7.98|\n",
            "|722463449063098611|https://www.airbn...|Home in Queens · ...|141645843|https://www.airbn...|G'S Vacay Spots|2017-07-21|                f|                  2|                        9|               Jamaica|                      Queens|        40.6820373|       -73.7968162|   Private room|           4| 1 shared bath|    null|   1|[\"Hot water\", \"Sh...|$110.00|             1|           365|               t|               25|                   25|                     0|  2022-10-02| 2023-07-12|                4.88|                   4.8|                     4.72|                 4.96|                       4.96|                  4.88|                4.8|                             2|             2.21|\n",
            "|          33102485|https://www.airbn...|Home in Jamaica ·...|141645843|https://www.airbn...|G'S Vacay Spots|2017-07-21|                f|                  2|                        9|               Jamaica|                      Queens|         40.682037|        -73.796814|   Private room|           3| 1 shared bath|       1|   1|[\"Hot water\", \"Sh...| $84.00|             1|          1125|               t|              114|                   42|                     0|  2019-03-31| 2023-07-23|                4.64|                  4.66|                     4.51|                 4.82|                       4.78|                  4.64|               4.54|                             2|             2.11|\n",
            "|          34907354|https://www.airbn...|Rental unit in Br...|246351353|https://www.airbn...|          Erica|2019-03-02|                t|                  1|                        8|  Prospect-Lefferts...|                    Brooklyn|          40.66289|         -73.95756|   Private room|           2| 1 shared bath|    null|   1|[\"Hot water\", \"Ha...| $68.00|             1|          1125|               t|               77|                   18|                     1|  2019-06-02| 2023-09-04|                4.73|                  4.82|                     4.73|                 4.79|                       4.87|                  4.75|               4.74|                             1|             1.48|\n",
            "|          18908638|https://www.airbn...|Townhouse in Broo...| 20438455|https://www.airbn...|          Jason|2014-08-23|                t|                  2|                        2|          Borough Park|                    Brooklyn|          40.63904|         -73.98103|   Private room|           1| 1 shared bath|    null|   1|[\"Hot water\", \"Ai...| $48.00|             2|            28|               t|              191|                   30|                     6|  2017-06-11| 2023-09-01|                4.87|                  4.87|                     4.91|                 4.94|                       4.93|                  4.63|               4.88|                             2|             2.52|\n",
            "|          18473439|https://www.airbn...|Townhouse in Broo...| 20438455|https://www.airbn...|          Jason|2014-08-23|                t|                  2|                        2|          Borough Park|                    Brooklyn|          40.63955|         -73.98251|   Private room|           1| 1 shared bath|    null|   1|[\"Hot water\", \"Ha...| $48.00|             2|            28|               t|              208|                   25|                     7|  2017-05-16| 2023-09-02|                4.86|                  4.88|                     4.88|                  4.9|                       4.92|                   4.6|               4.83|                             2|             2.71|\n",
            "+------------------+--------------------+--------------------+---------+--------------------+---------------+----------+-----------------+-------------------+-------------------------+----------------------+----------------------------+------------------+------------------+---------------+------------+--------------+--------+----+--------------------+-------+--------------+--------------+----------------+-----------------+---------------------+----------------------+------------+-----------+--------------------+----------------------+-------------------------+---------------------+---------------------------+----------------------+-------------------+------------------------------+-----------------+\n",
            "only showing top 20 rows\n",
            "\n"
          ]
        }
      ]
    },
    {
      "cell_type": "code",
      "source": [
        "from pyspark.sql import SparkSession\n"
      ],
      "metadata": {
        "id": "AOVxFH90I2FK"
      },
      "execution_count": 20,
      "outputs": []
    },
    {
      "cell_type": "code",
      "source": [
        "# Initialize Spark session\n",
        "spark = SparkSession.builder.appName(\"example\").getOrCreate()\n",
        "\n",
        "# Assuming you have a PySpark DataFrame named 'column_listings_df'\n",
        "# Drop rows with null values in the 'listing_id' column\n",
        "column_listings_df = column_listings_df.dropna(subset=['first_review'])\n",
        "\n",
        "# Show the DataFrame after dropping null values\n",
        "column_listings_df.show()"
      ],
      "metadata": {
        "colab": {
          "base_uri": "https://localhost:8080/"
        },
        "id": "1PguHgeNNu3p",
        "outputId": "2445367a-280d-4563-959b-b7c74f11845a"
      },
      "execution_count": 21,
      "outputs": [
        {
          "output_type": "stream",
          "name": "stdout",
          "text": [
            "+------------------+--------------------+--------------------+---------+--------------------+---------------+----------+-----------------+-------------------+-------------------------+----------------------+----------------------------+------------------+------------------+---------------+------------+--------------+--------+----+--------------------+-------+--------------+--------------+----------------+-----------------+---------------------+----------------------+------------+-----------+--------------------+----------------------+-------------------------+---------------------+---------------------------+----------------------+-------------------+------------------------------+-----------------+\n",
            "|        listing_id|         listing_url|                name|  host_id|            host_url|      host_name|host_since|host_is_superhost|host_listings_count|host_total_listings_count|neighbourhood_cleansed|neighbourhood_group_cleansed|          latitude|         longitude|      room_type|accommodates|bathrooms_text|bedrooms|beds|           amenities|  price|minimum_nights|maximum_nights|has_availability|number_of_reviews|number_of_reviews_ltm|number_of_reviews_l30d|first_review|last_review|review_scores_rating|review_scores_accuracy|review_scores_cleanliness|review_scores_checkin|review_scores_communication|review_scores_location|review_scores_value|calculated_host_listings_count|reviews_per_month|\n",
            "+------------------+--------------------+--------------------+---------+--------------------+---------------+----------+-----------------+-------------------+-------------------------+----------------------+----------------------------+------------------+------------------+---------------+------------+--------------+--------+----+--------------------+-------+--------------+--------------+----------------+-----------------+---------------------+----------------------+------------+-----------+--------------------+----------------------+-------------------------+---------------------+---------------------------+----------------------+-------------------+------------------------------+-----------------+\n",
            "|          52702018|https://www.airbn...|Rental unit in Qu...| 93231383|https://www.airbn...|         Daniel|2016-09-03|                t|                  3|                        3|         East Elmhurst|                      Queens|          40.76911|         -73.87053|Entire home/apt|           4|        1 bath|       1|   2|[\"Private entranc...|$171.00|             1|          1125|               t|              188|                   88|                     6|  2021-11-14| 2023-08-21|                 4.9|                  4.95|                      4.9|                 4.95|                       4.94|                  4.85|               4.87|                             3|             8.53|\n",
            "|784969376930125242|https://www.airbn...|Home in Queens · ...| 93231383|https://www.airbn...|         Daniel|2016-09-03|                t|                  3|                        3|         East Elmhurst|                      Queens|40.768175708747755|-73.87126330286264|Entire home/apt|           7|        1 bath|       3|   4|[\"Private entranc...|$311.00|            30|           365|               t|               38|                   38|                     1|  2022-12-25| 2023-08-15|                4.97|                  4.97|                     4.97|                 4.95|                       4.95|                  4.84|               4.87|                             3|             4.47|\n",
            "|           9919728|https://www.airbn...|Townhouse in Quee...| 50997424|https://www.airbn...|           Mark|2015-12-10|                f|                 10|                       10|        Middle Village|                      Queens|          40.71734|         -73.87805|Entire home/apt|          12|        1 bath|       3|   7|[\"Kitchen\", \"Drye...|$328.00|            30|          1125|               t|                8|                    0|                     0|  2016-04-01| 2020-02-18|                4.33|                  4.17|                     4.33|                 4.83|                       4.67|                  4.83|               4.33|                             7|             0.09|\n",
            "|          53696990|https://www.airbn...|Vacation home in ...| 50997424|https://www.airbn...|           Mark|2015-12-10|                f|                 10|                       10|        Middle Village|                      Queens|          40.71726|         -73.87628|Entire home/apt|           4|        1 bath|    null|   2|[\"Kitchen\", \"Refr...|$139.00|            30|           365|               t|                1|                    1|                     0|  2022-09-16| 2022-09-16|                 4.0|                   4.0|                      3.0|                  5.0|                        4.0|                   5.0|                3.0|                             7|             0.08|\n",
            "|           9920363|https://www.airbn...|Townhouse in Quee...| 50997424|https://www.airbn...|           Mark|2015-12-10|                f|                 10|                       10|             Ridgewood|                      Queens|          40.70465|         -73.89909|Entire home/apt|          16|     2.5 baths|       5|  11|[\"Hot water\", \"Ai...|$485.00|            30|          1125|               t|                8|                    0|                     0|  2016-05-08| 2020-01-01|                4.25|                  4.25|                     3.75|                 4.75|                        4.0|                  4.75|                4.5|                             7|             0.09|\n",
            "|556960737995069310|https://www.airbn...|Rental unit in Qu...| 50997424|https://www.airbn...|           Mark|2015-12-10|                f|                 10|                       10|             Ridgewood|                      Queens|          40.70317|         -73.89949|Entire home/apt|           6|        1 bath|       2|   4|[\"Air conditionin...|$242.00|            30|           365|               t|                3|                    3|                     0|  2022-10-06| 2023-04-24|                 5.0|                   5.0|                     4.33|                  5.0|                        5.0|                  4.67|               4.67|                             7|             0.27|\n",
            "|          54395062|https://www.airbn...|Vacation home in ...| 50997424|https://www.airbn...|           Mark|2015-12-10|                f|                 10|                       10|             Ridgewood|                      Queens|          40.70453|         -73.89898|Entire home/apt|           6|        1 bath|       2|   4|[\"Air conditionin...|$245.00|            30|           365|               t|                3|                    2|                     1|  2022-08-14| 2023-08-20|                4.67|                  4.67|                     4.67|                  5.0|                        5.0|                   5.0|               4.33|                             7|             0.23|\n",
            "|          40322951|https://www.airbn...|Home in Brooklyn ...|297311545|https://www.airbn...|        Uchenna|2019-09-23|                f|                  3|                        4|         East Flatbush|                    Brooklyn|          40.65409|         -73.94569|   Private room|           1| 1 shared bath|    null|   1|[\"Private entranc...| $43.00|            30|           120|               t|                6|                    0|                     0|  2020-01-03| 2022-05-06|                4.67|                  4.67|                     4.33|                 4.67|                       4.67|                   4.5|               4.33|                             3|             0.13|\n",
            "|          40195034|https://www.airbn...|Home in Brooklyn ...|297311545|https://www.airbn...|        Uchenna|2019-09-23|                f|                  3|                        4|         East Flatbush|                    Brooklyn|          40.65229|         -73.94556|   Private room|           1|1 private bath|    null|   1|[\"Private entranc...| $49.00|            30|           120|               t|                4|                    0|                     0|  2020-01-02| 2022-03-03|                3.75|                   4.0|                      3.5|                  4.0|                        4.0|                   4.0|               3.75|                             3|             0.09|\n",
            "|          39898950|https://www.airbn...|Home in Brooklyn ...|297311545|https://www.airbn...|        Uchenna|2019-09-23|                f|                  3|                        4|         East Flatbush|                    Brooklyn|          40.65248|         -73.94584|   Private room|           1|     1.5 baths|    null|   1|[\"Private entranc...| $45.00|            30|           120|               t|                8|                    0|                     0|  2020-01-13| 2021-10-26|                3.63|                   4.0|                     3.25|                 4.38|                       4.25|                  4.13|               3.63|                             3|             0.18|\n",
            "|          31717837|https://www.airbn...|Home in Brooklyn ...|234174616|https://www.airbn...|          Onika|2019-01-03|                f|                  1|                        1|         East New York|                    Brooklyn|           40.6716|         -73.88797|Entire home/apt|           2|        1 bath|       2|   3|[\"Private entranc...|$110.00|            30|            60|               t|                7|                    0|                     0|  2019-10-31| 2022-09-01|                 5.0|                   5.0|                      5.0|                  5.0|                        5.0|                  4.86|                5.0|                             1|             0.15|\n",
            "|823518066022552352|https://www.airbn...|Rental unit in Qu...|500407084|https://www.airbn...|       Giuseppe|2023-02-10|                t|                  1|                        1|            Ozone Park|                      Queens| 40.67227235266577|-73.84795230422972|Entire home/apt|           3|        1 bath|       1|   1|[\"Paid dryer \\u20...|$129.00|             1|           365|               t|               54|                   54|                     3|  2023-02-15| 2023-08-31|                4.94|                  4.93|                     4.87|                 4.91|                       4.96|                  4.69|               4.87|                             1|             7.98|\n",
            "|722463449063098611|https://www.airbn...|Home in Queens · ...|141645843|https://www.airbn...|G'S Vacay Spots|2017-07-21|                f|                  2|                        9|               Jamaica|                      Queens|        40.6820373|       -73.7968162|   Private room|           4| 1 shared bath|    null|   1|[\"Hot water\", \"Sh...|$110.00|             1|           365|               t|               25|                   25|                     0|  2022-10-02| 2023-07-12|                4.88|                   4.8|                     4.72|                 4.96|                       4.96|                  4.88|                4.8|                             2|             2.21|\n",
            "|          33102485|https://www.airbn...|Home in Jamaica ·...|141645843|https://www.airbn...|G'S Vacay Spots|2017-07-21|                f|                  2|                        9|               Jamaica|                      Queens|         40.682037|        -73.796814|   Private room|           3| 1 shared bath|       1|   1|[\"Hot water\", \"Sh...| $84.00|             1|          1125|               t|              114|                   42|                     0|  2019-03-31| 2023-07-23|                4.64|                  4.66|                     4.51|                 4.82|                       4.78|                  4.64|               4.54|                             2|             2.11|\n",
            "|          34907354|https://www.airbn...|Rental unit in Br...|246351353|https://www.airbn...|          Erica|2019-03-02|                t|                  1|                        8|  Prospect-Lefferts...|                    Brooklyn|          40.66289|         -73.95756|   Private room|           2| 1 shared bath|    null|   1|[\"Hot water\", \"Ha...| $68.00|             1|          1125|               t|               77|                   18|                     1|  2019-06-02| 2023-09-04|                4.73|                  4.82|                     4.73|                 4.79|                       4.87|                  4.75|               4.74|                             1|             1.48|\n",
            "|          18908638|https://www.airbn...|Townhouse in Broo...| 20438455|https://www.airbn...|          Jason|2014-08-23|                t|                  2|                        2|          Borough Park|                    Brooklyn|          40.63904|         -73.98103|   Private room|           1| 1 shared bath|    null|   1|[\"Hot water\", \"Ai...| $48.00|             2|            28|               t|              191|                   30|                     6|  2017-06-11| 2023-09-01|                4.87|                  4.87|                     4.91|                 4.94|                       4.93|                  4.63|               4.88|                             2|             2.52|\n",
            "|          18473439|https://www.airbn...|Townhouse in Broo...| 20438455|https://www.airbn...|          Jason|2014-08-23|                t|                  2|                        2|          Borough Park|                    Brooklyn|          40.63955|         -73.98251|   Private room|           1| 1 shared bath|    null|   1|[\"Hot water\", \"Ha...| $48.00|             2|            28|               t|              208|                   25|                     7|  2017-05-16| 2023-09-02|                4.86|                  4.88|                     4.88|                  4.9|                       4.92|                   4.6|               4.83|                             2|             2.71|\n",
            "|539865017663194156|https://www.airbn...|casa particular i...|413243090|https://www.airbn...|         Amalia|2021-07-16|                t|                  4|                        4|         Cypress Hills|                    Brooklyn|          40.68713|         -73.87454|   Private room|           2|        1 bath|    null|   2|[\"Private entranc...|$163.00|             5|          1125|               t|               23|                   15|                     0|  2022-03-21| 2023-08-05|                4.91|                  4.91|                     4.96|                 4.91|                       4.96|                   4.7|               4.83|                             4|             1.29|\n",
            "|          51939606|https://www.airbn...|casa particular i...|413243090|https://www.airbn...|         Amalia|2021-07-16|                t|                  4|                        4|         Cypress Hills|                    Brooklyn|          40.68711|         -73.87407|   Private room|           2|1 private bath|    null|   2|[\"Private entranc...|$166.00|             5|           365|               t|               33|                   16|                     0|  2021-09-06| 2023-06-09|                4.88|                  4.91|                     4.88|                 4.88|                       4.91|                  4.18|               4.82|                             4|             1.36|\n",
            "|539084025529334382|https://www.airbn...|casa particular i...|413243090|https://www.airbn...|         Amalia|2021-07-16|                t|                  4|                        4|         Cypress Hills|                    Brooklyn|          40.68585|          -73.8725|   Private room|           2|        1 bath|    null|   2|[\"Private entranc...|$163.00|             5|          1125|               t|               11|                    8|                     1|  2022-01-25| 2023-08-11|                4.73|                   5.0|                     4.64|                 4.73|                       4.73|                  4.27|               4.45|                             4|             0.56|\n",
            "+------------------+--------------------+--------------------+---------+--------------------+---------------+----------+-----------------+-------------------+-------------------------+----------------------+----------------------------+------------------+------------------+---------------+------------+--------------+--------+----+--------------------+-------+--------------+--------------+----------------+-----------------+---------------------+----------------------+------------+-----------+--------------------+----------------------+-------------------------+---------------------+---------------------------+----------------------+-------------------+------------------------------+-----------------+\n",
            "only showing top 20 rows\n",
            "\n"
          ]
        }
      ]
    },
    {
      "cell_type": "code",
      "source": [
        "column_listings_df.count()"
      ],
      "metadata": {
        "colab": {
          "base_uri": "https://localhost:8080/"
        },
        "id": "JeV3RhSbkU_V",
        "outputId": "3d90b902-b8fe-4763-de2a-bdf20606b935"
      },
      "execution_count": 22,
      "outputs": [
        {
          "output_type": "execute_result",
          "data": {
            "text/plain": [
              "27708"
            ]
          },
          "metadata": {},
          "execution_count": 22
        }
      ]
    },
    {
      "cell_type": "code",
      "source": [
        "column_reviews_df = column_reviews_df.dropna(subset=['comments'])\n",
        "column_reviews_df.show()"
      ],
      "metadata": {
        "id": "6syDta0XSTg9",
        "outputId": "6c686020-0475-46b5-8467-032a0b36c041",
        "colab": {
          "base_uri": "https://localhost:8080/"
        }
      },
      "execution_count": 23,
      "outputs": [
        {
          "output_type": "stream",
          "name": "stdout",
          "text": [
            "+----------+--------+----------+-----------+-------------+--------------------+\n",
            "|listing_id|      id|      date|reviewer_id|reviewer_name|            comments|\n",
            "+----------+--------+----------+-----------+-------------+--------------------+\n",
            "|      2595|   17857|2009-11-21|      50679|         Jean|Notre séjour de t...|\n",
            "|      2595|   19176|2009-12-05|      53267|         Cate|   Great experience.|\n",
            "|      2595|   19760|2009-12-10|      38960|        Anita|I've stayed with ...|\n",
            "|      2595|   34320|2010-04-09|      71130|      Kai-Uwe|We've been stayin...|\n",
            "|      2595|   46312|2010-05-25|     117113|       Alicia|We had a wonderfu...|\n",
            "|      2595| 1238204|2012-05-07|    1783688|       Sergey|Hi to everyone!\\r...|\n",
            "|      2595| 1293632|2012-05-17|    1870771|         Loïc|Jennifer was very...|\n",
            "|      2595| 2022498|2012-08-18|    2124102|      Melanie|This apartment is...|\n",
            "|      2595| 4682989|2013-05-20|     496053|         Eric|Jennifer's place ...|\n",
            "|      2595|13193832|2014-05-21|   13685934|       Gerald|Jennifer is a ver...|\n",
            "|      2595|15515108|2014-07-10|   10781357|      Richard|This is a cute st...|\n",
            "|      2595|20372242|2014-09-28|    4212558|       Carson|A great location,...|\n",
            "|      2595|20937971|2014-10-07|   13460520|      Michael|Jennifer's place ...|\n",
            "|      2595|21464102|2014-10-18|   16584002|        Kitty|We hebben genoten...|\n",
            "|      2595|28794060|2015-03-30|   27436102|       Kellie|Jennifer was very...|\n",
            "|      2595|30430122|2015-04-21|    6429364|        Sonya|I love this space...|\n",
            "|      2595|32532759|2015-05-19|   12146524|      Michiel|This was our firs...|\n",
            "|      2595|47785650|2015-09-21|   12885233|          Lin|Great location, i...|\n",
            "|      2595|48764464|2015-09-28|   18636130|         Alex|Jennifer was with...|\n",
            "|      2595|69547296|2016-04-11|   16512817|         Gary|Jennifer was an u...|\n",
            "+----------+--------+----------+-----------+-------------+--------------------+\n",
            "only showing top 20 rows\n",
            "\n"
          ]
        }
      ]
    },
    {
      "cell_type": "code",
      "source": [
        "column_reviews_df.count()"
      ],
      "metadata": {
        "colab": {
          "base_uri": "https://localhost:8080/"
        },
        "id": "two7FwS9cvXD",
        "outputId": "b4e37985-9313-43cf-d5fc-67a5463d2e97"
      },
      "execution_count": 24,
      "outputs": [
        {
          "output_type": "execute_result",
          "data": {
            "text/plain": [
              "1019573"
            ]
          },
          "metadata": {},
          "execution_count": 24
        }
      ]
    },
    {
      "cell_type": "markdown",
      "source": [
        "# Clean lists of amenities"
      ],
      "metadata": {
        "id": "JxIbdSBodYL_"
      }
    },
    {
      "cell_type": "code",
      "source": [
        "from pyspark.sql import SparkSession\n",
        "from pyspark.sql.functions import udf\n",
        "from pyspark.sql.types import StringType\n",
        "import json\n",
        "\n",
        "# Initialize a Spark session\n",
        "spark = SparkSession.builder.appName(\"DataFrameCleanAmenities\").getOrCreate()\n",
        "\n",
        "# Assuming you have a PySpark DataFrame named 'cleaned_joined_df'\n",
        "amenities_replaced_df = column_listings_df.select('*')\n",
        "\n",
        "# List of amenity names to search for and replace\n",
        "amenities_to_replace = [\"Wifi\", \"TV\", \"Oven\", \"Stove\", \"Soap\", \"Shampoo\", \"Conditioner\", \"Sound system\", \"Refrigerator\", \"Backyard\", \"Patio\", \"BBQ grill\",\n",
        "                        \"Free parking\", \"Paid parking\", \"Free street parking\", \"Paid street parking\"]"
      ],
      "metadata": {
        "id": "Fs1Re9CBb_h8"
      },
      "execution_count": 25,
      "outputs": []
    },
    {
      "cell_type": "code",
      "source": [
        "# Define a UDF to perform the amenities replacement\n",
        "def replace_amenities(amenities):\n",
        "    amenities_list = json.loads(amenities)\n",
        "    for i, amenity in enumerate(amenities_list):\n",
        "        for amenity_to_replace in amenities_to_replace:\n",
        "            if amenity_to_replace.lower() in amenity.lower():\n",
        "                amenities_list[i] = amenity_to_replace\n",
        "    return json.dumps(amenities_list)\n",
        "\n",
        "# Register the UDF\n",
        "replace_amenities_udf = udf(replace_amenities, StringType())\n",
        "\n",
        "# Apply the UDF to replace amenities\n",
        "amenities_replaced_df = amenities_replaced_df.withColumn('amenities', replace_amenities_udf('amenities'))\n",
        "\n",
        "# Print or display the modified DataFrame\n",
        "amenities_replaced_df.show()"
      ],
      "metadata": {
        "colab": {
          "base_uri": "https://localhost:8080/"
        },
        "id": "xqUW6GEKcpMt",
        "outputId": "58949238-724c-4673-b1d8-3290f2ed9f45"
      },
      "execution_count": 26,
      "outputs": [
        {
          "output_type": "stream",
          "name": "stdout",
          "text": [
            "+------------------+--------------------+--------------------+---------+--------------------+---------------+----------+-----------------+-------------------+-------------------------+----------------------+----------------------------+------------------+------------------+---------------+------------+--------------+--------+----+--------------------+-------+--------------+--------------+----------------+-----------------+---------------------+----------------------+------------+-----------+--------------------+----------------------+-------------------------+---------------------+---------------------------+----------------------+-------------------+------------------------------+-----------------+\n",
            "|        listing_id|         listing_url|                name|  host_id|            host_url|      host_name|host_since|host_is_superhost|host_listings_count|host_total_listings_count|neighbourhood_cleansed|neighbourhood_group_cleansed|          latitude|         longitude|      room_type|accommodates|bathrooms_text|bedrooms|beds|           amenities|  price|minimum_nights|maximum_nights|has_availability|number_of_reviews|number_of_reviews_ltm|number_of_reviews_l30d|first_review|last_review|review_scores_rating|review_scores_accuracy|review_scores_cleanliness|review_scores_checkin|review_scores_communication|review_scores_location|review_scores_value|calculated_host_listings_count|reviews_per_month|\n",
            "+------------------+--------------------+--------------------+---------+--------------------+---------------+----------+-----------------+-------------------+-------------------------+----------------------+----------------------------+------------------+------------------+---------------+------------+--------------+--------+----+--------------------+-------+--------------+--------------+----------------+-----------------+---------------------+----------------------+------------+-----------+--------------------+----------------------+-------------------------+---------------------+---------------------------+----------------------+-------------------+------------------------------+-----------------+\n",
            "|          52702018|https://www.airbn...|Rental unit in Qu...| 93231383|https://www.airbn...|         Daniel|2016-09-03|                t|                  3|                        3|         East Elmhurst|                      Queens|          40.76911|         -73.87053|Entire home/apt|           4|        1 bath|       1|   2|[\"Private entranc...|$171.00|             1|          1125|               t|              188|                   88|                     6|  2021-11-14| 2023-08-21|                 4.9|                  4.95|                      4.9|                 4.95|                       4.94|                  4.85|               4.87|                             3|             8.53|\n",
            "|784969376930125242|https://www.airbn...|Home in Queens · ...| 93231383|https://www.airbn...|         Daniel|2016-09-03|                t|                  3|                        3|         East Elmhurst|                      Queens|40.768175708747755|-73.87126330286264|Entire home/apt|           7|        1 bath|       3|   4|[\"Private entranc...|$311.00|            30|           365|               t|               38|                   38|                     1|  2022-12-25| 2023-08-15|                4.97|                  4.97|                     4.97|                 4.95|                       4.95|                  4.84|               4.87|                             3|             4.47|\n",
            "|           9919728|https://www.airbn...|Townhouse in Quee...| 50997424|https://www.airbn...|           Mark|2015-12-10|                f|                 10|                       10|        Middle Village|                      Queens|          40.71734|         -73.87805|Entire home/apt|          12|        1 bath|       3|   7|[\"Kitchen\", \"Drye...|$328.00|            30|          1125|               t|                8|                    0|                     0|  2016-04-01| 2020-02-18|                4.33|                  4.17|                     4.33|                 4.83|                       4.67|                  4.83|               4.33|                             7|             0.09|\n",
            "|          53696990|https://www.airbn...|Vacation home in ...| 50997424|https://www.airbn...|           Mark|2015-12-10|                f|                 10|                       10|        Middle Village|                      Queens|          40.71726|         -73.87628|Entire home/apt|           4|        1 bath|    null|   2|[\"Kitchen\", \"Refr...|$139.00|            30|           365|               t|                1|                    1|                     0|  2022-09-16| 2022-09-16|                 4.0|                   4.0|                      3.0|                  5.0|                        4.0|                   5.0|                3.0|                             7|             0.08|\n",
            "|           9920363|https://www.airbn...|Townhouse in Quee...| 50997424|https://www.airbn...|           Mark|2015-12-10|                f|                 10|                       10|             Ridgewood|                      Queens|          40.70465|         -73.89909|Entire home/apt|          16|     2.5 baths|       5|  11|[\"Hot water\", \"Ai...|$485.00|            30|          1125|               t|                8|                    0|                     0|  2016-05-08| 2020-01-01|                4.25|                  4.25|                     3.75|                 4.75|                        4.0|                  4.75|                4.5|                             7|             0.09|\n",
            "|556960737995069310|https://www.airbn...|Rental unit in Qu...| 50997424|https://www.airbn...|           Mark|2015-12-10|                f|                 10|                       10|             Ridgewood|                      Queens|          40.70317|         -73.89949|Entire home/apt|           6|        1 bath|       2|   4|[\"Air conditionin...|$242.00|            30|           365|               t|                3|                    3|                     0|  2022-10-06| 2023-04-24|                 5.0|                   5.0|                     4.33|                  5.0|                        5.0|                  4.67|               4.67|                             7|             0.27|\n",
            "|          54395062|https://www.airbn...|Vacation home in ...| 50997424|https://www.airbn...|           Mark|2015-12-10|                f|                 10|                       10|             Ridgewood|                      Queens|          40.70453|         -73.89898|Entire home/apt|           6|        1 bath|       2|   4|[\"Air conditionin...|$245.00|            30|           365|               t|                3|                    2|                     1|  2022-08-14| 2023-08-20|                4.67|                  4.67|                     4.67|                  5.0|                        5.0|                   5.0|               4.33|                             7|             0.23|\n",
            "|          40322951|https://www.airbn...|Home in Brooklyn ...|297311545|https://www.airbn...|        Uchenna|2019-09-23|                f|                  3|                        4|         East Flatbush|                    Brooklyn|          40.65409|         -73.94569|   Private room|           1| 1 shared bath|    null|   1|[\"Private entranc...| $43.00|            30|           120|               t|                6|                    0|                     0|  2020-01-03| 2022-05-06|                4.67|                  4.67|                     4.33|                 4.67|                       4.67|                   4.5|               4.33|                             3|             0.13|\n",
            "|          40195034|https://www.airbn...|Home in Brooklyn ...|297311545|https://www.airbn...|        Uchenna|2019-09-23|                f|                  3|                        4|         East Flatbush|                    Brooklyn|          40.65229|         -73.94556|   Private room|           1|1 private bath|    null|   1|[\"Private entranc...| $49.00|            30|           120|               t|                4|                    0|                     0|  2020-01-02| 2022-03-03|                3.75|                   4.0|                      3.5|                  4.0|                        4.0|                   4.0|               3.75|                             3|             0.09|\n",
            "|          39898950|https://www.airbn...|Home in Brooklyn ...|297311545|https://www.airbn...|        Uchenna|2019-09-23|                f|                  3|                        4|         East Flatbush|                    Brooklyn|          40.65248|         -73.94584|   Private room|           1|     1.5 baths|    null|   1|[\"Private entranc...| $45.00|            30|           120|               t|                8|                    0|                     0|  2020-01-13| 2021-10-26|                3.63|                   4.0|                     3.25|                 4.38|                       4.25|                  4.13|               3.63|                             3|             0.18|\n",
            "|          31717837|https://www.airbn...|Home in Brooklyn ...|234174616|https://www.airbn...|          Onika|2019-01-03|                f|                  1|                        1|         East New York|                    Brooklyn|           40.6716|         -73.88797|Entire home/apt|           2|        1 bath|       2|   3|[\"Private entranc...|$110.00|            30|            60|               t|                7|                    0|                     0|  2019-10-31| 2022-09-01|                 5.0|                   5.0|                      5.0|                  5.0|                        5.0|                  4.86|                5.0|                             1|             0.15|\n",
            "|823518066022552352|https://www.airbn...|Rental unit in Qu...|500407084|https://www.airbn...|       Giuseppe|2023-02-10|                t|                  1|                        1|            Ozone Park|                      Queens| 40.67227235266577|-73.84795230422972|Entire home/apt|           3|        1 bath|       1|   1|[\"Paid dryer \\u20...|$129.00|             1|           365|               t|               54|                   54|                     3|  2023-02-15| 2023-08-31|                4.94|                  4.93|                     4.87|                 4.91|                       4.96|                  4.69|               4.87|                             1|             7.98|\n",
            "|722463449063098611|https://www.airbn...|Home in Queens · ...|141645843|https://www.airbn...|G'S Vacay Spots|2017-07-21|                f|                  2|                        9|               Jamaica|                      Queens|        40.6820373|       -73.7968162|   Private room|           4| 1 shared bath|    null|   1|[\"Hot water\", \"Sh...|$110.00|             1|           365|               t|               25|                   25|                     0|  2022-10-02| 2023-07-12|                4.88|                   4.8|                     4.72|                 4.96|                       4.96|                  4.88|                4.8|                             2|             2.21|\n",
            "|          33102485|https://www.airbn...|Home in Jamaica ·...|141645843|https://www.airbn...|G'S Vacay Spots|2017-07-21|                f|                  2|                        9|               Jamaica|                      Queens|         40.682037|        -73.796814|   Private room|           3| 1 shared bath|       1|   1|[\"Hot water\", \"Sh...| $84.00|             1|          1125|               t|              114|                   42|                     0|  2019-03-31| 2023-07-23|                4.64|                  4.66|                     4.51|                 4.82|                       4.78|                  4.64|               4.54|                             2|             2.11|\n",
            "|          34907354|https://www.airbn...|Rental unit in Br...|246351353|https://www.airbn...|          Erica|2019-03-02|                t|                  1|                        8|  Prospect-Lefferts...|                    Brooklyn|          40.66289|         -73.95756|   Private room|           2| 1 shared bath|    null|   1|[\"Hot water\", \"Ha...| $68.00|             1|          1125|               t|               77|                   18|                     1|  2019-06-02| 2023-09-04|                4.73|                  4.82|                     4.73|                 4.79|                       4.87|                  4.75|               4.74|                             1|             1.48|\n",
            "|          18908638|https://www.airbn...|Townhouse in Broo...| 20438455|https://www.airbn...|          Jason|2014-08-23|                t|                  2|                        2|          Borough Park|                    Brooklyn|          40.63904|         -73.98103|   Private room|           1| 1 shared bath|    null|   1|[\"Hot water\", \"Ai...| $48.00|             2|            28|               t|              191|                   30|                     6|  2017-06-11| 2023-09-01|                4.87|                  4.87|                     4.91|                 4.94|                       4.93|                  4.63|               4.88|                             2|             2.52|\n",
            "|          18473439|https://www.airbn...|Townhouse in Broo...| 20438455|https://www.airbn...|          Jason|2014-08-23|                t|                  2|                        2|          Borough Park|                    Brooklyn|          40.63955|         -73.98251|   Private room|           1| 1 shared bath|    null|   1|[\"Hot water\", \"Ha...| $48.00|             2|            28|               t|              208|                   25|                     7|  2017-05-16| 2023-09-02|                4.86|                  4.88|                     4.88|                  4.9|                       4.92|                   4.6|               4.83|                             2|             2.71|\n",
            "|539865017663194156|https://www.airbn...|casa particular i...|413243090|https://www.airbn...|         Amalia|2021-07-16|                t|                  4|                        4|         Cypress Hills|                    Brooklyn|          40.68713|         -73.87454|   Private room|           2|        1 bath|    null|   2|[\"Private entranc...|$163.00|             5|          1125|               t|               23|                   15|                     0|  2022-03-21| 2023-08-05|                4.91|                  4.91|                     4.96|                 4.91|                       4.96|                   4.7|               4.83|                             4|             1.29|\n",
            "|          51939606|https://www.airbn...|casa particular i...|413243090|https://www.airbn...|         Amalia|2021-07-16|                t|                  4|                        4|         Cypress Hills|                    Brooklyn|          40.68711|         -73.87407|   Private room|           2|1 private bath|    null|   2|[\"Private entranc...|$166.00|             5|           365|               t|               33|                   16|                     0|  2021-09-06| 2023-06-09|                4.88|                  4.91|                     4.88|                 4.88|                       4.91|                  4.18|               4.82|                             4|             1.36|\n",
            "|539084025529334382|https://www.airbn...|casa particular i...|413243090|https://www.airbn...|         Amalia|2021-07-16|                t|                  4|                        4|         Cypress Hills|                    Brooklyn|          40.68585|          -73.8725|   Private room|           2|        1 bath|    null|   2|[\"Private entranc...|$163.00|             5|          1125|               t|               11|                    8|                     1|  2022-01-25| 2023-08-11|                4.73|                   5.0|                     4.64|                 4.73|                       4.73|                  4.27|               4.45|                             4|             0.56|\n",
            "+------------------+--------------------+--------------------+---------+--------------------+---------------+----------+-----------------+-------------------+-------------------------+----------------------+----------------------------+------------------+------------------+---------------+------------+--------------+--------+----+--------------------+-------+--------------+--------------+----------------+-----------------+---------------------+----------------------+------------+-----------+--------------------+----------------------+-------------------------+---------------------+---------------------------+----------------------+-------------------+------------------------------+-----------------+\n",
            "only showing top 20 rows\n",
            "\n"
          ]
        }
      ]
    },
    {
      "cell_type": "code",
      "source": [
        "# Define the string to find and the string to replace it with\n",
        "string_to_find = \"AC \"\n",
        "replacement_string = \"Air conditioning\"\n",
        "\n",
        "# Define a UDF to perform the string replacement\n",
        "def replace_string(amenities):\n",
        "    amenities_list = json.loads(amenities)\n",
        "    for i, amenity in enumerate(amenities_list):\n",
        "        if string_to_find.lower() in amenity.lower():\n",
        "            amenities_list[i] = replacement_string\n",
        "    return json.dumps(amenities_list)\n",
        "\n",
        "# Register the UDF\n",
        "replace_string_udf = udf(replace_string, StringType())\n",
        "\n",
        "# Apply the UDF to replace strings\n",
        "amenities_replaced_df = amenities_replaced_df.withColumn('amenities', replace_string_udf('amenities'))\n",
        "\n",
        "# Print or display the modified DataFrame\n",
        "amenities_replaced_df.show()"
      ],
      "metadata": {
        "colab": {
          "base_uri": "https://localhost:8080/"
        },
        "id": "5MjBTuDdcs83",
        "outputId": "b5d09e0b-4be1-44d2-ccbf-7e60954a91c9"
      },
      "execution_count": 27,
      "outputs": [
        {
          "output_type": "stream",
          "name": "stdout",
          "text": [
            "+------------------+--------------------+--------------------+---------+--------------------+---------------+----------+-----------------+-------------------+-------------------------+----------------------+----------------------------+------------------+------------------+---------------+------------+--------------+--------+----+--------------------+-------+--------------+--------------+----------------+-----------------+---------------------+----------------------+------------+-----------+--------------------+----------------------+-------------------------+---------------------+---------------------------+----------------------+-------------------+------------------------------+-----------------+\n",
            "|        listing_id|         listing_url|                name|  host_id|            host_url|      host_name|host_since|host_is_superhost|host_listings_count|host_total_listings_count|neighbourhood_cleansed|neighbourhood_group_cleansed|          latitude|         longitude|      room_type|accommodates|bathrooms_text|bedrooms|beds|           amenities|  price|minimum_nights|maximum_nights|has_availability|number_of_reviews|number_of_reviews_ltm|number_of_reviews_l30d|first_review|last_review|review_scores_rating|review_scores_accuracy|review_scores_cleanliness|review_scores_checkin|review_scores_communication|review_scores_location|review_scores_value|calculated_host_listings_count|reviews_per_month|\n",
            "+------------------+--------------------+--------------------+---------+--------------------+---------------+----------+-----------------+-------------------+-------------------------+----------------------+----------------------------+------------------+------------------+---------------+------------+--------------+--------+----+--------------------+-------+--------------+--------------+----------------+-----------------+---------------------+----------------------+------------+-----------+--------------------+----------------------+-------------------------+---------------------+---------------------------+----------------------+-------------------+------------------------------+-----------------+\n",
            "|          52702018|https://www.airbn...|Rental unit in Qu...| 93231383|https://www.airbn...|         Daniel|2016-09-03|                t|                  3|                        3|         East Elmhurst|                      Queens|          40.76911|         -73.87053|Entire home/apt|           4|        1 bath|       1|   2|[\"Private entranc...|$171.00|             1|          1125|               t|              188|                   88|                     6|  2021-11-14| 2023-08-21|                 4.9|                  4.95|                      4.9|                 4.95|                       4.94|                  4.85|               4.87|                             3|             8.53|\n",
            "|784969376930125242|https://www.airbn...|Home in Queens · ...| 93231383|https://www.airbn...|         Daniel|2016-09-03|                t|                  3|                        3|         East Elmhurst|                      Queens|40.768175708747755|-73.87126330286264|Entire home/apt|           7|        1 bath|       3|   4|[\"Private entranc...|$311.00|            30|           365|               t|               38|                   38|                     1|  2022-12-25| 2023-08-15|                4.97|                  4.97|                     4.97|                 4.95|                       4.95|                  4.84|               4.87|                             3|             4.47|\n",
            "|           9919728|https://www.airbn...|Townhouse in Quee...| 50997424|https://www.airbn...|           Mark|2015-12-10|                f|                 10|                       10|        Middle Village|                      Queens|          40.71734|         -73.87805|Entire home/apt|          12|        1 bath|       3|   7|[\"Kitchen\", \"Drye...|$328.00|            30|          1125|               t|                8|                    0|                     0|  2016-04-01| 2020-02-18|                4.33|                  4.17|                     4.33|                 4.83|                       4.67|                  4.83|               4.33|                             7|             0.09|\n",
            "|          53696990|https://www.airbn...|Vacation home in ...| 50997424|https://www.airbn...|           Mark|2015-12-10|                f|                 10|                       10|        Middle Village|                      Queens|          40.71726|         -73.87628|Entire home/apt|           4|        1 bath|    null|   2|[\"Kitchen\", \"Refr...|$139.00|            30|           365|               t|                1|                    1|                     0|  2022-09-16| 2022-09-16|                 4.0|                   4.0|                      3.0|                  5.0|                        4.0|                   5.0|                3.0|                             7|             0.08|\n",
            "|           9920363|https://www.airbn...|Townhouse in Quee...| 50997424|https://www.airbn...|           Mark|2015-12-10|                f|                 10|                       10|             Ridgewood|                      Queens|          40.70465|         -73.89909|Entire home/apt|          16|     2.5 baths|       5|  11|[\"Hot water\", \"Ai...|$485.00|            30|          1125|               t|                8|                    0|                     0|  2016-05-08| 2020-01-01|                4.25|                  4.25|                     3.75|                 4.75|                        4.0|                  4.75|                4.5|                             7|             0.09|\n",
            "|556960737995069310|https://www.airbn...|Rental unit in Qu...| 50997424|https://www.airbn...|           Mark|2015-12-10|                f|                 10|                       10|             Ridgewood|                      Queens|          40.70317|         -73.89949|Entire home/apt|           6|        1 bath|       2|   4|[\"Air conditionin...|$242.00|            30|           365|               t|                3|                    3|                     0|  2022-10-06| 2023-04-24|                 5.0|                   5.0|                     4.33|                  5.0|                        5.0|                  4.67|               4.67|                             7|             0.27|\n",
            "|          54395062|https://www.airbn...|Vacation home in ...| 50997424|https://www.airbn...|           Mark|2015-12-10|                f|                 10|                       10|             Ridgewood|                      Queens|          40.70453|         -73.89898|Entire home/apt|           6|        1 bath|       2|   4|[\"Air conditionin...|$245.00|            30|           365|               t|                3|                    2|                     1|  2022-08-14| 2023-08-20|                4.67|                  4.67|                     4.67|                  5.0|                        5.0|                   5.0|               4.33|                             7|             0.23|\n",
            "|          40322951|https://www.airbn...|Home in Brooklyn ...|297311545|https://www.airbn...|        Uchenna|2019-09-23|                f|                  3|                        4|         East Flatbush|                    Brooklyn|          40.65409|         -73.94569|   Private room|           1| 1 shared bath|    null|   1|[\"Private entranc...| $43.00|            30|           120|               t|                6|                    0|                     0|  2020-01-03| 2022-05-06|                4.67|                  4.67|                     4.33|                 4.67|                       4.67|                   4.5|               4.33|                             3|             0.13|\n",
            "|          40195034|https://www.airbn...|Home in Brooklyn ...|297311545|https://www.airbn...|        Uchenna|2019-09-23|                f|                  3|                        4|         East Flatbush|                    Brooklyn|          40.65229|         -73.94556|   Private room|           1|1 private bath|    null|   1|[\"Private entranc...| $49.00|            30|           120|               t|                4|                    0|                     0|  2020-01-02| 2022-03-03|                3.75|                   4.0|                      3.5|                  4.0|                        4.0|                   4.0|               3.75|                             3|             0.09|\n",
            "|          39898950|https://www.airbn...|Home in Brooklyn ...|297311545|https://www.airbn...|        Uchenna|2019-09-23|                f|                  3|                        4|         East Flatbush|                    Brooklyn|          40.65248|         -73.94584|   Private room|           1|     1.5 baths|    null|   1|[\"Private entranc...| $45.00|            30|           120|               t|                8|                    0|                     0|  2020-01-13| 2021-10-26|                3.63|                   4.0|                     3.25|                 4.38|                       4.25|                  4.13|               3.63|                             3|             0.18|\n",
            "|          31717837|https://www.airbn...|Home in Brooklyn ...|234174616|https://www.airbn...|          Onika|2019-01-03|                f|                  1|                        1|         East New York|                    Brooklyn|           40.6716|         -73.88797|Entire home/apt|           2|        1 bath|       2|   3|[\"Private entranc...|$110.00|            30|            60|               t|                7|                    0|                     0|  2019-10-31| 2022-09-01|                 5.0|                   5.0|                      5.0|                  5.0|                        5.0|                  4.86|                5.0|                             1|             0.15|\n",
            "|823518066022552352|https://www.airbn...|Rental unit in Qu...|500407084|https://www.airbn...|       Giuseppe|2023-02-10|                t|                  1|                        1|            Ozone Park|                      Queens| 40.67227235266577|-73.84795230422972|Entire home/apt|           3|        1 bath|       1|   1|[\"Paid dryer \\u20...|$129.00|             1|           365|               t|               54|                   54|                     3|  2023-02-15| 2023-08-31|                4.94|                  4.93|                     4.87|                 4.91|                       4.96|                  4.69|               4.87|                             1|             7.98|\n",
            "|722463449063098611|https://www.airbn...|Home in Queens · ...|141645843|https://www.airbn...|G'S Vacay Spots|2017-07-21|                f|                  2|                        9|               Jamaica|                      Queens|        40.6820373|       -73.7968162|   Private room|           4| 1 shared bath|    null|   1|[\"Hot water\", \"Sh...|$110.00|             1|           365|               t|               25|                   25|                     0|  2022-10-02| 2023-07-12|                4.88|                   4.8|                     4.72|                 4.96|                       4.96|                  4.88|                4.8|                             2|             2.21|\n",
            "|          33102485|https://www.airbn...|Home in Jamaica ·...|141645843|https://www.airbn...|G'S Vacay Spots|2017-07-21|                f|                  2|                        9|               Jamaica|                      Queens|         40.682037|        -73.796814|   Private room|           3| 1 shared bath|       1|   1|[\"Hot water\", \"Sh...| $84.00|             1|          1125|               t|              114|                   42|                     0|  2019-03-31| 2023-07-23|                4.64|                  4.66|                     4.51|                 4.82|                       4.78|                  4.64|               4.54|                             2|             2.11|\n",
            "|          34907354|https://www.airbn...|Rental unit in Br...|246351353|https://www.airbn...|          Erica|2019-03-02|                t|                  1|                        8|  Prospect-Lefferts...|                    Brooklyn|          40.66289|         -73.95756|   Private room|           2| 1 shared bath|    null|   1|[\"Hot water\", \"Ha...| $68.00|             1|          1125|               t|               77|                   18|                     1|  2019-06-02| 2023-09-04|                4.73|                  4.82|                     4.73|                 4.79|                       4.87|                  4.75|               4.74|                             1|             1.48|\n",
            "|          18908638|https://www.airbn...|Townhouse in Broo...| 20438455|https://www.airbn...|          Jason|2014-08-23|                t|                  2|                        2|          Borough Park|                    Brooklyn|          40.63904|         -73.98103|   Private room|           1| 1 shared bath|    null|   1|[\"Hot water\", \"Ai...| $48.00|             2|            28|               t|              191|                   30|                     6|  2017-06-11| 2023-09-01|                4.87|                  4.87|                     4.91|                 4.94|                       4.93|                  4.63|               4.88|                             2|             2.52|\n",
            "|          18473439|https://www.airbn...|Townhouse in Broo...| 20438455|https://www.airbn...|          Jason|2014-08-23|                t|                  2|                        2|          Borough Park|                    Brooklyn|          40.63955|         -73.98251|   Private room|           1| 1 shared bath|    null|   1|[\"Hot water\", \"Ha...| $48.00|             2|            28|               t|              208|                   25|                     7|  2017-05-16| 2023-09-02|                4.86|                  4.88|                     4.88|                  4.9|                       4.92|                   4.6|               4.83|                             2|             2.71|\n",
            "|539865017663194156|https://www.airbn...|casa particular i...|413243090|https://www.airbn...|         Amalia|2021-07-16|                t|                  4|                        4|         Cypress Hills|                    Brooklyn|          40.68713|         -73.87454|   Private room|           2|        1 bath|    null|   2|[\"Private entranc...|$163.00|             5|          1125|               t|               23|                   15|                     0|  2022-03-21| 2023-08-05|                4.91|                  4.91|                     4.96|                 4.91|                       4.96|                   4.7|               4.83|                             4|             1.29|\n",
            "|          51939606|https://www.airbn...|casa particular i...|413243090|https://www.airbn...|         Amalia|2021-07-16|                t|                  4|                        4|         Cypress Hills|                    Brooklyn|          40.68711|         -73.87407|   Private room|           2|1 private bath|    null|   2|[\"Private entranc...|$166.00|             5|           365|               t|               33|                   16|                     0|  2021-09-06| 2023-06-09|                4.88|                  4.91|                     4.88|                 4.88|                       4.91|                  4.18|               4.82|                             4|             1.36|\n",
            "|539084025529334382|https://www.airbn...|casa particular i...|413243090|https://www.airbn...|         Amalia|2021-07-16|                t|                  4|                        4|         Cypress Hills|                    Brooklyn|          40.68585|          -73.8725|   Private room|           2|        1 bath|    null|   2|[\"Private entranc...|$163.00|             5|          1125|               t|               11|                    8|                     1|  2022-01-25| 2023-08-11|                4.73|                   5.0|                     4.64|                 4.73|                       4.73|                  4.27|               4.45|                             4|             0.56|\n",
            "+------------------+--------------------+--------------------+---------+--------------------+---------------+----------+-----------------+-------------------+-------------------------+----------------------+----------------------------+------------------+------------------+---------------+------------+--------------+--------+----+--------------------+-------+--------------+--------------+----------------+-----------------+---------------------+----------------------+------------+-----------+--------------------+----------------------+-------------------------+---------------------+---------------------------+----------------------+-------------------+------------------------------+-----------------+\n",
            "only showing top 20 rows\n",
            "\n"
          ]
        }
      ]
    },
    {
      "cell_type": "code",
      "source": [
        "# Create a copy of the DataFrame\n",
        "amenities_cleaned_df = amenities_replaced_df.select('*')\n",
        "\n",
        "# Define a UDF to perform the amenities cleaning\n",
        "def clean_amenities(amenities):\n",
        "    amenities_list = json.loads(amenities)\n",
        "    for i, amenity in enumerate(amenities_list):\n",
        "        # Split amenity at colon, if present\n",
        "        amenity_parts = amenity.split(':')\n",
        "\n",
        "        # Take the first part as the cleaned amenity (remove characters after colon)\n",
        "        cleaned_amenity = amenity_parts[0].strip()\n",
        "\n",
        "        # Update the amenities list\n",
        "        amenities_list[i] = cleaned_amenity\n",
        "\n",
        "    return json.dumps(amenities_list)\n",
        "\n",
        "# Register the UDF\n",
        "clean_amenities_udf = udf(clean_amenities, StringType())\n",
        "\n",
        "# Apply the UDF to clean amenities\n",
        "amenities_cleaned_df = amenities_cleaned_df.withColumn('amenities', clean_amenities_udf('amenities'))\n",
        "\n",
        "# Print or display the modified DataFrame\n",
        "amenities_cleaned_df.show()"
      ],
      "metadata": {
        "colab": {
          "base_uri": "https://localhost:8080/"
        },
        "id": "bzSRw6XKcypJ",
        "outputId": "0cfe8c2a-ea83-4693-a29a-45d72693feae"
      },
      "execution_count": 28,
      "outputs": [
        {
          "output_type": "stream",
          "name": "stdout",
          "text": [
            "+------------------+--------------------+--------------------+---------+--------------------+---------------+----------+-----------------+-------------------+-------------------------+----------------------+----------------------------+------------------+------------------+---------------+------------+--------------+--------+----+--------------------+-------+--------------+--------------+----------------+-----------------+---------------------+----------------------+------------+-----------+--------------------+----------------------+-------------------------+---------------------+---------------------------+----------------------+-------------------+------------------------------+-----------------+\n",
            "|        listing_id|         listing_url|                name|  host_id|            host_url|      host_name|host_since|host_is_superhost|host_listings_count|host_total_listings_count|neighbourhood_cleansed|neighbourhood_group_cleansed|          latitude|         longitude|      room_type|accommodates|bathrooms_text|bedrooms|beds|           amenities|  price|minimum_nights|maximum_nights|has_availability|number_of_reviews|number_of_reviews_ltm|number_of_reviews_l30d|first_review|last_review|review_scores_rating|review_scores_accuracy|review_scores_cleanliness|review_scores_checkin|review_scores_communication|review_scores_location|review_scores_value|calculated_host_listings_count|reviews_per_month|\n",
            "+------------------+--------------------+--------------------+---------+--------------------+---------------+----------+-----------------+-------------------+-------------------------+----------------------+----------------------------+------------------+------------------+---------------+------------+--------------+--------+----+--------------------+-------+--------------+--------------+----------------+-----------------+---------------------+----------------------+------------+-----------+--------------------+----------------------+-------------------------+---------------------+---------------------------+----------------------+-------------------+------------------------------+-----------------+\n",
            "|          52702018|https://www.airbn...|Rental unit in Qu...| 93231383|https://www.airbn...|         Daniel|2016-09-03|                t|                  3|                        3|         East Elmhurst|                      Queens|          40.76911|         -73.87053|Entire home/apt|           4|        1 bath|       1|   2|[\"Private entranc...|$171.00|             1|          1125|               t|              188|                   88|                     6|  2021-11-14| 2023-08-21|                 4.9|                  4.95|                      4.9|                 4.95|                       4.94|                  4.85|               4.87|                             3|             8.53|\n",
            "|784969376930125242|https://www.airbn...|Home in Queens · ...| 93231383|https://www.airbn...|         Daniel|2016-09-03|                t|                  3|                        3|         East Elmhurst|                      Queens|40.768175708747755|-73.87126330286264|Entire home/apt|           7|        1 bath|       3|   4|[\"Private entranc...|$311.00|            30|           365|               t|               38|                   38|                     1|  2022-12-25| 2023-08-15|                4.97|                  4.97|                     4.97|                 4.95|                       4.95|                  4.84|               4.87|                             3|             4.47|\n",
            "|           9919728|https://www.airbn...|Townhouse in Quee...| 50997424|https://www.airbn...|           Mark|2015-12-10|                f|                 10|                       10|        Middle Village|                      Queens|          40.71734|         -73.87805|Entire home/apt|          12|        1 bath|       3|   7|[\"Kitchen\", \"Drye...|$328.00|            30|          1125|               t|                8|                    0|                     0|  2016-04-01| 2020-02-18|                4.33|                  4.17|                     4.33|                 4.83|                       4.67|                  4.83|               4.33|                             7|             0.09|\n",
            "|          53696990|https://www.airbn...|Vacation home in ...| 50997424|https://www.airbn...|           Mark|2015-12-10|                f|                 10|                       10|        Middle Village|                      Queens|          40.71726|         -73.87628|Entire home/apt|           4|        1 bath|    null|   2|[\"Kitchen\", \"Refr...|$139.00|            30|           365|               t|                1|                    1|                     0|  2022-09-16| 2022-09-16|                 4.0|                   4.0|                      3.0|                  5.0|                        4.0|                   5.0|                3.0|                             7|             0.08|\n",
            "|           9920363|https://www.airbn...|Townhouse in Quee...| 50997424|https://www.airbn...|           Mark|2015-12-10|                f|                 10|                       10|             Ridgewood|                      Queens|          40.70465|         -73.89909|Entire home/apt|          16|     2.5 baths|       5|  11|[\"Hot water\", \"Ai...|$485.00|            30|          1125|               t|                8|                    0|                     0|  2016-05-08| 2020-01-01|                4.25|                  4.25|                     3.75|                 4.75|                        4.0|                  4.75|                4.5|                             7|             0.09|\n",
            "|556960737995069310|https://www.airbn...|Rental unit in Qu...| 50997424|https://www.airbn...|           Mark|2015-12-10|                f|                 10|                       10|             Ridgewood|                      Queens|          40.70317|         -73.89949|Entire home/apt|           6|        1 bath|       2|   4|[\"Air conditionin...|$242.00|            30|           365|               t|                3|                    3|                     0|  2022-10-06| 2023-04-24|                 5.0|                   5.0|                     4.33|                  5.0|                        5.0|                  4.67|               4.67|                             7|             0.27|\n",
            "|          54395062|https://www.airbn...|Vacation home in ...| 50997424|https://www.airbn...|           Mark|2015-12-10|                f|                 10|                       10|             Ridgewood|                      Queens|          40.70453|         -73.89898|Entire home/apt|           6|        1 bath|       2|   4|[\"Air conditionin...|$245.00|            30|           365|               t|                3|                    2|                     1|  2022-08-14| 2023-08-20|                4.67|                  4.67|                     4.67|                  5.0|                        5.0|                   5.0|               4.33|                             7|             0.23|\n",
            "|          40322951|https://www.airbn...|Home in Brooklyn ...|297311545|https://www.airbn...|        Uchenna|2019-09-23|                f|                  3|                        4|         East Flatbush|                    Brooklyn|          40.65409|         -73.94569|   Private room|           1| 1 shared bath|    null|   1|[\"Private entranc...| $43.00|            30|           120|               t|                6|                    0|                     0|  2020-01-03| 2022-05-06|                4.67|                  4.67|                     4.33|                 4.67|                       4.67|                   4.5|               4.33|                             3|             0.13|\n",
            "|          40195034|https://www.airbn...|Home in Brooklyn ...|297311545|https://www.airbn...|        Uchenna|2019-09-23|                f|                  3|                        4|         East Flatbush|                    Brooklyn|          40.65229|         -73.94556|   Private room|           1|1 private bath|    null|   1|[\"Private entranc...| $49.00|            30|           120|               t|                4|                    0|                     0|  2020-01-02| 2022-03-03|                3.75|                   4.0|                      3.5|                  4.0|                        4.0|                   4.0|               3.75|                             3|             0.09|\n",
            "|          39898950|https://www.airbn...|Home in Brooklyn ...|297311545|https://www.airbn...|        Uchenna|2019-09-23|                f|                  3|                        4|         East Flatbush|                    Brooklyn|          40.65248|         -73.94584|   Private room|           1|     1.5 baths|    null|   1|[\"Private entranc...| $45.00|            30|           120|               t|                8|                    0|                     0|  2020-01-13| 2021-10-26|                3.63|                   4.0|                     3.25|                 4.38|                       4.25|                  4.13|               3.63|                             3|             0.18|\n",
            "|          31717837|https://www.airbn...|Home in Brooklyn ...|234174616|https://www.airbn...|          Onika|2019-01-03|                f|                  1|                        1|         East New York|                    Brooklyn|           40.6716|         -73.88797|Entire home/apt|           2|        1 bath|       2|   3|[\"Private entranc...|$110.00|            30|            60|               t|                7|                    0|                     0|  2019-10-31| 2022-09-01|                 5.0|                   5.0|                      5.0|                  5.0|                        5.0|                  4.86|                5.0|                             1|             0.15|\n",
            "|823518066022552352|https://www.airbn...|Rental unit in Qu...|500407084|https://www.airbn...|       Giuseppe|2023-02-10|                t|                  1|                        1|            Ozone Park|                      Queens| 40.67227235266577|-73.84795230422972|Entire home/apt|           3|        1 bath|       1|   1|[\"Paid dryer \\u20...|$129.00|             1|           365|               t|               54|                   54|                     3|  2023-02-15| 2023-08-31|                4.94|                  4.93|                     4.87|                 4.91|                       4.96|                  4.69|               4.87|                             1|             7.98|\n",
            "|722463449063098611|https://www.airbn...|Home in Queens · ...|141645843|https://www.airbn...|G'S Vacay Spots|2017-07-21|                f|                  2|                        9|               Jamaica|                      Queens|        40.6820373|       -73.7968162|   Private room|           4| 1 shared bath|    null|   1|[\"Hot water\", \"Sh...|$110.00|             1|           365|               t|               25|                   25|                     0|  2022-10-02| 2023-07-12|                4.88|                   4.8|                     4.72|                 4.96|                       4.96|                  4.88|                4.8|                             2|             2.21|\n",
            "|          33102485|https://www.airbn...|Home in Jamaica ·...|141645843|https://www.airbn...|G'S Vacay Spots|2017-07-21|                f|                  2|                        9|               Jamaica|                      Queens|         40.682037|        -73.796814|   Private room|           3| 1 shared bath|       1|   1|[\"Hot water\", \"Sh...| $84.00|             1|          1125|               t|              114|                   42|                     0|  2019-03-31| 2023-07-23|                4.64|                  4.66|                     4.51|                 4.82|                       4.78|                  4.64|               4.54|                             2|             2.11|\n",
            "|          34907354|https://www.airbn...|Rental unit in Br...|246351353|https://www.airbn...|          Erica|2019-03-02|                t|                  1|                        8|  Prospect-Lefferts...|                    Brooklyn|          40.66289|         -73.95756|   Private room|           2| 1 shared bath|    null|   1|[\"Hot water\", \"Ha...| $68.00|             1|          1125|               t|               77|                   18|                     1|  2019-06-02| 2023-09-04|                4.73|                  4.82|                     4.73|                 4.79|                       4.87|                  4.75|               4.74|                             1|             1.48|\n",
            "|          18908638|https://www.airbn...|Townhouse in Broo...| 20438455|https://www.airbn...|          Jason|2014-08-23|                t|                  2|                        2|          Borough Park|                    Brooklyn|          40.63904|         -73.98103|   Private room|           1| 1 shared bath|    null|   1|[\"Hot water\", \"Ai...| $48.00|             2|            28|               t|              191|                   30|                     6|  2017-06-11| 2023-09-01|                4.87|                  4.87|                     4.91|                 4.94|                       4.93|                  4.63|               4.88|                             2|             2.52|\n",
            "|          18473439|https://www.airbn...|Townhouse in Broo...| 20438455|https://www.airbn...|          Jason|2014-08-23|                t|                  2|                        2|          Borough Park|                    Brooklyn|          40.63955|         -73.98251|   Private room|           1| 1 shared bath|    null|   1|[\"Hot water\", \"Ha...| $48.00|             2|            28|               t|              208|                   25|                     7|  2017-05-16| 2023-09-02|                4.86|                  4.88|                     4.88|                  4.9|                       4.92|                   4.6|               4.83|                             2|             2.71|\n",
            "|539865017663194156|https://www.airbn...|casa particular i...|413243090|https://www.airbn...|         Amalia|2021-07-16|                t|                  4|                        4|         Cypress Hills|                    Brooklyn|          40.68713|         -73.87454|   Private room|           2|        1 bath|    null|   2|[\"Private entranc...|$163.00|             5|          1125|               t|               23|                   15|                     0|  2022-03-21| 2023-08-05|                4.91|                  4.91|                     4.96|                 4.91|                       4.96|                   4.7|               4.83|                             4|             1.29|\n",
            "|          51939606|https://www.airbn...|casa particular i...|413243090|https://www.airbn...|         Amalia|2021-07-16|                t|                  4|                        4|         Cypress Hills|                    Brooklyn|          40.68711|         -73.87407|   Private room|           2|1 private bath|    null|   2|[\"Private entranc...|$166.00|             5|           365|               t|               33|                   16|                     0|  2021-09-06| 2023-06-09|                4.88|                  4.91|                     4.88|                 4.88|                       4.91|                  4.18|               4.82|                             4|             1.36|\n",
            "|539084025529334382|https://www.airbn...|casa particular i...|413243090|https://www.airbn...|         Amalia|2021-07-16|                t|                  4|                        4|         Cypress Hills|                    Brooklyn|          40.68585|          -73.8725|   Private room|           2|        1 bath|    null|   2|[\"Private entranc...|$163.00|             5|          1125|               t|               11|                    8|                     1|  2022-01-25| 2023-08-11|                4.73|                   5.0|                     4.64|                 4.73|                       4.73|                  4.27|               4.45|                             4|             0.56|\n",
            "+------------------+--------------------+--------------------+---------+--------------------+---------------+----------+-----------------+-------------------+-------------------------+----------------------+----------------------------+------------------+------------------+---------------+------------+--------------+--------+----+--------------------+-------+--------------+--------------+----------------+-----------------+---------------------+----------------------+------------+-----------+--------------------+----------------------+-------------------------+---------------------+---------------------------+----------------------+-------------------+------------------------------+-----------------+\n",
            "only showing top 20 rows\n",
            "\n"
          ]
        }
      ]
    },
    {
      "cell_type": "code",
      "source": [
        "column_listings_df = amenities_cleaned_df\n",
        "column_listings_df.show()"
      ],
      "metadata": {
        "colab": {
          "base_uri": "https://localhost:8080/"
        },
        "id": "O5cQ04hCc84G",
        "outputId": "f4797169-aab2-4b0c-87d9-3aa1d20b8f32"
      },
      "execution_count": 31,
      "outputs": [
        {
          "output_type": "stream",
          "name": "stdout",
          "text": [
            "+------------------+--------------------+--------------------+---------+--------------------+---------------+----------+-----------------+-------------------+-------------------------+----------------------+----------------------------+------------------+------------------+---------------+------------+--------------+--------+----+--------------------+-------+--------------+--------------+----------------+-----------------+---------------------+----------------------+------------+-----------+--------------------+----------------------+-------------------------+---------------------+---------------------------+----------------------+-------------------+------------------------------+-----------------+\n",
            "|        listing_id|         listing_url|                name|  host_id|            host_url|      host_name|host_since|host_is_superhost|host_listings_count|host_total_listings_count|neighbourhood_cleansed|neighbourhood_group_cleansed|          latitude|         longitude|      room_type|accommodates|bathrooms_text|bedrooms|beds|           amenities|  price|minimum_nights|maximum_nights|has_availability|number_of_reviews|number_of_reviews_ltm|number_of_reviews_l30d|first_review|last_review|review_scores_rating|review_scores_accuracy|review_scores_cleanliness|review_scores_checkin|review_scores_communication|review_scores_location|review_scores_value|calculated_host_listings_count|reviews_per_month|\n",
            "+------------------+--------------------+--------------------+---------+--------------------+---------------+----------+-----------------+-------------------+-------------------------+----------------------+----------------------------+------------------+------------------+---------------+------------+--------------+--------+----+--------------------+-------+--------------+--------------+----------------+-----------------+---------------------+----------------------+------------+-----------+--------------------+----------------------+-------------------------+---------------------+---------------------------+----------------------+-------------------+------------------------------+-----------------+\n",
            "|          52702018|https://www.airbn...|Rental unit in Qu...| 93231383|https://www.airbn...|         Daniel|2016-09-03|                t|                  3|                        3|         East Elmhurst|                      Queens|          40.76911|         -73.87053|Entire home/apt|           4|        1 bath|       1|   2|[\"Private entranc...|$171.00|             1|          1125|               t|              188|                   88|                     6|  2021-11-14| 2023-08-21|                 4.9|                  4.95|                      4.9|                 4.95|                       4.94|                  4.85|               4.87|                             3|             8.53|\n",
            "|784969376930125242|https://www.airbn...|Home in Queens · ...| 93231383|https://www.airbn...|         Daniel|2016-09-03|                t|                  3|                        3|         East Elmhurst|                      Queens|40.768175708747755|-73.87126330286264|Entire home/apt|           7|        1 bath|       3|   4|[\"Private entranc...|$311.00|            30|           365|               t|               38|                   38|                     1|  2022-12-25| 2023-08-15|                4.97|                  4.97|                     4.97|                 4.95|                       4.95|                  4.84|               4.87|                             3|             4.47|\n",
            "|           9919728|https://www.airbn...|Townhouse in Quee...| 50997424|https://www.airbn...|           Mark|2015-12-10|                f|                 10|                       10|        Middle Village|                      Queens|          40.71734|         -73.87805|Entire home/apt|          12|        1 bath|       3|   7|[\"Kitchen\", \"Drye...|$328.00|            30|          1125|               t|                8|                    0|                     0|  2016-04-01| 2020-02-18|                4.33|                  4.17|                     4.33|                 4.83|                       4.67|                  4.83|               4.33|                             7|             0.09|\n",
            "|          53696990|https://www.airbn...|Vacation home in ...| 50997424|https://www.airbn...|           Mark|2015-12-10|                f|                 10|                       10|        Middle Village|                      Queens|          40.71726|         -73.87628|Entire home/apt|           4|        1 bath|    null|   2|[\"Kitchen\", \"Refr...|$139.00|            30|           365|               t|                1|                    1|                     0|  2022-09-16| 2022-09-16|                 4.0|                   4.0|                      3.0|                  5.0|                        4.0|                   5.0|                3.0|                             7|             0.08|\n",
            "|           9920363|https://www.airbn...|Townhouse in Quee...| 50997424|https://www.airbn...|           Mark|2015-12-10|                f|                 10|                       10|             Ridgewood|                      Queens|          40.70465|         -73.89909|Entire home/apt|          16|     2.5 baths|       5|  11|[\"Hot water\", \"Ai...|$485.00|            30|          1125|               t|                8|                    0|                     0|  2016-05-08| 2020-01-01|                4.25|                  4.25|                     3.75|                 4.75|                        4.0|                  4.75|                4.5|                             7|             0.09|\n",
            "|556960737995069310|https://www.airbn...|Rental unit in Qu...| 50997424|https://www.airbn...|           Mark|2015-12-10|                f|                 10|                       10|             Ridgewood|                      Queens|          40.70317|         -73.89949|Entire home/apt|           6|        1 bath|       2|   4|[\"Air conditionin...|$242.00|            30|           365|               t|                3|                    3|                     0|  2022-10-06| 2023-04-24|                 5.0|                   5.0|                     4.33|                  5.0|                        5.0|                  4.67|               4.67|                             7|             0.27|\n",
            "|          54395062|https://www.airbn...|Vacation home in ...| 50997424|https://www.airbn...|           Mark|2015-12-10|                f|                 10|                       10|             Ridgewood|                      Queens|          40.70453|         -73.89898|Entire home/apt|           6|        1 bath|       2|   4|[\"Air conditionin...|$245.00|            30|           365|               t|                3|                    2|                     1|  2022-08-14| 2023-08-20|                4.67|                  4.67|                     4.67|                  5.0|                        5.0|                   5.0|               4.33|                             7|             0.23|\n",
            "|          40322951|https://www.airbn...|Home in Brooklyn ...|297311545|https://www.airbn...|        Uchenna|2019-09-23|                f|                  3|                        4|         East Flatbush|                    Brooklyn|          40.65409|         -73.94569|   Private room|           1| 1 shared bath|    null|   1|[\"Private entranc...| $43.00|            30|           120|               t|                6|                    0|                     0|  2020-01-03| 2022-05-06|                4.67|                  4.67|                     4.33|                 4.67|                       4.67|                   4.5|               4.33|                             3|             0.13|\n",
            "|          40195034|https://www.airbn...|Home in Brooklyn ...|297311545|https://www.airbn...|        Uchenna|2019-09-23|                f|                  3|                        4|         East Flatbush|                    Brooklyn|          40.65229|         -73.94556|   Private room|           1|1 private bath|    null|   1|[\"Private entranc...| $49.00|            30|           120|               t|                4|                    0|                     0|  2020-01-02| 2022-03-03|                3.75|                   4.0|                      3.5|                  4.0|                        4.0|                   4.0|               3.75|                             3|             0.09|\n",
            "|          39898950|https://www.airbn...|Home in Brooklyn ...|297311545|https://www.airbn...|        Uchenna|2019-09-23|                f|                  3|                        4|         East Flatbush|                    Brooklyn|          40.65248|         -73.94584|   Private room|           1|     1.5 baths|    null|   1|[\"Private entranc...| $45.00|            30|           120|               t|                8|                    0|                     0|  2020-01-13| 2021-10-26|                3.63|                   4.0|                     3.25|                 4.38|                       4.25|                  4.13|               3.63|                             3|             0.18|\n",
            "|          31717837|https://www.airbn...|Home in Brooklyn ...|234174616|https://www.airbn...|          Onika|2019-01-03|                f|                  1|                        1|         East New York|                    Brooklyn|           40.6716|         -73.88797|Entire home/apt|           2|        1 bath|       2|   3|[\"Private entranc...|$110.00|            30|            60|               t|                7|                    0|                     0|  2019-10-31| 2022-09-01|                 5.0|                   5.0|                      5.0|                  5.0|                        5.0|                  4.86|                5.0|                             1|             0.15|\n",
            "|823518066022552352|https://www.airbn...|Rental unit in Qu...|500407084|https://www.airbn...|       Giuseppe|2023-02-10|                t|                  1|                        1|            Ozone Park|                      Queens| 40.67227235266577|-73.84795230422972|Entire home/apt|           3|        1 bath|       1|   1|[\"Paid dryer \\u20...|$129.00|             1|           365|               t|               54|                   54|                     3|  2023-02-15| 2023-08-31|                4.94|                  4.93|                     4.87|                 4.91|                       4.96|                  4.69|               4.87|                             1|             7.98|\n",
            "|722463449063098611|https://www.airbn...|Home in Queens · ...|141645843|https://www.airbn...|G'S Vacay Spots|2017-07-21|                f|                  2|                        9|               Jamaica|                      Queens|        40.6820373|       -73.7968162|   Private room|           4| 1 shared bath|    null|   1|[\"Hot water\", \"Sh...|$110.00|             1|           365|               t|               25|                   25|                     0|  2022-10-02| 2023-07-12|                4.88|                   4.8|                     4.72|                 4.96|                       4.96|                  4.88|                4.8|                             2|             2.21|\n",
            "|          33102485|https://www.airbn...|Home in Jamaica ·...|141645843|https://www.airbn...|G'S Vacay Spots|2017-07-21|                f|                  2|                        9|               Jamaica|                      Queens|         40.682037|        -73.796814|   Private room|           3| 1 shared bath|       1|   1|[\"Hot water\", \"Sh...| $84.00|             1|          1125|               t|              114|                   42|                     0|  2019-03-31| 2023-07-23|                4.64|                  4.66|                     4.51|                 4.82|                       4.78|                  4.64|               4.54|                             2|             2.11|\n",
            "|          34907354|https://www.airbn...|Rental unit in Br...|246351353|https://www.airbn...|          Erica|2019-03-02|                t|                  1|                        8|  Prospect-Lefferts...|                    Brooklyn|          40.66289|         -73.95756|   Private room|           2| 1 shared bath|    null|   1|[\"Hot water\", \"Ha...| $68.00|             1|          1125|               t|               77|                   18|                     1|  2019-06-02| 2023-09-04|                4.73|                  4.82|                     4.73|                 4.79|                       4.87|                  4.75|               4.74|                             1|             1.48|\n",
            "|          18908638|https://www.airbn...|Townhouse in Broo...| 20438455|https://www.airbn...|          Jason|2014-08-23|                t|                  2|                        2|          Borough Park|                    Brooklyn|          40.63904|         -73.98103|   Private room|           1| 1 shared bath|    null|   1|[\"Hot water\", \"Ai...| $48.00|             2|            28|               t|              191|                   30|                     6|  2017-06-11| 2023-09-01|                4.87|                  4.87|                     4.91|                 4.94|                       4.93|                  4.63|               4.88|                             2|             2.52|\n",
            "|          18473439|https://www.airbn...|Townhouse in Broo...| 20438455|https://www.airbn...|          Jason|2014-08-23|                t|                  2|                        2|          Borough Park|                    Brooklyn|          40.63955|         -73.98251|   Private room|           1| 1 shared bath|    null|   1|[\"Hot water\", \"Ha...| $48.00|             2|            28|               t|              208|                   25|                     7|  2017-05-16| 2023-09-02|                4.86|                  4.88|                     4.88|                  4.9|                       4.92|                   4.6|               4.83|                             2|             2.71|\n",
            "|539865017663194156|https://www.airbn...|casa particular i...|413243090|https://www.airbn...|         Amalia|2021-07-16|                t|                  4|                        4|         Cypress Hills|                    Brooklyn|          40.68713|         -73.87454|   Private room|           2|        1 bath|    null|   2|[\"Private entranc...|$163.00|             5|          1125|               t|               23|                   15|                     0|  2022-03-21| 2023-08-05|                4.91|                  4.91|                     4.96|                 4.91|                       4.96|                   4.7|               4.83|                             4|             1.29|\n",
            "|          51939606|https://www.airbn...|casa particular i...|413243090|https://www.airbn...|         Amalia|2021-07-16|                t|                  4|                        4|         Cypress Hills|                    Brooklyn|          40.68711|         -73.87407|   Private room|           2|1 private bath|    null|   2|[\"Private entranc...|$166.00|             5|           365|               t|               33|                   16|                     0|  2021-09-06| 2023-06-09|                4.88|                  4.91|                     4.88|                 4.88|                       4.91|                  4.18|               4.82|                             4|             1.36|\n",
            "|539084025529334382|https://www.airbn...|casa particular i...|413243090|https://www.airbn...|         Amalia|2021-07-16|                t|                  4|                        4|         Cypress Hills|                    Brooklyn|          40.68585|          -73.8725|   Private room|           2|        1 bath|    null|   2|[\"Private entranc...|$163.00|             5|          1125|               t|               11|                    8|                     1|  2022-01-25| 2023-08-11|                4.73|                   5.0|                     4.64|                 4.73|                       4.73|                  4.27|               4.45|                             4|             0.56|\n",
            "+------------------+--------------------+--------------------+---------+--------------------+---------------+----------+-----------------+-------------------+-------------------------+----------------------+----------------------------+------------------+------------------+---------------+------------+--------------+--------+----+--------------------+-------+--------------+--------------+----------------+-----------------+---------------------+----------------------+------------+-----------+--------------------+----------------------+-------------------------+---------------------+---------------------------+----------------------+-------------------+------------------------------+-----------------+\n",
            "only showing top 20 rows\n",
            "\n"
          ]
        }
      ]
    },
    {
      "cell_type": "code",
      "source": [
        "# Don't forget to stop the Spark session when you're done\n",
        "spark.stop()"
      ],
      "metadata": {
        "id": "_j9AkCOxVCnJ"
      },
      "execution_count": 32,
      "outputs": []
    }
  ],
  "metadata": {
    "colab": {
      "provenance": []
    },
    "kernelspec": {
      "display_name": "Python 3 (ipykernel)",
      "language": "python",
      "name": "python3"
    },
    "language_info": {
      "codemirror_mode": {
        "name": "ipython",
        "version": 3
      },
      "file_extension": ".py",
      "mimetype": "text/x-python",
      "name": "python",
      "nbconvert_exporter": "python",
      "pygments_lexer": "ipython3",
      "version": "3.10.4"
    }
  },
  "nbformat": 4,
  "nbformat_minor": 0
}